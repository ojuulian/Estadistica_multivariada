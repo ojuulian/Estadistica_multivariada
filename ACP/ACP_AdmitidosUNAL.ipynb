{
 "cells": [
  {
   "cell_type": "markdown",
   "metadata": {},
   "source": [
    "<img src=\"./unal.png\" align=left width=\"150\" height=\"150\"></img>\n",
    "\n",
    "$\\;$\n",
    "\n",
    "---\n",
    "<h2 align=\"center\">ACP Admitidos UNAL Facultad Ciencias</h2>\n",
    "\n",
    "Para el primer semestre de 2013 fueron admitidos 445 estudiantes a las carreras de la Facultad de Ciencias. El examen de admision tuvo 5 componentes temáticos: matemático, científico, social, textual e imagen."
   ]
  },
  {
   "cell_type": "code",
   "execution_count": 2,
   "metadata": {},
   "outputs": [
    {
     "data": {
      "text/html": [
       "<ol class=list-inline>\n",
       "\t<li>'carr'</li>\n",
       "\t<li>'mate'</li>\n",
       "\t<li>'cien'</li>\n",
       "\t<li>'soci'</li>\n",
       "\t<li>'text'</li>\n",
       "\t<li>'imag'</li>\n",
       "\t<li>'exam'</li>\n",
       "\t<li>'gene'</li>\n",
       "\t<li>'estr'</li>\n",
       "\t<li>'orig'</li>\n",
       "\t<li>'edad'</li>\n",
       "\t<li>'niLE'</li>\n",
       "\t<li>'niMa'</li>\n",
       "\t<li>'stra'</li>\n",
       "\t<li>'age'</li>\n",
       "</ol>\n"
      ],
      "text/latex": [
       "\\begin{enumerate*}\n",
       "\\item 'carr'\n",
       "\\item 'mate'\n",
       "\\item 'cien'\n",
       "\\item 'soci'\n",
       "\\item 'text'\n",
       "\\item 'imag'\n",
       "\\item 'exam'\n",
       "\\item 'gene'\n",
       "\\item 'estr'\n",
       "\\item 'orig'\n",
       "\\item 'edad'\n",
       "\\item 'niLE'\n",
       "\\item 'niMa'\n",
       "\\item 'stra'\n",
       "\\item 'age'\n",
       "\\end{enumerate*}\n"
      ],
      "text/markdown": [
       "1. 'carr'\n",
       "2. 'mate'\n",
       "3. 'cien'\n",
       "4. 'soci'\n",
       "5. 'text'\n",
       "6. 'imag'\n",
       "7. 'exam'\n",
       "8. 'gene'\n",
       "9. 'estr'\n",
       "10. 'orig'\n",
       "11. 'edad'\n",
       "12. 'niLE'\n",
       "13. 'niMa'\n",
       "14. 'stra'\n",
       "15. 'age'\n",
       "\n",
       "\n"
      ],
      "text/plain": [
       " [1] \"carr\" \"mate\" \"cien\" \"soci\" \"text\" \"imag\" \"exam\" \"gene\" \"estr\" \"orig\"\n",
       "[11] \"edad\" \"niLE\" \"niMa\" \"stra\" \"age\" "
      ]
     },
     "metadata": {},
     "output_type": "display_data"
    }
   ],
   "source": [
    "library(FactoClass)\n",
    "data(admi); names(admi)"
   ]
  },
  {
   "cell_type": "code",
   "execution_count": 5,
   "metadata": {},
   "outputs": [
    {
     "data": {
      "text/html": [
       "<table>\n",
       "<thead><tr><th scope=col>mate</th><th scope=col>cien</th><th scope=col>soci</th><th scope=col>text</th><th scope=col>imag</th></tr></thead>\n",
       "<tbody>\n",
       "\t<tr><td>12.03</td><td>10.84</td><td>12.08</td><td>10.62</td><td>10.68</td></tr>\n",
       "\t<tr><td>11.75</td><td>11.16</td><td>11.71</td><td>10.35</td><td>11.60</td></tr>\n",
       "\t<tr><td>10.03</td><td>10.51</td><td>10.70</td><td> 9.57</td><td> 8.80</td></tr>\n",
       "\t<tr><td>11.48</td><td>11.48</td><td>11.71</td><td>10.91</td><td>11.60</td></tr>\n",
       "\t<tr><td>11.21</td><td>10.84</td><td>12.08</td><td>11.21</td><td>11.26</td></tr>\n",
       "\t<tr><td>11.75</td><td>10.84</td><td>11.36</td><td>10.91</td><td>10.96</td></tr>\n",
       "</tbody>\n",
       "</table>\n"
      ],
      "text/latex": [
       "\\begin{tabular}{r|lllll}\n",
       " mate & cien & soci & text & imag\\\\\n",
       "\\hline\n",
       "\t 12.03 & 10.84 & 12.08 & 10.62 & 10.68\\\\\n",
       "\t 11.75 & 11.16 & 11.71 & 10.35 & 11.60\\\\\n",
       "\t 10.03 & 10.51 & 10.70 &  9.57 &  8.80\\\\\n",
       "\t 11.48 & 11.48 & 11.71 & 10.91 & 11.60\\\\\n",
       "\t 11.21 & 10.84 & 12.08 & 11.21 & 11.26\\\\\n",
       "\t 11.75 & 10.84 & 11.36 & 10.91 & 10.96\\\\\n",
       "\\end{tabular}\n"
      ],
      "text/markdown": [
       "\n",
       "| mate | cien | soci | text | imag |\n",
       "|---|---|---|---|---|\n",
       "| 12.03 | 10.84 | 12.08 | 10.62 | 10.68 |\n",
       "| 11.75 | 11.16 | 11.71 | 10.35 | 11.60 |\n",
       "| 10.03 | 10.51 | 10.70 |  9.57 |  8.80 |\n",
       "| 11.48 | 11.48 | 11.71 | 10.91 | 11.60 |\n",
       "| 11.21 | 10.84 | 12.08 | 11.21 | 11.26 |\n",
       "| 11.75 | 10.84 | 11.36 | 10.91 | 10.96 |\n",
       "\n"
      ],
      "text/plain": [
       "  mate  cien  soci  text  imag \n",
       "1 12.03 10.84 12.08 10.62 10.68\n",
       "2 11.75 11.16 11.71 10.35 11.60\n",
       "3 10.03 10.51 10.70  9.57  8.80\n",
       "4 11.48 11.48 11.71 10.91 11.60\n",
       "5 11.21 10.84 12.08 11.21 11.26\n",
       "6 11.75 10.84 11.36 10.91 10.96"
      ]
     },
     "metadata": {},
     "output_type": "display_data"
    },
    {
     "data": {
      "text/html": [
       "<ol class=list-inline>\n",
       "\t<li>'mate'</li>\n",
       "\t<li>'cien'</li>\n",
       "\t<li>'soci'</li>\n",
       "\t<li>'text'</li>\n",
       "\t<li>'imag'</li>\n",
       "</ol>\n"
      ],
      "text/latex": [
       "\\begin{enumerate*}\n",
       "\\item 'mate'\n",
       "\\item 'cien'\n",
       "\\item 'soci'\n",
       "\\item 'text'\n",
       "\\item 'imag'\n",
       "\\end{enumerate*}\n"
      ],
      "text/markdown": [
       "1. 'mate'\n",
       "2. 'cien'\n",
       "3. 'soci'\n",
       "4. 'text'\n",
       "5. 'imag'\n",
       "\n",
       "\n"
      ],
      "text/plain": [
       "[1] \"mate\" \"cien\" \"soci\" \"text\" \"imag\""
      ]
     },
     "metadata": {},
     "output_type": "display_data"
    }
   ],
   "source": [
    "Y <-admi [ ,2:6];head(Y)   # names (Y)"
   ]
  },
  {
   "cell_type": "code",
   "execution_count": 7,
   "metadata": {},
   "outputs": [
    {
     "data": {
      "text/plain": [
       "Duality diagramm\n",
       "class: pca dudi\n",
       "$call: dudi.pca(df = Y, scannf = FALSE, nf = 3)\n",
       "\n",
       "$nf: 3 axis-components saved\n",
       "$rank: 5\n",
       "eigen values: 1.852 1.025 0.8697 0.638 0.6157\n",
       "  vector length mode    content       \n",
       "1 $cw    5      numeric column weights\n",
       "2 $lw    445    numeric row weights   \n",
       "3 $eig   5      numeric eigen values  \n",
       "\n",
       "  data.frame nrow ncol content             \n",
       "1 $tab       445  5    modified array      \n",
       "2 $li        445  3    row coordinates     \n",
       "3 $l1        445  3    row normed scores   \n",
       "4 $co        5    3    column coordinates  \n",
       "5 $c1        5    3    column normed scores\n",
       "other elements: cent norm "
      ]
     },
     "metadata": {},
     "output_type": "display_data"
    }
   ],
   "source": [
    "acp <-dudi.pca(Y, scannf =FALSE ,nf =3);acp"
   ]
  },
  {
   "cell_type": "markdown",
   "metadata": {},
   "source": [
    "Tres valores propios se destacan, pero solo dos son mayores que 1. Seguramente dos son suficientes, pero se debe veri\f",
    "car si el tercer eje permite alguna descripción adicional al primer plano factorial. El primer plano retiene del 57.5% de la inercia y los tres primeros ejes el 74.9 %."
   ]
  },
  {
   "cell_type": "code",
   "execution_count": 8,
   "metadata": {},
   "outputs": [
    {
     "data": {
      "image/png": "[encoded data removed]",
      "text/plain": [
       "plot without title"
      ]
     },
     "metadata": {},
     "output_type": "display_data"
    }
   ],
   "source": [
    "# histograma de valores propios\n",
    "barplot(acp$eig)"
   ]
  },
  {
   "cell_type": "code",
   "execution_count": 9,
   "metadata": {},
   "outputs": [
    {
     "data": {
      "text/html": [
       "<ol class=list-inline>\n",
       "\t<li>1.85169803269798</li>\n",
       "\t<li>1.02489544211407</li>\n",
       "\t<li>0.869671537515895</li>\n",
       "\t<li>0.63803813268174</li>\n",
       "\t<li>0.615696854990311</li>\n",
       "</ol>\n"
      ],
      "text/latex": [
       "\\begin{enumerate*}\n",
       "\\item 1.85169803269798\n",
       "\\item 1.02489544211407\n",
       "\\item 0.869671537515895\n",
       "\\item 0.63803813268174\n",
       "\\item 0.615696854990311\n",
       "\\end{enumerate*}\n"
      ],
      "text/markdown": [
       "1. 1.85169803269798\n",
       "2. 1.02489544211407\n",
       "3. 0.869671537515895\n",
       "4. 0.63803813268174\n",
       "5. 0.615696854990311\n",
       "\n",
       "\n"
      ],
      "text/plain": [
       "[1] 1.8516980 1.0248954 0.8696715 0.6380381 0.6156969"
      ]
     },
     "metadata": {},
     "output_type": "display_data"
    }
   ],
   "source": [
    "# valores propios y proporciones\n",
    "acp$eig"
   ]
  },
  {
   "cell_type": "code",
   "execution_count": 10,
   "metadata": {},
   "outputs": [
    {
     "data": {
      "text/html": [
       "<table>\n",
       "<thead><tr><th></th><th scope=col>Ax1</th><th scope=col>Ax2</th><th scope=col>Ax3</th><th scope=col>Ax4</th><th scope=col>Ax5</th></tr></thead>\n",
       "<tbody>\n",
       "\t<tr><th scope=row>inertia</th><td> 1.851698  </td><td> 1.024895  </td><td> 0.8696715 </td><td> 0.6380381 </td><td>  0.6156969</td></tr>\n",
       "\t<tr><th scope=row>cum</th><td> 1.851698  </td><td> 2.876593  </td><td> 3.7462650 </td><td> 4.3843031 </td><td>  5.0000000</td></tr>\n",
       "\t<tr><th scope=row>cum(%)</th><td>37.033961  </td><td>57.531869  </td><td>74.9253002 </td><td>87.6860629 </td><td>100.0000000</td></tr>\n",
       "</tbody>\n",
       "</table>\n"
      ],
      "text/latex": [
       "\\begin{tabular}{r|lllll}\n",
       "  & Ax1 & Ax2 & Ax3 & Ax4 & Ax5\\\\\n",
       "\\hline\n",
       "\tinertia &  1.851698   &  1.024895   &  0.8696715  &  0.6380381  &   0.6156969\\\\\n",
       "\tcum &  1.851698   &  2.876593   &  3.7462650  &  4.3843031  &   5.0000000\\\\\n",
       "\tcum(\\%) & 37.033961   & 57.531869   & 74.9253002  & 87.6860629  & 100.0000000\\\\\n",
       "\\end{tabular}\n"
      ],
      "text/markdown": [
       "\n",
       "| <!--/--> | Ax1 | Ax2 | Ax3 | Ax4 | Ax5 |\n",
       "|---|---|---|---|---|---|\n",
       "| inertia |  1.851698   |  1.024895   |  0.8696715  |  0.6380381  |   0.6156969 |\n",
       "| cum |  1.851698   |  2.876593   |  3.7462650  |  4.3843031  |   5.0000000 |\n",
       "| cum(%) | 37.033961   | 57.531869   | 74.9253002  | 87.6860629  | 100.0000000 |\n",
       "\n"
      ],
      "text/plain": [
       "        Ax1       Ax2       Ax3        Ax4        Ax5        \n",
       "inertia  1.851698  1.024895  0.8696715  0.6380381   0.6156969\n",
       "cum      1.851698  2.876593  3.7462650  4.3843031   5.0000000\n",
       "cum(%)  37.033961 57.531869 74.9253002 87.6860629 100.0000000"
      ]
     },
     "metadata": {},
     "output_type": "display_data"
    }
   ],
   "source": [
    "valp <-t(inertia.dudi(acp)$tot.inertia)\n",
    "xtable (valp , digits = rep (3 ,6))"
   ]
  },
  {
   "cell_type": "markdown",
   "metadata": {},
   "source": [
    "## Círculo de correlaciones"
   ]
  },
  {
   "cell_type": "code",
   "execution_count": 11,
   "metadata": {},
   "outputs": [
    {
     "data": {
      "text/html": [
       "<table>\n",
       "<thead><tr><th></th><th scope=col>Axis1</th><th scope=col>Axis2</th><th scope=col>Axis3</th></tr></thead>\n",
       "<tbody>\n",
       "\t<tr><th scope=row> exam </th><td>0.9848009 </td><td>0.1587145 </td><td>0.02286728</td></tr>\n",
       "</tbody>\n",
       "</table>\n"
      ],
      "text/latex": [
       "\\begin{tabular}{r|lll}\n",
       "  & Axis1 & Axis2 & Axis3\\\\\n",
       "\\hline\n",
       "\t exam  & 0.9848009  & 0.1587145  & 0.02286728\\\\\n",
       "\\end{tabular}\n"
      ],
      "text/markdown": [
       "\n",
       "| <!--/--> | Axis1 | Axis2 | Axis3 |\n",
       "|---|---|---|---|\n",
       "|  exam  | 0.9848009  | 0.1587145  | 0.02286728 |\n",
       "\n"
      ],
      "text/plain": [
       "       Axis1     Axis2     Axis3     \n",
       " exam  0.9848009 0.1587145 0.02286728"
      ]
     },
     "metadata": {},
     "output_type": "display_data"
    },
    {
     "data": {
      "image/png": "[encoded data removed]",
      "text/plain": [
       "plot without title"
      ]
     },
     "metadata": {},
     "output_type": "display_data"
    }
   ],
   "source": [
    "#Correlaciones\n",
    "s.corcircle(acp$co)\n",
    "\n",
    "# exam como ilustrativa\n",
    "Gexam <-cor(admi$exam ,acp$li)                  #Exam es la variable relativa al puntaje\n",
    "rownames( Gexam ) <-\" exam \"; Gexam"
   ]
  },
  {
   "cell_type": "code",
   "execution_count": null,
   "metadata": {},
   "outputs": [],
   "source": []
  },
  {
   "cell_type": "code",
   "execution_count": null,
   "metadata": {},
   "outputs": [],
   "source": []
  },
  {
   "cell_type": "code",
   "execution_count": null,
   "metadata": {},
   "outputs": [],
   "source": []
  },
  {
   "cell_type": "code",
   "execution_count": null,
   "metadata": {},
   "outputs": [],
   "source": []
  },
  {
   "cell_type": "code",
   "execution_count": null,
   "metadata": {},
   "outputs": [],
   "source": []
  },
  {
   "cell_type": "code",
   "execution_count": null,
   "metadata": {},
   "outputs": [],
   "source": []
  },
  {
   "cell_type": "code",
   "execution_count": null,
   "metadata": {},
   "outputs": [],
   "source": []
  },
  {
   "cell_type": "code",
   "execution_count": null,
   "metadata": {},
   "outputs": [],
   "source": []
  },
  {
   "cell_type": "code",
   "execution_count": null,
   "metadata": {},
   "outputs": [],
   "source": []
  },
  {
   "cell_type": "code",
   "execution_count": null,
   "metadata": {},
   "outputs": [],
   "source": []
  },
  {
   "cell_type": "code",
   "execution_count": null,
   "metadata": {},
   "outputs": [],
   "source": []
  }
 ],
 "metadata": {
  "kernelspec": {
   "display_name": "R",
   "language": "R",
   "name": "ir"
  },
  "language_info": {
   "codemirror_mode": "r",
   "file_extension": ".r",
   "mimetype": "text/x-r-source",
   "name": "R",
   "pygments_lexer": "r",
   "version": "3.6.1"
  }
 },
 "nbformat": 4,
 "nbformat_minor": 2
}
