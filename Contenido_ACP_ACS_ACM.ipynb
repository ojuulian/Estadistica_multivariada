{
 "cells": [
  {
   "cell_type": "markdown",
   "metadata": {},
   "source": [
    "<h2 align=\"center\">Estadística multivariada (Métodos de reducción de dimensionalidad)</h2>\n",
    "<h2 align=\"center\"></h2>\n",
    "\n",
    "Para dar un abordaje al modelamiento de series de tiempo, se propone el siguiente contenido el cual contrasta la teoría y la práctica por medio de scrips en *jupyter notebook* \n",
    "\n",
    "\n",
    "\n",
    "<h3>Autor</h3>\n",
    "\n",
    "1. Oscar Julian Layton Galindo, ojlaytong@unal.edu.co\n",
    "\n",
    "\n",
    "\n",
    "<h3>Lenguaje de Programación </h3>\n",
    "\n",
    "R y Python 3.7"
   ]
  },
  {
   "cell_type": "markdown",
   "metadata": {},
   "source": [
    "<h2 align='center'> Metodos de reduccion de dimensionalidad, métodos de clasificación</h2>\n",
    "\n",
    "<h3>  Análisis de componentes principales (ACP) </h3>\n",
    "\n",
    "1. [R ACP Admitidos facultad de ciencias UNAL.](./ACP_ACS_ACM/R_ACP_Admitidos_UNAL.ipynb)\n",
    "2. [R ACP Café Colombiano.](./ACP_ACS_ACM/R_ACP_cafe_colombiano.ipynb)\n",
    "3. [R ACP Algunas librerias importantes.](./ACP_ACS_ACM/R_ACP_librerias.ipynb)\n",
    "4. [Py ACP Clasificacion galaxias, Quazars, SDD.](./ACP_ACS_ACM/py_t2_ACP_SDD.ipynb)\n",
    "\n",
    "\n",
    "<h3>  Análisis de correspondencias simples (ACS) </h3>\n",
    "\n",
    "1. [R ACS Resultados ICFES p1.](./ACP_ACS_ACM/R_ACS_resultadosICFES_p1.ipynb)\n",
    "2. [R ACS Resultados ICFES p2.](./ACP_ACS_ACM/R_ACS_resultadosICFES_p2.ipynb)\n",
    "\n",
    "<h3>  Análisis de correspondencias multiples (ACM)) </h3>\n",
    "\n",
    "1. [R ACM intoxicación alimentaria p1.](./ACP_ACS_ACM/R_ACM_intoxicacion_alimentaria_p1.ipynb)\n",
    "2. [R ACM intoxicación alimentaria p2.](./ACP_ACS_ACM/R_ACM_intoxicacion_alimentaria_p2.ipynb)\n",
    "\n",
    "<h3>  Clasificación jerárquica y no jerárquica </h3>\n",
    "\n",
    "1. [R clasificación jerarquica.](./ACP_ACS_ACM/R_clasificacion_jerarquica.ipynb)\n",
    "2. [R clasificación NO jerarquica.](./ACP_ACS_ACM/R_clasificacion_nojerarquica.ipynb)\n",
    "\n",
    "<h3>  Tablas de contingencia </h3>\n",
    "\n",
    "1. [R tablas de contingencia.](./ACP_ACS_ACM/R_tablas_de_contingencia.ipynb)\n"
   ]
  },
  {
   "cell_type": "markdown",
   "metadata": {},
   "source": [
    "---\n",
    "\n",
    "<h3>Referencias</h3>\n",
    "\n",
    "1.  Brockwell, P. J., Davis, R. A., & Fienberg, S. E. (1991). Time series: theory and methods: theory and methods. Springer Science & Business Media.\n",
    "\n",
    "2.  Pardo, C. E., & Ortiz, J. (2004). Análisis multivariado de datos en R. In XIV Simposio Colombiano de Estadística. Bogotá DC: memorias del simposio (pp. 0-0)."
   ]
  },
  {
   "cell_type": "code",
   "execution_count": null,
   "metadata": {},
   "outputs": [],
   "source": []
  }
 ],
 "metadata": {
  "kernelspec": {
   "display_name": "Python 3",
   "language": "python",
   "name": "python3"
  },
  "language_info": {
   "codemirror_mode": {
    "name": "ipython",
    "version": 3
   },
   "file_extension": ".py",
   "mimetype": "text/x-python",
   "name": "python",
   "nbconvert_exporter": "python",
   "pygments_lexer": "ipython3",
   "version": "3.7.4"
  }
 },
 "nbformat": 4,
 "nbformat_minor": 4
}
