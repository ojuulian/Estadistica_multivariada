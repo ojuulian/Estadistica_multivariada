{
 "cells": [
  {
   "cell_type": "markdown",
   "metadata": {},
   "source": [
    "<img src=\"Imagenes/unal.png\" align=left width=\"150\" height=\"150\"></img>\n",
    "\n",
    "$\\;$\n",
    "\n",
    "---\n",
    "<h2 align=\"center\">ACP Cafe Colombiano</h2>\n",
    "\n",
    "Este es un experimento referente a **tazas de cafe Colombiano** donde se preparan tazas de café para detectar la infuencia de la contaminación del grano con maíz y cebada. El experimento considera tres factores: agregado (sin o excelso, maíz, cebada), porcentaje del agregado (20% y 40 %) y grado de tostación (clara y oscura). Entonces el experimento consta de 10 tratamientos y con el café molido, de cada uno de ellos, se preparan tazas de café para medir propiedades químicas, físicas y sensoriales.\n",
    "\n",
    "En este ejemplo se utilizan solamente las variables físicas: color, DA: densidad aparente, EA: extracto acuoso (contenido de sóilidos solubles) y las 10 primeras las que corresponden a los tratamientos del experimento.\n",
    "\n",
    "#### Objetivo:\n",
    "* Generar un análisis de componentes principales identificando planos factoriales y contribuciones. "
   ]
  },
  {
   "cell_type": "code",
   "execution_count": 2,
   "metadata": {},
   "outputs": [
    {
     "data": {
      "text/html": [
       "<table>\n",
       "<thead><tr><th></th><th scope=col>Color</th><th scope=col>DA</th><th scope=col>EA</th></tr></thead>\n",
       "<tbody>\n",
       "\t<tr><th scope=row>ExCl</th><td>298  </td><td>385.1</td><td>25   </td></tr>\n",
       "\t<tr><th scope=row>C40M</th><td>361  </td><td>481.3</td><td>41   </td></tr>\n",
       "\t<tr><th scope=row>C40C</th><td>321  </td><td>422.6</td><td>40   </td></tr>\n",
       "\t<tr><th scope=row>C20M</th><td>335  </td><td>444.3</td><td>33   </td></tr>\n",
       "\t<tr><th scope=row>C20C</th><td>314  </td><td>368.7</td><td>32   </td></tr>\n",
       "\t<tr><th scope=row>ExOs</th><td>186  </td><td>346.6</td><td>28   </td></tr>\n",
       "\t<tr><th scope=row>O40M</th><td>278  </td><td>422.6</td><td>43   </td></tr>\n",
       "\t<tr><th scope=row>O40C</th><td>238  </td><td>403.0</td><td>42   </td></tr>\n",
       "\t<tr><th scope=row>O20M</th><td>226  </td><td>368.7</td><td>36   </td></tr>\n",
       "\t<tr><th scope=row>O20C</th><td>210  </td><td>368.7</td><td>35   </td></tr>\n",
       "</tbody>\n",
       "</table>\n"
      ],
      "text/latex": [
       "\\begin{tabular}{r|lll}\n",
       "  & Color & DA & EA\\\\\n",
       "\\hline\n",
       "\tExCl & 298   & 385.1 & 25   \\\\\n",
       "\tC40M & 361   & 481.3 & 41   \\\\\n",
       "\tC40C & 321   & 422.6 & 40   \\\\\n",
       "\tC20M & 335   & 444.3 & 33   \\\\\n",
       "\tC20C & 314   & 368.7 & 32   \\\\\n",
       "\tExOs & 186   & 346.6 & 28   \\\\\n",
       "\tO40M & 278   & 422.6 & 43   \\\\\n",
       "\tO40C & 238   & 403.0 & 42   \\\\\n",
       "\tO20M & 226   & 368.7 & 36   \\\\\n",
       "\tO20C & 210   & 368.7 & 35   \\\\\n",
       "\\end{tabular}\n"
      ],
      "text/markdown": [
       "\n",
       "| <!--/--> | Color | DA | EA |\n",
       "|---|---|---|---|\n",
       "| ExCl | 298   | 385.1 | 25    |\n",
       "| C40M | 361   | 481.3 | 41    |\n",
       "| C40C | 321   | 422.6 | 40    |\n",
       "| C20M | 335   | 444.3 | 33    |\n",
       "| C20C | 314   | 368.7 | 32    |\n",
       "| ExOs | 186   | 346.6 | 28    |\n",
       "| O40M | 278   | 422.6 | 43    |\n",
       "| O40C | 238   | 403.0 | 42    |\n",
       "| O20M | 226   | 368.7 | 36    |\n",
       "| O20C | 210   | 368.7 | 35    |\n",
       "\n"
      ],
      "text/plain": [
       "     Color DA    EA\n",
       "ExCl 298   385.1 25\n",
       "C40M 361   481.3 41\n",
       "C40C 321   422.6 40\n",
       "C20M 335   444.3 33\n",
       "C20C 314   368.7 32\n",
       "ExOs 186   346.6 28\n",
       "O40M 278   422.6 43\n",
       "O40C 238   403.0 42\n",
       "O20M 226   368.7 36\n",
       "O20C 210   368.7 35"
      ]
     },
     "metadata": {},
     "output_type": "display_data"
    }
   ],
   "source": [
    "library(FactoClass)\n",
    "data( cafe )\n",
    "Y <- cafe[1:10 ,1:3];Y"
   ]
  },
  {
   "cell_type": "markdown",
   "metadata": {},
   "source": [
    "### Centro de gravedad"
   ]
  },
  {
   "cell_type": "code",
   "execution_count": 15,
   "metadata": {},
   "outputs": [
    {
     "data": {
      "text/html": [
       "10"
      ],
      "text/latex": [
       "10"
      ],
      "text/markdown": [
       "10"
      ],
      "text/plain": [
       "[1] 10"
      ]
     },
     "metadata": {},
     "output_type": "display_data"
    },
    {
     "data": {
      "text/html": [
       "<dl class=dl-horizontal>\n",
       "\t<dt>Color</dt>\n",
       "\t\t<dd>276.7</dd>\n",
       "\t<dt>DA</dt>\n",
       "\t\t<dd>401.16</dd>\n",
       "\t<dt>EA</dt>\n",
       "\t\t<dd>35.5</dd>\n",
       "</dl>\n"
      ],
      "text/latex": [
       "\\begin{description*}\n",
       "\\item[Color] 276.7\n",
       "\\item[DA] 401.16\n",
       "\\item[EA] 35.5\n",
       "\\end{description*}\n"
      ],
      "text/markdown": [
       "Color\n",
       ":   276.7DA\n",
       ":   401.16EA\n",
       ":   35.5\n",
       "\n"
      ],
      "text/plain": [
       " Color     DA     EA \n",
       "276.70 401.16  35.50 "
      ]
     },
     "metadata": {},
     "output_type": "display_data"
    },
    {
     "data": {
      "image/png": "[encoded data removed]",
      "text/plain": [
       "Plot with title \"Y\""
      ]
     },
     "metadata": {},
     "output_type": "display_data"
    }
   ],
   "source": [
    "# grafica con el centro de gravedad\n",
    "par(las =1)\n",
    "Y3D <- scatterplot3d(Y, main =\"Y\",type =\"h\",color =\" blue \",box =FALSE ,las =1)\n",
    "\n",
    "# grafica\n",
    "Y3D $ points3d (Y,pch =1)\n",
    "addgrids3d (Y, grid = c(\"xy\",\"xz\",\"yz\"))\n",
    "cord2d <-Y3D $xyz.convert(Y) # convertir cordenadas 3D a 2D\n",
    "text( cord2d , labels = rownames (Y), cex =0.8 , col=\" blue \",pos =3) # poner etiquetas\n",
    "\n",
    "# Centro de gravedad\n",
    "n <-nrow (Y);n\n",
    "\n",
    "\n",
    "g <-(1/n)* rowSums (t(Y));g # igual a colMeans (Y)\n",
    "\n",
    "\n",
    "# para incluir g en la grafica\n",
    "Y3D$points3d(t(g),pch =19 , col =\" darkgreen \",type = \"h\")\n",
    "text( Y3D$xyz.convert(t(g)),labels =\"g\",pos =3, col=\" darkgreen \")"
   ]
  },
  {
   "cell_type": "code",
   "execution_count": 9,
   "metadata": {},
   "outputs": [],
   "source": [
    "# xtable (Y, digits =c(0 ,0 ,1 ,0))  # para tabular en LaTeX"
   ]
  },
  {
   "cell_type": "markdown",
   "metadata": {},
   "source": [
    "### Centrando la nuve de puntos "
   ]
  },
  {
   "cell_type": "code",
   "execution_count": 11,
   "metadata": {},
   "outputs": [
    {
     "data": {
      "text/html": [
       "<table>\n",
       "<thead><tr><th></th><th scope=col>Color</th><th scope=col>DA</th><th scope=col>EA</th></tr></thead>\n",
       "<tbody>\n",
       "\t<tr><th scope=row>ExCl</th><td> 21.3 </td><td>-16.06</td><td>-10.5 </td></tr>\n",
       "\t<tr><th scope=row>C40M</th><td> 84.3 </td><td> 80.14</td><td>  5.5 </td></tr>\n",
       "\t<tr><th scope=row>C40C</th><td> 44.3 </td><td> 21.44</td><td>  4.5 </td></tr>\n",
       "\t<tr><th scope=row>C20M</th><td> 58.3 </td><td> 43.14</td><td> -2.5 </td></tr>\n",
       "\t<tr><th scope=row>C20C</th><td> 37.3 </td><td>-32.46</td><td> -3.5 </td></tr>\n",
       "\t<tr><th scope=row>ExOs</th><td>-90.7 </td><td>-54.56</td><td> -7.5 </td></tr>\n",
       "\t<tr><th scope=row>O40M</th><td>  1.3 </td><td> 21.44</td><td>  7.5 </td></tr>\n",
       "\t<tr><th scope=row>O40C</th><td>-38.7 </td><td>  1.84</td><td>  6.5 </td></tr>\n",
       "\t<tr><th scope=row>O20M</th><td>-50.7 </td><td>-32.46</td><td>  0.5 </td></tr>\n",
       "\t<tr><th scope=row>O20C</th><td>-66.7 </td><td>-32.46</td><td> -0.5 </td></tr>\n",
       "</tbody>\n",
       "</table>\n"
      ],
      "text/latex": [
       "\\begin{tabular}{r|lll}\n",
       "  & Color & DA & EA\\\\\n",
       "\\hline\n",
       "\tExCl &  21.3  & -16.06 & -10.5 \\\\\n",
       "\tC40M &  84.3  &  80.14 &   5.5 \\\\\n",
       "\tC40C &  44.3  &  21.44 &   4.5 \\\\\n",
       "\tC20M &  58.3  &  43.14 &  -2.5 \\\\\n",
       "\tC20C &  37.3  & -32.46 &  -3.5 \\\\\n",
       "\tExOs & -90.7  & -54.56 &  -7.5 \\\\\n",
       "\tO40M &   1.3  &  21.44 &   7.5 \\\\\n",
       "\tO40C & -38.7  &   1.84 &   6.5 \\\\\n",
       "\tO20M & -50.7  & -32.46 &   0.5 \\\\\n",
       "\tO20C & -66.7  & -32.46 &  -0.5 \\\\\n",
       "\\end{tabular}\n"
      ],
      "text/markdown": [
       "\n",
       "| <!--/--> | Color | DA | EA |\n",
       "|---|---|---|---|\n",
       "| ExCl |  21.3  | -16.06 | -10.5  |\n",
       "| C40M |  84.3  |  80.14 |   5.5  |\n",
       "| C40C |  44.3  |  21.44 |   4.5  |\n",
       "| C20M |  58.3  |  43.14 |  -2.5  |\n",
       "| C20C |  37.3  | -32.46 |  -3.5  |\n",
       "| ExOs | -90.7  | -54.56 |  -7.5  |\n",
       "| O40M |   1.3  |  21.44 |   7.5  |\n",
       "| O40C | -38.7  |   1.84 |   6.5  |\n",
       "| O20M | -50.7  | -32.46 |   0.5  |\n",
       "| O20C | -66.7  | -32.46 |  -0.5  |\n",
       "\n"
      ],
      "text/plain": [
       "     Color DA     EA   \n",
       "ExCl  21.3 -16.06 -10.5\n",
       "C40M  84.3  80.14   5.5\n",
       "C40C  44.3  21.44   4.5\n",
       "C20M  58.3  43.14  -2.5\n",
       "C20C  37.3 -32.46  -3.5\n",
       "ExOs -90.7 -54.56  -7.5\n",
       "O40M   1.3  21.44   7.5\n",
       "O40C -38.7   1.84   6.5\n",
       "O20M -50.7 -32.46   0.5\n",
       "O20C -66.7 -32.46  -0.5"
      ]
     },
     "metadata": {},
     "output_type": "display_data"
    }
   ],
   "source": [
    "par(las =1)\n",
    "unos <-rep(1,n)           # vector de n unos\n",
    "Yc<- Y-unos%*%t(g);Yc     # Matriz centrada (moño)"
   ]
  },
  {
   "cell_type": "code",
   "execution_count": 12,
   "metadata": {},
   "outputs": [
    {
     "data": {
      "image/png": "[encoded data removed]",
      "text/plain": [
       "Plot with title \"Yc\""
      ]
     },
     "metadata": {},
     "output_type": "display_data"
    }
   ],
   "source": [
    "# grafica de datos centrados\n",
    "Yc3D <- scatterplot3d(Yc , main =\"Yc\",type =\"h\",color =\" blue \",box=FALSE , las =1)\n",
    "Yc3D$points3d(Yc , pch =1)\n",
    "addgrids3d(Yc , grid =c(\"xy\",\"xz\",\"yz\"))\n",
    "text( Yc3D$xyz.convert(Yc),labels = rownames (Yc),cex =0.8 , col=\" blue \",pos =3)\n",
    "Yc3D$points3d (t(c(0 ,0 ,0)),pch =19 , col=\" darkgreen \",type =\"h\")\n",
    "text( Yc3D $ xyz.convert(t(c(0 ,0 ,0))),labels =\"0\",pos =3, col=\" darkgreen \",cex=0.8)"
   ]
  },
  {
   "cell_type": "markdown",
   "metadata": {},
   "source": [
    "### Estandarizando y matriz de distancias"
   ]
  },
  {
   "cell_type": "code",
   "execution_count": 16,
   "metadata": {},
   "outputs": [
    {
     "data": {
      "text/html": [
       "<table>\n",
       "<thead><tr><th></th><th scope=col>Color</th><th scope=col>DA</th><th scope=col>EA</th></tr></thead>\n",
       "<tbody>\n",
       "\t<tr><th scope=row>Color</th><td>3105.810</td><td>1738.388</td><td> 60.95  </td></tr>\n",
       "\t<tr><th scope=row>DA</th><td>1738.388</td><td>1560.188</td><td>129.36  </td></tr>\n",
       "\t<tr><th scope=row>EA</th><td>  60.950</td><td> 129.360</td><td> 33.45  </td></tr>\n",
       "</tbody>\n",
       "</table>\n"
      ],
      "text/latex": [
       "\\begin{tabular}{r|lll}\n",
       "  & Color & DA & EA\\\\\n",
       "\\hline\n",
       "\tColor & 3105.810 & 1738.388 &  60.95  \\\\\n",
       "\tDA & 1738.388 & 1560.188 & 129.36  \\\\\n",
       "\tEA &   60.950 &  129.360 &  33.45  \\\\\n",
       "\\end{tabular}\n"
      ],
      "text/markdown": [
       "\n",
       "| <!--/--> | Color | DA | EA |\n",
       "|---|---|---|---|\n",
       "| Color | 3105.810 | 1738.388 |  60.95   |\n",
       "| DA | 1738.388 | 1560.188 | 129.36   |\n",
       "| EA |   60.950 |  129.360 |  33.45   |\n",
       "\n"
      ],
      "text/plain": [
       "      Color    DA       EA    \n",
       "Color 3105.810 1738.388  60.95\n",
       "DA    1738.388 1560.188 129.36\n",
       "EA      60.950  129.360  33.45"
      ]
     },
     "metadata": {},
     "output_type": "display_data"
    }
   ],
   "source": [
    "par(las =1)                        # para que las etiquetas de los dos ejes sean horizontales\n",
    "V <-t(Yc)%*%as.matrix(Yc)/n; V     # V = var(Y)*(n -1)/n  Matriz de varianzas y covarianzas"
   ]
  },
  {
   "cell_type": "code",
   "execution_count": 17,
   "metadata": {},
   "outputs": [
    {
     "data": {
      "text/html": [
       "<table>\n",
       "<tbody>\n",
       "\t<tr><td>55.72979</td><td> 0.00000</td><td>0.000000</td></tr>\n",
       "\t<tr><td> 0.00000</td><td>39.49922</td><td>0.000000</td></tr>\n",
       "\t<tr><td> 0.00000</td><td> 0.00000</td><td>5.783597</td></tr>\n",
       "</tbody>\n",
       "</table>\n"
      ],
      "text/latex": [
       "\\begin{tabular}{lll}\n",
       "\t 55.72979 &  0.00000 & 0.000000\\\\\n",
       "\t  0.00000 & 39.49922 & 0.000000\\\\\n",
       "\t  0.00000 &  0.00000 & 5.783597\\\\\n",
       "\\end{tabular}\n"
      ],
      "text/markdown": [
       "\n",
       "| 55.72979 |  0.00000 | 0.000000 |\n",
       "|  0.00000 | 39.49922 | 0.000000 |\n",
       "|  0.00000 |  0.00000 | 5.783597 |\n",
       "\n"
      ],
      "text/plain": [
       "     [,1]     [,2]     [,3]    \n",
       "[1,] 55.72979  0.00000 0.000000\n",
       "[2,]  0.00000 39.49922 0.000000\n",
       "[3,]  0.00000  0.00000 5.783597"
      ]
     },
     "metadata": {},
     "output_type": "display_data"
    }
   ],
   "source": [
    "Dsigma<-diag(sqrt(diag(V)));Dsigma # Matriz de desviaciones estándar"
   ]
  },
  {
   "cell_type": "code",
   "execution_count": 18,
   "metadata": {},
   "outputs": [
    {
     "data": {
      "text/html": [
       "<ol class=list-inline>\n",
       "\t<li>55.7</li>\n",
       "\t<li>39.5</li>\n",
       "\t<li>5.8</li>\n",
       "</ol>\n"
      ],
      "text/latex": [
       "\\begin{enumerate*}\n",
       "\\item 55.7\n",
       "\\item 39.5\n",
       "\\item 5.8\n",
       "\\end{enumerate*}\n"
      ],
      "text/markdown": [
       "1. 55.7\n",
       "2. 39.5\n",
       "3. 5.8\n",
       "\n",
       "\n"
      ],
      "text/plain": [
       "[1] 55.7 39.5  5.8"
      ]
     },
     "metadata": {},
     "output_type": "display_data"
    }
   ],
   "source": [
    "round(diag(Dsigma),1)              # Desviaciones estándar"
   ]
  },
  {
   "cell_type": "code",
   "execution_count": 19,
   "metadata": {},
   "outputs": [
    {
     "data": {
      "text/html": [
       "<table>\n",
       "<thead><tr><th></th><th scope=col>Color</th><th scope=col>DA</th><th scope=col>EA</th></tr></thead>\n",
       "<tbody>\n",
       "\t<tr><th scope=row>ExCl</th><td> 0.38220130</td><td>-0.4065903 </td><td>-1.81547903</td></tr>\n",
       "\t<tr><th scope=row>C40M</th><td> 1.51265585</td><td> 2.0289008 </td><td> 0.95096521</td></tr>\n",
       "\t<tr><th scope=row>C40C</th><td> 0.79490693</td><td> 0.5427955 </td><td> 0.77806244</td></tr>\n",
       "\t<tr><th scope=row>C20M</th><td> 1.04611905</td><td> 1.0921735 </td><td>-0.43225691</td></tr>\n",
       "\t<tr><th scope=row>C20C</th><td> 0.66930087</td><td>-0.8217884 </td><td>-0.60515968</td></tr>\n",
       "\t<tr><th scope=row>ExOs</th><td>-1.62749568</td><td>-1.3812931 </td><td>-1.29677074</td></tr>\n",
       "\t<tr><th scope=row>O40M</th><td> 0.02332684</td><td> 0.5427955 </td><td> 1.29677074</td></tr>\n",
       "\t<tr><th scope=row>O40C</th><td>-0.69442208</td><td> 0.0465832 </td><td> 1.12386797</td></tr>\n",
       "\t<tr><th scope=row>O20M</th><td>-0.90974676</td><td>-0.8217884 </td><td> 0.08645138</td></tr>\n",
       "\t<tr><th scope=row>O20C</th><td>-1.19684633</td><td>-0.8217884 </td><td>-0.08645138</td></tr>\n",
       "</tbody>\n",
       "</table>\n"
      ],
      "text/latex": [
       "\\begin{tabular}{r|lll}\n",
       "  & Color & DA & EA\\\\\n",
       "\\hline\n",
       "\tExCl &  0.38220130 & -0.4065903  & -1.81547903\\\\\n",
       "\tC40M &  1.51265585 &  2.0289008  &  0.95096521\\\\\n",
       "\tC40C &  0.79490693 &  0.5427955  &  0.77806244\\\\\n",
       "\tC20M &  1.04611905 &  1.0921735  & -0.43225691\\\\\n",
       "\tC20C &  0.66930087 & -0.8217884  & -0.60515968\\\\\n",
       "\tExOs & -1.62749568 & -1.3812931  & -1.29677074\\\\\n",
       "\tO40M &  0.02332684 &  0.5427955  &  1.29677074\\\\\n",
       "\tO40C & -0.69442208 &  0.0465832  &  1.12386797\\\\\n",
       "\tO20M & -0.90974676 & -0.8217884  &  0.08645138\\\\\n",
       "\tO20C & -1.19684633 & -0.8217884  & -0.08645138\\\\\n",
       "\\end{tabular}\n"
      ],
      "text/markdown": [
       "\n",
       "| <!--/--> | Color | DA | EA |\n",
       "|---|---|---|---|\n",
       "| ExCl |  0.38220130 | -0.4065903  | -1.81547903 |\n",
       "| C40M |  1.51265585 |  2.0289008  |  0.95096521 |\n",
       "| C40C |  0.79490693 |  0.5427955  |  0.77806244 |\n",
       "| C20M |  1.04611905 |  1.0921735  | -0.43225691 |\n",
       "| C20C |  0.66930087 | -0.8217884  | -0.60515968 |\n",
       "| ExOs | -1.62749568 | -1.3812931  | -1.29677074 |\n",
       "| O40M |  0.02332684 |  0.5427955  |  1.29677074 |\n",
       "| O40C | -0.69442208 |  0.0465832  |  1.12386797 |\n",
       "| O20M | -0.90974676 | -0.8217884  |  0.08645138 |\n",
       "| O20C | -1.19684633 | -0.8217884  | -0.08645138 |\n",
       "\n"
      ],
      "text/plain": [
       "     Color       DA         EA         \n",
       "ExCl  0.38220130 -0.4065903 -1.81547903\n",
       "C40M  1.51265585  2.0289008  0.95096521\n",
       "C40C  0.79490693  0.5427955  0.77806244\n",
       "C20M  1.04611905  1.0921735 -0.43225691\n",
       "C20C  0.66930087 -0.8217884 -0.60515968\n",
       "ExOs -1.62749568 -1.3812931 -1.29677074\n",
       "O40M  0.02332684  0.5427955  1.29677074\n",
       "O40C -0.69442208  0.0465832  1.12386797\n",
       "O20M -0.90974676 -0.8217884  0.08645138\n",
       "O20C -1.19684633 -0.8217884 -0.08645138"
      ]
     },
     "metadata": {},
     "output_type": "display_data"
    }
   ],
   "source": [
    "X <-as.matrix(Yc)%*%solve(Dsigma)  # Matriz estandarizada (centrada y dividida en varianza)\n",
    "colnames(X) <- colnames (Y);X"
   ]
  },
  {
   "cell_type": "markdown",
   "metadata": {},
   "source": [
    "### Estandarizando y matriz de distancias"
   ]
  },
  {
   "cell_type": "code",
   "execution_count": 20,
   "metadata": {},
   "outputs": [
    {
     "data": {
      "text/html": [
       "<table>\n",
       "<thead><tr><th></th><th scope=col>Color</th><th scope=col>DA</th><th scope=col>EA</th></tr></thead>\n",
       "<tbody>\n",
       "\t<tr><th scope=row>Color</th><td>1.0000000</td><td>0.7897157</td><td>0.1890986</td></tr>\n",
       "\t<tr><th scope=row>DA</th><td>0.7897157</td><td>1.0000000</td><td>0.5662568</td></tr>\n",
       "\t<tr><th scope=row>EA</th><td>0.1890986</td><td>0.5662568</td><td>1.0000000</td></tr>\n",
       "</tbody>\n",
       "</table>\n"
      ],
      "text/latex": [
       "\\begin{tabular}{r|lll}\n",
       "  & Color & DA & EA\\\\\n",
       "\\hline\n",
       "\tColor & 1.0000000 & 0.7897157 & 0.1890986\\\\\n",
       "\tDA & 0.7897157 & 1.0000000 & 0.5662568\\\\\n",
       "\tEA & 0.1890986 & 0.5662568 & 1.0000000\\\\\n",
       "\\end{tabular}\n"
      ],
      "text/markdown": [
       "\n",
       "| <!--/--> | Color | DA | EA |\n",
       "|---|---|---|---|\n",
       "| Color | 1.0000000 | 0.7897157 | 0.1890986 |\n",
       "| DA | 0.7897157 | 1.0000000 | 0.5662568 |\n",
       "| EA | 0.1890986 | 0.5662568 | 1.0000000 |\n",
       "\n"
      ],
      "text/plain": [
       "      Color     DA        EA       \n",
       "Color 1.0000000 0.7897157 0.1890986\n",
       "DA    0.7897157 1.0000000 0.5662568\n",
       "EA    0.1890986 0.5662568 1.0000000"
      ]
     },
     "metadata": {},
     "output_type": "display_data"
    }
   ],
   "source": [
    "V <-t(X)%*%X/n;V          # calculo de matriz correlaciones"
   ]
  },
  {
   "cell_type": "code",
   "execution_count": 21,
   "metadata": {},
   "outputs": [
    {
     "data": {
      "text/plain": [
       "eigen() decomposition\n",
       "$values\n",
       "[1] 2.0670307 0.8216466 0.1113227\n",
       "\n",
       "$vectors\n",
       "          [,1]        [,2]       [,3]\n",
       "[1,] 0.5794934 -0.57140813  0.5811025\n",
       "[2,] 0.6728898 -0.06680772 -0.7367197\n",
       "[3,] 0.4597898  0.81794222  0.3457801\n"
      ]
     },
     "metadata": {},
     "output_type": "display_data"
    }
   ],
   "source": [
    "des <-eigen (V);des       # calculo de valores y vectores propios"
   ]
  },
  {
   "cell_type": "code",
   "execution_count": 22,
   "metadata": {},
   "outputs": [
    {
     "data": {
      "text/html": [
       "<table>\n",
       "<thead><tr><th></th><th scope=col> Eje1 </th><th scope=col> Eje2 </th><th scope=col> Eje3 </th></tr></thead>\n",
       "<tbody>\n",
       "\t<tr><th scope=row>Color</th><td>0.579 </td><td>-0.571</td><td> 0.581</td></tr>\n",
       "\t<tr><th scope=row>DA</th><td>0.673 </td><td>-0.067</td><td>-0.737</td></tr>\n",
       "\t<tr><th scope=row>EA</th><td>0.460 </td><td> 0.818</td><td> 0.346</td></tr>\n",
       "</tbody>\n",
       "</table>\n"
      ],
      "text/latex": [
       "\\begin{tabular}{r|lll}\n",
       "  &  Eje1  &  Eje2  &  Eje3 \\\\\n",
       "\\hline\n",
       "\tColor & 0.579  & -0.571 &  0.581\\\\\n",
       "\tDA & 0.673  & -0.067 & -0.737\\\\\n",
       "\tEA & 0.460  &  0.818 &  0.346\\\\\n",
       "\\end{tabular}\n"
      ],
      "text/markdown": [
       "\n",
       "| <!--/--> |  Eje1  |  Eje2  |  Eje3  |\n",
       "|---|---|---|---|\n",
       "| Color | 0.579  | -0.571 |  0.581 |\n",
       "| DA | 0.673  | -0.067 | -0.737 |\n",
       "| EA | 0.460  |  0.818 |  0.346 |\n",
       "\n"
      ],
      "text/plain": [
       "       Eje1   Eje2   Eje3 \n",
       "Color 0.579  -0.571  0.581\n",
       "DA    0.673  -0.067 -0.737\n",
       "EA    0.460   0.818  0.346"
      ]
     },
     "metadata": {},
     "output_type": "display_data"
    }
   ],
   "source": [
    "lambda <-des$values\n",
    "U <-des$vectors           # matriz con vectores propios en columnas\n",
    "rownames(U) <- rownames(V)\n",
    "colnames(U) <-c(\" Eje1 \",\" Eje2 \",\" Eje3 \"); round (U,3)"
   ]
  },
  {
   "cell_type": "code",
   "execution_count": 23,
   "metadata": {},
   "outputs": [
    {
     "data": {
      "text/html": [
       "<ol class=list-inline>\n",
       "\t<li>2.06703067367597</li>\n",
       "\t<li>0.821646596776616</li>\n",
       "\t<li>0.111322729547418</li>\n",
       "</ol>\n"
      ],
      "text/latex": [
       "\\begin{enumerate*}\n",
       "\\item 2.06703067367597\n",
       "\\item 0.821646596776616\n",
       "\\item 0.111322729547418\n",
       "\\end{enumerate*}\n"
      ],
      "text/markdown": [
       "1. 2.06703067367597\n",
       "2. 0.821646596776616\n",
       "3. 0.111322729547418\n",
       "\n",
       "\n"
      ],
      "text/plain": [
       "[1] 2.0670307 0.8216466 0.1113227"
      ]
     },
     "metadata": {},
     "output_type": "display_data"
    },
    {
     "data": {
      "text/html": [
       "<table>\n",
       "<thead><tr><th></th><th scope=col> Eje1 </th><th scope=col> Eje2 </th><th scope=col> Eje3 </th></tr></thead>\n",
       "<tbody>\n",
       "\t<tr><th scope=row>Color</th><td>0.5794934  </td><td>-0.57140813</td><td> 0.5811025 </td></tr>\n",
       "\t<tr><th scope=row>DA</th><td>0.6728898  </td><td>-0.06680772</td><td>-0.7367197 </td></tr>\n",
       "\t<tr><th scope=row>EA</th><td>0.4597898  </td><td> 0.81794222</td><td> 0.3457801 </td></tr>\n",
       "</tbody>\n",
       "</table>\n"
      ],
      "text/latex": [
       "\\begin{tabular}{r|lll}\n",
       "  &  Eje1  &  Eje2  &  Eje3 \\\\\n",
       "\\hline\n",
       "\tColor & 0.5794934   & -0.57140813 &  0.5811025 \\\\\n",
       "\tDA & 0.6728898   & -0.06680772 & -0.7367197 \\\\\n",
       "\tEA & 0.4597898   &  0.81794222 &  0.3457801 \\\\\n",
       "\\end{tabular}\n"
      ],
      "text/markdown": [
       "\n",
       "| <!--/--> |  Eje1  |  Eje2  |  Eje3  |\n",
       "|---|---|---|---|\n",
       "| Color | 0.5794934   | -0.57140813 |  0.5811025  |\n",
       "| DA | 0.6728898   | -0.06680772 | -0.7367197  |\n",
       "| EA | 0.4597898   |  0.81794222 |  0.3457801  |\n",
       "\n"
      ],
      "text/plain": [
       "       Eje1      Eje2        Eje3     \n",
       "Color 0.5794934 -0.57140813  0.5811025\n",
       "DA    0.6728898 -0.06680772 -0.7367197\n",
       "EA    0.4597898  0.81794222  0.3457801"
      ]
     },
     "metadata": {},
     "output_type": "display_data"
    }
   ],
   "source": [
    "lambda ; U                # Matriz de valores y vectores propios"
   ]
  },
  {
   "cell_type": "code",
   "execution_count": 24,
   "metadata": {},
   "outputs": [
    {
     "data": {
      "text/plain": [
       "          ExCl      C40M      C40C      C20M      C20C      ExOs      O40M\n",
       "C40M 116.10099                                                            \n",
       "C40C  46.47849  71.04006                                                  \n",
       "C20M  70.26834  45.92385  26.75612                                        \n",
       "C20C  23.95746 122.34688  54.93824  78.46885                              \n",
       "ExOs 118.47046 221.21955 155.38661 178.24503 129.95542                    \n",
       "O40M  46.15463 101.67935  43.10452  61.80526  65.74352 120.27053          \n",
       "O40C  64.87997 145.81114  85.30627 105.80969  83.97910  77.98051  44.55513\n",
       "O20M  74.65896 175.86574 109.29872 132.68519  88.09086  46.39407  75.22107\n",
       "O20C  90.07197 188.45625 123.49579 146.09709 104.04326  33.36780  87.13903\n",
       "          O40C      O20M\n",
       "C40M                    \n",
       "C40C                    \n",
       "C20M                    \n",
       "C20C                    \n",
       "ExOs                    \n",
       "O40M                    \n",
       "O40C                    \n",
       "O20M  36.83056          \n",
       "O20C  44.82734  16.03122"
      ]
     },
     "metadata": {},
     "output_type": "display_data"
    }
   ],
   "source": [
    "dist(Y)"
   ]
  },
  {
   "cell_type": "markdown",
   "metadata": {},
   "source": [
    "En la figura de nuve de puntos aparecen las distancias entre los 10 cafés. Una distancia de cero indicará que los dos cafés tienen los mismos valores para las variables. En la gráfica, la pareja de cafés más alejados son ExOs y C40M, la distancia entre ellos es 221, la mayor en la tabla. Los más próximos con C20C y C20M, con una distancia de 16.\n",
    "\n",
    "### Componentes Principales NORMADO (son proyecciones sobre los vectores propios.)"
   ]
  },
  {
   "cell_type": "code",
   "execution_count": 25,
   "metadata": {},
   "outputs": [
    {
     "data": {
      "text/html": [
       "<table>\n",
       "<thead><tr><th></th><th scope=col> Eje1 </th><th scope=col> Eje2 </th><th scope=col> Eje3 </th></tr></thead>\n",
       "<tbody>\n",
       "\t<tr><th scope=row>ExCl</th><td>-0.8868461 </td><td>-1.67618651</td><td>-0.10611527</td></tr>\n",
       "\t<tr><th scope=row>C40M</th><td> 2.6790449 </td><td>-0.22205551</td><td>-0.28689831</td></tr>\n",
       "\t<tr><th scope=row>C40C</th><td> 1.1836301 </td><td> 0.14593090</td><td> 0.33107275</td></tr>\n",
       "\t<tr><th scope=row>C20M</th><td> 1.1423842 </td><td>-1.02428774</td><td>-0.34618917</td></tr>\n",
       "\t<tr><th scope=row>C20C</th><td>-0.4433639 </td><td>-0.82252780</td><td> 0.78510797</td></tr>\n",
       "\t<tr><th scope=row>ExOs</th><td>-2.4688231 </td><td>-0.03843822</td><td>-0.37651347</td></tr>\n",
       "\t<tr><th scope=row>O40M</th><td> 0.9750013 </td><td> 1.01109146</td><td> 0.06206462</td></tr>\n",
       "\t<tr><th scope=row>O40C</th><td> 0.1456754 </td><td> 1.31294537</td><td>-0.04923801</td></tr>\n",
       "\t<tr><th scope=row>O20M</th><td>-1.0404158 </td><td> 0.64545074</td><td> 0.10666475</td></tr>\n",
       "\t<tr><th scope=row>O20C</th><td>-1.2862871 </td><td> 0.66807730</td><td>-0.11995587</td></tr>\n",
       "</tbody>\n",
       "</table>\n"
      ],
      "text/latex": [
       "\\begin{tabular}{r|lll}\n",
       "  &  Eje1  &  Eje2  &  Eje3 \\\\\n",
       "\\hline\n",
       "\tExCl & -0.8868461  & -1.67618651 & -0.10611527\\\\\n",
       "\tC40M &  2.6790449  & -0.22205551 & -0.28689831\\\\\n",
       "\tC40C &  1.1836301  &  0.14593090 &  0.33107275\\\\\n",
       "\tC20M &  1.1423842  & -1.02428774 & -0.34618917\\\\\n",
       "\tC20C & -0.4433639  & -0.82252780 &  0.78510797\\\\\n",
       "\tExOs & -2.4688231  & -0.03843822 & -0.37651347\\\\\n",
       "\tO40M &  0.9750013  &  1.01109146 &  0.06206462\\\\\n",
       "\tO40C &  0.1456754  &  1.31294537 & -0.04923801\\\\\n",
       "\tO20M & -1.0404158  &  0.64545074 &  0.10666475\\\\\n",
       "\tO20C & -1.2862871  &  0.66807730 & -0.11995587\\\\\n",
       "\\end{tabular}\n"
      ],
      "text/markdown": [
       "\n",
       "| <!--/--> |  Eje1  |  Eje2  |  Eje3  |\n",
       "|---|---|---|---|\n",
       "| ExCl | -0.8868461  | -1.67618651 | -0.10611527 |\n",
       "| C40M |  2.6790449  | -0.22205551 | -0.28689831 |\n",
       "| C40C |  1.1836301  |  0.14593090 |  0.33107275 |\n",
       "| C20M |  1.1423842  | -1.02428774 | -0.34618917 |\n",
       "| C20C | -0.4433639  | -0.82252780 |  0.78510797 |\n",
       "| ExOs | -2.4688231  | -0.03843822 | -0.37651347 |\n",
       "| O40M |  0.9750013  |  1.01109146 |  0.06206462 |\n",
       "| O40C |  0.1456754  |  1.31294537 | -0.04923801 |\n",
       "| O20M | -1.0404158  |  0.64545074 |  0.10666475 |\n",
       "| O20C | -1.2862871  |  0.66807730 | -0.11995587 |\n",
       "\n"
      ],
      "text/plain": [
       "      Eje1       Eje2        Eje3      \n",
       "ExCl -0.8868461 -1.67618651 -0.10611527\n",
       "C40M  2.6790449 -0.22205551 -0.28689831\n",
       "C40C  1.1836301  0.14593090  0.33107275\n",
       "C20M  1.1423842 -1.02428774 -0.34618917\n",
       "C20C -0.4433639 -0.82252780  0.78510797\n",
       "ExOs -2.4688231 -0.03843822 -0.37651347\n",
       "O40M  0.9750013  1.01109146  0.06206462\n",
       "O40C  0.1456754  1.31294537 -0.04923801\n",
       "O20M -1.0404158  0.64545074  0.10666475\n",
       "O20C -1.2862871  0.66807730 -0.11995587"
      ]
     },
     "metadata": {},
     "output_type": "display_data"
    }
   ],
   "source": [
    "F <- X%*%U ;F                  # Componentes principales, coordenadas sobre los nuevos ejes"
   ]
  },
  {
   "cell_type": "code",
   "execution_count": 26,
   "metadata": {},
   "outputs": [
    {
     "data": {
      "text/html": [
       "<dl class=dl-horizontal>\n",
       "\t<dt>ExOs</dt>\n",
       "\t\t<dd>-2.47</dd>\n",
       "\t<dt>O20C</dt>\n",
       "\t\t<dd>-1.29</dd>\n",
       "\t<dt>O20M</dt>\n",
       "\t\t<dd>-1.04</dd>\n",
       "\t<dt>ExCl</dt>\n",
       "\t\t<dd>-0.89</dd>\n",
       "\t<dt>C20C</dt>\n",
       "\t\t<dd>-0.44</dd>\n",
       "\t<dt>O40C</dt>\n",
       "\t\t<dd>0.15</dd>\n",
       "\t<dt>O40M</dt>\n",
       "\t\t<dd>0.98</dd>\n",
       "\t<dt>C20M</dt>\n",
       "\t\t<dd>1.14</dd>\n",
       "\t<dt>C40C</dt>\n",
       "\t\t<dd>1.18</dd>\n",
       "\t<dt>C40M</dt>\n",
       "\t\t<dd>2.68</dd>\n",
       "</dl>\n"
      ],
      "text/latex": [
       "\\begin{description*}\n",
       "\\item[ExOs] -2.47\n",
       "\\item[O20C] -1.29\n",
       "\\item[O20M] -1.04\n",
       "\\item[ExCl] -0.89\n",
       "\\item[C20C] -0.44\n",
       "\\item[O40C] 0.15\n",
       "\\item[O40M] 0.98\n",
       "\\item[C20M] 1.14\n",
       "\\item[C40C] 1.18\n",
       "\\item[C40M] 2.68\n",
       "\\end{description*}\n"
      ],
      "text/markdown": [
       "ExOs\n",
       ":   -2.47O20C\n",
       ":   -1.29O20M\n",
       ":   -1.04ExCl\n",
       ":   -0.89C20C\n",
       ":   -0.44O40C\n",
       ":   0.15O40M\n",
       ":   0.98C20M\n",
       ":   1.14C40C\n",
       ":   1.18C40M\n",
       ":   2.68\n",
       "\n"
      ],
      "text/plain": [
       " ExOs  O20C  O20M  ExCl  C20C  O40C  O40M  C20M  C40C  C40M \n",
       "-2.47 -1.29 -1.04 -0.89 -0.44  0.15  0.98  1.14  1.18  2.68 "
      ]
     },
     "metadata": {},
     "output_type": "display_data"
    }
   ],
   "source": [
    "round ( sort(F[,1]) ,2)        # Ordenando el componente 1"
   ]
  },
  {
   "cell_type": "code",
   "execution_count": 27,
   "metadata": {},
   "outputs": [
    {
     "data": {
      "text/html": [
       "<dl class=dl-horizontal>\n",
       "\t<dt>ExCl</dt>\n",
       "\t\t<dd>-1.68</dd>\n",
       "\t<dt>C20M</dt>\n",
       "\t\t<dd>-1.02</dd>\n",
       "\t<dt>C20C</dt>\n",
       "\t\t<dd>-0.82</dd>\n",
       "\t<dt>C40M</dt>\n",
       "\t\t<dd>-0.22</dd>\n",
       "\t<dt>ExOs</dt>\n",
       "\t\t<dd>-0.04</dd>\n",
       "\t<dt>C40C</dt>\n",
       "\t\t<dd>0.15</dd>\n",
       "\t<dt>O20M</dt>\n",
       "\t\t<dd>0.65</dd>\n",
       "\t<dt>O20C</dt>\n",
       "\t\t<dd>0.67</dd>\n",
       "\t<dt>O40M</dt>\n",
       "\t\t<dd>1.01</dd>\n",
       "\t<dt>O40C</dt>\n",
       "\t\t<dd>1.31</dd>\n",
       "</dl>\n"
      ],
      "text/latex": [
       "\\begin{description*}\n",
       "\\item[ExCl] -1.68\n",
       "\\item[C20M] -1.02\n",
       "\\item[C20C] -0.82\n",
       "\\item[C40M] -0.22\n",
       "\\item[ExOs] -0.04\n",
       "\\item[C40C] 0.15\n",
       "\\item[O20M] 0.65\n",
       "\\item[O20C] 0.67\n",
       "\\item[O40M] 1.01\n",
       "\\item[O40C] 1.31\n",
       "\\end{description*}\n"
      ],
      "text/markdown": [
       "ExCl\n",
       ":   -1.68C20M\n",
       ":   -1.02C20C\n",
       ":   -0.82C40M\n",
       ":   -0.22ExOs\n",
       ":   -0.04C40C\n",
       ":   0.15O20M\n",
       ":   0.65O20C\n",
       ":   0.67O40M\n",
       ":   1.01O40C\n",
       ":   1.31\n",
       "\n"
      ],
      "text/plain": [
       " ExCl  C20M  C20C  C40M  ExOs  C40C  O20M  O20C  O40M  O40C \n",
       "-1.68 -1.02 -0.82 -0.22 -0.04  0.15  0.65  0.67  1.01  1.31 "
      ]
     },
     "metadata": {},
     "output_type": "display_data"
    }
   ],
   "source": [
    "round ( sort(F[,2]) ,2)        # Ordenando el componente 2"
   ]
  },
  {
   "cell_type": "markdown",
   "metadata": {},
   "source": [
    "### Planos factoriales y ayudas para su interpretación\n",
    "\n",
    "El primer plano factorial se construye buscando las coordenadas de los individuos sobre los ejes 1 y 2. El vector de todas las coordenadas sobre un eje s se nota $F_s$ y es: $F_s = XV_s$. La tabla de las coordenadas sobre los nuevos ejes es F = XU."
   ]
  },
  {
   "cell_type": "code",
   "execution_count": 28,
   "metadata": {},
   "outputs": [
    {
     "data": {
      "text/html": [
       "<table>\n",
       "<thead><tr><th></th><th scope=col> Eje1 </th><th scope=col> Eje2 </th><th scope=col> Eje3 </th></tr></thead>\n",
       "<tbody>\n",
       "\t<tr><th scope=row>ExCl</th><td>-0.89</td><td>-1.68</td><td>-0.11</td></tr>\n",
       "\t<tr><th scope=row>C40M</th><td> 2.68</td><td>-0.22</td><td>-0.29</td></tr>\n",
       "\t<tr><th scope=row>C40C</th><td> 1.18</td><td> 0.15</td><td> 0.33</td></tr>\n",
       "\t<tr><th scope=row>C20M</th><td> 1.14</td><td>-1.02</td><td>-0.35</td></tr>\n",
       "\t<tr><th scope=row>C20C</th><td>-0.44</td><td>-0.82</td><td> 0.79</td></tr>\n",
       "\t<tr><th scope=row>ExOs</th><td>-2.47</td><td>-0.04</td><td>-0.38</td></tr>\n",
       "\t<tr><th scope=row>O40M</th><td> 0.98</td><td> 1.01</td><td> 0.06</td></tr>\n",
       "\t<tr><th scope=row>O40C</th><td> 0.15</td><td> 1.31</td><td>-0.05</td></tr>\n",
       "\t<tr><th scope=row>O20M</th><td>-1.04</td><td> 0.65</td><td> 0.11</td></tr>\n",
       "\t<tr><th scope=row>O20C</th><td>-1.29</td><td> 0.67</td><td>-0.12</td></tr>\n",
       "</tbody>\n",
       "</table>\n"
      ],
      "text/latex": [
       "\\begin{tabular}{r|lll}\n",
       "  &  Eje1  &  Eje2  &  Eje3 \\\\\n",
       "\\hline\n",
       "\tExCl & -0.89 & -1.68 & -0.11\\\\\n",
       "\tC40M &  2.68 & -0.22 & -0.29\\\\\n",
       "\tC40C &  1.18 &  0.15 &  0.33\\\\\n",
       "\tC20M &  1.14 & -1.02 & -0.35\\\\\n",
       "\tC20C & -0.44 & -0.82 &  0.79\\\\\n",
       "\tExOs & -2.47 & -0.04 & -0.38\\\\\n",
       "\tO40M &  0.98 &  1.01 &  0.06\\\\\n",
       "\tO40C &  0.15 &  1.31 & -0.05\\\\\n",
       "\tO20M & -1.04 &  0.65 &  0.11\\\\\n",
       "\tO20C & -1.29 &  0.67 & -0.12\\\\\n",
       "\\end{tabular}\n"
      ],
      "text/markdown": [
       "\n",
       "| <!--/--> |  Eje1  |  Eje2  |  Eje3  |\n",
       "|---|---|---|---|\n",
       "| ExCl | -0.89 | -1.68 | -0.11 |\n",
       "| C40M |  2.68 | -0.22 | -0.29 |\n",
       "| C40C |  1.18 |  0.15 |  0.33 |\n",
       "| C20M |  1.14 | -1.02 | -0.35 |\n",
       "| C20C | -0.44 | -0.82 |  0.79 |\n",
       "| ExOs | -2.47 | -0.04 | -0.38 |\n",
       "| O40M |  0.98 |  1.01 |  0.06 |\n",
       "| O40C |  0.15 |  1.31 | -0.05 |\n",
       "| O20M | -1.04 |  0.65 |  0.11 |\n",
       "| O20C | -1.29 |  0.67 | -0.12 |\n",
       "\n"
      ],
      "text/plain": [
       "      Eje1   Eje2   Eje3 \n",
       "ExCl -0.89  -1.68  -0.11 \n",
       "C40M  2.68  -0.22  -0.29 \n",
       "C40C  1.18   0.15   0.33 \n",
       "C20M  1.14  -1.02  -0.35 \n",
       "C20C -0.44  -0.82   0.79 \n",
       "ExOs -2.47  -0.04  -0.38 \n",
       "O40M  0.98   1.01   0.06 \n",
       "O40C  0.15   1.31  -0.05 \n",
       "O20M -1.04   0.65   0.11 \n",
       "O20C -1.29   0.67  -0.12 "
      ]
     },
     "metadata": {},
     "output_type": "display_data"
    }
   ],
   "source": [
    "F <- X%*%U; round(F,2)        # coordenadas sobre los nuevos ejes"
   ]
  },
  {
   "cell_type": "code",
   "execution_count": 29,
   "metadata": {},
   "outputs": [
    {
     "data": {
      "image/png": "[encoded data removed]",
      "text/plain": [
       "plot without title"
      ]
     },
     "metadata": {},
     "output_type": "display_data"
    }
   ],
   "source": [
    "plot(F[,1:2],las =1, asp=1)   # plano 12\n",
    "text(F[ ,1:2],label = rownames(F),col=\"blue \",pos=2) # etiquetas\n",
    "abline(h=0,v=0, col=\" darkgrey \") # ejes"
   ]
  },
  {
   "cell_type": "markdown",
   "metadata": {},
   "source": [
    "La interpretación se hace teniendo en cuenta los vectores propios: al lado positivo del primer eje se sitúan los cafés con mayores valores en las tres variables, mientras que al lado positivo del segundo eje los de mayor valor en EA y al lado negativo los de mayor valor en Color.\n",
    "\n",
    "#### Calidad de la representación o coseno cuadrado"
   ]
  },
  {
   "cell_type": "code",
   "execution_count": 30,
   "metadata": {},
   "outputs": [
    {
     "data": {
      "text/html": [
       "<dl class=dl-horizontal>\n",
       "\t<dt>ExCl</dt>\n",
       "\t\t<dd>3.6073576363069</dd>\n",
       "\t<dt>C40M</dt>\n",
       "\t\t<dd>7.30890106480972</dd>\n",
       "\t<dt>C40C</dt>\n",
       "\t\t<dd>1.53188517861654</dd>\n",
       "\t<dt>C20M</dt>\n",
       "\t\t<dd>2.47405398029098</dd>\n",
       "\t<dt>C20C</dt>\n",
       "\t\t<dd>1.48951802386979</dd>\n",
       "\t<dt>ExOs</dt>\n",
       "\t\t<dd>6.23832714735261</dd>\n",
       "\t<dt>O40M</dt>\n",
       "\t\t<dd>1.97678547346824</dd>\n",
       "\t<dt>O40C</dt>\n",
       "\t\t<dd>1.74747124609809</dd>\n",
       "\t<dt>O20M</dt>\n",
       "\t\t<dd>1.51044914063124</dd>\n",
       "\t<dt>O20C</dt>\n",
       "\t\t<dd>2.11525110855588</dd>\n",
       "</dl>\n"
      ],
      "text/latex": [
       "\\begin{description*}\n",
       "\\item[ExCl] 3.6073576363069\n",
       "\\item[C40M] 7.30890106480972\n",
       "\\item[C40C] 1.53188517861654\n",
       "\\item[C20M] 2.47405398029098\n",
       "\\item[C20C] 1.48951802386979\n",
       "\\item[ExOs] 6.23832714735261\n",
       "\\item[O40M] 1.97678547346824\n",
       "\\item[O40C] 1.74747124609809\n",
       "\\item[O20M] 1.51044914063124\n",
       "\\item[O20C] 2.11525110855588\n",
       "\\end{description*}\n"
      ],
      "text/markdown": [
       "ExCl\n",
       ":   3.6073576363069C40M\n",
       ":   7.30890106480972C40C\n",
       ":   1.53188517861654C20M\n",
       ":   2.47405398029098C20C\n",
       ":   1.48951802386979ExOs\n",
       ":   6.23832714735261O40M\n",
       ":   1.97678547346824O40C\n",
       ":   1.74747124609809O20M\n",
       ":   1.51044914063124O20C\n",
       ":   2.11525110855588\n",
       "\n"
      ],
      "text/plain": [
       "    ExCl     C40M     C40C     C20M     C20C     ExOs     O40M     O40C \n",
       "3.607358 7.308901 1.531885 2.474054 1.489518 6.238327 1.976785 1.747471 \n",
       "    O20M     O20C \n",
       "1.510449 2.115251 "
      ]
     },
     "metadata": {},
     "output_type": "display_data"
    }
   ],
   "source": [
    "d2<-rowSums(F^2);d2                   # distancias"
   ]
  },
  {
   "cell_type": "code",
   "execution_count": 31,
   "metadata": {},
   "outputs": [
    {
     "data": {
      "text/html": [
       "<table>\n",
       "<thead><tr><th></th><th scope=col>dis2</th><th scope=col>F1</th><th scope=col>F2</th><th scope=col>cont1</th><th scope=col>cont2</th><th scope=col>cos21</th><th scope=col>cos22</th><th scope=col>cosp</th></tr></thead>\n",
       "<tbody>\n",
       "\t<tr><th scope=row>ExCl</th><td>3.61 </td><td>-0.89</td><td>-1.68</td><td> 3.80</td><td>34.19</td><td>21.80</td><td>77.89</td><td>99.69</td></tr>\n",
       "\t<tr><th scope=row>C40M</th><td>7.31 </td><td> 2.68</td><td>-0.22</td><td>34.72</td><td> 0.60</td><td>98.20</td><td> 0.67</td><td>98.87</td></tr>\n",
       "\t<tr><th scope=row>C40C</th><td>1.53 </td><td> 1.18</td><td> 0.15</td><td> 6.78</td><td> 0.26</td><td>91.45</td><td> 1.39</td><td>92.84</td></tr>\n",
       "\t<tr><th scope=row>C20M</th><td>2.47 </td><td> 1.14</td><td>-1.02</td><td> 6.31</td><td>12.77</td><td>52.75</td><td>42.41</td><td>95.16</td></tr>\n",
       "\t<tr><th scope=row>C20C</th><td>1.49 </td><td>-0.44</td><td>-0.82</td><td> 0.95</td><td> 8.23</td><td>13.20</td><td>45.42</td><td>58.62</td></tr>\n",
       "\t<tr><th scope=row>ExOs</th><td>6.24 </td><td>-2.47</td><td>-0.04</td><td>29.49</td><td> 0.02</td><td>97.70</td><td> 0.02</td><td>97.73</td></tr>\n",
       "\t<tr><th scope=row>O40M</th><td>1.98 </td><td> 0.98</td><td> 1.01</td><td> 4.60</td><td>12.44</td><td>48.09</td><td>51.72</td><td>99.81</td></tr>\n",
       "\t<tr><th scope=row>O40C</th><td>1.75 </td><td> 0.15</td><td> 1.31</td><td> 0.10</td><td>20.98</td><td> 1.21</td><td>98.65</td><td>99.86</td></tr>\n",
       "\t<tr><th scope=row>O20M</th><td>1.51 </td><td>-1.04</td><td> 0.65</td><td> 5.24</td><td> 5.07</td><td>71.67</td><td>27.58</td><td>99.25</td></tr>\n",
       "\t<tr><th scope=row>O20C</th><td>2.12 </td><td>-1.29</td><td> 0.67</td><td> 8.00</td><td> 5.43</td><td>78.22</td><td>21.10</td><td>99.32</td></tr>\n",
       "</tbody>\n",
       "</table>\n"
      ],
      "text/latex": [
       "\\begin{tabular}{r|llllllll}\n",
       "  & dis2 & F1 & F2 & cont1 & cont2 & cos21 & cos22 & cosp\\\\\n",
       "\\hline\n",
       "\tExCl & 3.61  & -0.89 & -1.68 &  3.80 & 34.19 & 21.80 & 77.89 & 99.69\\\\\n",
       "\tC40M & 7.31  &  2.68 & -0.22 & 34.72 &  0.60 & 98.20 &  0.67 & 98.87\\\\\n",
       "\tC40C & 1.53  &  1.18 &  0.15 &  6.78 &  0.26 & 91.45 &  1.39 & 92.84\\\\\n",
       "\tC20M & 2.47  &  1.14 & -1.02 &  6.31 & 12.77 & 52.75 & 42.41 & 95.16\\\\\n",
       "\tC20C & 1.49  & -0.44 & -0.82 &  0.95 &  8.23 & 13.20 & 45.42 & 58.62\\\\\n",
       "\tExOs & 6.24  & -2.47 & -0.04 & 29.49 &  0.02 & 97.70 &  0.02 & 97.73\\\\\n",
       "\tO40M & 1.98  &  0.98 &  1.01 &  4.60 & 12.44 & 48.09 & 51.72 & 99.81\\\\\n",
       "\tO40C & 1.75  &  0.15 &  1.31 &  0.10 & 20.98 &  1.21 & 98.65 & 99.86\\\\\n",
       "\tO20M & 1.51  & -1.04 &  0.65 &  5.24 &  5.07 & 71.67 & 27.58 & 99.25\\\\\n",
       "\tO20C & 2.12  & -1.29 &  0.67 &  8.00 &  5.43 & 78.22 & 21.10 & 99.32\\\\\n",
       "\\end{tabular}\n"
      ],
      "text/markdown": [
       "\n",
       "| <!--/--> | dis2 | F1 | F2 | cont1 | cont2 | cos21 | cos22 | cosp |\n",
       "|---|---|---|---|---|---|---|---|---|\n",
       "| ExCl | 3.61  | -0.89 | -1.68 |  3.80 | 34.19 | 21.80 | 77.89 | 99.69 |\n",
       "| C40M | 7.31  |  2.68 | -0.22 | 34.72 |  0.60 | 98.20 |  0.67 | 98.87 |\n",
       "| C40C | 1.53  |  1.18 |  0.15 |  6.78 |  0.26 | 91.45 |  1.39 | 92.84 |\n",
       "| C20M | 2.47  |  1.14 | -1.02 |  6.31 | 12.77 | 52.75 | 42.41 | 95.16 |\n",
       "| C20C | 1.49  | -0.44 | -0.82 |  0.95 |  8.23 | 13.20 | 45.42 | 58.62 |\n",
       "| ExOs | 6.24  | -2.47 | -0.04 | 29.49 |  0.02 | 97.70 |  0.02 | 97.73 |\n",
       "| O40M | 1.98  |  0.98 |  1.01 |  4.60 | 12.44 | 48.09 | 51.72 | 99.81 |\n",
       "| O40C | 1.75  |  0.15 |  1.31 |  0.10 | 20.98 |  1.21 | 98.65 | 99.86 |\n",
       "| O20M | 1.51  | -1.04 |  0.65 |  5.24 |  5.07 | 71.67 | 27.58 | 99.25 |\n",
       "| O20C | 2.12  | -1.29 |  0.67 |  8.00 |  5.43 | 78.22 | 21.10 | 99.32 |\n",
       "\n"
      ],
      "text/plain": [
       "     dis2 F1    F2    cont1 cont2 cos21 cos22 cosp \n",
       "ExCl 3.61 -0.89 -1.68  3.80 34.19 21.80 77.89 99.69\n",
       "C40M 7.31  2.68 -0.22 34.72  0.60 98.20  0.67 98.87\n",
       "C40C 1.53  1.18  0.15  6.78  0.26 91.45  1.39 92.84\n",
       "C20M 2.47  1.14 -1.02  6.31 12.77 52.75 42.41 95.16\n",
       "C20C 1.49 -0.44 -0.82  0.95  8.23 13.20 45.42 58.62\n",
       "ExOs 6.24 -2.47 -0.04 29.49  0.02 97.70  0.02 97.73\n",
       "O40M 1.98  0.98  1.01  4.60 12.44 48.09 51.72 99.81\n",
       "O40C 1.75  0.15  1.31  0.10 20.98  1.21 98.65 99.86\n",
       "O20M 1.51 -1.04  0.65  5.24  5.07 71.67 27.58 99.25\n",
       "O20C 2.12 -1.29  0.67  8.00  5.43 78.22 21.10 99.32"
      ]
     },
     "metadata": {},
     "output_type": "display_data"
    }
   ],
   "source": [
    "cont<- 1/n*F^2%*%diag(1/lambda )*100  # contribuciones\n",
    "cos2<- F^2/d2*100 \n",
    "Ayudasinterp <-cbind ( dis2 =d2 ,F1=F[,1] , F2=F[,2], cont1 = cont [,1], cont2 = cont [,2], cos21 =\n",
    "                cos2 [,1], cos22 = cos2 [,2], cosp = rowSums ( cos2 [ ,1:2]) )\n",
    "round(Ayudasinterp  ,2) # ayudas en consola"
   ]
  },
  {
   "cell_type": "markdown",
   "metadata": {},
   "source": [
    "Un plano factorial es una aproximación de la nube de puntos y como tal tendrá puntos bien representados, pero podrá contener puntos con mala calidad de proyección. La calidad de la proyección o representación sobre un eje se mide con el coseno cuadrado que se define, para un punto, como el cuadrado de la relación entre la norma de la proyección sobre la norma en el espacio completo (distancia del punto al origen). El coseno cuadrado de la proyección de un punto sobre un plano es la suma de los cosenos cuadrados del punto sobre los ejes que conforman el plano.\n",
    "\n",
    "En la columna d2 se observan las distancias al origen en el espacio completo R3, en la nuve de puntos en 3d, el más cercano esC20C y el más alejado C40M. Las coordenadas son las usadas para la gráfica. El café que más contribuye a la varianza del primer eje es C40M. En el plano están bien representados los 10 cafés; en el primer eje el O40C está mal representado.\n",
    "\n",
    "iMPORTANTE EN CUANTO A LOS COSENOS CUADRADOS: Calidad de la proyecciÓn sobre un eje s: cociente al cuadrado entre Fs(i) y d(i; 0). Cuando se acerca a 1, la longitud de la proyecciÓn se aproxima a la distancia original; si se acerca a cero, la proyecciÓn conserva muy poco de la distancia original.\n",
    "\n",
    "### Individuos ilustrativos o suplementarios\n",
    "\n",
    "En el ejemplo de Café, se prepararon tazas con dos cafés comerciales y se le hicieron las mismas mediciones de las tazas originadas en el diseño experimental. La posiciÓn de los dos cafés comerciales permite ver su relación con los del diseño experimental (ver siguiente grafica)"
   ]
  },
  {
   "cell_type": "code",
   "execution_count": 32,
   "metadata": {},
   "outputs": [
    {
     "data": {
      "text/html": [
       "<table>\n",
       "<thead><tr><th></th><th scope=col>Color</th><th scope=col>DA</th><th scope=col>EA</th></tr></thead>\n",
       "<tbody>\n",
       "\t<tr><th scope=row>Com1</th><td>221  </td><td>413.3</td><td>27   </td></tr>\n",
       "\t<tr><th scope=row>Com2</th><td>264  </td><td>400.9</td><td>23   </td></tr>\n",
       "</tbody>\n",
       "</table>\n"
      ],
      "text/latex": [
       "\\begin{tabular}{r|lll}\n",
       "  & Color & DA & EA\\\\\n",
       "\\hline\n",
       "\tCom1 & 221   & 413.3 & 27   \\\\\n",
       "\tCom2 & 264   & 400.9 & 23   \\\\\n",
       "\\end{tabular}\n"
      ],
      "text/markdown": [
       "\n",
       "| <!--/--> | Color | DA | EA |\n",
       "|---|---|---|---|\n",
       "| Com1 | 221   | 413.3 | 27    |\n",
       "| Com2 | 264   | 400.9 | 23    |\n",
       "\n"
      ],
      "text/plain": [
       "     Color DA    EA\n",
       "Com1 221   413.3 27\n",
       "Com2 264   400.9 23"
      ]
     },
     "metadata": {},
     "output_type": "display_data"
    }
   ],
   "source": [
    "comer <-as.matrix( cafe[11:12 ,1:3]) ; comer  # Datos de variables nuevas"
   ]
  },
  {
   "cell_type": "code",
   "execution_count": 33,
   "metadata": {},
   "outputs": [
    {
     "data": {
      "text/html": [
       "<table>\n",
       "<thead><tr><th></th><th scope=col>Color</th><th scope=col>DA</th><th scope=col>EA</th></tr></thead>\n",
       "<tbody>\n",
       "\t<tr><th scope=row>Com1</th><td>-55.7</td><td>12.14</td><td> -8.5</td></tr>\n",
       "\t<tr><th scope=row>Com2</th><td>-12.7</td><td>-0.26</td><td>-12.5</td></tr>\n",
       "</tbody>\n",
       "</table>\n"
      ],
      "text/latex": [
       "\\begin{tabular}{r|lll}\n",
       "  & Color & DA & EA\\\\\n",
       "\\hline\n",
       "\tCom1 & -55.7 & 12.14 &  -8.5\\\\\n",
       "\tCom2 & -12.7 & -0.26 & -12.5\\\\\n",
       "\\end{tabular}\n"
      ],
      "text/markdown": [
       "\n",
       "| <!--/--> | Color | DA | EA |\n",
       "|---|---|---|---|\n",
       "| Com1 | -55.7 | 12.14 |  -8.5 |\n",
       "| Com2 | -12.7 | -0.26 | -12.5 |\n",
       "\n"
      ],
      "text/plain": [
       "     Color DA    EA   \n",
       "Com1 -55.7 12.14  -8.5\n",
       "Com2 -12.7 -0.26 -12.5"
      ]
     },
     "metadata": {},
     "output_type": "display_data"
    }
   ],
   "source": [
    "comc <-comer - rep(1 ,2)%*%t(g); comc         # centrado"
   ]
  },
  {
   "cell_type": "code",
   "execution_count": 34,
   "metadata": {},
   "outputs": [
    {
     "data": {
      "text/html": [
       "<table>\n",
       "<thead><tr><th></th><th scope=col>Color</th><th scope=col>DA</th><th scope=col>EA</th></tr></thead>\n",
       "<tbody>\n",
       "\t<tr><th scope=row>Com1</th><td>-0.9994654  </td><td> 0.307347839</td><td>-1.469674   </td></tr>\n",
       "\t<tr><th scope=row>Com2</th><td>-0.2278853  </td><td>-0.006582408</td><td>-2.161285   </td></tr>\n",
       "</tbody>\n",
       "</table>\n"
      ],
      "text/latex": [
       "\\begin{tabular}{r|lll}\n",
       "  & Color & DA & EA\\\\\n",
       "\\hline\n",
       "\tCom1 & -0.9994654   &  0.307347839 & -1.469674   \\\\\n",
       "\tCom2 & -0.2278853   & -0.006582408 & -2.161285   \\\\\n",
       "\\end{tabular}\n"
      ],
      "text/markdown": [
       "\n",
       "| <!--/--> | Color | DA | EA |\n",
       "|---|---|---|---|\n",
       "| Com1 | -0.9994654   |  0.307347839 | -1.469674    |\n",
       "| Com2 | -0.2278853   | -0.006582408 | -2.161285    |\n",
       "\n"
      ],
      "text/plain": [
       "     Color      DA           EA       \n",
       "Com1 -0.9994654  0.307347839 -1.469674\n",
       "Com2 -0.2278853 -0.006582408 -2.161285"
      ]
     },
     "metadata": {},
     "output_type": "display_data"
    }
   ],
   "source": [
    "comcr <- comc%*%solve( Dsigma )               # reducido (normada)\n",
    "colnames(comcr) <- colnames(comer); comcr"
   ]
  },
  {
   "cell_type": "code",
   "execution_count": 35,
   "metadata": {},
   "outputs": [
    {
     "data": {
      "text/html": [
       "<table>\n",
       "<thead><tr><th></th><th scope=col> Eje1 </th><th scope=col> Eje2 </th><th scope=col> Eje3 </th></tr></thead>\n",
       "<tbody>\n",
       "\t<tr><th scope=row>Com1</th><td>-1.048113 </td><td>-0.6515386</td><td>-1.3154049</td></tr>\n",
       "\t<tr><th scope=row>Com2</th><td>-1.130224 </td><td>-1.6371506</td><td>-0.8749045</td></tr>\n",
       "</tbody>\n",
       "</table>\n"
      ],
      "text/latex": [
       "\\begin{tabular}{r|lll}\n",
       "  &  Eje1  &  Eje2  &  Eje3 \\\\\n",
       "\\hline\n",
       "\tCom1 & -1.048113  & -0.6515386 & -1.3154049\\\\\n",
       "\tCom2 & -1.130224  & -1.6371506 & -0.8749045\\\\\n",
       "\\end{tabular}\n"
      ],
      "text/markdown": [
       "\n",
       "| <!--/--> |  Eje1  |  Eje2  |  Eje3  |\n",
       "|---|---|---|---|\n",
       "| Com1 | -1.048113  | -0.6515386 | -1.3154049 |\n",
       "| Com2 | -1.130224  | -1.6371506 | -0.8749045 |\n",
       "\n"
      ],
      "text/plain": [
       "      Eje1      Eje2       Eje3     \n",
       "Com1 -1.048113 -0.6515386 -1.3154049\n",
       "Com2 -1.130224 -1.6371506 -0.8749045"
      ]
     },
     "metadata": {},
     "output_type": "display_data"
    }
   ],
   "source": [
    "Fsup <- comcr%*%U; Fsup                       # Componentes"
   ]
  },
  {
   "cell_type": "code",
   "execution_count": 36,
   "metadata": {},
   "outputs": [
    {
     "data": {
      "image/png": "[encoded data removed]",
      "text/plain": [
       "plot without title"
      ]
     },
     "metadata": {},
     "output_type": "display_data"
    }
   ],
   "source": [
    "# primer plano factorial\n",
    "plot(F[ ,1:2] , las =1, asp =1)\n",
    "text(F[ ,1:2] , label = rownames (F),col=\" blue \",pos =1)\n",
    "abline(h=0,v=0, col=\" darkgrey \")\n",
    "points(Fsup ,col =\" darkgreen \",pch =20)      # cafes comerciales\n",
    "text(Fsup , labels =c(\" Com1 \",\" Com2 \"),col=\" darkgreen \",pos =2)"
   ]
  },
  {
   "cell_type": "markdown",
   "metadata": {},
   "source": [
    "El comercial 2 se situó muy cerca del cafÉ excelso claro y el comercial 1 entre los cafÉs excelsos y los que tienen menos agregados de granos. Con esto se pueden describir los cafés comerciales como de buena calidad. Su proyecciÓn se hace realizando sobre sus vectores las mismas transformaciones que para los cafés activos: centrado y reducido utilizando la media y varianza de los cafés activos y proyección.\n",
    "\n",
    "### Variables cualitativas ilustrativas"
   ]
  },
  {
   "cell_type": "code",
   "execution_count": 37,
   "metadata": {},
   "outputs": [
    {
     "data": {
      "text/html": [
       "<table>\n",
       "<thead><tr><th></th><th scope=col> Eje1 </th><th scope=col> Eje2 </th><th scope=col> Eje3 </th></tr></thead>\n",
       "<tbody>\n",
       "\t<tr><th scope=row> ceba </th><td>-0.1000864 </td><td> 0.32610644</td><td> 0.2367467 </td></tr>\n",
       "\t<tr><th scope=row> exce </th><td>-2.4688231 </td><td>-0.03843822</td><td>-0.3765135 </td></tr>\n",
       "\t<tr><th scope=row> maiz </th><td> 1.5988101 </td><td>-0.07841726</td><td>-0.1903410 </td></tr>\n",
       "\t<tr><th scope=row>\n",
       "maiz </th><td>-1.0404158 </td><td> 0.64545074</td><td> 0.1066648 </td></tr>\n",
       "\t<tr><th scope=row>exce </th><td>-0.8868461 </td><td>-1.67618651</td><td>-0.1061153 </td></tr>\n",
       "</tbody>\n",
       "</table>\n"
      ],
      "text/latex": [
       "\\begin{tabular}{r|lll}\n",
       "  &  Eje1  &  Eje2  &  Eje3 \\\\\n",
       "\\hline\n",
       "\t ceba  & -0.1000864  &  0.32610644 &  0.2367467 \\\\\n",
       "\t exce  & -2.4688231  & -0.03843822 & -0.3765135 \\\\\n",
       "\t maiz  &  1.5988101  & -0.07841726 & -0.1903410 \\\\\n",
       "\t\n",
       "maiz  & -1.0404158  &  0.64545074 &  0.1066648 \\\\\n",
       "\texce  & -0.8868461  & -1.67618651 & -0.1061153 \\\\\n",
       "\\end{tabular}\n"
      ],
      "text/markdown": [
       "\n",
       "| <!--/--> |  Eje1  |  Eje2  |  Eje3  |\n",
       "|---|---|---|---|\n",
       "|  ceba  | -0.1000864  |  0.32610644 |  0.2367467  |\n",
       "|  exce  | -2.4688231  | -0.03843822 | -0.3765135  |\n",
       "|  maiz  |  1.5988101  | -0.07841726 | -0.1903410  |\n",
       "| \n",
       "maiz  | -1.0404158  |  0.64545074 |  0.1066648  |\n",
       "| exce  | -0.8868461  | -1.67618651 | -0.1061153  |\n",
       "\n"
      ],
      "text/plain": [
       "         Eje1       Eje2        Eje3     \n",
       " ceba   -0.1000864  0.32610644  0.2367467\n",
       " exce   -2.4688231 -0.03843822 -0.3765135\n",
       " maiz    1.5988101 -0.07841726 -0.1903410\n",
       "\\nmaiz  -1.0404158  0.64545074  0.1066648\n",
       "exce    -0.8868461 -1.67618651 -0.1061153"
      ]
     },
     "metadata": {},
     "output_type": "display_data"
    },
    {
     "data": {
      "image/png": "[encoded data removed]",
      "text/plain": [
       "plot without title"
      ]
     },
     "metadata": {},
     "output_type": "display_data"
    }
   ],
   "source": [
    "#codigo anterior\n",
    "plot(F[ ,1:2] , las =1, asp =1)\n",
    "text(F[ ,1:2] , label = rownames (F),col=\" blue \",pos =1)\n",
    "abline(h=0,v=0, col=\" darkgrey \")\n",
    "points(Fsup ,col =\" darkgreen \",pch =20)      # cafes comerciales\n",
    "text(Fsup , labels =c(\" Com1 \",\" Com2 \"),col=\" darkgreen \",pos =2)\n",
    "\n",
    "#nuevo codigo para variables categoricas\n",
    "conta <- factor(c(\"exce \",\" maiz \",\" ceba \",\" maiz \",\" ceba \",\" exce \",\" maiz \",\" ceba \", \"\n",
    "maiz \",\" ceba \"))\n",
    "Fconta <-centroids(F,conta)$centroids; Fconta\n"
   ]
  },
  {
   "cell_type": "code",
   "execution_count": 38,
   "metadata": {},
   "outputs": [],
   "source": [
    "# dev. print ( device = xfig )"
   ]
  },
  {
   "cell_type": "markdown",
   "metadata": {},
   "source": [
    "Primer plano factorial del ACP del ejemplo Café, mostrando dos cafés comerciales y las categorís del tipo de contaminante. Los cafés comerciales se ponen en el marco de referencia del experimento, su posición permite decir que son de buena calidad (están cerca de los cafés no contaminados). La posiciones de los centros de gravedad: excelso, cebada y maiz, muestran que el maíz afecta más la calidad del café.\n",
    "\n",
    "### Círculo de correlaciones y ayudas a la interpretación\n",
    "\n",
    "Un plano factorial de las variables estandarizadas se denomina círculo de correlaciones (siguiente gráfica), ya que es la proyección de la hiperesfera de correlaciones, flechas que parten del origen y tienen longitud 1."
   ]
  },
  {
   "cell_type": "code",
   "execution_count": 39,
   "metadata": {},
   "outputs": [
    {
     "data": {
      "text/html": [
       "<table>\n",
       "<tbody>\n",
       "\t<tr><th scope=row>Color</th><td>0.8331476  </td><td>-0.51795132</td><td> 0.1938852 </td></tr>\n",
       "\t<tr><th scope=row>DA</th><td>0.9674253  </td><td>-0.06055768</td><td>-0.2458070 </td></tr>\n",
       "\t<tr><th scope=row>EA</th><td>0.6610477  </td><td> 0.74142147</td><td> 0.1153697 </td></tr>\n",
       "</tbody>\n",
       "</table>\n"
      ],
      "text/latex": [
       "\\begin{tabular}{r|lll}\n",
       "\tColor & 0.8331476   & -0.51795132 &  0.1938852 \\\\\n",
       "\tDA & 0.9674253   & -0.06055768 & -0.2458070 \\\\\n",
       "\tEA & 0.6610477   &  0.74142147 &  0.1153697 \\\\\n",
       "\\end{tabular}\n"
      ],
      "text/markdown": [
       "\n",
       "| Color | 0.8331476   | -0.51795132 |  0.1938852  |\n",
       "| DA | 0.9674253   | -0.06055768 | -0.2458070  |\n",
       "| EA | 0.6610477   |  0.74142147 |  0.1153697  |\n",
       "\n"
      ],
      "text/plain": [
       "      [,1]      [,2]        [,3]      \n",
       "Color 0.8331476 -0.51795132  0.1938852\n",
       "DA    0.9674253 -0.06055768 -0.2458070\n",
       "EA    0.6610477  0.74142147  0.1153697"
      ]
     },
     "metadata": {},
     "output_type": "display_data"
    }
   ],
   "source": [
    "G <-U%*%diag(sqrt(lambda));G        # G <- cor(Y,F)"
   ]
  },
  {
   "cell_type": "code",
   "execution_count": 40,
   "metadata": {},
   "outputs": [
    {
     "data": {
      "text/html": [
       "<table>\n",
       "<thead><tr><th></th><th scope=col>Color</th><th scope=col>DA</th><th scope=col>EA</th></tr></thead>\n",
       "<tbody>\n",
       "\t<tr><th scope=row>Color</th><td>1.0000000</td><td>0.7897157</td><td>0.1890986</td></tr>\n",
       "\t<tr><th scope=row>DA</th><td>0.7897157</td><td>1.0000000</td><td>0.5662568</td></tr>\n",
       "\t<tr><th scope=row>EA</th><td>0.1890986</td><td>0.5662568</td><td>1.0000000</td></tr>\n",
       "</tbody>\n",
       "</table>\n"
      ],
      "text/latex": [
       "\\begin{tabular}{r|lll}\n",
       "  & Color & DA & EA\\\\\n",
       "\\hline\n",
       "\tColor & 1.0000000 & 0.7897157 & 0.1890986\\\\\n",
       "\tDA & 0.7897157 & 1.0000000 & 0.5662568\\\\\n",
       "\tEA & 0.1890986 & 0.5662568 & 1.0000000\\\\\n",
       "\\end{tabular}\n"
      ],
      "text/markdown": [
       "\n",
       "| <!--/--> | Color | DA | EA |\n",
       "|---|---|---|---|\n",
       "| Color | 1.0000000 | 0.7897157 | 0.1890986 |\n",
       "| DA | 0.7897157 | 1.0000000 | 0.5662568 |\n",
       "| EA | 0.1890986 | 0.5662568 | 1.0000000 |\n",
       "\n"
      ],
      "text/plain": [
       "      Color     DA        EA       \n",
       "Color 1.0000000 0.7897157 0.1890986\n",
       "DA    0.7897157 1.0000000 0.5662568\n",
       "EA    0.1890986 0.5662568 1.0000000"
      ]
     },
     "metadata": {},
     "output_type": "display_data"
    }
   ],
   "source": [
    "correlaciones<- cor(Y,Y);correlaciones"
   ]
  },
  {
   "cell_type": "code",
   "execution_count": 41,
   "metadata": {},
   "outputs": [
    {
     "data": {
      "image/png": "[encoded data removed]",
      "text/plain": [
       "Plot with title \"G\""
      ]
     },
     "metadata": {},
     "output_type": "display_data"
    }
   ],
   "source": [
    "G3D<-scatterplot3d(G,main =\"G\",xlim =c(-1 ,1),ylim =c(-1 ,1),zlim =c(-1,1))\n",
    "coord <- G3D$xyz.convert(G)\n",
    "text (coord , labels = rownames (G), cex =0.8 , col=\" blue \",pos =4)\n",
    "G3D $ plane (0 ,0 ,0 , col =\" darkgrey \")\n",
    "G3D $ points3d (t(c(0 ,0 ,0)),pch =19 , col =\" darkgreen \")\n",
    "cero <- G3D$xyz.convert(0, 0, 0)\n",
    "for (eje in 1:3) {\n",
    "  arrows ( cero$x, cero$y, coord$x[eje], coord$y[eje], lwd = 2, length = 0.1)\n",
    "}"
   ]
  },
  {
   "cell_type": "code",
   "execution_count": 42,
   "metadata": {},
   "outputs": [],
   "source": [
    "#dev.print(device=xfig ,file =\"cafeEspera.fig \") # grabar grafica en xfig\n",
    "#dev.copy2pdf(file=\"C:/Users/YULY/Desktop/cafeEspera.pdf\") "
   ]
  },
  {
   "cell_type": "markdown",
   "metadata": {},
   "source": [
    "El primer eje es un “factor tamaño” porque está correlacionado positivamente con las tres variables. Los cafés con valores altos de sus coordenadas sobre el eje tienen valores altos en las tres variables."
   ]
  },
  {
   "cell_type": "code",
   "execution_count": 43,
   "metadata": {},
   "outputs": [
    {
     "data": {
      "image/png": "[encoded data removed]",
      "text/plain": [
       "plot without title"
      ]
     },
     "metadata": {},
     "output_type": "display_data"
    }
   ],
   "source": [
    "s.corcircle(G, clabel =2)"
   ]
  },
  {
   "cell_type": "markdown",
   "metadata": {},
   "source": [
    "### proyeccion de nota como variable ilustrativa\n",
    "\n",
    "Conociendo que el círculo es una imagen de la matriz de correlaciones y permite la interpretación de los ejes factoriales, se tiene que la correlación negativa de la Nota de apreciación de los catadores con el primer eje significa que los mejores cafés están al lado negativo del primer eje, es decir que valores mayores de las tres variables dañan la calidad apreciada del café.\n",
    "\n",
    "El segundo eje muestra una correlación positiva con EA y negativa con Color, los cafés con coordenadas positivas tienen mayores valores de extracto acuoso y los de coordenadas negativas mayores valores de color."
   ]
  },
  {
   "cell_type": "code",
   "execution_count": 44,
   "metadata": {},
   "outputs": [
    {
     "data": {
      "text/html": [
       "<table>\n",
       "<thead><tr><th></th><th scope=col>Color</th><th scope=col>DA</th><th scope=col>EA</th></tr></thead>\n",
       "<tbody>\n",
       "\t<tr><th scope=row>Color</th><td>1.0000000</td><td>0.7897157</td><td>0.1890986</td></tr>\n",
       "\t<tr><th scope=row>DA</th><td>0.7897157</td><td>1.0000000</td><td>0.5662568</td></tr>\n",
       "\t<tr><th scope=row>EA</th><td>0.1890986</td><td>0.5662568</td><td>1.0000000</td></tr>\n",
       "</tbody>\n",
       "</table>\n"
      ],
      "text/latex": [
       "\\begin{tabular}{r|lll}\n",
       "  & Color & DA & EA\\\\\n",
       "\\hline\n",
       "\tColor & 1.0000000 & 0.7897157 & 0.1890986\\\\\n",
       "\tDA & 0.7897157 & 1.0000000 & 0.5662568\\\\\n",
       "\tEA & 0.1890986 & 0.5662568 & 1.0000000\\\\\n",
       "\\end{tabular}\n"
      ],
      "text/markdown": [
       "\n",
       "| <!--/--> | Color | DA | EA |\n",
       "|---|---|---|---|\n",
       "| Color | 1.0000000 | 0.7897157 | 0.1890986 |\n",
       "| DA | 0.7897157 | 1.0000000 | 0.5662568 |\n",
       "| EA | 0.1890986 | 0.5662568 | 1.0000000 |\n",
       "\n"
      ],
      "text/plain": [
       "      Color     DA        EA       \n",
       "Color 1.0000000 0.7897157 0.1890986\n",
       "DA    0.7897157 1.0000000 0.5662568\n",
       "EA    0.1890986 0.5662568 1.0000000"
      ]
     },
     "metadata": {},
     "output_type": "display_data"
    }
   ],
   "source": [
    "correlaciones<- cor(Y,Y);correlaciones"
   ]
  },
  {
   "cell_type": "code",
   "execution_count": 51,
   "metadata": {},
   "outputs": [
    {
     "data": {
      "text/html": [
       "<ol class=list-inline>\n",
       "\t<li>7.46</li>\n",
       "\t<li>6.24</li>\n",
       "\t<li>6.12</li>\n",
       "\t<li>6.04</li>\n",
       "\t<li>6.22</li>\n",
       "\t<li>7.4</li>\n",
       "\t<li>5.9</li>\n",
       "\t<li>6.94</li>\n",
       "\t<li>6.9</li>\n",
       "\t<li>7.16</li>\n",
       "</ol>\n"
      ],
      "text/latex": [
       "\\begin{enumerate*}\n",
       "\\item 7.46\n",
       "\\item 6.24\n",
       "\\item 6.12\n",
       "\\item 6.04\n",
       "\\item 6.22\n",
       "\\item 7.4\n",
       "\\item 5.9\n",
       "\\item 6.94\n",
       "\\item 6.9\n",
       "\\item 7.16\n",
       "\\end{enumerate*}\n"
      ],
      "text/markdown": [
       "1. 7.46\n",
       "2. 6.24\n",
       "3. 6.12\n",
       "4. 6.04\n",
       "5. 6.22\n",
       "6. 7.4\n",
       "7. 5.9\n",
       "8. 6.94\n",
       "9. 6.9\n",
       "10. 7.16\n",
       "\n",
       "\n"
      ],
      "text/plain": [
       " [1] 7.46 6.24 6.12 6.04 6.22 7.40 5.90 6.94 6.90 7.16"
      ]
     },
     "metadata": {},
     "output_type": "display_data"
    },
    {
     "data": {
      "text/html": [
       "<table>\n",
       "<thead><tr><th scope=col> Eje1 </th><th scope=col> Eje2 </th><th scope=col> Eje3 </th></tr></thead>\n",
       "<tbody>\n",
       "\t<tr><td>-0.7887268 </td><td>-0.05268367</td><td>-0.3437051 </td></tr>\n",
       "</tbody>\n",
       "</table>\n"
      ],
      "text/latex": [
       "\\begin{tabular}{lll}\n",
       "  Eje1  &  Eje2  &  Eje3 \\\\\n",
       "\\hline\n",
       "\t -0.7887268  & -0.05268367 & -0.3437051 \\\\\n",
       "\\end{tabular}\n"
      ],
      "text/markdown": [
       "\n",
       "|  Eje1  |  Eje2  |  Eje3  |\n",
       "|---|---|---|\n",
       "| -0.7887268  | -0.05268367 | -0.3437051  |\n",
       "\n"
      ],
      "text/plain": [
       "      Eje1       Eje2        Eje3     \n",
       "[1,] -0.7887268 -0.05268367 -0.3437051"
      ]
     },
     "metadata": {},
     "output_type": "display_data"
    },
    {
     "data": {
      "image/png": "[encoded data removed]",
      "text/plain": [
       "plot without title"
      ]
     },
     "metadata": {},
     "output_type": "display_data"
    }
   ],
   "source": [
    "s.corcircle(G, clabel =2)\n",
    "Nota <- cafe [1:10 ,16]; Nota\n",
    "Fnota <- cor(Nota ,F); Fnota\n",
    "arrows(0 ,0, Fnota [1] , Fnota [2] , col=\" darkgreen\",angle =10)\n",
    "text(Fnota ,\" Nota \",col=\" darkgreen \", pos =1, cex =2)"
   ]
  },
  {
   "cell_type": "code",
   "execution_count": null,
   "metadata": {},
   "outputs": [],
   "source": [
    "#dev.copy2pdf(file=\"C:/Users/OSCAR/Desktop/circulocorrelaciones.pdf\") "
   ]
  },
  {
   "cell_type": "markdown",
   "metadata": {},
   "source": [
    "En el ejemplo Café se proyecta la nota de impresión global dada por un panel de catadores, para explorar su relación con las tres variables físicas en conjunto. La correlación con el primer eje es alta y en sentido opuesto (-0.79), lo que significa que valores altos en estas tres propiedades físicas indican detrimento de la calidad apreciada de las tazas de café. Esto explica la ubicación de los cafés excelso del lado negativo del eje 1.\n",
    "\n",
    "---\n",
    "\n",
    "### Usando libreria FACTOCLASS"
   ]
  },
  {
   "cell_type": "code",
   "execution_count": 55,
   "metadata": {},
   "outputs": [
    {
     "data": {
      "text/html": [
       "<dl class=dl-horizontal>\n",
       "\t<dt>Color</dt>\n",
       "\t\t<dd>276.7</dd>\n",
       "\t<dt>DA</dt>\n",
       "\t\t<dd>401.16</dd>\n",
       "\t<dt>EA</dt>\n",
       "\t\t<dd>35.5</dd>\n",
       "</dl>\n"
      ],
      "text/latex": [
       "\\begin{description*}\n",
       "\\item[Color] 276.7\n",
       "\\item[DA] 401.16\n",
       "\\item[EA] 35.5\n",
       "\\end{description*}\n"
      ],
      "text/markdown": [
       "Color\n",
       ":   276.7DA\n",
       ":   401.16EA\n",
       ":   35.5\n",
       "\n"
      ],
      "text/plain": [
       " Color     DA     EA \n",
       "276.70 401.16  35.50 "
      ]
     },
     "metadata": {},
     "output_type": "display_data"
    }
   ],
   "source": [
    "library ( FactoClass )         # carga de paquetes\n",
    "data ( cafe )                  # hacer los datos disponibles\n",
    "acp <-dudi.pca(cafe [1:10 ,1:3] , scannf = FALSE ) # ACP normado con variables fisicas y reteniendo dos ejes\n",
    "\n",
    "acp$cent                       # medias de las variables :"
   ]
  },
  {
   "cell_type": "code",
   "execution_count": 56,
   "metadata": {},
   "outputs": [
    {
     "data": {
      "text/html": [
       "<dl class=dl-horizontal>\n",
       "\t<dt>Color</dt>\n",
       "\t\t<dd>55.73</dd>\n",
       "\t<dt>DA</dt>\n",
       "\t\t<dd>39.5</dd>\n",
       "\t<dt>EA</dt>\n",
       "\t\t<dd>5.78</dd>\n",
       "</dl>\n"
      ],
      "text/latex": [
       "\\begin{description*}\n",
       "\\item[Color] 55.73\n",
       "\\item[DA] 39.5\n",
       "\\item[EA] 5.78\n",
       "\\end{description*}\n"
      ],
      "text/markdown": [
       "Color\n",
       ":   55.73DA\n",
       ":   39.5EA\n",
       ":   5.78\n",
       "\n"
      ],
      "text/plain": [
       "Color    DA    EA \n",
       "55.73 39.50  5.78 "
      ]
     },
     "metadata": {},
     "output_type": "display_data"
    }
   ],
   "source": [
    "round(acp$norm ,2)             # desviacion estandar de las variables"
   ]
  },
  {
   "cell_type": "code",
   "execution_count": 57,
   "metadata": {},
   "outputs": [
    {
     "data": {
      "text/plain": [
       "Inertia information:\n",
       "Call: inertia.dudi(x = acp)\n",
       "\n",
       "Decomposition of total inertia:\n",
       "    inertia     cum  cum(%)\n",
       "Ax1  2.0670   2.067   68.90\n",
       "Ax2  0.8216   2.889   96.29\n",
       "Ax3  0.1113   3.000  100.00"
      ]
     },
     "metadata": {},
     "output_type": "display_data"
    }
   ],
   "source": [
    "inertia(acp)                   # valores propios y porcentajes"
   ]
  },
  {
   "cell_type": "code",
   "execution_count": 58,
   "metadata": {},
   "outputs": [
    {
     "data": {
      "image/png": "[encoded data removed]",
      "text/plain": [
       "plot without title"
      ]
     },
     "metadata": {},
     "output_type": "display_data"
    }
   ],
   "source": [
    "barplot(acp$eig )              # histograma de valores propios"
   ]
  },
  {
   "cell_type": "code",
   "execution_count": 59,
   "metadata": {},
   "outputs": [
    {
     "data": {
      "text/html": [
       "<table>\n",
       "<thead><tr><th></th><th scope=col>CS1</th><th scope=col>CS2</th></tr></thead>\n",
       "<tbody>\n",
       "\t<tr><th scope=row>Color</th><td>0.579 </td><td>-0.571</td></tr>\n",
       "\t<tr><th scope=row>DA</th><td>0.673 </td><td>-0.067</td></tr>\n",
       "\t<tr><th scope=row>EA</th><td>0.460 </td><td> 0.818</td></tr>\n",
       "</tbody>\n",
       "</table>\n"
      ],
      "text/latex": [
       "\\begin{tabular}{r|ll}\n",
       "  & CS1 & CS2\\\\\n",
       "\\hline\n",
       "\tColor & 0.579  & -0.571\\\\\n",
       "\tDA & 0.673  & -0.067\\\\\n",
       "\tEA & 0.460  &  0.818\\\\\n",
       "\\end{tabular}\n"
      ],
      "text/markdown": [
       "\n",
       "| <!--/--> | CS1 | CS2 |\n",
       "|---|---|---|\n",
       "| Color | 0.579  | -0.571 |\n",
       "| DA | 0.673  | -0.067 |\n",
       "| EA | 0.460  |  0.818 |\n",
       "\n"
      ],
      "text/plain": [
       "      CS1   CS2   \n",
       "Color 0.579 -0.571\n",
       "DA    0.673 -0.067\n",
       "EA    0.460  0.818"
      ]
     },
     "metadata": {},
     "output_type": "display_data"
    }
   ],
   "source": [
    "round(acp$c1 ,3)               # vectores propios"
   ]
  },
  {
   "cell_type": "code",
   "execution_count": 62,
   "metadata": {},
   "outputs": [
    {
     "data": {
      "text/html": [
       "<table>\n",
       "<thead><tr><th scope=col>Axis1</th><th scope=col>Axis2</th></tr></thead>\n",
       "<tbody>\n",
       "\t<tr><td>-0.7887268 </td><td>-0.05268367</td></tr>\n",
       "</tbody>\n",
       "</table>\n"
      ],
      "text/latex": [
       "\\begin{tabular}{ll}\n",
       " Axis1 & Axis2\\\\\n",
       "\\hline\n",
       "\t -0.7887268  & -0.05268367\\\\\n",
       "\\end{tabular}\n"
      ],
      "text/markdown": [
       "\n",
       "| Axis1 | Axis2 |\n",
       "|---|---|\n",
       "| -0.7887268  | -0.05268367 |\n",
       "\n"
      ],
      "text/plain": [
       "     Axis1      Axis2      \n",
       "[1,] -0.7887268 -0.05268367"
      ]
     },
     "metadata": {},
     "output_type": "display_data"
    },
    {
     "data": {
      "image/png": "[encoded data removed]",
      "text/plain": [
       "plot without title"
      ]
     },
     "metadata": {},
     "output_type": "display_data"
    }
   ],
   "source": [
    "s.corcircle(acp$co)            # circulo de correlaciones\n",
    "\n",
    "\n",
    "# proyeccion de la variable Impresion como ilustrativa\n",
    "(cor( cafe [1:10 ,16] , acp$li) -> coimpre )\n",
    "s.arrow ( coimpre , label =\" Impresion \",add.plot = TRUE , boxes = FALSE )"
   ]
  },
  {
   "cell_type": "code",
   "execution_count": 63,
   "metadata": {},
   "outputs": [
    {
     "data": {
      "text/html": [
       "<table>\n",
       "<thead><tr><th></th><th scope=col>Comp1</th><th scope=col>Comp2</th></tr></thead>\n",
       "<tbody>\n",
       "\t<tr><th scope=row>Color</th><td>0.833 </td><td>-0.518</td></tr>\n",
       "\t<tr><th scope=row>DA</th><td>0.967 </td><td>-0.061</td></tr>\n",
       "\t<tr><th scope=row>EA</th><td>0.661 </td><td> 0.741</td></tr>\n",
       "</tbody>\n",
       "</table>\n"
      ],
      "text/latex": [
       "\\begin{tabular}{r|ll}\n",
       "  & Comp1 & Comp2\\\\\n",
       "\\hline\n",
       "\tColor & 0.833  & -0.518\\\\\n",
       "\tDA & 0.967  & -0.061\\\\\n",
       "\tEA & 0.661  &  0.741\\\\\n",
       "\\end{tabular}\n"
      ],
      "text/markdown": [
       "\n",
       "| <!--/--> | Comp1 | Comp2 |\n",
       "|---|---|---|\n",
       "| Color | 0.833  | -0.518 |\n",
       "| DA | 0.967  | -0.061 |\n",
       "| EA | 0.661  |  0.741 |\n",
       "\n"
      ],
      "text/plain": [
       "      Comp1 Comp2 \n",
       "Color 0.833 -0.518\n",
       "DA    0.967 -0.061\n",
       "EA    0.661  0.741"
      ]
     },
     "metadata": {},
     "output_type": "display_data"
    }
   ],
   "source": [
    "round(acp$co ,3)               # coordenadas de las variables = correlaciones con los ejes"
   ]
  },
  {
   "cell_type": "code",
   "execution_count": 64,
   "metadata": {},
   "outputs": [
    {
     "data": {
      "text/plain": [
       "Inertia information:\n",
       "Call: inertia.dudi(x = acp, col.inertia = TRUE)\n",
       "\n",
       "Decomposition of total inertia:\n",
       "    inertia     cum  cum(%)\n",
       "Ax1  2.0670   2.067   68.90\n",
       "Ax2  0.8216   2.889   96.29\n",
       "Ax3  0.1113   3.000  100.00\n",
       "\n",
       "Column contributions (%):\n",
       "  Color      DA      EA \n",
       "  33.33   33.33   33.33 \n",
       "\n",
       "Column absolute contributions (%):\n",
       "        Axis1   Axis2\n",
       "Color   33.58 32.6507\n",
       "DA      45.28  0.4463\n",
       "EA      21.14 66.9029\n",
       "\n",
       "Signed column relative contributions:\n",
       "        Axis1    Axis2\n",
       "Color   69.41 -26.8274\n",
       "DA      93.59  -0.3667\n",
       "EA      43.70  54.9706\n",
       "\n",
       "Cumulative sum of column relative contributions (%):\n",
       "        Axis1 Axis1:2 Axis3:3\n",
       "Color   69.41   96.24   3.759\n",
       "DA      93.59   93.96   6.042\n",
       "EA      43.70   98.67   1.331"
      ]
     },
     "metadata": {},
     "output_type": "display_data"
    }
   ],
   "source": [
    "inertia (acp ,, TRUE )         # ayudas para la interpretacion de las variables"
   ]
  },
  {
   "cell_type": "code",
   "execution_count": 65,
   "metadata": {},
   "outputs": [
    {
     "data": {
      "image/png": "[encoded data removed]",
      "text/plain": [
       "plot without title"
      ]
     },
     "metadata": {},
     "output_type": "display_data"
    }
   ],
   "source": [
    "plot (acp , Tcol =FALSE ,gg= TRUE )"
   ]
  },
  {
   "cell_type": "code",
   "execution_count": 66,
   "metadata": {},
   "outputs": [
    {
     "data": {
      "text/html": [
       "<table>\n",
       "<thead><tr><th></th><th scope=col>Axis1</th><th scope=col>Axis2</th></tr></thead>\n",
       "<tbody>\n",
       "\t<tr><th scope=row>ExCl</th><td>-0.89</td><td>-1.68</td></tr>\n",
       "\t<tr><th scope=row>C40M</th><td> 2.68</td><td>-0.22</td></tr>\n",
       "\t<tr><th scope=row>C40C</th><td> 1.18</td><td> 0.15</td></tr>\n",
       "\t<tr><th scope=row>C20M</th><td> 1.14</td><td>-1.02</td></tr>\n",
       "\t<tr><th scope=row>C20C</th><td>-0.44</td><td>-0.82</td></tr>\n",
       "\t<tr><th scope=row>ExOs</th><td>-2.47</td><td>-0.04</td></tr>\n",
       "\t<tr><th scope=row>O40M</th><td> 0.98</td><td> 1.01</td></tr>\n",
       "\t<tr><th scope=row>O40C</th><td> 0.15</td><td> 1.31</td></tr>\n",
       "\t<tr><th scope=row>O20M</th><td>-1.04</td><td> 0.65</td></tr>\n",
       "\t<tr><th scope=row>O20C</th><td>-1.29</td><td> 0.67</td></tr>\n",
       "</tbody>\n",
       "</table>\n"
      ],
      "text/latex": [
       "\\begin{tabular}{r|ll}\n",
       "  & Axis1 & Axis2\\\\\n",
       "\\hline\n",
       "\tExCl & -0.89 & -1.68\\\\\n",
       "\tC40M &  2.68 & -0.22\\\\\n",
       "\tC40C &  1.18 &  0.15\\\\\n",
       "\tC20M &  1.14 & -1.02\\\\\n",
       "\tC20C & -0.44 & -0.82\\\\\n",
       "\tExOs & -2.47 & -0.04\\\\\n",
       "\tO40M &  0.98 &  1.01\\\\\n",
       "\tO40C &  0.15 &  1.31\\\\\n",
       "\tO20M & -1.04 &  0.65\\\\\n",
       "\tO20C & -1.29 &  0.67\\\\\n",
       "\\end{tabular}\n"
      ],
      "text/markdown": [
       "\n",
       "| <!--/--> | Axis1 | Axis2 |\n",
       "|---|---|---|\n",
       "| ExCl | -0.89 | -1.68 |\n",
       "| C40M |  2.68 | -0.22 |\n",
       "| C40C |  1.18 |  0.15 |\n",
       "| C20M |  1.14 | -1.02 |\n",
       "| C20C | -0.44 | -0.82 |\n",
       "| ExOs | -2.47 | -0.04 |\n",
       "| O40M |  0.98 |  1.01 |\n",
       "| O40C |  0.15 |  1.31 |\n",
       "| O20M | -1.04 |  0.65 |\n",
       "| O20C | -1.29 |  0.67 |\n",
       "\n"
      ],
      "text/plain": [
       "     Axis1 Axis2\n",
       "ExCl -0.89 -1.68\n",
       "C40M  2.68 -0.22\n",
       "C40C  1.18  0.15\n",
       "C20M  1.14 -1.02\n",
       "C20C -0.44 -0.82\n",
       "ExOs -2.47 -0.04\n",
       "O40M  0.98  1.01\n",
       "O40C  0.15  1.31\n",
       "O20M -1.04  0.65\n",
       "O20C -1.29  0.67"
      ]
     },
     "metadata": {},
     "output_type": "display_data"
    }
   ],
   "source": [
    "round (acp$li ,2)              # coordenadas de los cafes"
   ]
  },
  {
   "cell_type": "code",
   "execution_count": 67,
   "metadata": {},
   "outputs": [
    {
     "data": {
      "text/plain": [
       "Inertia information:\n",
       "Call: inertia.dudi(x = acp, row.inertia = TRUE)\n",
       "\n",
       "Decomposition of total inertia:\n",
       "    inertia     cum  cum(%)\n",
       "Ax1  2.0670   2.067   68.90\n",
       "Ax2  0.8216   2.889   96.29\n",
       "Ax3  0.1113   3.000  100.00\n",
       "\n",
       "Row contributions (%):\n",
       "   ExCl    C40M    C40C    C20M    C20C    ExOs    O40M    O40C    O20M    O20C \n",
       " 12.025  24.363   5.106   8.247   4.965  20.794   6.589   5.825   5.035   7.051 \n",
       "\n",
       "Row absolute contributions (%):\n",
       "       Axis1    Axis2\n",
       "ExCl  3.8050 34.19476\n",
       "C40M 34.7227  0.60012\n",
       "C40C  6.7777  0.25918\n",
       "C20M  6.3136 12.76906\n",
       "C20C  0.9510  8.23410\n",
       "ExOs 29.4872  0.01798\n",
       "O40M  4.5990 12.44216\n",
       "O40C  0.1027 20.98013\n",
       "O20M  5.2368  5.07039\n",
       "O20C  8.0044  5.43211\n",
       "\n",
       "Signed row relative contributions:\n",
       "       Axis1     Axis2\n",
       "ExCl -21.803 -77.88530\n",
       "C40M  98.199  -0.67464\n",
       "C40C  91.455   1.39017\n",
       "C20M  52.749 -42.40673\n",
       "C20C -13.197 -45.42087\n",
       "ExOs -97.704  -0.02368\n",
       "O40M  48.090  51.71557\n",
       "O40C   1.214  98.64686\n",
       "O20M -71.665  27.58164\n",
       "O20C -78.219  21.10044\n",
       "\n",
       "Cumulative sum of row relative contributions (%):\n",
       "       Axis1 Axis1:2 Axis3:3\n",
       "ExCl  21.803   99.69  0.3122\n",
       "C40M  98.199   98.87  1.1262\n",
       "C40C  91.455   92.84  7.1552\n",
       "C20M  52.749   95.16  4.8442\n",
       "C20C  13.197   58.62 41.3821\n",
       "ExOs  97.704   97.73  2.2724\n",
       "O40M  48.090   99.81  0.1949\n",
       "O40C   1.214   99.86  0.1387\n",
       "O20M  71.665   99.25  0.7532\n",
       "O20C  78.219   99.32  0.6803"
      ]
     },
     "metadata": {},
     "output_type": "display_data"
    }
   ],
   "source": [
    "inertia (acp , TRUE )          # Resume todo"
   ]
  },
  {
   "cell_type": "code",
   "execution_count": 68,
   "metadata": {},
   "outputs": [
    {
     "data": {
      "image/png": "[encoded data removed]",
      "text/plain": [
       "plot without title"
      ]
     },
     "metadata": {},
     "output_type": "display_data"
    }
   ],
   "source": [
    "suprow(acp , cafe [11:12 ,1:3]) $ lisup -> lcom\n",
    "\n",
    "plot(acp , Tcol = FALSE )      #Gráfico interesante\n",
    "points(lcom ,col =\" darkgreen \")#Colocando nuevas variables (exogenas)\n",
    "text(lcom , rownames ( lcom ),col=\" darkgreen \",pos =2)\n",
    "\n",
    "# proyeccion variables conta ( contaminacion ) como ilustrativa\n",
    "conta <- factor(c(\" exce \",\" maiz \",\" ceba \",\" maiz \",\" ceba \",\" exce \",\" maiz \",\" ceba \",\"\n",
    "maiz \",\" ceba \"))\n",
    "supqual(acp , conta ) -> supconta\n",
    "points( supconta $coor , col=\" red\",pch =20)\n",
    "text( supconta $coor , rownames ( supconta $ coor ),col=\" red\",pos =2)"
   ]
  },
  {
   "cell_type": "code",
   "execution_count": 69,
   "metadata": {},
   "outputs": [
    {
     "data": {
      "text/html": [
       "<table>\n",
       "<thead><tr><th></th><th scope=col>Axis1</th><th scope=col>Axis2</th></tr></thead>\n",
       "<tbody>\n",
       "\t<tr><th scope=row> ceba </th><td>-0.17</td><td> 0.88</td></tr>\n",
       "\t<tr><th scope=row> exce </th><td>-1.75</td><td>-1.42</td></tr>\n",
       "\t<tr><th scope=row> maiz </th><td> 2.18</td><td>-0.17</td></tr>\n",
       "\t<tr><th scope=row>\n",
       "maiz </th><td>-0.72</td><td> 0.71</td></tr>\n",
       "</tbody>\n",
       "</table>\n"
      ],
      "text/latex": [
       "\\begin{tabular}{r|ll}\n",
       "  & Axis1 & Axis2\\\\\n",
       "\\hline\n",
       "\t ceba  & -0.17 &  0.88\\\\\n",
       "\t exce  & -1.75 & -1.42\\\\\n",
       "\t maiz  &  2.18 & -0.17\\\\\n",
       "\t\n",
       "maiz  & -0.72 &  0.71\\\\\n",
       "\\end{tabular}\n"
      ],
      "text/markdown": [
       "\n",
       "| <!--/--> | Axis1 | Axis2 |\n",
       "|---|---|---|\n",
       "|  ceba  | -0.17 |  0.88 |\n",
       "|  exce  | -1.75 | -1.42 |\n",
       "|  maiz  |  2.18 | -0.17 |\n",
       "| \n",
       "maiz  | -0.72 |  0.71 |\n",
       "\n"
      ],
      "text/plain": [
       "        Axis1 Axis2\n",
       " ceba   -0.17  0.88\n",
       " exce   -1.75 -1.42\n",
       " maiz    2.18 -0.17\n",
       "\\nmaiz  -0.72  0.71"
      ]
     },
     "metadata": {},
     "output_type": "display_data"
    }
   ],
   "source": [
    "# valores test de categorias de conta como ilustrativa\n",
    "round( supconta$tv ,2)"
   ]
  },
  {
   "cell_type": "code",
   "execution_count": 70,
   "metadata": {},
   "outputs": [
    {
     "data": {
      "image/png": "[encoded data removed]",
      "text/plain": [
       "plot without title"
      ]
     },
     "metadata": {},
     "output_type": "display_data"
    }
   ],
   "source": [
    "plot (acp , Tcol = FALSE )\n",
    "s.class(acp$li ,conta ,col=c(\" orange \",\" darkgreen \",\"red\"),add.plot = TRUE ,\n",
    "          cellipse = 0, clabel =0.5)"
   ]
  },
  {
   "cell_type": "code",
   "execution_count": null,
   "metadata": {},
   "outputs": [],
   "source": []
  }
 ],
 "metadata": {
  "kernelspec": {
   "display_name": "R",
   "language": "R",
   "name": "ir"
  },
  "language_info": {
   "codemirror_mode": "r",
   "file_extension": ".r",
   "mimetype": "text/x-r-source",
   "name": "R",
   "pygments_lexer": "r",
   "version": "3.6.1"
  }
 },
 "nbformat": 4,
 "nbformat_minor": 2
}
