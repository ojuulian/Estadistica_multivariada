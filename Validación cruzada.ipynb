{
 "cells": [
  {
   "cell_type": "markdown",
   "metadata": {},
   "source": [
    "# VALIDACIÓN CRUZADA DE (GLM Y KNN)  - BOOTSTRAP\n",
    "### Oscar Julian Layton G\n",
    "\n",
    "El término de validación cruzada incluye una clase de métodos que estiman el **test error rate** (no conocemos el verdadero test error) excluyendo una parte de las observaciones en el proceso de ajuste del modelo, usando luego dichas observaciones para evaluar la capacidad predictiva del modelo (en el cual caso es de interés el valor específico del test error rate) o seleccionar un nivel de flexibilidad del mismo (en el cual caso interesa más determinar a qué nivel de flexibilidad se encuentra el mínimo en la curva de estimación del test error rate).\n",
    "\n",
    "     La diferencia principal entre un método u otro es la forma en la que se generan los grupos de entrenamiento y test.\n",
    "     \n",
    "El método de validación simple se basa en dividir de manera aleatoria (y tamaño comparable) el set de observaciones disponible en dos partes, el set de entrenamiento o training set y el set de validación o test set. El modelo es ajustado usando el set de entrenamiento, y este mismo modelo se usa para predecir las nuevas observaciones del test set, obteniendo así la estimación del test error rate (Mean Squared Error o MSE para variables respuesta cuantitativas, y proporción de predicciones incorrectas sobre las predicciones totales en el caso de variables respuesta cualitativas).\n",
    "\n",
    "Procedase el siguiente ejemplo:"
   ]
  },
  {
   "cell_type": "code",
   "execution_count": 174,
   "metadata": {},
   "outputs": [
    {
     "data": {
      "text/html": [
       "'C:/Users/YULY/Desktop/Desktop/markdpwn CLASIFICACION/Validadción cruzada'"
      ],
      "text/latex": [
       "'C:/Users/YULY/Desktop/Desktop/markdpwn CLASIFICACION/Validadción cruzada'"
      ],
      "text/markdown": [
       "'C:/Users/YULY/Desktop/Desktop/markdpwn CLASIFICACION/Validadción cruzada'"
      ],
      "text/plain": [
       "[1] \"C:/Users/YULY/Desktop/Desktop/markdpwn CLASIFICACION/Validadción cruzada\""
      ]
     },
     "metadata": {},
     "output_type": "display_data"
    }
   ],
   "source": [
    "getwd()\n",
    "setwd(\"C:\\\\Users\\\\YULY\\\\Desktop\\\\Desktop\\\\markdpwn CLASIFICACION\\\\Validadción cruzada\")#asignando capeta busqueda\n",
    "library(readxl)\n",
    "dataset <- read.csv(\"pulsar_stars.csv\")  "
   ]
  },
  {
   "cell_type": "code",
   "execution_count": 175,
   "metadata": {},
   "outputs": [
    {
     "data": {
      "text/html": [
       "<table>\n",
       "<thead><tr><th scope=col>Mean.of.the.integrated.profile</th><th scope=col>Standard.deviation.of.the.integrated.profile</th><th scope=col>Excess.kurtosis.of.the.integrated.profile</th><th scope=col>Skewness.of.the.integrated.profile</th><th scope=col>Mean.of.the.DM.SNR.curve</th><th scope=col>Standard.deviation.of.the.DM.SNR.curve</th><th scope=col>Excess.kurtosis.of.the.DM.SNR.curve</th><th scope=col>Skewness.of.the.DM.SNR.curve</th><th scope=col>target_class</th></tr></thead>\n",
       "<tbody>\n",
       "\t<tr><td>140.56250  </td><td>55.68378   </td><td>-0.23457141</td><td>-0.6996484 </td><td>3.199833   </td><td>19.11043   </td><td> 7.975532  </td><td> 74.24222  </td><td>0          </td></tr>\n",
       "\t<tr><td>102.50781  </td><td>58.88243   </td><td> 0.46531815</td><td>-0.5150879 </td><td>1.677258   </td><td>14.86015   </td><td>10.576487  </td><td>127.39358  </td><td>0          </td></tr>\n",
       "\t<tr><td>103.01562  </td><td>39.34165   </td><td> 0.32332837</td><td> 1.0511644 </td><td>3.121237   </td><td>21.74467   </td><td> 7.735822  </td><td> 63.17191  </td><td>0          </td></tr>\n",
       "\t<tr><td>136.75000  </td><td>57.17845   </td><td>-0.06841464</td><td>-0.6362384 </td><td>3.642977   </td><td>20.95928   </td><td> 6.896499  </td><td> 53.59366  </td><td>0          </td></tr>\n",
       "\t<tr><td> 88.72656  </td><td>40.67223   </td><td> 0.60086608</td><td> 1.1234917 </td><td>1.178930   </td><td>11.46872   </td><td>14.269573  </td><td>252.56731  </td><td>0          </td></tr>\n",
       "\t<tr><td> 93.57031  </td><td>46.69811   </td><td> 0.53190485</td><td> 0.4167211 </td><td>1.636288   </td><td>14.54507   </td><td>10.621748  </td><td>131.39400  </td><td>0          </td></tr>\n",
       "</tbody>\n",
       "</table>\n"
      ],
      "text/latex": [
       "\\begin{tabular}{r|lllllllll}\n",
       " Mean.of.the.integrated.profile & Standard.deviation.of.the.integrated.profile & Excess.kurtosis.of.the.integrated.profile & Skewness.of.the.integrated.profile & Mean.of.the.DM.SNR.curve & Standard.deviation.of.the.DM.SNR.curve & Excess.kurtosis.of.the.DM.SNR.curve & Skewness.of.the.DM.SNR.curve & target\\_class\\\\\n",
       "\\hline\n",
       "\t 140.56250   & 55.68378    & -0.23457141 & -0.6996484  & 3.199833    & 19.11043    &  7.975532   &  74.24222   & 0          \\\\\n",
       "\t 102.50781   & 58.88243    &  0.46531815 & -0.5150879  & 1.677258    & 14.86015    & 10.576487   & 127.39358   & 0          \\\\\n",
       "\t 103.01562   & 39.34165    &  0.32332837 &  1.0511644  & 3.121237    & 21.74467    &  7.735822   &  63.17191   & 0          \\\\\n",
       "\t 136.75000   & 57.17845    & -0.06841464 & -0.6362384  & 3.642977    & 20.95928    &  6.896499   &  53.59366   & 0          \\\\\n",
       "\t  88.72656   & 40.67223    &  0.60086608 &  1.1234917  & 1.178930    & 11.46872    & 14.269573   & 252.56731   & 0          \\\\\n",
       "\t  93.57031   & 46.69811    &  0.53190485 &  0.4167211  & 1.636288    & 14.54507    & 10.621748   & 131.39400   & 0          \\\\\n",
       "\\end{tabular}\n"
      ],
      "text/markdown": [
       "\n",
       "| Mean.of.the.integrated.profile | Standard.deviation.of.the.integrated.profile | Excess.kurtosis.of.the.integrated.profile | Skewness.of.the.integrated.profile | Mean.of.the.DM.SNR.curve | Standard.deviation.of.the.DM.SNR.curve | Excess.kurtosis.of.the.DM.SNR.curve | Skewness.of.the.DM.SNR.curve | target_class |\n",
       "|---|---|---|---|---|---|---|---|---|\n",
       "| 140.56250   | 55.68378    | -0.23457141 | -0.6996484  | 3.199833    | 19.11043    |  7.975532   |  74.24222   | 0           |\n",
       "| 102.50781   | 58.88243    |  0.46531815 | -0.5150879  | 1.677258    | 14.86015    | 10.576487   | 127.39358   | 0           |\n",
       "| 103.01562   | 39.34165    |  0.32332837 |  1.0511644  | 3.121237    | 21.74467    |  7.735822   |  63.17191   | 0           |\n",
       "| 136.75000   | 57.17845    | -0.06841464 | -0.6362384  | 3.642977    | 20.95928    |  6.896499   |  53.59366   | 0           |\n",
       "|  88.72656   | 40.67223    |  0.60086608 |  1.1234917  | 1.178930    | 11.46872    | 14.269573   | 252.56731   | 0           |\n",
       "|  93.57031   | 46.69811    |  0.53190485 |  0.4167211  | 1.636288    | 14.54507    | 10.621748   | 131.39400   | 0           |\n",
       "\n"
      ],
      "text/plain": [
       "  Mean.of.the.integrated.profile Standard.deviation.of.the.integrated.profile\n",
       "1 140.56250                      55.68378                                    \n",
       "2 102.50781                      58.88243                                    \n",
       "3 103.01562                      39.34165                                    \n",
       "4 136.75000                      57.17845                                    \n",
       "5  88.72656                      40.67223                                    \n",
       "6  93.57031                      46.69811                                    \n",
       "  Excess.kurtosis.of.the.integrated.profile Skewness.of.the.integrated.profile\n",
       "1 -0.23457141                               -0.6996484                        \n",
       "2  0.46531815                               -0.5150879                        \n",
       "3  0.32332837                                1.0511644                        \n",
       "4 -0.06841464                               -0.6362384                        \n",
       "5  0.60086608                                1.1234917                        \n",
       "6  0.53190485                                0.4167211                        \n",
       "  Mean.of.the.DM.SNR.curve Standard.deviation.of.the.DM.SNR.curve\n",
       "1 3.199833                 19.11043                              \n",
       "2 1.677258                 14.86015                              \n",
       "3 3.121237                 21.74467                              \n",
       "4 3.642977                 20.95928                              \n",
       "5 1.178930                 11.46872                              \n",
       "6 1.636288                 14.54507                              \n",
       "  Excess.kurtosis.of.the.DM.SNR.curve Skewness.of.the.DM.SNR.curve target_class\n",
       "1  7.975532                            74.24222                    0           \n",
       "2 10.576487                           127.39358                    0           \n",
       "3  7.735822                            63.17191                    0           \n",
       "4  6.896499                            53.59366                    0           \n",
       "5 14.269573                           252.56731                    0           \n",
       "6 10.621748                           131.39400                    0           "
      ]
     },
     "metadata": {},
     "output_type": "display_data"
    }
   ],
   "source": [
    "head(dataset)"
   ]
  },
  {
   "cell_type": "markdown",
   "metadata": {},
   "source": [
    "Como podemos observar, el conjunto de datos tiene 17898 observaciones y 9 variables en cada una. Específicamente, este dataset contiene información estadística de estrellas pulsares obtenidos por el trabajo High Time Resolution Universe Survey, y cuyas variables son:\n",
    "\n",
    "* Media del perfil integrado\n",
    "* Desviaciación estándar del perfil integrado\n",
    "* Exceso de curtosis del perfil integrado\n",
    "* Asimetría del perfil integrado\n",
    "* Media de la curva DM-SNR\n",
    "* Desviación estánndar de la curva DM-SNR\n",
    "* Exceso de curtosis de la curva DM-SNR\n",
    "* Asimetría de la curva DM-SNR\n",
    "* Clase de la estrella\n",
    "* En este caso, la clase especifica con 1 si se trata de una estrella pulsar, y con 0 si no lo es.\n",
    "\n",
    "Nuestro objetivo en esta práctica será hacer uso de todas estas variables para construir modelos de clasificación capaces de predecir si una estrella es Pulsar o NoPulsar. En este caso se usará la regresión logística y se validará mediante **VALIDACIÓN CRUZADA.**\n",
    "\n",
    "Considerando que la variable de respuesta **target_class** es categórica con niveles (Pulsar y NoPulsar) , se procede a caracterizarla mediante una variable dummie, también le cambiaremos el nombre por tipo de estrella."
   ]
  },
  {
   "cell_type": "code",
   "execution_count": 176,
   "metadata": {},
   "outputs": [
    {
     "data": {
      "text/plain": [
       " Mean.of.the.integrated.profile Standard.deviation.of.the.integrated.profile\n",
       " Min.   :  5.812                Min.   :24.77                               \n",
       " 1st Qu.:100.930                1st Qu.:42.38                               \n",
       " Median :115.078                Median :46.95                               \n",
       " Mean   :111.080                Mean   :46.55                               \n",
       " 3rd Qu.:127.086                3rd Qu.:51.02                               \n",
       " Max.   :192.617                Max.   :98.78                               \n",
       " Excess.kurtosis.of.the.integrated.profile Skewness.of.the.integrated.profile\n",
       " Min.   :-1.8760                           Min.   :-1.7919                   \n",
       " 1st Qu.: 0.0271                           1st Qu.:-0.1886                   \n",
       " Median : 0.2232                           Median : 0.1987                   \n",
       " Mean   : 0.4779                           Mean   : 1.7703                   \n",
       " 3rd Qu.: 0.4733                           3rd Qu.: 0.9278                   \n",
       " Max.   : 8.0695                           Max.   :68.1016                   \n",
       " Mean.of.the.DM.SNR.curve Standard.deviation.of.the.DM.SNR.curve\n",
       " Min.   :  0.2132         Min.   :  7.37                        \n",
       " 1st Qu.:  1.9231         1st Qu.: 14.44                        \n",
       " Median :  2.8018         Median : 18.46                        \n",
       " Mean   : 12.6144         Mean   : 26.33                        \n",
       " 3rd Qu.:  5.4643         3rd Qu.: 28.43                        \n",
       " Max.   :223.3921         Max.   :110.64                        \n",
       " Excess.kurtosis.of.the.DM.SNR.curve Skewness.of.the.DM.SNR.curve\n",
       " Min.   :-3.139                      Min.   :  -1.977            \n",
       " 1st Qu.: 5.782                      1st Qu.:  34.961            \n",
       " Median : 8.434                      Median :  83.065            \n",
       " Mean   : 8.304                      Mean   : 104.858            \n",
       " 3rd Qu.:10.703                      3rd Qu.: 139.309            \n",
       " Max.   :34.540                      Max.   :1191.001            \n",
       "   TipoEstrella  \n",
       " NoPulsar:16259  \n",
       " Pulsar  : 1639  \n",
       "                 \n",
       "                 \n",
       "                 \n",
       "                 "
      ]
     },
     "metadata": {},
     "output_type": "display_data"
    }
   ],
   "source": [
    "colnames(dataset)[9] <- \"TipoEstrella\"\n",
    "dataset$TipoEstrella <- factor(dataset$TipoEstrella, levels = c(\"0\", \"1\"), labels = c(\"NoPulsar\", \"Pulsar\"))\n",
    "summary(dataset)"
   ]
  },
  {
   "cell_type": "markdown",
   "metadata": {},
   "source": [
    "Por otro lado, se observa también que existe cierta variabilidad y diferencias de escala entre los valores mínimos y máximos de los registros medidos, por lo que es conveniente, antes de aplicar los modelos de regresión, el rescalar las variables numéricas a fin de que ninguna tenga mayor influencia sobre otra como predictor al momento de construir los modelos de clasificación. Entonces, usemos la función scale:"
   ]
  },
  {
   "cell_type": "code",
   "execution_count": 177,
   "metadata": {},
   "outputs": [
    {
     "data": {
      "text/plain": [
       " Mean.of.the.integrated.profile Standard.deviation.of.the.integrated.profile\n",
       " Min.   :-4.1035                Min.   :-3.18236                            \n",
       " 1st Qu.:-0.3957                1st Qu.:-0.60988                            \n",
       " Median : 0.1559                Median : 0.05815                            \n",
       " Mean   : 0.0000                Mean   : 0.00000                            \n",
       " 3rd Qu.: 0.6239                3rd Qu.: 0.65374                            \n",
       " Max.   : 3.1785                Max.   : 7.63232                            \n",
       " Excess.kurtosis.of.the.integrated.profile Skewness.of.the.integrated.profile\n",
       " Min.   :-2.212200                         Min.   :-0.5775                   \n",
       " 1st Qu.:-0.423630                         1st Qu.:-0.3176                   \n",
       " Median :-0.239293                         Median :-0.2548                   \n",
       " Mean   : 0.000000                         Mean   : 0.0000                   \n",
       " 3rd Qu.:-0.004259                         3rd Qu.:-0.1366                   \n",
       " Max.   : 7.134757                         Max.   :10.7543                   \n",
       " Mean.of.the.DM.SNR.curve Standard.deviation.of.the.DM.SNR.curve\n",
       " Min.   :-0.4208          Min.   :-0.9736                       \n",
       " 1st Qu.:-0.3628          1st Qu.:-0.6106                       \n",
       " Median :-0.3329          Median :-0.4040                       \n",
       " Mean   : 0.0000          Mean   : 0.0000                       \n",
       " 3rd Qu.:-0.2426          3rd Qu.: 0.1079                       \n",
       " Max.   : 7.1516          Max.   : 4.3304                       \n",
       " Excess.kurtosis.of.the.DM.SNR.curve Skewness.of.the.DM.SNR.curve\n",
       " Min.   :-2.53941                    Min.   :-1.0030             \n",
       " 1st Qu.:-0.55970                    1st Qu.:-0.6562             \n",
       " Median : 0.02884                    Median :-0.2046             \n",
       " Mean   : 0.00000                    Mean   : 0.0000             \n",
       " 3rd Qu.: 0.53248                    3rd Qu.: 0.3234             \n",
       " Max.   : 5.82240                    Max.   :10.1971             \n",
       "   TipoEstrella  \n",
       " NoPulsar:16259  \n",
       " Pulsar  : 1639  \n",
       "                 \n",
       "                 \n",
       "                 \n",
       "                 "
      ]
     },
     "metadata": {},
     "output_type": "display_data"
    }
   ],
   "source": [
    "dataset[, c(1:8)] <- scale(dataset[, c(1:8)])\n",
    "summary(dataset)"
   ]
  },
  {
   "cell_type": "markdown",
   "metadata": {},
   "source": [
    "### Creando conjunto de entrenamiento y validación\n",
    "\n",
    "Por último, vamos a crear un conjunto de entrenamiento (75%) y un conjunto de validación (25%) a partir de nuestro dataset original, esto con la intención de validar la calidad de la clasificación de los modelos que implementemos. Para esto, hagamos uso de la función sample.split del paquete caTools:"
   ]
  },
  {
   "cell_type": "code",
   "execution_count": 178,
   "metadata": {},
   "outputs": [],
   "source": [
    "library(caTools)            #instalado desde el repositorio \"https://cloud.r-project.org\"\n",
    "set.seed(1234)\n",
    "split <- sample.split(dataset$TipoEstrella, SplitRatio = 0.75)\n",
    "training_set <- subset(dataset, split == TRUE)\n",
    "test_set <- subset(dataset, split == FALSE)"
   ]
  },
  {
   "cell_type": "markdown",
   "metadata": {},
   "source": [
    "A fin de asegurarnos de que la proporción de estrellas pulsares y no pulsares es aproximadamente la misma en ambos conjuntos de datos, veamos la distribución de los tipos de estrella en cada uno:"
   ]
  },
  {
   "cell_type": "code",
   "execution_count": 179,
   "metadata": {},
   "outputs": [
    {
     "data": {
      "text/plain": [
       "\n",
       "NoPulsar   Pulsar \n",
       "   12194     1229 "
      ]
     },
     "metadata": {},
     "output_type": "display_data"
    }
   ],
   "source": [
    "table(training_set$TipoEstrella)"
   ]
  },
  {
   "cell_type": "code",
   "execution_count": 180,
   "metadata": {},
   "outputs": [
    {
     "data": {
      "text/plain": [
       "\n",
       "NoPulsar   Pulsar \n",
       "    4065      410 "
      ]
     },
     "metadata": {},
     "output_type": "display_data"
    }
   ],
   "source": [
    "table(test_set$TipoEstrella)"
   ]
  },
  {
   "cell_type": "markdown",
   "metadata": {},
   "source": [
    "En efecto, vemos que para ambos conjuntos, la relación NoPulsar/Pulsar es alrededor de 9.9, de modo que la proporción se mantiene. Ya que nuestro conjunto de datos está listo y preparado, podemos comenzar a construir nuestros modelos de clasificación."
   ]
  },
  {
   "cell_type": "markdown",
   "metadata": {},
   "source": [
    "### Clasificación mediante regresión"
   ]
  },
  {
   "cell_type": "code",
   "execution_count": 181,
   "metadata": {},
   "outputs": [],
   "source": [
    "clasificadorRL <- glm(TipoEstrella ~ ., family = binomial, data = training_set)"
   ]
  },
  {
   "cell_type": "code",
   "execution_count": 182,
   "metadata": {},
   "outputs": [
    {
     "data": {
      "text/html": [
       "<dl class=dl-horizontal>\n",
       "\t<dt>1</dt>\n",
       "\t\t<dd>NoPulsar</dd>\n",
       "\t<dt>2</dt>\n",
       "\t\t<dd>NoPulsar</dd>\n",
       "\t<dt>3</dt>\n",
       "\t\t<dd>NoPulsar</dd>\n",
       "\t<dt>4</dt>\n",
       "\t\t<dd>NoPulsar</dd>\n",
       "\t<dt>6</dt>\n",
       "\t\t<dd>NoPulsar</dd>\n",
       "\t<dt>7</dt>\n",
       "\t\t<dd>NoPulsar</dd>\n",
       "\t<dt>8</dt>\n",
       "\t\t<dd>NoPulsar</dd>\n",
       "\t<dt>9</dt>\n",
       "\t\t<dd>NoPulsar</dd>\n",
       "\t<dt>10</dt>\n",
       "\t\t<dd>NoPulsar</dd>\n",
       "\t<dt>11</dt>\n",
       "\t\t<dd>NoPulsar</dd>\n",
       "\t<dt>12</dt>\n",
       "\t\t<dd>NoPulsar</dd>\n",
       "\t<dt>13</dt>\n",
       "\t\t<dd>NoPulsar</dd>\n",
       "\t<dt>15</dt>\n",
       "\t\t<dd>NoPulsar</dd>\n",
       "\t<dt>17</dt>\n",
       "\t\t<dd>NoPulsar</dd>\n",
       "\t<dt>18</dt>\n",
       "\t\t<dd>NoPulsar</dd>\n",
       "\t<dt>19</dt>\n",
       "\t\t<dd>NoPulsar</dd>\n",
       "\t<dt>20</dt>\n",
       "\t\t<dd>Pulsar</dd>\n",
       "\t<dt>21</dt>\n",
       "\t\t<dd>NoPulsar</dd>\n",
       "\t<dt>22</dt>\n",
       "\t\t<dd>NoPulsar</dd>\n",
       "\t<dt>23</dt>\n",
       "\t\t<dd>NoPulsar</dd>\n",
       "</dl>\n",
       "\n",
       "<details>\n",
       "\t<summary style=display:list-item;cursor:pointer>\n",
       "\t\t<strong>Levels</strong>:\n",
       "\t</summary>\n",
       "\t<ol class=list-inline>\n",
       "\t\t<li>'NoPulsar'</li>\n",
       "\t\t<li>'Pulsar'</li>\n",
       "\t</ol>\n",
       "</details>"
      ],
      "text/latex": [
       "\\begin{description*}\n",
       "\\item[1] NoPulsar\n",
       "\\item[2] NoPulsar\n",
       "\\item[3] NoPulsar\n",
       "\\item[4] NoPulsar\n",
       "\\item[6] NoPulsar\n",
       "\\item[7] NoPulsar\n",
       "\\item[8] NoPulsar\n",
       "\\item[9] NoPulsar\n",
       "\\item[10] NoPulsar\n",
       "\\item[11] NoPulsar\n",
       "\\item[12] NoPulsar\n",
       "\\item[13] NoPulsar\n",
       "\\item[15] NoPulsar\n",
       "\\item[17] NoPulsar\n",
       "\\item[18] NoPulsar\n",
       "\\item[19] NoPulsar\n",
       "\\item[20] Pulsar\n",
       "\\item[21] NoPulsar\n",
       "\\item[22] NoPulsar\n",
       "\\item[23] NoPulsar\n",
       "\\end{description*}\n",
       "\n",
       "\\emph{Levels}: \\begin{enumerate*}\n",
       "\\item 'NoPulsar'\n",
       "\\item 'Pulsar'\n",
       "\\end{enumerate*}\n"
      ],
      "text/markdown": [
       "1\n",
       ":   NoPulsar2\n",
       ":   NoPulsar3\n",
       ":   NoPulsar4\n",
       ":   NoPulsar6\n",
       ":   NoPulsar7\n",
       ":   NoPulsar8\n",
       ":   NoPulsar9\n",
       ":   NoPulsar10\n",
       ":   NoPulsar11\n",
       ":   NoPulsar12\n",
       ":   NoPulsar13\n",
       ":   NoPulsar15\n",
       ":   NoPulsar17\n",
       ":   NoPulsar18\n",
       ":   NoPulsar19\n",
       ":   NoPulsar20\n",
       ":   Pulsar21\n",
       ":   NoPulsar22\n",
       ":   NoPulsar23\n",
       ":   NoPulsar\n",
       "\n",
       "\n",
       "**Levels**: 1. 'NoPulsar'\n",
       "2. 'Pulsar'\n",
       "\n",
       "\n"
      ],
      "text/plain": [
       "       1        2        3        4        6        7        8        9 \n",
       "NoPulsar NoPulsar NoPulsar NoPulsar NoPulsar NoPulsar NoPulsar NoPulsar \n",
       "      10       11       12       13       15       17       18       19 \n",
       "NoPulsar NoPulsar NoPulsar NoPulsar NoPulsar NoPulsar NoPulsar NoPulsar \n",
       "      20       21       22       23 \n",
       "  Pulsar NoPulsar NoPulsar NoPulsar \n",
       "Levels: NoPulsar Pulsar"
      ]
     },
     "metadata": {},
     "output_type": "display_data"
    }
   ],
   "source": [
    "pred_train <- predict(clasificadorRL, type = 'response', ndata = training_set)\n",
    "pred_train <- ifelse(pred_train > 0.5, 1, 0)                                    #establece 0 o 1 a los valores de pred_train\n",
    "pred_train <- factor(pred_train, levels = c(\"0\", \"1\"), labels = c(\"NoPulsar\", \"Pulsar\"))  #establece \"NoPulsar\", \"Pulsar\" a 1,0\n",
    "head(pred_train,n=20)"
   ]
  },
  {
   "cell_type": "markdown",
   "metadata": {},
   "source": [
    "Ahora, podemos construir la matriz de confusión para evaluar la calidad de la predicción:"
   ]
  },
  {
   "cell_type": "code",
   "execution_count": 183,
   "metadata": {},
   "outputs": [
    {
     "data": {
      "text/plain": [
       "          pred_train\n",
       "           NoPulsar Pulsar\n",
       "  NoPulsar    12127     67\n",
       "  Pulsar        206   1023"
      ]
     },
     "metadata": {},
     "output_type": "display_data"
    }
   ],
   "source": [
    "matrizConfusion <- table(training_set$TipoEstrella, pred_train)\n",
    "matrizConfusion"
   ]
  },
  {
   "cell_type": "markdown",
   "metadata": {},
   "source": [
    "Para el caso del conjunto de entrenamiento, tendremos un total de **13150 predicciones correctas**, mientras que habrá un total de **273 predicciones incorrectas**. Esto nos da una precisión de predicción de 0.979 y un error de predicción de 0.02.\n",
    "\n",
    "Ahora bien, al aplicar el clasificador al conjunto de validación:"
   ]
  },
  {
   "cell_type": "code",
   "execution_count": 229,
   "metadata": {},
   "outputs": [
    {
     "data": {
      "text/plain": [
       "          pred_valid\n",
       "           NoPulsar Pulsar\n",
       "  NoPulsar     4047     18\n",
       "  Pulsar         80    330"
      ]
     },
     "metadata": {},
     "output_type": "display_data"
    }
   ],
   "source": [
    "pred_valid <- predict(clasificadorRL, type = 'response', newdata = test_set)\n",
    "pred_valid <- ifelse(pred_valid > 0.5, 1, 0)\n",
    "pred_valid <- factor(pred_valid, levels = c(\"0\", \"1\"), labels = c(\"NoPulsar\", \"Pulsar\"))\n",
    "matrizConfusion <- table(test_set$TipoEstrella, pred_valid)\n",
    "matrizConfusion"
   ]
  },
  {
   "cell_type": "markdown",
   "metadata": {},
   "source": [
    "Tenemos 4047 +330 = 4377 predicciones correctas, y 80 + 18 = 98 incorrectas, lo que representa una **precisión de predicción de 97.8%** y un **error de predicción del 2.18%**."
   ]
  },
  {
   "cell_type": "code",
   "execution_count": 230,
   "metadata": {},
   "outputs": [
    {
     "data": {
      "text/html": [
       "0.0218994413407821"
      ],
      "text/latex": [
       "0.0218994413407821"
      ],
      "text/markdown": [
       "0.0218994413407821"
      ],
      "text/plain": [
       "[1] 0.02189944"
      ]
     },
     "metadata": {},
     "output_type": "display_data"
    }
   ],
   "source": [
    "# Test error rate\n",
    "mean(pred_valid != test_set$TipoEstrella)"
   ]
  },
  {
   "cell_type": "markdown",
   "metadata": {},
   "source": [
    "La estimación del **test error rate** del modelo mediante validación simple es del 2,18%, por lo que el modelo acierta con sus predicciones en un 1 – 0,0218 = 97,82% de los casos.\n",
    "\n",
    "Sin embargo, como se ha comentado en la explicación inicial, la estimación del test error rate mediante validación simple es propenso a sufrir alta variabilidad (depende de cómo se hayan distribuido las observaciones en los grupos de entrenamiento y test). A continuación, se muestra el mismo proceso llevado a cabo anteriormente, repitiéndolo 100 veces (en cada iteración los datos se van a repartir de manera distinta en entrenamiento y test)."
   ]
  },
  {
   "cell_type": "code",
   "execution_count": 242,
   "metadata": {},
   "outputs": [
    {
     "data": {
      "text/plain": [
       "   Min. 1st Qu.  Median    Mean 3rd Qu.    Max. \n",
       "0.01766 0.02023 0.02078 0.02087 0.02168 0.02391 "
      ]
     },
     "metadata": {},
     "output_type": "display_data"
    }
   ],
   "source": [
    "# Vector donde se almacenarán los 100 test error estimados\n",
    "cv.error <- rep(0, 100)\n",
    "set.seed(1)\n",
    "for (i in 1:100){\n",
    "# importante la creación de nuevos índices para cada iteración, de lo contrario, el test error obtenido siempre sería el mismo\n",
    "indices.train <- sample(x = nrow(dataset), size = 0.5*(nrow(dataset)),replace = FALSE) #toma una muestra del 50%\n",
    "training_set <- dataset[indices.train, ]\n",
    "datos.test <- dataset[-indices.train, ]\n",
    "modelo.logistico <- glm(TipoEstrella ~ ., data = training_set, family = \"binomial\")\n",
    "prob.modelo <- predict(object = modelo.logistico, newdata = datos.test, type = \"response\")\n",
    "pred.modelo <- rep('NoPulsar', length(prob.modelo))\n",
    "pred.modelo[prob.modelo > 0.5] <- 'Pulsar'\n",
    "cv.error[i] <- mean(pred.modelo != datos.test$TipoEstrella)\n",
    "}\n",
    "summary(cv.error)\n"
   ]
  },
  {
   "cell_type": "code",
   "execution_count": 243,
   "metadata": {},
   "outputs": [
    {
     "data": {
      "image/png": "[encoded data removed]",
      "text/plain": [
       "plot without title"
      ]
     },
     "metadata": {},
     "output_type": "display_data"
    }
   ],
   "source": [
    "library(ggplot2)\n",
    "library(gridExtra)\n",
    "\n",
    "boxplot <- ggplot(data = data.frame(cv.error = cv.error), aes(x = 1, y = cv.error)) +\n",
    "geom_boxplot(outlier.shape = NA) +\n",
    "geom_jitter(colour = c(\"orangered2\"), width = 0.2) +\n",
    "theme(axis.title.x = element_blank(),axis.text.x = element_blank(), \n",
    "      axis.ticks.x = element_blank())\n",
    "\n",
    "histograma <- ggplot(data = data.frame(cv.error = cv.error), aes(x = cv.error)) +\n",
    "geom_histogram(color = \"grey\", fill = \"orangered2\", binwidth  =  0.0004)\n",
    "\n",
    "grid.arrange(boxplot, histograma, ncol = 2)\n"
   ]
  },
  {
   "cell_type": "markdown",
   "metadata": {},
   "source": [
    "Como resultado de las 100 iteraciones, la estimación del test error oscila entre el 1,17% y el 2.39%, con una media del 2.08%, por lo que el porcentaje de acierto es del 97,92%."
   ]
  },
  {
   "cell_type": "markdown",
   "metadata": {},
   "source": [
    "# Clasificación por vecinos más cercanos CNN\n",
    "\n",
    "La clasificación por k vecinos cercanos o k-NN es un modelo de clasificación que basa su entrenamiento en el cálculo de las distancias de un nuevo dato o dato al que se desee asignar a una clase, con la mayoría de clases a las que pertenezcan sus k vecinos más cercanos, siendo k un parámetro del algoritmo.\n",
    "\n",
    "Para construir el clasificador k-NN vamos a hacer uso de la función knn del paquete class, y tomaremos como valor de k = 10:"
   ]
  },
  {
   "cell_type": "code",
   "execution_count": 268,
   "metadata": {},
   "outputs": [],
   "source": [
    "library(class)\n",
    "set.seed(1234)\n",
    "pred_valid_knn <- knn(training_set[, -9], \n",
    "                      test_set[, -9], \n",
    "                      cl = training_set[, 9],\n",
    "                      k = 10)"
   ]
  },
  {
   "cell_type": "markdown",
   "metadata": {},
   "source": [
    "Y una vez contamos con las predicciones para el conjunto de validación, podemos crear nuestra matriz de confusión:"
   ]
  },
  {
   "cell_type": "code",
   "execution_count": 269,
   "metadata": {},
   "outputs": [
    {
     "data": {
      "text/plain": [
       "          pred_valid_knn\n",
       "           NoPulsar Pulsar\n",
       "  NoPulsar     4048     17\n",
       "  Pulsar         85    325"
      ]
     },
     "metadata": {},
     "output_type": "display_data"
    }
   ],
   "source": [
    "matrizConfusion <- table(test_set$TipoEstrella, pred_valid_knn)\n",
    "matrizConfusion"
   ]
  },
  {
   "cell_type": "markdown",
   "metadata": {},
   "source": [
    "Lo que nos arroja una precisión de predicción de 97.61% y un error de predicción de 2.39% para el conjunto de validación.\n",
    "\n",
    "### No obstante se puede especificar que el mejor método para clasificar está determinado por la regresión logistica la cual especifica un error de predicción mucho más pequeño que el CNN"
   ]
  },
  {
   "cell_type": "code",
   "execution_count": null,
   "metadata": {},
   "outputs": [],
   "source": []
  },
  {
   "cell_type": "markdown",
   "metadata": {},
   "source": [
    "## BOOTSTRAP\n",
    "\n",
    "Bootstrap: se puede usar en muchos contextos (como para el cálculo de la significancia estadística), comúnmente se aplica a la evaluación de la precisión de la estimación de parámetros de un determinado modelo de aprendizaje estadístico (error estándar, intervalos de confianza…).\n",
    "\n",
    "\n",
    " El método de bootstrap se puede aplicar para cuantificar la incertidumbre asociada a un determinado estimador o método de aprendizaje estadístico. Por ejemplo, se puede utilizar para estimar el error estándar (SE) de los coeficientes de un modelo de regresión lineal (en este caso se utilizan fórmulas matemáticas que R implementa automáticamente, aunque el resultado sería válido siempre y cuando las condiciones para su aplicación se cumplan, mientras que el bootstrap no requiere de condiciones previas).\n",
    "\n",
    " En la práctica, raramente se puede disponer reiteradamente de nuevas muestras o set de datos independientes de la población original. El bootstrap lo que nos permite es emular el proceso de obtención de nuevas muestras utilizando nuestro set de datos único con las que podemos por ejemplo estimar la variabilidad/precisión asociada a un parámetro estimado, sin la necesidad de repetir el muestreo (cuando esto no es posible). El muestreo se lleva a cabo con sustitución (with replacement), lo que implica que una misma observación puede ser seleccionada más de una vez dentro de un mismo set de datos de bootstrap, y el tamaño de cada pseudomuestra es del mismo tamaño que la muestra original."
   ]
  },
  {
   "cell_type": "code",
   "execution_count": 276,
   "metadata": {},
   "outputs": [
    {
     "data": {
      "text/plain": [
       "\n",
       "ORDINARY NONPARAMETRIC BOOTSTRAP\n",
       "\n",
       "\n",
       "Call:\n",
       "boot(data = dataset, statistic = fun.boot, R = 1000)\n",
       "\n",
       "\n",
       "Bootstrap Statistics :\n",
       "      original       bias    std. error\n",
       "t1* -4.3184321 -0.015316440  0.09299499\n",
       "t2*  0.7762571  0.005078300  0.15195950\n",
       "t3* -0.2424564  0.003674477  0.07937251\n",
       "t4*  6.9982561  0.011789005  0.34682460\n",
       "t5* -3.8009360  0.015447531  0.22399275\n",
       "t6* -0.8424697  0.016503593  0.12861553\n",
       "t7*  1.0351675  0.003170584  0.17092091\n",
       "t8*  0.2151600  0.081787647  0.47712577\n",
       "t9* -0.5059092 -0.101160240  0.45446635"
      ]
     },
     "metadata": {},
     "output_type": "display_data"
    }
   ],
   "source": [
    "set.seed(1)\n",
    "# Función que devuelve las estimaciones de los coeficientes del modelo. Con “index” se seleccionan las observaciones para la muestra bootstrap\n",
    "fun.boot <- function(data, index) {\n",
    "modelo.glm <- glm(TipoEstrella ~ ., data = data, family = \"binomial\",subset = index)\n",
    "return (coef(modelo.glm))\n",
    "}\n",
    "\n",
    "# Bootstrap con 1000 pseudomuestras\n",
    "library(boot)\n",
    "estimacion.boot <- boot(data = dataset, statistic = fun.boot, R = 1000)\n",
    "estimacion.boot"
   ]
  },
  {
   "cell_type": "code",
   "execution_count": 278,
   "metadata": {},
   "outputs": [
    {
     "data": {
      "text/html": [
       "<table>\n",
       "<thead><tr><th></th><th scope=col>Estimate</th><th scope=col>Std. Error</th><th scope=col>z value</th><th scope=col>Pr(&gt;|z|)</th></tr></thead>\n",
       "<tbody>\n",
       "\t<tr><th scope=row>(Intercept)</th><td>-4.3760470  </td><td>0.1074333   </td><td>-40.7326907 </td><td>0.000000e+00</td></tr>\n",
       "\t<tr><th scope=row>Mean.of.the.integrated.profile</th><td> 0.8333186  </td><td>0.1788293   </td><td>  4.6598547 </td><td>3.164327e-06</td></tr>\n",
       "\t<tr><th scope=row>Standard.deviation.of.the.integrated.profile</th><td>-0.2653937  </td><td>0.0849129   </td><td> -3.1254819 </td><td>1.775140e-03</td></tr>\n",
       "\t<tr><th scope=row>Excess.kurtosis.of.the.integrated.profile</th><td> 6.9240414  </td><td>0.3736789   </td><td> 18.5293866 </td><td>1.196431e-76</td></tr>\n",
       "\t<tr><th scope=row>Skewness.of.the.integrated.profile</th><td>-3.7841241  </td><td>0.2834935   </td><td>-13.3481885 </td><td>1.213644e-40</td></tr>\n",
       "\t<tr><th scope=row>Mean.of.the.DM.SNR.curve</th><td>-0.8231125  </td><td>0.1173572   </td><td> -7.0137342 </td><td>2.320401e-12</td></tr>\n",
       "\t<tr><th scope=row>Standard.deviation.of.the.DM.SNR.curve</th><td> 0.9054960  </td><td>0.1686837   </td><td>  5.3680125 </td><td>7.960902e-08</td></tr>\n",
       "\t<tr><th scope=row>Excess.kurtosis.of.the.DM.SNR.curve</th><td>-0.2494299  </td><td>0.5165042   </td><td> -0.4829194 </td><td>6.291529e-01</td></tr>\n",
       "\t<tr><th scope=row>Skewness.of.the.DM.SNR.curve</th><td>-0.2337652  </td><td>0.4800787   </td><td> -0.4869310 </td><td>6.263072e-01</td></tr>\n",
       "</tbody>\n",
       "</table>\n"
      ],
      "text/latex": [
       "\\begin{tabular}{r|llll}\n",
       "  & Estimate & Std. Error & z value & Pr(>\\textbar{}z\\textbar{})\\\\\n",
       "\\hline\n",
       "\t(Intercept) & -4.3760470   & 0.1074333    & -40.7326907  & 0.000000e+00\\\\\n",
       "\tMean.of.the.integrated.profile &  0.8333186   & 0.1788293    &   4.6598547  & 3.164327e-06\\\\\n",
       "\tStandard.deviation.of.the.integrated.profile & -0.2653937   & 0.0849129    &  -3.1254819  & 1.775140e-03\\\\\n",
       "\tExcess.kurtosis.of.the.integrated.profile &  6.9240414   & 0.3736789    &  18.5293866  & 1.196431e-76\\\\\n",
       "\tSkewness.of.the.integrated.profile & -3.7841241   & 0.2834935    & -13.3481885  & 1.213644e-40\\\\\n",
       "\tMean.of.the.DM.SNR.curve & -0.8231125   & 0.1173572    &  -7.0137342  & 2.320401e-12\\\\\n",
       "\tStandard.deviation.of.the.DM.SNR.curve &  0.9054960   & 0.1686837    &   5.3680125  & 7.960902e-08\\\\\n",
       "\tExcess.kurtosis.of.the.DM.SNR.curve & -0.2494299   & 0.5165042    &  -0.4829194  & 6.291529e-01\\\\\n",
       "\tSkewness.of.the.DM.SNR.curve & -0.2337652   & 0.4800787    &  -0.4869310  & 6.263072e-01\\\\\n",
       "\\end{tabular}\n"
      ],
      "text/markdown": [
       "\n",
       "| <!--/--> | Estimate | Std. Error | z value | Pr(>|z|) |\n",
       "|---|---|---|---|---|\n",
       "| (Intercept) | -4.3760470   | 0.1074333    | -40.7326907  | 0.000000e+00 |\n",
       "| Mean.of.the.integrated.profile |  0.8333186   | 0.1788293    |   4.6598547  | 3.164327e-06 |\n",
       "| Standard.deviation.of.the.integrated.profile | -0.2653937   | 0.0849129    |  -3.1254819  | 1.775140e-03 |\n",
       "| Excess.kurtosis.of.the.integrated.profile |  6.9240414   | 0.3736789    |  18.5293866  | 1.196431e-76 |\n",
       "| Skewness.of.the.integrated.profile | -3.7841241   | 0.2834935    | -13.3481885  | 1.213644e-40 |\n",
       "| Mean.of.the.DM.SNR.curve | -0.8231125   | 0.1173572    |  -7.0137342  | 2.320401e-12 |\n",
       "| Standard.deviation.of.the.DM.SNR.curve |  0.9054960   | 0.1686837    |   5.3680125  | 7.960902e-08 |\n",
       "| Excess.kurtosis.of.the.DM.SNR.curve | -0.2494299   | 0.5165042    |  -0.4829194  | 6.291529e-01 |\n",
       "| Skewness.of.the.DM.SNR.curve | -0.2337652   | 0.4800787    |  -0.4869310  | 6.263072e-01 |\n",
       "\n"
      ],
      "text/plain": [
       "                                             Estimate   Std. Error z value    \n",
       "(Intercept)                                  -4.3760470 0.1074333  -40.7326907\n",
       "Mean.of.the.integrated.profile                0.8333186 0.1788293    4.6598547\n",
       "Standard.deviation.of.the.integrated.profile -0.2653937 0.0849129   -3.1254819\n",
       "Excess.kurtosis.of.the.integrated.profile     6.9240414 0.3736789   18.5293866\n",
       "Skewness.of.the.integrated.profile           -3.7841241 0.2834935  -13.3481885\n",
       "Mean.of.the.DM.SNR.curve                     -0.8231125 0.1173572   -7.0137342\n",
       "Standard.deviation.of.the.DM.SNR.curve        0.9054960 0.1686837    5.3680125\n",
       "Excess.kurtosis.of.the.DM.SNR.curve          -0.2494299 0.5165042   -0.4829194\n",
       "Skewness.of.the.DM.SNR.curve                 -0.2337652 0.4800787   -0.4869310\n",
       "                                             Pr(>|z|)    \n",
       "(Intercept)                                  0.000000e+00\n",
       "Mean.of.the.integrated.profile               3.164327e-06\n",
       "Standard.deviation.of.the.integrated.profile 1.775140e-03\n",
       "Excess.kurtosis.of.the.integrated.profile    1.196431e-76\n",
       "Skewness.of.the.integrated.profile           1.213644e-40\n",
       "Mean.of.the.DM.SNR.curve                     2.320401e-12\n",
       "Standard.deviation.of.the.DM.SNR.curve       7.960902e-08\n",
       "Excess.kurtosis.of.the.DM.SNR.curve          6.291529e-01\n",
       "Skewness.of.the.DM.SNR.curve                 6.263072e-01"
      ]
     },
     "metadata": {},
     "output_type": "display_data"
    }
   ],
   "source": [
    "summary(clasificadorRL)$coef"
   ]
  },
  {
   "cell_type": "markdown",
   "metadata": {},
   "source": [
    "  Si compararemos los estimadores del error estándar para cada coeficiente obtenidos mediante bootstrap con los que se obtiene mediante la fórmula del error estándar usada por el modelo glm(), podemos ver que obtenemos valores casi iguales:"
   ]
  },
  {
   "cell_type": "code",
   "execution_count": 279,
   "metadata": {},
   "outputs": [
    {
     "data": {
      "image/png": "[encoded data removed]",
      "text/plain": [
       "Plot with title \"Histogram of t\""
      ]
     },
     "metadata": {},
     "output_type": "display_data"
    }
   ],
   "source": [
    "plot(estimacion.boot, index = 1)"
   ]
  },
  {
   "cell_type": "code",
   "execution_count": 281,
   "metadata": {},
   "outputs": [
    {
     "data": {
      "image/png": "[encoded data removed]",
      "text/plain": [
       "Plot with title \"Histogram of t\""
      ]
     },
     "metadata": {},
     "output_type": "display_data"
    }
   ],
   "source": [
    "plot(estimacion.boot, index = 3)"
   ]
  },
  {
   "cell_type": "code",
   "execution_count": 282,
   "metadata": {},
   "outputs": [
    {
     "data": {
      "text/plain": [
       "BOOTSTRAP CONFIDENCE INTERVAL CALCULATIONS\n",
       "Based on 1000 bootstrap replicates\n",
       "\n",
       "CALL : \n",
       "boot.ci(boot.out = estimacion.boot, type = \"norm\", index = 1)\n",
       "\n",
       "Intervals : \n",
       "Level      Normal        \n",
       "95%   (-4.485, -4.121 )  \n",
       "Calculations and Intervals on Original Scale"
      ]
     },
     "metadata": {},
     "output_type": "display_data"
    }
   ],
   "source": [
    "# Intervalo de confianza para Intercept\n",
    "boot.ci(boot.out = estimacion.boot, type = \"norm\", index = 1)   #variar index"
   ]
  },
  {
   "cell_type": "markdown",
   "metadata": {},
   "source": [
    "## NOTA:   \n",
    "\n",
    "Para instalar librerias de R en jupyter notebooks usamos la siguiente linea \n",
    "\n",
    "* install.packages(\"ISLR\", \"/home/user/anaconda3/lib/R/library\")  no usar este comando\n",
    "* install.packages(\"sm\", \"/Users/YULY/anaconda/Lib/R/library\")\n",
    "\n",
    "Para más información verificar el siguiente enlace::\n",
    "\n",
    "https://www.pythond.com/23094/conda-como-instalar-paquetes-r-que-no-estan-disponibles-en-r-essentials.html\n",
    "\n",
    "* También puede usarse el siguiente comando desde r para instalar el entorno de r \n",
    "\n",
    "* install.packages(\"CASdatasets\", \"/Users/YULY/anaconda/Lib/R/library\",repos = \"http://cas.uqam.ca/pub/R/\")\n",
    "* install.packages(\"ROCR\", \"/Users/YULY/anaconda/Lib/R/library\",repos = \"https://cloud.r-project.org\")"
   ]
  },
  {
   "cell_type": "markdown",
   "metadata": {},
   "source": [
    "\n",
    "#### Páginas importantes\n",
    "\n",
    "* https://rpubs.com/rdelgado/405322\n",
    "* https://rpubs.com/Cristina_Gil/CV_Bootstrap\n",
    "* http://pages.stat.wisc.edu/~larget/stat302/chap3.pdf\n",
    "* https://rpubs.com/rdelgado\n",
    "* https://librovivodecienciadedatos.ai/desempe%C3%B1o-modelo.html#conociendo_el_error\n",
    "* https://rpubs.com/Cristina_Gil/CV_Bootstrap"
   ]
  }
 ],
 "metadata": {
  "kernelspec": {
   "display_name": "Python 3",
   "language": "python",
   "name": "python3"
  },
  "language_info": {
   "codemirror_mode": {
    "name": "ipython",
    "version": 3
   },
   "file_extension": ".py",
   "mimetype": "text/x-python",
   "name": "python",
   "nbconvert_exporter": "python",
   "pygments_lexer": "ipython3",
   "version": "3.7.4"
  }
 },
 "nbformat": 4,
 "nbformat_minor": 4
}
