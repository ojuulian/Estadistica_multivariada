{
 "cells": [
  {
   "cell_type": "markdown",
   "metadata": {},
   "source": [
    "<h2 align=\"center\">ACP Para los datos del Sloan Digital Survey</h2>"
   ]
  },
  {
   "cell_type": "code",
   "execution_count": 2,
   "metadata": {},
   "outputs": [],
   "source": [
    "import pandas as pd\n",
    "import numpy as np\n",
    "import matplotlib.pyplot as plt\n",
    "from sklearn.decomposition import PCA\n",
    "from sklearn.preprocessing import StandardScaler\n",
    "%matplotlib inline"
   ]
  },
  {
   "cell_type": "code",
   "execution_count": 3,
   "metadata": {},
   "outputs": [
    {
     "data": {
      "text/html": [
       "<div>\n",
       "<style scoped>\n",
       "    .dataframe tbody tr th:only-of-type {\n",
       "        vertical-align: middle;\n",
       "    }\n",
       "\n",
       "    .dataframe tbody tr th {\n",
       "        vertical-align: top;\n",
       "    }\n",
       "\n",
       "    .dataframe thead th {\n",
       "        text-align: right;\n",
       "    }\n",
       "</style>\n",
       "<table border=\"1\" class=\"dataframe\">\n",
       "  <thead>\n",
       "    <tr style=\"text-align: right;\">\n",
       "      <th></th>\n",
       "      <th>objid</th>\n",
       "      <th>ra</th>\n",
       "      <th>dec</th>\n",
       "      <th>u</th>\n",
       "      <th>g</th>\n",
       "      <th>r</th>\n",
       "      <th>i</th>\n",
       "      <th>z</th>\n",
       "      <th>run</th>\n",
       "      <th>camcol</th>\n",
       "      <th>field</th>\n",
       "      <th>specobjid</th>\n",
       "      <th>class</th>\n",
       "      <th>redshift</th>\n",
       "      <th>plate</th>\n",
       "      <th>mjd</th>\n",
       "      <th>fiberid</th>\n",
       "    </tr>\n",
       "  </thead>\n",
       "  <tbody>\n",
       "    <tr>\n",
       "      <th>0</th>\n",
       "      <td>1.237650e+18</td>\n",
       "      <td>183.531326</td>\n",
       "      <td>0.089693</td>\n",
       "      <td>19.47406</td>\n",
       "      <td>17.04240</td>\n",
       "      <td>15.94699</td>\n",
       "      <td>15.50342</td>\n",
       "      <td>15.22531</td>\n",
       "      <td>752</td>\n",
       "      <td>4</td>\n",
       "      <td>267</td>\n",
       "      <td>3.722360e+18</td>\n",
       "      <td>STAR</td>\n",
       "      <td>-0.000009</td>\n",
       "      <td>3306</td>\n",
       "      <td>54922</td>\n",
       "      <td>491</td>\n",
       "    </tr>\n",
       "    <tr>\n",
       "      <th>1</th>\n",
       "      <td>1.237650e+18</td>\n",
       "      <td>183.598371</td>\n",
       "      <td>0.135285</td>\n",
       "      <td>18.66280</td>\n",
       "      <td>17.21449</td>\n",
       "      <td>16.67637</td>\n",
       "      <td>16.48922</td>\n",
       "      <td>16.39150</td>\n",
       "      <td>752</td>\n",
       "      <td>4</td>\n",
       "      <td>267</td>\n",
       "      <td>3.638140e+17</td>\n",
       "      <td>STAR</td>\n",
       "      <td>-0.000055</td>\n",
       "      <td>323</td>\n",
       "      <td>51615</td>\n",
       "      <td>541</td>\n",
       "    </tr>\n",
       "    <tr>\n",
       "      <th>2</th>\n",
       "      <td>1.237650e+18</td>\n",
       "      <td>183.680207</td>\n",
       "      <td>0.126185</td>\n",
       "      <td>19.38298</td>\n",
       "      <td>18.19169</td>\n",
       "      <td>17.47428</td>\n",
       "      <td>17.08732</td>\n",
       "      <td>16.80125</td>\n",
       "      <td>752</td>\n",
       "      <td>4</td>\n",
       "      <td>268</td>\n",
       "      <td>3.232740e+17</td>\n",
       "      <td>GALAXY</td>\n",
       "      <td>0.123111</td>\n",
       "      <td>287</td>\n",
       "      <td>52023</td>\n",
       "      <td>513</td>\n",
       "    </tr>\n",
       "    <tr>\n",
       "      <th>3</th>\n",
       "      <td>1.237650e+18</td>\n",
       "      <td>183.870529</td>\n",
       "      <td>0.049911</td>\n",
       "      <td>17.76536</td>\n",
       "      <td>16.60272</td>\n",
       "      <td>16.16116</td>\n",
       "      <td>15.98233</td>\n",
       "      <td>15.90438</td>\n",
       "      <td>752</td>\n",
       "      <td>4</td>\n",
       "      <td>269</td>\n",
       "      <td>3.722370e+18</td>\n",
       "      <td>STAR</td>\n",
       "      <td>-0.000111</td>\n",
       "      <td>3306</td>\n",
       "      <td>54922</td>\n",
       "      <td>510</td>\n",
       "    </tr>\n",
       "    <tr>\n",
       "      <th>4</th>\n",
       "      <td>1.237650e+18</td>\n",
       "      <td>183.883288</td>\n",
       "      <td>0.102557</td>\n",
       "      <td>17.55025</td>\n",
       "      <td>16.26342</td>\n",
       "      <td>16.43869</td>\n",
       "      <td>16.55492</td>\n",
       "      <td>16.61326</td>\n",
       "      <td>752</td>\n",
       "      <td>4</td>\n",
       "      <td>269</td>\n",
       "      <td>3.722370e+18</td>\n",
       "      <td>STAR</td>\n",
       "      <td>0.000590</td>\n",
       "      <td>3306</td>\n",
       "      <td>54922</td>\n",
       "      <td>512</td>\n",
       "    </tr>\n",
       "  </tbody>\n",
       "</table>\n",
       "</div>"
      ],
      "text/plain": [
       "          objid          ra       dec         u         g         r         i  \\\n",
       "0  1.237650e+18  183.531326  0.089693  19.47406  17.04240  15.94699  15.50342   \n",
       "1  1.237650e+18  183.598371  0.135285  18.66280  17.21449  16.67637  16.48922   \n",
       "2  1.237650e+18  183.680207  0.126185  19.38298  18.19169  17.47428  17.08732   \n",
       "3  1.237650e+18  183.870529  0.049911  17.76536  16.60272  16.16116  15.98233   \n",
       "4  1.237650e+18  183.883288  0.102557  17.55025  16.26342  16.43869  16.55492   \n",
       "\n",
       "          z  run  camcol  field     specobjid   class  redshift  plate    mjd  \\\n",
       "0  15.22531  752       4    267  3.722360e+18    STAR -0.000009   3306  54922   \n",
       "1  16.39150  752       4    267  3.638140e+17    STAR -0.000055    323  51615   \n",
       "2  16.80125  752       4    268  3.232740e+17  GALAXY  0.123111    287  52023   \n",
       "3  15.90438  752       4    269  3.722370e+18    STAR -0.000111   3306  54922   \n",
       "4  16.61326  752       4    269  3.722370e+18    STAR  0.000590   3306  54922   \n",
       "\n",
       "   fiberid  \n",
       "0      491  \n",
       "1      541  \n",
       "2      513  \n",
       "3      510  \n",
       "4      512  "
      ]
     },
     "execution_count": 3,
     "metadata": {},
     "output_type": "execute_result"
    }
   ],
   "source": [
    "url = 'https://raw.githubusercontent.com/joaramirezcu/Mineria_Proyecto/master/Skyserver_SQL2_27_2018%206_51_39%20PM.csv'\n",
    "data_f1 = pd.read_csv(url, error_bad_lines=False)\n",
    "data_f1=data_f1.drop(['rerun'], axis=1)\n",
    "data_f1.head()"
   ]
  },
  {
   "cell_type": "code",
   "execution_count": 4,
   "metadata": {},
   "outputs": [
    {
     "name": "stdout",
     "output_type": "stream",
     "text": [
      "<class 'pandas.core.frame.DataFrame'>\n",
      "<class 'pandas.core.series.Series'>\n",
      "(10000, 16)\n",
      "(10000,)\n"
     ]
    }
   ],
   "source": [
    "# Separamos los predictores (X) de la variable respuesta (y)\n",
    "X = data_f1.loc[:, data_f1.columns != 'class']\n",
    "y = data_f1['class']\n",
    "print(type(X))\n",
    "print(type(y))\n",
    "\n",
    "print(X.shape)\n",
    "print(y.shape)"
   ]
  },
  {
   "cell_type": "markdown",
   "metadata": {},
   "source": [
    "### Normalizando\n",
    "\n",
    "Por lo general sucede que las variables en el dataset tengan distintos atributos medidos en otras unidades, en este caso se procede realizar un proceso de normalizacion para ponerlo en la misma escala, este es el caso del dataset  de las mediciones del *sloan digital sky survey*. Por tanto, aplicamos a los datos una transformación de normalización de forma que su media sea igual a 0, y su varianza=1. Para ello, usaremos la transformación *Standardscaler de sklearn.*"
   ]
  },
  {
   "cell_type": "code",
   "execution_count": 5,
   "metadata": {},
   "outputs": [
    {
     "name": "stdout",
     "output_type": "stream",
     "text": [
      "[[ 0.          0.16745842 -0.58492272 ...  1.03148936  1.30931064\n",
      "   0.66863177]\n",
      " [ 0.          0.16886159 -0.58311429 ... -0.63621258 -0.87919741\n",
      "   0.91101156]\n",
      " [ 0.          0.17057433 -0.58347525 ... -0.65633905 -0.60919097\n",
      "   0.77527888]\n",
      " ...\n",
      " [ 0.         -0.92039468  1.46090664 ...  3.26608697  2.69309363\n",
      "   1.3036668 ]\n",
      " [ 0.         -0.92197294  1.46432109 ... -0.56688806 -0.70581092\n",
      "  -0.60143828]\n",
      " [ 0.         -0.91804124  1.46639319 ... -0.56688806 -0.70581092\n",
      "  -0.5820479 ]]\n"
     ]
    }
   ],
   "source": [
    "from sklearn.preprocessing import StandardScaler\n",
    "X_std = StandardScaler().fit_transform(X)\n",
    "print(X_std)"
   ]
  },
  {
   "cell_type": "code",
   "execution_count": null,
   "metadata": {},
   "outputs": [],
   "source": []
  },
  {
   "cell_type": "code",
   "execution_count": 6,
   "metadata": {},
   "outputs": [
    {
     "data": {
      "image/png": "[encoded data removed]",
      "text/plain": [
       "<Figure size 1440x432 with 8 Axes>"
      ]
     },
     "metadata": {
      "needs_background": "light"
     },
     "output_type": "display_data"
    }
   ],
   "source": [
    "df1=pd.DataFrame(X_std) \n",
    "\n",
    "#Tabla 2*4\n",
    "plt.figure(figsize=(20, 6))\n",
    "\n",
    "plt.subplot(2, 4, 1)  # Tabla 2x4 y dibujaremos en la celda 1\n",
    "hist, bins = np.histogram(df1[[0]], bins=50)\n",
    "width = 0.7 * (bins[1] - bins[0])\n",
    "center = (bins[:-1] + bins[1:]) / 2\n",
    "plt.bar(center, hist, align='center', width=width,label=\"objid\", color=\"green\")\n",
    "plt.legend()\n",
    "\n",
    "plt.subplot(2, 4, 2)  # Tabla 2x4 y dibujaremos en la celda 2\n",
    "hist, bins = np.histogram(df1[[1]], bins=50)\n",
    "width = 0.7 * (bins[1] - bins[0])\n",
    "center = (bins[:-1] + bins[1:]) / 2\n",
    "plt.bar(center, hist, align='center', width=width, label=\"ra\", color=\"red\")\n",
    "plt.legend()\n",
    "\n",
    "plt.subplot(2, 4, 3)  # Tabla 2x4 y dibujaremos en la celda 3\n",
    "hist, bins = np.histogram(df1[[2]], bins=50)\n",
    "width = 0.7 * (bins[1] - bins[0])\n",
    "center = (bins[:-1] + bins[1:]) / 2\n",
    "plt.bar(center, hist, align='center', width=width, label=\"dec\", color=\"cyan\")\n",
    "plt.legend()\n",
    "\n",
    "plt.subplot(2, 4, 4)  # Tabla 2x4 y dibujaremos en la celda 4\n",
    "hist, bins = np.histogram(df1[[3]], bins=50)\n",
    "width = 0.7 * (bins[1] - bins[0])\n",
    "center = (bins[:-1] + bins[1:]) / 2\n",
    "plt.bar(center, hist, align='center', width=width,label=\"u\", color=\"orange\")\n",
    "plt.legend()\n",
    "\n",
    "plt.subplot(2, 4, 5)  # Tabla 2x4 y dibujaremos en la celda 5\n",
    "hist, bins = np.histogram(df1[[4]], bins=50)\n",
    "width = 0.7 * (bins[1] - bins[0])\n",
    "center = (bins[:-1] + bins[1:]) / 2\n",
    "plt.bar(center, hist, align='center', width=width, label=\"g\", color=\"black\")\n",
    "plt.legend()\n",
    "\n",
    "plt.subplot(2, 4, 6)  # Tabla 2x4 y dibujaremos en la celda 6\n",
    "hist, bins = np.histogram(df1[[5]], bins=50)\n",
    "width = 0.7 * (bins[1] - bins[0])\n",
    "center = (bins[:-1] + bins[1:]) / 2\n",
    "plt.bar(center, hist, align='center', width=width, label=\"r\", color=\"blue\")\n",
    "plt.legend()\n",
    "\n",
    "plt.subplot(2, 4, 7)  # Tabla 2x4 y dibujaremos en la celda 7\n",
    "hist, bins = np.histogram(df1[[6]], bins=50)\n",
    "width = 0.7 * (bins[1] - bins[0])\n",
    "center = (bins[:-1] + bins[1:]) / 2\n",
    "plt.bar(center, hist, align='center', width=width,label=\"i\", color=\"gray\")\n",
    "plt.legend()\n",
    "\n",
    "plt.subplot(2, 4, 8)  # Tabla 2x4 y dibujaremos en la celda 8\n",
    "hist, bins = np.histogram(df1[[7]], bins=50)\n",
    "width = 0.7 * (bins[1] - bins[0])\n",
    "center = (bins[:-1] + bins[1:]) / 2\n",
    "plt.bar(center, hist, align='center', width=width, label=\"z\", color=\"purple\")\n",
    "plt.legend()\n",
    "\n",
    "plt.show() "
   ]
  },
  {
   "cell_type": "code",
   "execution_count": 7,
   "metadata": {},
   "outputs": [
    {
     "data": {
      "image/png": "[encoded data removed]",
      "text/plain": [
       "<Figure size 1440x432 with 8 Axes>"
      ]
     },
     "metadata": {
      "needs_background": "light"
     },
     "output_type": "display_data"
    }
   ],
   "source": [
    "#Tabla 2*4\n",
    "plt.figure(figsize=(20, 6))\n",
    "\n",
    "plt.subplot(2, 4, 1)  # Tabla 2x4 y dibujaremos en la celda 1\n",
    "hist, bins = np.histogram(df1[[8]], bins=50)\n",
    "width = 0.7 * (bins[1] - bins[0])\n",
    "center = (bins[:-1] + bins[1:]) / 2\n",
    "plt.bar(center, hist, align='center', width=width,label=\"rum\", color=\"green\")\n",
    "plt.legend()\n",
    "\n",
    "plt.subplot(2, 4, 2)  # Tabla 2x4 y dibujaremos en la celda 2\n",
    "hist, bins = np.histogram(df1[[9]], bins=50)\n",
    "width = 0.7 * (bins[1] - bins[0])\n",
    "center = (bins[:-1] + bins[1:]) / 2\n",
    "plt.bar(center, hist, align='center', width=width, label=\"camcol\", color=\"red\")\n",
    "plt.legend()\n",
    "\n",
    "plt.subplot(2, 4, 3)  # Tabla 2x4 y dibujaremos en la celda 3\n",
    "hist, bins = np.histogram(df1[[10]], bins=50)\n",
    "width = 0.7 * (bins[1] - bins[0])\n",
    "center = (bins[:-1] + bins[1:]) / 2\n",
    "plt.bar(center, hist, align='center', width=width, label=\"field\", color=\"cyan\")\n",
    "plt.legend()\n",
    "\n",
    "plt.subplot(2, 4, 4)  # Tabla 2x4 y dibujaremos en la celda 4\n",
    "hist, bins = np.histogram(df1[[11]], bins=50)\n",
    "width = 0.7 * (bins[1] - bins[0])\n",
    "center = (bins[:-1] + bins[1:]) / 2\n",
    "plt.bar(center, hist, align='center', width=width,label=\"specobjid\", color=\"orange\")\n",
    "plt.legend()\n",
    "\n",
    "plt.subplot(2, 4, 5)  # Tabla 2x4 y dibujaremos en la celda 5\n",
    "hist, bins = np.histogram(df1[[12]], bins=50)\n",
    "width = 0.7 * (bins[1] - bins[0])\n",
    "center = (bins[:-1] + bins[1:]) / 2\n",
    "plt.bar(center, hist, align='center', width=width, label=\"redshift\", color=\"black\")\n",
    "plt.legend()\n",
    "\n",
    "plt.subplot(2, 4, 6)  # Tabla 2x4 y dibujaremos en la celda 6\n",
    "hist, bins = np.histogram(df1[[13]], bins=50)\n",
    "width = 0.7 * (bins[1] - bins[0])\n",
    "center = (bins[:-1] + bins[1:]) / 2\n",
    "plt.bar(center, hist, align='center', width=width, label=\"plate\", color=\"blue\")\n",
    "plt.legend()\n",
    "\n",
    "plt.subplot(2, 4, 7)  # Tabla 2x4 y dibujaremos en la celda 7\n",
    "hist, bins = np.histogram(df1[[14]], bins=50)\n",
    "width = 0.7 * (bins[1] - bins[0])\n",
    "center = (bins[:-1] + bins[1:]) / 2\n",
    "plt.bar(center, hist, align='center', width=width,label=\"mjd\", color=\"gray\")\n",
    "plt.legend()\n",
    "\n",
    "plt.subplot(2, 4, 8)  # Tabla 2x4 y dibujaremos en la celda 8\n",
    "hist, bins = np.histogram(df1[[15]], bins=50)\n",
    "width = 0.7 * (bins[1] - bins[0])\n",
    "center = (bins[:-1] + bins[1:]) / 2\n",
    "plt.bar(center, hist, align='center', width=width, label=\"fiberid\", color=\"purple\")\n",
    "plt.legend()\n",
    "\n",
    "plt.show() "
   ]
  },
  {
   "cell_type": "code",
   "execution_count": null,
   "metadata": {},
   "outputs": [],
   "source": []
  },
  {
   "cell_type": "markdown",
   "metadata": {},
   "source": [
    "### Matrix de covarianza junto con valores y vectores propios"
   ]
  },
  {
   "cell_type": "code",
   "execution_count": 8,
   "metadata": {},
   "outputs": [
    {
     "name": "stdout",
     "output_type": "stream",
     "text": [
      "NumPy covariance matrix: \n",
      "[[ 0.          0.          0.          0.          0.          0.\n",
      "   0.          0.          0.          0.          0.          0.\n",
      "   0.          0.          0.          0.        ]\n",
      " [ 0.          1.00010001  0.00359641  0.03124068  0.04391302  0.04710761\n",
      "   0.04573565  0.04295387 -0.09274983 -0.00629446  0.59475911 -0.09533664\n",
      "   0.03031043 -0.09533887 -0.08689595  0.05749057]\n",
      " [ 0.          0.00359641  1.00010001  0.03528285  0.0618809   0.06341029\n",
      "   0.05829772  0.05687599  0.77846273  0.1146254  -0.1314846   0.08835417\n",
      "   0.06702746  0.08835037  0.06615325  0.15502788]\n",
      " [ 0.          0.03124068  0.03528285  1.00010001  0.84931696  0.6924482\n",
      "   0.6026905   0.55153795  0.03823292  0.00994567  0.00854873 -0.12944222\n",
      "   0.16375725 -0.12944339 -0.1688096   0.01130225]\n",
      " [ 0.          0.04391302  0.0618809   0.84931696  1.00010001  0.95820206\n",
      "   0.90750945  0.87971015  0.05845214  0.01022407  0.01465257 -0.05498458\n",
      "   0.40761706 -0.05498628 -0.09278083  0.04719211]\n",
      " [ 0.          0.04710761  0.06341029  0.6924482   0.95820206  1.00010001\n",
      "   0.97776955  0.96929364  0.05726632  0.01074833  0.01713466  0.01979029\n",
      "   0.44112386  0.01978869 -0.00934544  0.06108752]\n",
      " [ 0.          0.04573565  0.05829772  0.6026905   0.90750945  0.97776955\n",
      "   1.00010001  0.98160477  0.04976976  0.01346213  0.01978345  0.07296724\n",
      "   0.4314931   0.07296573  0.05090125  0.06998439]\n",
      " [ 0.          0.04295387  0.05687599  0.55153795  0.87971015  0.96929364\n",
      "   0.98160477  1.00010001  0.04825708  0.01093091  0.01825027  0.11240933\n",
      "   0.42407658  0.11240813  0.09566801  0.06798679]\n",
      " [ 0.         -0.09274983  0.77846273  0.03823292  0.05845214  0.05726632\n",
      "   0.04976976  0.04825708  1.00010001  0.15182953 -0.46394394  0.09361373\n",
      "   0.05906186  0.09361043  0.07036137  0.13857975]\n",
      " [ 0.         -0.00629446  0.1146254   0.00994567  0.01022407  0.01074833\n",
      "   0.01346213  0.01093091  0.15182953  1.00010001 -0.06792734  0.04081351\n",
      "   0.00683422  0.04079869  0.02628659  0.5356828 ]\n",
      " [ 0.          0.59475911 -0.1314846   0.00854873  0.01465257  0.01713466\n",
      "   0.01978345  0.01825027 -0.46394394 -0.06792734  1.00010001 -0.09373313\n",
      "   0.01541514 -0.0937326  -0.08656671 -0.040497  ]\n",
      " [ 0.         -0.09533664  0.08835417 -0.12944222 -0.05498458  0.01979029\n",
      "   0.07296724  0.11240933  0.09361373  0.04081351 -0.09373313  1.00010001\n",
      "  -0.03809372  1.00010001  0.96697658  0.22986045]\n",
      " [ 0.          0.03031043  0.06702746  0.16375725  0.40761706  0.44112386\n",
      "   0.4314931   0.42407658  0.05906186  0.00683422  0.01541514 -0.03809372\n",
      "   1.00010001 -0.0380953  -0.05796311  0.04653688]\n",
      " [ 0.         -0.09533887  0.08835037 -0.12944339 -0.05498628  0.01978869\n",
      "   0.07296573  0.11240813  0.09361043  0.04079869 -0.0937326   1.00010001\n",
      "  -0.0380953   1.00010001  0.96697748  0.22983379]\n",
      " [ 0.         -0.08689595  0.06615325 -0.1688096  -0.09278083 -0.00934544\n",
      "   0.05090125  0.09566801  0.07036137  0.02628659 -0.08656671  0.96697658\n",
      "  -0.05796311  0.96697748  1.00010001  0.19034717]\n",
      " [ 0.          0.05749057  0.15502788  0.01130225  0.04719211  0.06108752\n",
      "   0.06998439  0.06798679  0.13857975  0.5356828  -0.040497    0.22986045\n",
      "   0.04653688  0.22983379  0.19034717  1.00010001]]\n"
     ]
    }
   ],
   "source": [
    "# Calculamos la matriz de covarianza\n",
    "\n",
    "print('NumPy covariance matrix: \\n%s' %np.cov(X_std.T))"
   ]
  },
  {
   "cell_type": "code",
   "execution_count": 9,
   "metadata": {},
   "outputs": [
    {
     "name": "stdout",
     "output_type": "stream",
     "text": [
      "Eigenvectors \n",
      "[[ 0.00000000e+00  0.00000000e+00  0.00000000e+00  0.00000000e+00\n",
      "   0.00000000e+00  0.00000000e+00  0.00000000e+00  0.00000000e+00\n",
      "   0.00000000e+00  0.00000000e+00  0.00000000e+00  0.00000000e+00\n",
      "   0.00000000e+00  0.00000000e+00  0.00000000e+00  1.00000000e+00]\n",
      " [-2.78159948e-02  1.10649814e-01  2.46001882e-01 -5.25743106e-01\n",
      "  -4.23998021e-01  6.06748752e-02  1.12828617e-02 -3.02652705e-01\n",
      "  -5.72008268e-01 -2.17504985e-01 -1.93006576e-02  5.25843487e-04\n",
      "   7.11081076e-04 -1.80279816e-03  1.79566609e-08  0.00000000e+00]\n",
      " [-5.03633725e-02 -1.45854020e-01 -4.83398357e-01 -1.75893081e-01\n",
      "  -4.73941913e-01  4.41143767e-02  5.42581650e-03  1.95660257e-01\n",
      "   3.87781088e-01 -5.44304225e-01 -7.06734792e-03 -2.30562355e-03\n",
      "  -1.36609238e-03  8.37094223e-05  3.50257605e-10  0.00000000e+00]\n",
      " [-3.50293435e-01  9.89733054e-02 -2.80024439e-02  3.26410409e-02\n",
      "   5.65813030e-02  4.50285107e-01 -5.84047178e-01  3.23817364e-01\n",
      "  -1.83048796e-01 -1.18886499e-02  1.10577661e-01 -3.42139663e-01\n",
      "  -1.87095868e-01  1.25627524e-01 -1.34737789e-08  0.00000000e+00]\n",
      " [-4.54907353e-01  4.88688344e-02  1.96942702e-03  2.94750347e-02\n",
      "   2.73918535e-02  1.39384073e-01 -1.33286037e-01  6.89094579e-02\n",
      "  -3.41365347e-02  2.28870005e-03 -9.99336402e-02  5.91270000e-01\n",
      "   2.82750130e-01 -5.53535404e-01 -5.35444998e-09  0.00000000e+00]\n",
      " [-4.60452426e-01  1.97725478e-03  3.03707539e-02  2.81829460e-02\n",
      "   1.10908762e-02  1.80184196e-02  1.49659732e-01 -8.21180778e-02\n",
      "   4.90025187e-02  4.11863106e-03 -7.71887629e-02  3.88228908e-01\n",
      "   1.60888428e-02  7.72862896e-01  2.36783889e-08  0.00000000e+00]\n",
      " [-4.49300779e-01 -2.97879331e-02  5.06338691e-02  2.69013749e-02\n",
      "   6.50998692e-03 -2.51589521e-02  2.82233947e-01 -1.47587341e-01\n",
      "   8.84778336e-02  1.80077649e-03  1.52548127e-02 -5.86132079e-01\n",
      "   5.79967217e-01 -6.21576531e-02  6.52947360e-08  0.00000000e+00]\n",
      " [-4.41397929e-01 -5.24106112e-02  6.34257645e-02  3.17105527e-02\n",
      "  -1.11676207e-03 -4.64374229e-02  3.50221710e-01 -1.73108178e-01\n",
      "   1.00796186e-01 -2.94050785e-04  8.98521830e-02 -1.14711214e-01\n",
      "  -7.31404331e-01 -2.76168264e-01 -7.99268054e-08  0.00000000e+00]\n",
      " [-4.63386115e-02 -1.68601168e-01 -5.78000494e-01 -3.73441894e-02\n",
      "  -3.30341419e-01  3.94111634e-02  3.96531352e-02 -8.02214437e-02\n",
      "  -2.13650558e-01  6.84690592e-01  2.81974011e-02 -4.01763214e-03\n",
      "  -1.06931202e-03 -7.27325679e-04 -9.46251458e-09  0.00000000e+00]\n",
      " [-1.69253015e-02 -1.00073265e-01 -2.19439325e-01 -4.88603115e-01\n",
      "   4.88939756e-01  1.17764960e-02  3.83848120e-01  4.95597192e-01\n",
      "  -2.61133154e-01 -4.75482720e-02 -1.27483626e-02  5.30614206e-03\n",
      "   3.64544276e-03  4.45929444e-04  1.54947636e-09  0.00000000e+00]\n",
      " [-6.30667534e-03  1.48202913e-01  4.32875982e-01 -4.24521278e-01\n",
      "  -2.85463151e-01  2.01229931e-02  1.75907163e-02  3.58001352e-01\n",
      "   4.67548191e-01  4.25514517e-01  1.88319746e-02  2.60976727e-03\n",
      "   8.70023979e-04  1.23256036e-03 -2.02122083e-08  0.00000000e+00]\n",
      " [-8.19786548e-03 -5.35054969e-01  1.84179317e-01  3.69170577e-02\n",
      "  -5.13766485e-02  2.45121919e-02 -6.07388207e-02  7.30322558e-02\n",
      "  -4.81779670e-02  1.21645218e-02 -4.00156279e-01 -4.85721063e-02\n",
      "  -3.35522823e-02 -4.28956958e-03  7.07109057e-01  0.00000000e+00]\n",
      " [-2.32084138e-01  2.23173615e-02 -2.66653144e-02 -2.70184433e-02\n",
      "  -4.90296810e-02 -8.74603831e-01 -3.30032643e-01  2.08718885e-01\n",
      "  -1.41755948e-01 -9.59245818e-03  2.63240062e-02 -5.10855775e-02\n",
      "  -2.84594038e-02  8.80754610e-03 -1.07876150e-08  0.00000000e+00]\n",
      " [-8.19671665e-03 -5.35052693e-01  1.84184449e-01  3.69317017e-02\n",
      "  -5.13878989e-02  2.45130160e-02 -6.07282748e-02  7.30471484e-02\n",
      "  -4.81874664e-02  1.21631161e-02 -4.00159939e-01 -4.85723823e-02\n",
      "  -3.35521477e-02 -4.28952084e-03 -7.07104505e-01  0.00000000e+00]\n",
      " [ 7.21672207e-03 -5.25018286e-01  1.99379764e-01  4.99428298e-02\n",
      "  -6.03515835e-02  1.72359701e-02  7.48634337e-03  6.61925907e-02\n",
      "  -6.47232969e-02 -3.26971483e-02  7.99571846e-01  1.36088283e-01\n",
      "   1.01689101e-01  1.56909613e-02  2.60117766e-08  0.00000000e+00]\n",
      " [-4.24361451e-02 -2.03834881e-01 -1.39939353e-01 -5.11762703e-01\n",
      "   3.87921513e-01 -2.33725853e-02 -3.88177538e-01 -5.13019209e-01\n",
      "   3.25584646e-01  5.17294618e-02  3.90612922e-02 -2.02332850e-03\n",
      "  -7.39637294e-03 -8.10650312e-04 -1.99062457e-05  0.00000000e+00]]\n",
      "\n",
      "Eigenvalues \n",
      "[4.60181765e+00 3.18905187e+00 2.03705938e+00 1.53642289e+00\n",
      " 1.24614997e+00 8.72599769e-01 4.59485216e-01 4.37767915e-01\n",
      " 4.16834503e-01 1.21437831e-01 4.20240862e-02 1.93603803e-02\n",
      " 1.56766547e-02 5.81203062e-03 3.61676876e-13 0.00000000e+00]\n"
     ]
    }
   ],
   "source": [
    "#Calculamos los autovalores y autovectores de la matriz y los mostramos\n",
    "\n",
    "cov_mat = np.cov(X_std.T)\n",
    "\n",
    "eig_vals, eig_vecs = np.linalg.eig(cov_mat)\n",
    "\n",
    "print('Eigenvectors \\n%s' %eig_vecs)\n",
    "print('\\nEigenvalues \\n%s' %eig_vals)"
   ]
  },
  {
   "cell_type": "markdown",
   "metadata": {},
   "source": [
    "Considerando que se requiere reducir la dimensionalidad del dataset de tal forma que se pierda la menor información posible, descartaremos los autovectores cuyos autovalores sean más bajos, ya que son aquellos que menos información aportan al conjunto global. Para ello, lo que se hace es ordenarlos por parejas de autovector, autovalor."
   ]
  },
  {
   "cell_type": "code",
   "execution_count": 10,
   "metadata": {},
   "outputs": [
    {
     "name": "stdout",
     "output_type": "stream",
     "text": [
      "Autovalores en orden descendiente:\n",
      "4.601817648995267\n",
      "3.1890518739859397\n",
      "2.0370593782743813\n",
      "1.5364228899104841\n",
      "1.2461499729564516\n",
      "0.8725997687492519\n",
      "0.45948521631868955\n",
      "0.4377679147454783\n",
      "0.41683450330875454\n",
      "0.12143783089488946\n",
      "0.042024086197037944\n",
      "0.01936038034780119\n",
      "0.015676654706672094\n",
      "0.005812030623555964\n",
      "3.6167687630538036e-13\n",
      "0.0\n"
     ]
    }
   ],
   "source": [
    "#  Hacemos una lista de parejas (autovector, autovalor) \n",
    "eig_pairs = [(np.abs(eig_vals[i]), eig_vecs[:,i]) for i in range(len(eig_vals))]\n",
    "\n",
    "# Ordenamos estas parejas den orden descendiente con la función sort\n",
    "eig_pairs.sort(key=lambda x: x[0], reverse=True)\n",
    "\n",
    "# Visualizamos la lista de autovalores en orden desdenciente\n",
    "print('Autovalores en orden descendiente:')\n",
    "for i in eig_pairs:\n",
    "    print(i[0])"
   ]
  },
  {
   "cell_type": "markdown",
   "metadata": {},
   "source": [
    "### Seleccionamos los los autovectores correspondientes a las componentes principales\n",
    "\n",
    "El objetivo del Análsis de componentes principales es proyectar el dataset 4D en un espacio de menor dimensionalidad, con el fin de mejorar la eficiencia de cálculo y obtener la mayor información posible en el proceso. No obstante, la atención se centra en cuantas componentes seleccionar o dicho en otras palabras cual es el mejor espacio a proyectar 2D, 3D o unidimensional.\n",
    "\n",
    "Anteriormente se ordenaron los valores propios como si fuese un proceso aislado,  por el contrario es resultado muy importante a tomar ya que tales valores propios es la medida de varianza de los datos. Ahora bien, para poder seleccionar la cantidad de componentes principales se hará uso de una métrica que se conoce como “varianza explicada”, el hecho de tener cuánta varianza se puede atribuir a cada una de estas componentes principales nos dará información necesaria para la seleccion de los componentes:"
   ]
  },
  {
   "cell_type": "code",
   "execution_count": 11,
   "metadata": {},
   "outputs": [
    {
     "data": {
      "image/png": "[encoded data removed]",
      "text/plain": [
       "<Figure size 720x432 with 1 Axes>"
      ]
     },
     "metadata": {
      "needs_background": "light"
     },
     "output_type": "display_data"
    }
   ],
   "source": [
    "# A partir de los autovalores, calculamos la varianza explicada\n",
    "tot = sum(eig_vals)\n",
    "var_exp = [(i / tot)*100 for i in sorted(eig_vals, reverse=True)]\n",
    "cum_var_exp = np.cumsum(var_exp)\n",
    "\n",
    "# Representamos en un diagrama de barras la varianza explicada por cada autovalor, y la acumulada\n",
    "with plt.style.context('seaborn-pastel'):\n",
    "    plt.figure(figsize=(10, 6))\n",
    "\n",
    "    plt.bar(range(16), var_exp, alpha=0.5, align='center',\n",
    "            label='Varianza individual explicada', color='g')\n",
    "    plt.step(range(16), cum_var_exp, where='mid', linestyle='--', label='Varianza explicada acumulada')\n",
    "    plt.ylabel('Ratio de Varianza Explicada')\n",
    "    plt.xlabel('Componentes Principales')\n",
    "    plt.legend(loc='best')\n",
    "    plt.tight_layout()"
   ]
  },
  {
   "cell_type": "markdown",
   "metadata": {},
   "source": [
    "En la gráfica se aprecia claramente que la mayor parte de la varianza (con el 30.6%) corresponde a la primera componente. La segunda acumula algo más del 51% de la varianza, con la tercera componente se tiene una varianza acomulada de 65%. No obstante, con seis componentes se logra explicar el 89.9% de la varianza. Por tal motivo se consideran 6 componentes para realizar la proyección."
   ]
  },
  {
   "cell_type": "markdown",
   "metadata": {},
   "source": [
    "### Planos factoriales y ayudas para su interpretación\n",
    "\n",
    "El plano factorial se construye buscando las coordenadas de los individuos sobre los ejes 1 - 6. El vector de todas las coordenadas sobre un eje s se nota $F_s$ luego:\n",
    "\n",
    "$$F= XU$$"
   ]
  },
  {
   "cell_type": "code",
   "execution_count": 12,
   "metadata": {},
   "outputs": [
    {
     "data": {
      "text/plain": [
       "(10000, 16)"
      ]
     },
     "execution_count": 12,
     "metadata": {},
     "output_type": "execute_result"
    }
   ],
   "source": [
    "F = X_std @ eig_vecs\n",
    "F.shape"
   ]
  },
  {
   "cell_type": "code",
   "execution_count": 13,
   "metadata": {},
   "outputs": [
    {
     "name": "stdout",
     "output_type": "stream",
     "text": [
      "             0         1         2         3         4         5\n",
      "0     1.158585 -1.580231  1.059144 -0.212335  0.775249  0.801125\n",
      "1     0.289570  1.140696  0.127755 -0.523261  1.132991  0.206340\n",
      "2    -1.280438  1.160926  0.236499 -0.349019  1.137074  0.456198\n",
      "3     1.558494 -1.864676  1.174055 -0.314323  0.680125 -0.226703\n",
      "4     1.206669 -1.955424  1.248927 -0.299392  0.663665 -0.430612\n",
      "...        ...       ...       ...       ...       ...       ...\n",
      "9995 -0.234489  0.469865 -2.256738  0.954060 -0.747882  0.390167\n",
      "9996 -0.192925  0.417180 -2.215993  0.976709 -0.833712 -0.116831\n",
      "9997 -1.347611 -5.838278 -0.317535  0.534878 -0.628029  0.628946\n",
      "9998 -1.228819  0.473153 -2.162387  1.053985 -0.760203  0.494649\n",
      "9999  0.527136  0.603505 -2.375436  0.921840 -0.777015  0.470754\n",
      "\n",
      "[10000 rows x 6 columns]\n"
     ]
    }
   ],
   "source": [
    "dataframe=pd.DataFrame(F) \n",
    "print(dataframe[[0,1,2,3,4,5]])      #Muestra en DataFrame"
   ]
  },
  {
   "cell_type": "code",
   "execution_count": null,
   "metadata": {},
   "outputs": [],
   "source": []
  },
  {
   "cell_type": "markdown",
   "metadata": {},
   "source": [
    "---"
   ]
  },
  {
   "cell_type": "code",
   "execution_count": 14,
   "metadata": {},
   "outputs": [
    {
     "name": "stdout",
     "output_type": "stream",
     "text": [
      "Matriz W:\n",
      " [[ 0.          0.          0.          0.          0.          0.        ]\n",
      " [-0.02781599  0.11064981  0.24600188 -0.52574311 -0.42399802  0.06067488]\n",
      " [-0.05036337 -0.14585402 -0.48339836 -0.17589308 -0.47394191  0.04411438]\n",
      " [-0.35029343  0.09897331 -0.02800244  0.03264104  0.0565813   0.45028511]\n",
      " [-0.45490735  0.04886883  0.00196943  0.02947503  0.02739185  0.13938407]\n",
      " [-0.46045243  0.00197725  0.03037075  0.02818295  0.01109088  0.01801842]\n",
      " [-0.44930078 -0.02978793  0.05063387  0.02690137  0.00650999 -0.02515895]\n",
      " [-0.44139793 -0.05241061  0.06342576  0.03171055 -0.00111676 -0.04643742]\n",
      " [-0.04633861 -0.16860117 -0.57800049 -0.03734419 -0.33034142  0.03941116]\n",
      " [-0.0169253  -0.10007327 -0.21943933 -0.48860312  0.48893976  0.0117765 ]\n",
      " [-0.00630668  0.14820291  0.43287598 -0.42452128 -0.28546315  0.02012299]\n",
      " [-0.00819787 -0.53505497  0.18417932  0.03691706 -0.05137665  0.02451219]\n",
      " [-0.23208414  0.02231736 -0.02666531 -0.02701844 -0.04902968 -0.87460383]\n",
      " [-0.00819672 -0.53505269  0.18418445  0.0369317  -0.0513879   0.02451302]\n",
      " [ 0.00721672 -0.52501829  0.19937976  0.04994283 -0.06035158  0.01723597]\n",
      " [-0.04243615 -0.20383488 -0.13993935 -0.5117627   0.38792151 -0.02337259]]\n"
     ]
    }
   ],
   "source": [
    "#Generamos la matríz a partir de los pares autovalor-autovector\n",
    "matrix_w = np.hstack((eig_pairs[0][1].reshape(16,1),\n",
    "                      eig_pairs[1][1].reshape(16,1),\n",
    "                     eig_pairs[2][1].reshape(16,1),\n",
    "                     eig_pairs[3][1].reshape(16,1),\n",
    "                     eig_pairs[4][1].reshape(16,1),\n",
    "                     eig_pairs[5][1].reshape(16,1)))\n",
    "\n",
    "print('Matriz W:\\n', matrix_w)\n",
    "\n",
    "matr= X_std.dot(matrix_w)\n"
   ]
  },
  {
   "cell_type": "code",
   "execution_count": 18,
   "metadata": {},
   "outputs": [
    {
     "name": "stdout",
     "output_type": "stream",
     "text": [
      "             0         1         2         3         4         5\n",
      "0     1.158585 -1.580231  1.059144 -0.212335  0.775249  0.801125\n",
      "1     0.289570  1.140696  0.127755 -0.523261  1.132991  0.206340\n",
      "2    -1.280438  1.160926  0.236499 -0.349019  1.137074  0.456198\n",
      "3     1.558494 -1.864676  1.174055 -0.314323  0.680125 -0.226703\n",
      "4     1.206669 -1.955424  1.248927 -0.299392  0.663665 -0.430612\n",
      "...        ...       ...       ...       ...       ...       ...\n",
      "9995 -0.234489  0.469865 -2.256738  0.954060 -0.747882  0.390167\n",
      "9996 -0.192925  0.417180 -2.215993  0.976709 -0.833712 -0.116831\n",
      "9997 -1.347611 -5.838278 -0.317535  0.534878 -0.628029  0.628946\n",
      "9998 -1.228819  0.473153 -2.162387  1.053985 -0.760203  0.494649\n",
      "9999  0.527136  0.603505 -2.375436  0.921840 -0.777015  0.470754\n",
      "\n",
      "[10000 rows x 6 columns]\n"
     ]
    }
   ],
   "source": [
    "dataframe2=pd.DataFrame(matr)   #primeras componentes\n",
    "print(dataframe2)                     #muestra en forma de array\""
   ]
  },
  {
   "cell_type": "code",
   "execution_count": 17,
   "metadata": {},
   "outputs": [
    {
     "data": {
      "text/plain": [
       "pandas.core.frame.DataFrame"
      ]
     },
     "execution_count": 17,
     "metadata": {},
     "output_type": "execute_result"
    }
   ],
   "source": [
    "type(dataframe)"
   ]
  },
  {
   "cell_type": "markdown",
   "metadata": {},
   "source": []
  },
  {
   "cell_type": "code",
   "execution_count": null,
   "metadata": {},
   "outputs": [],
   "source": []
  },
  {
   "cell_type": "code",
   "execution_count": null,
   "metadata": {},
   "outputs": [],
   "source": []
  },
  {
   "cell_type": "code",
   "execution_count": null,
   "metadata": {},
   "outputs": [],
   "source": []
  },
  {
   "cell_type": "code",
   "execution_count": null,
   "metadata": {},
   "outputs": [],
   "source": []
  },
  {
   "cell_type": "code",
   "execution_count": null,
   "metadata": {},
   "outputs": [],
   "source": []
  },
  {
   "cell_type": "code",
   "execution_count": null,
   "metadata": {},
   "outputs": [],
   "source": []
  },
  {
   "cell_type": "code",
   "execution_count": 10,
   "metadata": {},
   "outputs": [],
   "source": [
    "import pandas as pd\n",
    "import numpy as np\n",
    "import matplotlib.pyplot as plt\n",
    "from sklearn.decomposition import PCA\n",
    "from sklearn.preprocessing import StandardScaler\n",
    "%matplotlib inline"
   ]
  },
  {
   "cell_type": "code",
   "execution_count": 34,
   "metadata": {},
   "outputs": [
    {
     "data": {
      "text/plain": [
       "0    4998\n",
       "1    4152\n",
       "2     850\n",
       "Name: class, dtype: int64"
      ]
     },
     "execution_count": 34,
     "metadata": {},
     "output_type": "execute_result"
    }
   ],
   "source": [
    "url = 'https://raw.githubusercontent.com/joaramirezcu/Mineria_Proyecto/master/Skyserver_SQL2_27_2018%206_51_39%20PM.csv'\n",
    "data_f1 = pd.read_csv(url, error_bad_lines=False)\n",
    "data_f1=data_f1.drop(['rerun'], axis=1)\n",
    "\n",
    "X = data_f1.iloc[:, [1,2,3,4,5,6,7,13]]\n",
    "Y = data_f1.iloc[:, [12]]\n",
    "Y = Y.replace({\"GALAXY\":0, \"STAR\":1,\"QSO\":2})\n",
    "Y[\"class\"].value_counts()"
   ]
  },
  {
   "cell_type": "code",
   "execution_count": 36,
   "metadata": {},
   "outputs": [
    {
     "name": "stdout",
     "output_type": "stream",
     "text": [
      "           ra       dec         u         g         r         i         z  \\\n",
      "0  183.531326  0.089693  19.47406  17.04240  15.94699  15.50342  15.22531   \n",
      "1  183.598371  0.135285  18.66280  17.21449  16.67637  16.48922  16.39150   \n",
      "2  183.680207  0.126185  19.38298  18.19169  17.47428  17.08732  16.80125   \n",
      "3  183.870529  0.049911  17.76536  16.60272  16.16116  15.98233  15.90438   \n",
      "4  183.883288  0.102557  17.55025  16.26342  16.43869  16.55492  16.61326   \n",
      "\n",
      "   redshift  \n",
      "0 -0.000009  \n",
      "1 -0.000055  \n",
      "2  0.123111  \n",
      "3 -0.000111  \n",
      "4  0.000590  \n"
     ]
    }
   ],
   "source": [
    "print(X.head())"
   ]
  },
  {
   "cell_type": "code",
   "execution_count": 37,
   "metadata": {},
   "outputs": [
    {
     "name": "stdout",
     "output_type": "stream",
     "text": [
      "[[ 0.16745842 -0.58492272  1.03148637 ... -0.94605772 -0.99534154\n",
      "  -0.36973112]\n",
      " [ 0.16886159 -0.58311429  0.05243046 ... -0.08264457 -0.02604308\n",
      "  -0.36984929]\n",
      " [ 0.17057433 -0.58347525  0.92156796 ...  0.44120145  0.31452753\n",
      "  -0.05302706]\n",
      " ...\n",
      " [-0.92039468  1.46090664  0.16753826 ...  0.74398287  0.82921097\n",
      "  -0.37074104]\n",
      " [-0.92197294  1.46432109  0.31801835 ...  0.6825157   0.59598555\n",
      "  -0.33364691]\n",
      " [-0.91804124  1.46639319  0.79229193 ... -0.65522289 -0.76214106\n",
      "  -0.06510125]]\n"
     ]
    }
   ],
   "source": [
    "#normalizando \n",
    "from sklearn.preprocessing import StandardScaler\n",
    "X_std = StandardScaler().fit_transform(X)\n",
    "print(X_std)"
   ]
  },
  {
   "cell_type": "code",
   "execution_count": 38,
   "metadata": {},
   "outputs": [
    {
     "name": "stdout",
     "output_type": "stream",
     "text": [
      "NumPy covariance matrix: \n",
      "[[1.00010001 0.00359641 0.03124068 0.04391302 0.04710761 0.04573565\n",
      "  0.04295387 0.03031043]\n",
      " [0.00359641 1.00010001 0.03528285 0.0618809  0.06341029 0.05829772\n",
      "  0.05687599 0.06702746]\n",
      " [0.03124068 0.03528285 1.00010001 0.84931696 0.6924482  0.6026905\n",
      "  0.55153795 0.16375725]\n",
      " [0.04391302 0.0618809  0.84931696 1.00010001 0.95820206 0.90750945\n",
      "  0.87971015 0.40761706]\n",
      " [0.04710761 0.06341029 0.6924482  0.95820206 1.00010001 0.97776955\n",
      "  0.96929364 0.44112386]\n",
      " [0.04573565 0.05829772 0.6026905  0.90750945 0.97776955 1.00010001\n",
      "  0.98160477 0.4314931 ]\n",
      " [0.04295387 0.05687599 0.55153795 0.87971015 0.96929364 0.98160477\n",
      "  1.00010001 0.42407658]\n",
      " [0.03031043 0.06702746 0.16375725 0.40761706 0.44112386 0.4314931\n",
      "  0.42407658 1.00010001]]\n"
     ]
    }
   ],
   "source": [
    "# Calculamos la matriz de covarianza\n",
    "\n",
    "print('NumPy covariance matrix: \\n%s' %np.cov(X_std.T))"
   ]
  },
  {
   "cell_type": "code",
   "execution_count": 39,
   "metadata": {},
   "outputs": [],
   "source": [
    "#Calculamos los autovalores y autovectores de la matriz y los mostramos\n",
    "\n",
    "cov_mat = np.cov(X_std.T)\n",
    "\n",
    "eig_vals, eig_vecs = np.linalg.eig(cov_mat)"
   ]
  },
  {
   "cell_type": "code",
   "execution_count": 40,
   "metadata": {},
   "outputs": [
    {
     "name": "stdout",
     "output_type": "stream",
     "text": [
      "Autovalores en orden descendiente:\n",
      "4.587686687994357\n",
      "1.006002629479969\n",
      "0.9973048273150398\n",
      "0.8674391730323167\n",
      "0.49840275439842785\n",
      "0.021615843522047214\n",
      "0.016494148487470852\n",
      "0.0058540157783755825\n"
     ]
    }
   ],
   "source": [
    "#  Hacemos una lista de parejas (autovector, autovalor) \n",
    "eig_pairs = [(np.abs(eig_vals[i]), eig_vecs[:,i]) for i in range(len(eig_vals))]\n",
    "\n",
    "# Ordenamos estas parejas den orden descendiente con la función sort\n",
    "eig_pairs.sort(key=lambda x: x[0], reverse=True)\n",
    "\n",
    "# Visualizamos la lista de autovalores en orden desdenciente\n",
    "print('Autovalores en orden descendiente:')\n",
    "for i in eig_pairs:\n",
    "    print(i[0])"
   ]
  },
  {
   "cell_type": "code",
   "execution_count": 45,
   "metadata": {},
   "outputs": [
    {
     "data": {
      "text/plain": [
       "array([ 57.34034899,  69.91412436,  82.37918807,  93.22109343,\n",
       "        99.45050486,  99.72067588,  99.92683212, 100.        ])"
      ]
     },
     "execution_count": 45,
     "metadata": {},
     "output_type": "execute_result"
    },
    {
     "data": {
      "image/png": "[encoded data removed]",
      "text/plain": [
       "<Figure size 720x432 with 1 Axes>"
      ]
     },
     "metadata": {
      "needs_background": "light"
     },
     "output_type": "display_data"
    }
   ],
   "source": [
    "# A partir de los autovalores, calculamos la varianza explicada\n",
    "tot = sum(eig_vals)\n",
    "var_exp = [(i / tot)*100 for i in sorted(eig_vals, reverse=True)]\n",
    "cum_var_exp = np.cumsum(var_exp)\n",
    "\n",
    "# Representamos en un diagrama de barras la varianza explicada por cada autovalor, y la acumulada\n",
    "with plt.style.context('seaborn-pastel'):\n",
    "    plt.figure(figsize=(10, 6))\n",
    "\n",
    "    plt.bar(range(len(eig_vals)), var_exp, alpha=0.5, align='center',\n",
    "            label='Varianza individual explicada', color='g')\n",
    "    plt.step(range(len(eig_vals)), cum_var_exp, where='mid', linestyle='--', label='Varianza explicada acumulada')\n",
    "    plt.ylabel('Ratio de Varianza Explicada')\n",
    "    plt.xlabel('Componentes Principales')\n",
    "    plt.legend(loc='best')\n",
    "    plt.tight_layout()\n",
    "    \n",
    "cum_var_exp"
   ]
  },
  {
   "cell_type": "code",
   "execution_count": null,
   "metadata": {},
   "outputs": [],
   "source": []
  },
  {
   "cell_type": "code",
   "execution_count": null,
   "metadata": {},
   "outputs": [],
   "source": []
  },
  {
   "cell_type": "code",
   "execution_count": 28,
   "metadata": {},
   "outputs": [
    {
     "data": {
      "text/plain": [
       "[62.61959504007534, 14.24858118973115, 14.223592439141935]"
      ]
     },
     "execution_count": 28,
     "metadata": {},
     "output_type": "execute_result"
    }
   ],
   "source": []
  },
  {
   "cell_type": "code",
   "execution_count": 30,
   "metadata": {},
   "outputs": [
    {
     "data": {
      "text/plain": [
       "array([ 62.61959504,  76.86817623,  91.09176867,  99.31857455,\n",
       "        99.67844898,  99.91559109, 100.        ])"
      ]
     },
     "execution_count": 30,
     "metadata": {},
     "output_type": "execute_result"
    }
   ],
   "source": []
  },
  {
   "cell_type": "code",
   "execution_count": null,
   "metadata": {},
   "outputs": [],
   "source": []
  }
 ],
 "metadata": {
  "kernelspec": {
   "display_name": "Python 3",
   "language": "python",
   "name": "python3"
  },
  "language_info": {
   "codemirror_mode": {
    "name": "ipython",
    "version": 3
   },
   "file_extension": ".py",
   "mimetype": "text/x-python",
   "name": "python",
   "nbconvert_exporter": "python",
   "pygments_lexer": "ipython3",
   "version": "3.7.4"
  }
 },
 "nbformat": 4,
 "nbformat_minor": 4
}
