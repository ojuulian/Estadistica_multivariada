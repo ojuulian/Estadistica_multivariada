{
 "cells": [
  {
   "cell_type": "markdown",
   "metadata": {},
   "source": [
    "<img src=\"./unal.png\" align=left width=\"150\" height=\"150\"></img>\n",
    "\n",
    "\n",
    "\n",
    "$\\,$\n",
    "---\n",
    "\n",
    "<h2 align=\"center\"> RESULTADOS PRUEBA DE ESTADO ICFES (FactoClass)</h2>\n",
    "<h3 align=\"center\">Análisis de correspondencias simples (ACS)</h3>\n",
    "\n",
    "\n",
    "$\\;$\n",
    "\n",
    "---"
   ]
  },
  {
   "cell_type": "markdown",
   "metadata": {},
   "source": [
    "Se realiza un análisis de los resultados del examen de estado realizado por el ICFES en Colombia durante 2008. La tabla tiene 29 departamentos, incluyendo una fila que agrupa los departamentos de menos de 100 mil habitantes P01 : SAP;AMA; V ID; V AU;GUA.\n",
    "\n",
    "Los departamentos se estructuran en 4 grupos según su población, en millones de habitantes: \n",
    "\n",
    "* P5: más de 2\n",
    "* P4: entre 1 y 2\n",
    "* P3: entre 0.5 y 1 \n",
    "* P2: menor de 0.5.\n",
    "\n",
    "La TC tiene 12 columnas, que es la clasificación combinada de la jornada del colegio:  C:completa, M:mañana y T:tarde y su categoía de rendimiento: inferior, medio, bajo y alto.\n",
    "\n",
    "* Cinferior: Jornada Completa categoria inferior.\n",
    "* Cbajo: Jornada Completa categoria baja.\n",
    "* Cmedio: Jornada Completa categoria media.\n",
    "* Cialto: Jornada Completa categoria alta.\n",
    "\n",
    "* Minferior: Jornada Mañana categoria inferior.\n",
    "* Mbajo: Jornada Mañana  categoria baja.\n",
    "* Mmedio: Jornada Mañana  categoria media.\n",
    "* MAlto: Jornada Mañana  categoria alta.\n",
    "\n",
    "* Tinferior: Jornada Tarde categoria inferior.\n",
    "* Tbajo: Jornada Tarde categoria baja.\n",
    "* Tmedio: Jornada Tarde categoria media.\n",
    "* TAlto: Jornada Tarde categoria alta."
   ]
  },
  {
   "cell_type": "code",
   "execution_count": 2,
   "metadata": {},
   "outputs": [
    {
     "data": {
      "text/html": [
       "<table>\n",
       "<thead><tr><th></th><th scope=col>Cinferior</th><th scope=col>Cbajo</th><th scope=col>Cmedio</th><th scope=col>Calto</th><th scope=col>Minferior</th><th scope=col>Mbajo</th><th scope=col>Mmedio</th><th scope=col>Malto</th><th scope=col>Tinferior</th><th scope=col>Tbajo</th><th scope=col>Tmedio</th><th scope=col>Talto</th></tr></thead>\n",
       "<tbody>\n",
       "\t<tr><th scope=row>BOG</th><td> 5 </td><td> 40</td><td>101</td><td>309</td><td> 9 </td><td> 79</td><td>219</td><td>241</td><td> 15</td><td>171</td><td>179</td><td>61 </td></tr>\n",
       "\t<tr><th scope=row>ANT</th><td>63 </td><td>180</td><td>116</td><td>105</td><td>38 </td><td>105</td><td> 96</td><td> 90</td><td>125</td><td>156</td><td> 84</td><td>29 </td></tr>\n",
       "\t<tr><th scope=row>VAL</th><td>35 </td><td> 93</td><td> 72</td><td> 81</td><td>51 </td><td>140</td><td>118</td><td>132</td><td> 62</td><td>113</td><td> 55</td><td>19 </td></tr>\n",
       "\t<tr><th scope=row>CUN</th><td>19 </td><td> 80</td><td> 81</td><td>103</td><td>11 </td><td> 90</td><td>114</td><td> 50</td><td> 40</td><td> 84</td><td> 33</td><td> 7 </td></tr>\n",
       "\t<tr><th scope=row>ATL</th><td>31 </td><td> 48</td><td> 22</td><td> 37</td><td>72 </td><td> 62</td><td> 48</td><td> 48</td><td>106</td><td> 61</td><td> 32</td><td>15 </td></tr>\n",
       "\t<tr><th scope=row>SAN</th><td> 7 </td><td> 27</td><td> 51</td><td> 61</td><td>10 </td><td> 40</td><td> 78</td><td> 79</td><td> 30</td><td> 51</td><td> 24</td><td>20 </td></tr>\n",
       "</tbody>\n",
       "</table>\n"
      ],
      "text/latex": [
       "\\begin{tabular}{r|llllllllllll}\n",
       "  & Cinferior & Cbajo & Cmedio & Calto & Minferior & Mbajo & Mmedio & Malto & Tinferior & Tbajo & Tmedio & Talto\\\\\n",
       "\\hline\n",
       "\tBOG &  5  &  40 & 101 & 309 &  9  &  79 & 219 & 241 &  15 & 171 & 179 & 61 \\\\\n",
       "\tANT & 63  & 180 & 116 & 105 & 38  & 105 &  96 &  90 & 125 & 156 &  84 & 29 \\\\\n",
       "\tVAL & 35  &  93 &  72 &  81 & 51  & 140 & 118 & 132 &  62 & 113 &  55 & 19 \\\\\n",
       "\tCUN & 19  &  80 &  81 & 103 & 11  &  90 & 114 &  50 &  40 &  84 &  33 &  7 \\\\\n",
       "\tATL & 31  &  48 &  22 &  37 & 72  &  62 &  48 &  48 & 106 &  61 &  32 & 15 \\\\\n",
       "\tSAN &  7  &  27 &  51 &  61 & 10  &  40 &  78 &  79 &  30 &  51 &  24 & 20 \\\\\n",
       "\\end{tabular}\n"
      ],
      "text/markdown": [
       "\n",
       "| <!--/--> | Cinferior | Cbajo | Cmedio | Calto | Minferior | Mbajo | Mmedio | Malto | Tinferior | Tbajo | Tmedio | Talto |\n",
       "|---|---|---|---|---|---|---|---|---|---|---|---|---|\n",
       "| BOG |  5  |  40 | 101 | 309 |  9  |  79 | 219 | 241 |  15 | 171 | 179 | 61  |\n",
       "| ANT | 63  | 180 | 116 | 105 | 38  | 105 |  96 |  90 | 125 | 156 |  84 | 29  |\n",
       "| VAL | 35  |  93 |  72 |  81 | 51  | 140 | 118 | 132 |  62 | 113 |  55 | 19  |\n",
       "| CUN | 19  |  80 |  81 | 103 | 11  |  90 | 114 |  50 |  40 |  84 |  33 |  7  |\n",
       "| ATL | 31  |  48 |  22 |  37 | 72  |  62 |  48 |  48 | 106 |  61 |  32 | 15  |\n",
       "| SAN |  7  |  27 |  51 |  61 | 10  |  40 |  78 |  79 |  30 |  51 |  24 | 20  |\n",
       "\n"
      ],
      "text/plain": [
       "    Cinferior Cbajo Cmedio Calto Minferior Mbajo Mmedio Malto Tinferior Tbajo\n",
       "BOG  5         40   101    309    9         79   219    241    15       171  \n",
       "ANT 63        180   116    105   38        105    96     90   125       156  \n",
       "VAL 35         93    72     81   51        140   118    132    62       113  \n",
       "CUN 19         80    81    103   11         90   114     50    40        84  \n",
       "ATL 31         48    22     37   72         62    48     48   106        61  \n",
       "SAN  7         27    51     61   10         40    78     79    30        51  \n",
       "    Tmedio Talto\n",
       "BOG 179    61   \n",
       "ANT  84    29   \n",
       "VAL  55    19   \n",
       "CUN  33     7   \n",
       "ATL  32    15   \n",
       "SAN  24    20   "
      ]
     },
     "metadata": {},
     "output_type": "display_data"
    }
   ],
   "source": [
    "library ( FactoClass )\n",
    "data ( icfes08 )\n",
    "head( icfes08 )"
   ]
  },
  {
   "cell_type": "markdown",
   "metadata": {},
   "source": [
    "### Objetivo\n",
    "\n",
    "El objetivo principal del análisis es comparar los perfiles departamentales según la calidad educativa de los colegios. También se desea explorar la influencia de la jornada sobre el ordenamiento de los departamentos y la influencia de su tamaño, en términos de población, incide en ese ordenamiento.\n",
    "\n",
    "### Gráfica de perfiles\n",
    "\n",
    "Perfiles de los departamentos según jornadas/rendimiento. Las letras C,M\n",
    "y T indican las jornadas, las que además se diferencian con los colores elegidos.\n"
   ]
  },
  {
   "cell_type": "code",
   "execution_count": 3,
   "metadata": {},
   "outputs": [
    {
     "data": {
      "image/png": "[encoded data removed]",
      "text/plain": [
       "plot without title"
      ]
     },
     "metadata": {},
     "output_type": "display_data"
    }
   ],
   "source": [
    "marron <-c(\" burlywood \",\" coral \",\" chocolate \",\" brown \")\n",
    "mycolors <-c(\"#3B0B39\",  \"#8A0829\", \"#F1090C\", \"#FA4002\", \"#F4A405\",\"#FFFF00\", marron )\n",
    "par (mai =c(0 ,1 ,0 ,0))                        # Márgenes de la gráfica\n",
    "plotct ( icfes08 ,\"row\",col= mycolors )\n",
    "#dev. print ( device = xfig , file =\" TCicfesPerpilesDeptos .fig \")"
   ]
  },
  {
   "cell_type": "markdown",
   "metadata": {},
   "source": [
    "\n",
    "Nótese que Chocó se diferencia bastante de los demás departamentos: tiene las barras de rendimiento inferior, en las tres jornadas de mayor longitud que en los demás departamentos.\n",
    "\n",
    "Esto se evidencia en el ACS de tabla, pues muestra al Choco alejado de los demás departamentos. Entonces se toma para este análisis al Chocó como ilustrativo, para poder ver mejor las diferencias de los demás departamentos.\n",
    "\n",
    "A continuación se realiza el Análisis de valores propios sin el departamento Choco, puesto que será tomada como variable ilustrativa."
   ]
  },
  {
   "cell_type": "code",
   "execution_count": 4,
   "metadata": {},
   "outputs": [
    {
     "data": {
      "text/plain": [
       "Duality diagramm\n",
       "class: coa dudi\n",
       "$call: dudi.coa(df = tab, scannf = FALSE, nf = 3)\n",
       "\n",
       "$nf: 3 axis-components saved\n",
       "$rank: 11\n",
       "eigen values: 0.1508 0.04946 0.0229 0.0126 0.009578 ...\n",
       "  vector length mode    content       \n",
       "1 $cw    12     numeric column weights\n",
       "2 $lw    28     numeric row weights   \n",
       "3 $eig   11     numeric eigen values  \n",
       "\n",
       "  data.frame nrow ncol content             \n",
       "1 $tab       28   12   modified array      \n",
       "2 $li        28   3    row coordinates     \n",
       "3 $l1        28   3    row normed scores   \n",
       "4 $co        12   3    column coordinates  \n",
       "5 $c1        12   3    column normed scores\n",
       "other elements: N "
      ]
     },
     "metadata": {},
     "output_type": "display_data"
    },
    {
     "data": {
      "text/html": [
       "<table>\n",
       "<thead><tr><th></th><th scope=col>Ax1</th><th scope=col>Ax2</th><th scope=col>Ax3</th><th scope=col>Ax4</th><th scope=col>Ax5</th><th scope=col>Ax6</th><th scope=col>Ax7</th><th scope=col>Ax8</th><th scope=col>Ax9</th><th scope=col>Ax10</th><th scope=col>Ax11</th></tr></thead>\n",
       "<tbody>\n",
       "\t<tr><th scope=row>inertia</th><td> 0.1507689  </td><td> 0.04945561 </td><td> 0.02289711 </td><td> 0.0126027  </td><td> 0.009577662</td><td> 0.006486501</td><td> 0.004632648</td><td> 0.002868748</td><td> 0.002318244</td><td> 0.002049103</td><td>  0.0011831 </td></tr>\n",
       "\t<tr><th scope=row>cum</th><td> 0.1507689  </td><td> 0.20022447 </td><td> 0.22312157 </td><td> 0.2357243  </td><td> 0.245301936</td><td> 0.251788437</td><td> 0.256421085</td><td> 0.259289833</td><td> 0.261608077</td><td> 0.263657179</td><td>  0.2648403 </td></tr>\n",
       "\t<tr><th scope=row>cum(%)</th><td>56.9282195  </td><td>75.60196885 </td><td>84.24759695 </td><td>89.0062018  </td><td>92.622593673</td><td>95.071806165</td><td>96.821029477</td><td>97.904228670</td><td>98.779565171</td><td>99.553277753</td><td>100.0000000 </td></tr>\n",
       "</tbody>\n",
       "</table>\n"
      ],
      "text/latex": [
       "\\begin{tabular}{r|lllllllllll}\n",
       "  & Ax1 & Ax2 & Ax3 & Ax4 & Ax5 & Ax6 & Ax7 & Ax8 & Ax9 & Ax10 & Ax11\\\\\n",
       "\\hline\n",
       "\tinertia &  0.1507689   &  0.04945561  &  0.02289711  &  0.0126027   &  0.009577662 &  0.006486501 &  0.004632648 &  0.002868748 &  0.002318244 &  0.002049103 &   0.0011831 \\\\\n",
       "\tcum &  0.1507689   &  0.20022447  &  0.22312157  &  0.2357243   &  0.245301936 &  0.251788437 &  0.256421085 &  0.259289833 &  0.261608077 &  0.263657179 &   0.2648403 \\\\\n",
       "\tcum(\\%) & 56.9282195   & 75.60196885  & 84.24759695  & 89.0062018   & 92.622593673 & 95.071806165 & 96.821029477 & 97.904228670 & 98.779565171 & 99.553277753 & 100.0000000 \\\\\n",
       "\\end{tabular}\n"
      ],
      "text/markdown": [
       "\n",
       "| <!--/--> | Ax1 | Ax2 | Ax3 | Ax4 | Ax5 | Ax6 | Ax7 | Ax8 | Ax9 | Ax10 | Ax11 |\n",
       "|---|---|---|---|---|---|---|---|---|---|---|---|\n",
       "| inertia |  0.1507689   |  0.04945561  |  0.02289711  |  0.0126027   |  0.009577662 |  0.006486501 |  0.004632648 |  0.002868748 |  0.002318244 |  0.002049103 |   0.0011831  |\n",
       "| cum |  0.1507689   |  0.20022447  |  0.22312157  |  0.2357243   |  0.245301936 |  0.251788437 |  0.256421085 |  0.259289833 |  0.261608077 |  0.263657179 |   0.2648403  |\n",
       "| cum(%) | 56.9282195   | 75.60196885  | 84.24759695  | 89.0062018   | 92.622593673 | 95.071806165 | 96.821029477 | 97.904228670 | 98.779565171 | 99.553277753 | 100.0000000  |\n",
       "\n"
      ],
      "text/plain": [
       "        Ax1        Ax2         Ax3         Ax4        Ax5          Ax6         \n",
       "inertia  0.1507689  0.04945561  0.02289711  0.0126027  0.009577662  0.006486501\n",
       "cum      0.1507689  0.20022447  0.22312157  0.2357243  0.245301936  0.251788437\n",
       "cum(%)  56.9282195 75.60196885 84.24759695 89.0062018 92.622593673 95.071806165\n",
       "        Ax7          Ax8          Ax9          Ax10         Ax11       \n",
       "inertia  0.004632648  0.002868748  0.002318244  0.002049103   0.0011831\n",
       "cum      0.256421085  0.259289833  0.261608077  0.263657179   0.2648403\n",
       "cum(%)  96.821029477 97.904228670 98.779565171 99.553277753 100.0000000"
      ]
     },
     "metadata": {},
     "output_type": "display_data"
    },
    {
     "data": {
      "image/png": "[encoded data removed]",
      "text/plain": [
       "plot without title"
      ]
     },
     "metadata": {},
     "output_type": "display_data"
    }
   ],
   "source": [
    "tab<-icfes08[ -23 ,]              # Choco no activa\n",
    "acs<-dudi.coa (tab , scannf =FALSE ,nf =3);acs\n",
    "barplot(acs $eig ) # histograma valores propios\n",
    "valp <-t(inertia.dudi(acs)$tot.inertia);valp # valores propios"
   ]
  },
  {
   "cell_type": "markdown",
   "metadata": {},
   "source": [
    "La varianza total asociada al ACS es 0.265, los tres primeros ejes retienen el 84.2% (0.151,59.9 %; 0.049, 18.7% y 0.023, 8.6 %). Los dos primeros retienen una inercia superior a la inercia promedio (0.024 = 0.265/11) (ver figura abajo).\n",
    "\n",
    "Los dos primeros ejes (primer plano factorial), proveen una buena síntesis para analizar las asociaciones entre departamentos y jornadas * rendimiento. Sin embargo se incluyen las coordenadas y ayudas para la interpretación del tercer eje para afinar un poco análisis.\n",
    "\n",
    "\n",
    "\n",
    "### Plano facorial y Variable Ilustrativa\n"
   ]
  },
  {
   "cell_type": "code",
   "execution_count": 5,
   "metadata": {},
   "outputs": [
    {
     "data": {
      "image/png": "[encoded data removed]",
      "text/plain": [
       "plot without title"
      ]
     },
     "metadata": {},
     "output_type": "display_data"
    }
   ],
   "source": [
    "plot(acs , cframe =1, xlim =c( -1.2 ,0.8) ) # primer plano\n",
    "Fchoco <- suprow(acs , icfes08 [23 ,])$lisup # proyección de Chocó como ilustrativa\n",
    "points(Fchoco, col=\" brown \")\n",
    "text( Fchoco,col=\" brown \",pos =1, cex =0.8)"
   ]
  },
  {
   "cell_type": "markdown",
   "metadata": {},
   "source": [
    "\n",
    "El primer eje ordena las categorías de rendimiento de menor (izquierda) a mayor (derecha) y por lo tanto Bogotá es el de mejor rendimiento y Magdalena el departamento de peor rendimiento, aparte de Chocó que ya se había detectado con un perfil atípico por su rendimiento muy bajo.\n",
    "\n",
    "El segundo eje muestra arriba las categorías inferior, baja y media de la jornada completa, lo que se debe a una atracción de los departamentos que tienen más porcentaje de colegios con esa jornada en su perfil.\n",
    "\n",
    "El primer plano factorial presenta el efecto Guttman, que es una forma de parábola de las categorías de una variable ordinal. Nótese que por cada una de las tres jornadas, se ven las categorías de rendimiento como parábolas invertidas. En este efecto, el primer eje opone los rendimientos extremos inferior vs alto.  el segundo eje los medios (bajo y medio) de\n",
    "los extremos.\n",
    "\n",
    "#### Plano factorial 2-3"
   ]
  },
  {
   "cell_type": "code",
   "execution_count": 6,
   "metadata": {},
   "outputs": [
    {
     "data": {
      "image/png": "[encoded data removed]",
      "text/plain": [
       "plot without title"
      ]
     },
     "metadata": {},
     "output_type": "display_data"
    }
   ],
   "source": [
    "plot(acs,2,3, cframe =1.1) #,xlim =c ( -1.2 ,0.8) ) # plano 2-3"
   ]
  },
  {
   "cell_type": "markdown",
   "metadata": {},
   "source": [
    "El tercer eje destaca al lado positivo las categorías baja y media de la jornada de la mañana, asociada a los departamentos:\n",
    "\n",
    "* Meta\n",
    "* Quindio\n",
    "* Tolima\n",
    "* Arauca\n",
    "\n",
    "### Ayudas a la interpretación \n"
   ]
  },
  {
   "cell_type": "code",
   "execution_count": 7,
   "metadata": {},
   "outputs": [
    {
     "data": {
      "text/html": [
       "<table>\n",
       "<thead><tr><th></th><th scope=col>peso</th><th scope=col>Axis1</th><th scope=col>Axis2</th><th scope=col>Axis3</th><th scope=col>con.Axis1</th><th scope=col>con.Axis2</th><th scope=col>con.Axis3</th><th scope=col>cos.Axis1</th><th scope=col>cos.Axis2</th><th scope=col>cos.Axis3</th></tr></thead>\n",
       "<tbody>\n",
       "\t<tr><th scope=row>BOG</th><td>14.2104216   </td><td> 0.6329871862</td><td>-0.271210631 </td><td>-0.11924363  </td><td>3.776462e-01 </td><td>0.2113512494 </td><td>0.0882463456 </td><td>8.114600e-01 </td><td>0.148967223  </td><td>0.0287970273 </td></tr>\n",
       "\t<tr><th scope=row>ANT</th><td>11.8038982   </td><td>-0.0348695889</td><td> 0.236707823 </td><td>-0.17507127  </td><td>9.519354e-04 </td><td>0.1337319308 </td><td>0.1580063825 </td><td>1.186322e-02 </td><td>0.546681094  </td><td>0.2990464114 </td></tr>\n",
       "\t<tr><th scope=row>VAL</th><td> 9.6559268   </td><td> 0.0191795891</td><td>-0.008443784 </td><td> 0.07050209  </td><td>2.355922e-04 </td><td>0.0001392043 </td><td>0.0209612610 </td><td>1.407634e-02 </td><td>0.002728258  </td><td>0.1902020351 </td></tr>\n",
       "\t<tr><th scope=row>CUN</th><td> 7.0803500   </td><td> 0.1993268501</td><td> 0.191352826 </td><td> 0.06927289  </td><td>1.865841e-02 </td><td>0.0524214374 </td><td>0.0148388678 </td><td>3.403295e-01 </td><td>0.313644588  </td><td>0.0411050010 </td></tr>\n",
       "\t<tr><th scope=row>ATL</th><td> 5.7875895   </td><td>-0.4196538845</td><td>-0.160483856 </td><td>-0.17139820  </td><td>6.760341e-02 </td><td>0.0301401119 </td><td>0.0742556721 </td><td>6.869729e-01 </td><td>0.100466161  </td><td>0.1145960388 </td></tr>\n",
       "\t<tr><th scope=row>SAN</th><td> 4.7533811   </td><td> 0.3202627149</td><td>-0.068984936 </td><td> 0.03706156  </td><td>3.233730e-02 </td><td>0.0045739941 </td><td>0.0028514747 </td><td>6.550484e-01 </td><td>0.030392692  </td><td>0.0087721916 </td></tr>\n",
       "\t<tr><th scope=row>BOL</th><td> 4.6837709   </td><td>-0.6647145992</td><td>-0.283419991 </td><td>-0.16584813  </td><td>1.372633e-01 </td><td>0.0760748387 </td><td>0.0562647264 </td><td>7.706864e-01 </td><td>0.140109712  </td><td>0.0479764863 </td></tr>\n",
       "\t<tr><th scope=row>NAR</th><td> 3.4805091   </td><td>-0.0001039412</td><td>-0.243119275 </td><td> 0.19183821  </td><td>2.494057e-09 </td><td>0.0415973823 </td><td>0.0559412809 </td><td>6.651097e-08 </td><td>0.363878946  </td><td>0.2265626720 </td></tr>\n",
       "\t<tr><th scope=row>COR</th><td> 2.8639618   </td><td>-0.5364500264</td><td> 0.040324561 </td><td>-0.02390454  </td><td>5.466560e-02 </td><td>0.0009416531 </td><td>0.0007147387 </td><td>9.281076e-01 </td><td>0.005244198  </td><td>0.0018428943 </td></tr>\n",
       "\t<tr><th scope=row>TOL</th><td> 3.6793954   </td><td>-0.1062003799</td><td>-0.086925259 </td><td> 0.26386047  </td><td>2.752434e-03 </td><td>0.0056215087 </td><td>0.1118779604 </td><td>1.044693e-01 </td><td>0.069988821  </td><td>0.6448895779 </td></tr>\n",
       "\t<tr><th scope=row>CAU</th><td> 3.2716786   </td><td>-0.3088280864</td><td> 0.301683296 </td><td>-0.04057022  </td><td>2.069629e-02 </td><td>0.0602084710 </td><td>0.0023518239 </td><td>2.847129e-01 </td><td>0.271691478  </td><td>0.0049134693 </td></tr>\n",
       "\t<tr><th scope=row>NSA</th><td> 2.8341289   </td><td>-0.0077675818</td><td> 0.090828086 </td><td> 0.05062031  </td><td>1.134174e-05 </td><td>0.0047276396 </td><td>0.0031716746 </td><td>9.124580e-04 </td><td>0.124761767  </td><td>0.0387517039 </td></tr>\n",
       "\t<tr><th scope=row>BOY</th><td> 3.5998409   </td><td> 0.2905640722</td><td> 0.392824675 </td><td> 0.01548355  </td><td>2.015837e-02 </td><td>0.1123221123 </td><td>0.0003769152 </td><td>2.698374e-01 </td><td>0.493191847  </td><td>0.0007662304 </td></tr>\n",
       "\t<tr><th scope=row>MAG</th><td> 2.9832936   </td><td>-0.8889208053</td><td>-0.210875944 </td><td>-0.12971145  </td><td>1.563545e-01 </td><td>0.0268246773 </td><td>0.0219215876 </td><td>9.018248e-01 </td><td>0.050751643  </td><td>0.0192022725 </td></tr>\n",
       "\t<tr><th scope=row>HUI</th><td> 2.4761337   </td><td> 0.1730824778</td><td> 0.384759143 </td><td>-0.14885038  </td><td>4.920040e-03 </td><td>0.0741201719 </td><td>0.0239603642 </td><td>1.158410e-01 </td><td>0.572445371  </td><td>0.0856753862 </td></tr>\n",
       "\t<tr><th scope=row>CAL</th><td> 2.5755768   </td><td> 0.0989898050</td><td> 0.254545890 </td><td> 0.18791749  </td><td>1.673955e-03 </td><td>0.0337435767 </td><td>0.0397217436 </td><td>5.249328e-02 </td><td>0.347100299  </td><td>0.1891721514 </td></tr>\n",
       "\t<tr><th scope=row>CES</th><td> 2.2573588   </td><td>-0.2023356387</td><td>-0.099416232 </td><td> 0.23295465  </td><td>6.129622e-03 </td><td>0.0045112784 </td><td>0.0535011065 </td><td>1.510225e-01 </td><td>0.036459567  </td><td>0.2001887483 </td></tr>\n",
       "\t<tr><th scope=row>RIS</th><td> 1.8695306   </td><td> 0.2591848285</td><td>-0.020466538 </td><td> 0.14385781  </td><td>8.329906e-03 </td><td>0.0001583455 </td><td>0.0168973621 </td><td>5.907487e-01 </td><td>0.003683600  </td><td>0.1819912603 </td></tr>\n",
       "\t<tr><th scope=row>MET</th><td> 1.9093079   </td><td>-0.1386654585</td><td>-0.022648900 </td><td> 0.31856151  </td><td>2.435011e-03 </td><td>0.0001980408 </td><td>0.0846217445 </td><td>1.093285e-01 </td><td>0.002916696  </td><td>0.5770102908 </td></tr>\n",
       "\t<tr><th scope=row>SUC</th><td> 2.0286396   </td><td>-0.5904104265</td><td>-0.271507733 </td><td> 0.20621600  </td><td>4.690307e-02 </td><td>0.0302380477 </td><td>0.0376763691 </td><td>6.985011e-01 </td><td>0.147714621  </td><td>0.0852125976 </td></tr>\n",
       "\t<tr><th scope=row>LAG</th><td> 1.2032617   </td><td>-0.5513158134</td><td>-0.099359988 </td><td> 0.11580709  </td><td>2.425769e-02 </td><td>0.0024019702 </td><td>0.0070477392 </td><td>6.769558e-01 </td><td>0.021987835  </td><td>0.0298696213 </td></tr>\n",
       "\t<tr><th scope=row>QUI</th><td> 1.2927605   </td><td> 0.2472748154</td><td>-0.122212549 </td><td> 0.31175138  </td><td>5.242835e-03 </td><td>0.0039042187 </td><td>0.0548724382 </td><td>2.367666e-01 </td><td>0.057835211  </td><td>0.3763374786 </td></tr>\n",
       "\t<tr><th scope=row>CAQ</th><td> 0.9347653   </td><td>-0.3430617120</td><td> 0.162869248 </td><td> 0.20518728  </td><td>7.296851e-03 </td><td>0.0050137793 </td><td>0.0171879019 </td><td>3.738740e-01 </td><td>0.084267277  </td><td>0.1337462591 </td></tr>\n",
       "\t<tr><th scope=row>PUT</th><td> 0.5966587   </td><td> 0.1179893706</td><td> 0.211034378 </td><td>-0.06571965  </td><td>5.509347e-04 </td><td>0.0053730000 </td><td>0.0011254750 </td><td>6.030569e-02 </td><td>0.192920756  </td><td>0.0187095341 </td></tr>\n",
       "\t<tr><th scope=row>CAS</th><td> 0.9148767   </td><td>-0.0614729278</td><td> 0.297072008 </td><td> 0.24336154  </td><td>2.293077e-04 </td><td>0.0163256493 </td><td>0.0236638742 </td><td>2.016753e-02 </td><td>0.470986405  </td><td>0.3160740058 </td></tr>\n",
       "\t<tr><th scope=row>ARA</th><td> 0.5568815   </td><td>-0.0686366421</td><td>-0.115655384 </td><td> 0.21087736  </td><td>1.740056e-04 </td><td>0.0015061870 </td><td>0.0108153881 </td><td>2.269413e-02 </td><td>0.064436676  </td><td>0.2142206594 </td></tr>\n",
       "\t<tr><th scope=row>GUV</th><td> 0.1491647   </td><td>-0.0834902134</td><td> 0.177988072 </td><td> 0.38558748  </td><td>6.896449e-05 </td><td>0.0009555034 </td><td>0.0096857052 </td><td>1.400246e-02 </td><td>0.063637795  </td><td>0.2986614496 </td></tr>\n",
       "\t<tr><th scope=row>PO1</th><td> 0.5469372   </td><td>-0.2600394248</td><td> 0.741916554 </td><td>-0.17650973  </td><td>2.453037e-03 </td><td>0.0608740203 </td><td>0.0074420767 </td><td>8.603119e-02 </td><td>0.700305734  </td><td>0.0396382856 </td></tr>\n",
       "</tbody>\n",
       "</table>\n"
      ],
      "text/latex": [
       "\\begin{tabular}{r|llllllllll}\n",
       "  & peso & Axis1 & Axis2 & Axis3 & con.Axis1 & con.Axis2 & con.Axis3 & cos.Axis1 & cos.Axis2 & cos.Axis3\\\\\n",
       "\\hline\n",
       "\tBOG & 14.2104216    &  0.6329871862 & -0.271210631  & -0.11924363   & 3.776462e-01  & 0.2113512494  & 0.0882463456  & 8.114600e-01  & 0.148967223   & 0.0287970273 \\\\\n",
       "\tANT & 11.8038982    & -0.0348695889 &  0.236707823  & -0.17507127   & 9.519354e-04  & 0.1337319308  & 0.1580063825  & 1.186322e-02  & 0.546681094   & 0.2990464114 \\\\\n",
       "\tVAL &  9.6559268    &  0.0191795891 & -0.008443784  &  0.07050209   & 2.355922e-04  & 0.0001392043  & 0.0209612610  & 1.407634e-02  & 0.002728258   & 0.1902020351 \\\\\n",
       "\tCUN &  7.0803500    &  0.1993268501 &  0.191352826  &  0.06927289   & 1.865841e-02  & 0.0524214374  & 0.0148388678  & 3.403295e-01  & 0.313644588   & 0.0411050010 \\\\\n",
       "\tATL &  5.7875895    & -0.4196538845 & -0.160483856  & -0.17139820   & 6.760341e-02  & 0.0301401119  & 0.0742556721  & 6.869729e-01  & 0.100466161   & 0.1145960388 \\\\\n",
       "\tSAN &  4.7533811    &  0.3202627149 & -0.068984936  &  0.03706156   & 3.233730e-02  & 0.0045739941  & 0.0028514747  & 6.550484e-01  & 0.030392692   & 0.0087721916 \\\\\n",
       "\tBOL &  4.6837709    & -0.6647145992 & -0.283419991  & -0.16584813   & 1.372633e-01  & 0.0760748387  & 0.0562647264  & 7.706864e-01  & 0.140109712   & 0.0479764863 \\\\\n",
       "\tNAR &  3.4805091    & -0.0001039412 & -0.243119275  &  0.19183821   & 2.494057e-09  & 0.0415973823  & 0.0559412809  & 6.651097e-08  & 0.363878946   & 0.2265626720 \\\\\n",
       "\tCOR &  2.8639618    & -0.5364500264 &  0.040324561  & -0.02390454   & 5.466560e-02  & 0.0009416531  & 0.0007147387  & 9.281076e-01  & 0.005244198   & 0.0018428943 \\\\\n",
       "\tTOL &  3.6793954    & -0.1062003799 & -0.086925259  &  0.26386047   & 2.752434e-03  & 0.0056215087  & 0.1118779604  & 1.044693e-01  & 0.069988821   & 0.6448895779 \\\\\n",
       "\tCAU &  3.2716786    & -0.3088280864 &  0.301683296  & -0.04057022   & 2.069629e-02  & 0.0602084710  & 0.0023518239  & 2.847129e-01  & 0.271691478   & 0.0049134693 \\\\\n",
       "\tNSA &  2.8341289    & -0.0077675818 &  0.090828086  &  0.05062031   & 1.134174e-05  & 0.0047276396  & 0.0031716746  & 9.124580e-04  & 0.124761767   & 0.0387517039 \\\\\n",
       "\tBOY &  3.5998409    &  0.2905640722 &  0.392824675  &  0.01548355   & 2.015837e-02  & 0.1123221123  & 0.0003769152  & 2.698374e-01  & 0.493191847   & 0.0007662304 \\\\\n",
       "\tMAG &  2.9832936    & -0.8889208053 & -0.210875944  & -0.12971145   & 1.563545e-01  & 0.0268246773  & 0.0219215876  & 9.018248e-01  & 0.050751643   & 0.0192022725 \\\\\n",
       "\tHUI &  2.4761337    &  0.1730824778 &  0.384759143  & -0.14885038   & 4.920040e-03  & 0.0741201719  & 0.0239603642  & 1.158410e-01  & 0.572445371   & 0.0856753862 \\\\\n",
       "\tCAL &  2.5755768    &  0.0989898050 &  0.254545890  &  0.18791749   & 1.673955e-03  & 0.0337435767  & 0.0397217436  & 5.249328e-02  & 0.347100299   & 0.1891721514 \\\\\n",
       "\tCES &  2.2573588    & -0.2023356387 & -0.099416232  &  0.23295465   & 6.129622e-03  & 0.0045112784  & 0.0535011065  & 1.510225e-01  & 0.036459567   & 0.2001887483 \\\\\n",
       "\tRIS &  1.8695306    &  0.2591848285 & -0.020466538  &  0.14385781   & 8.329906e-03  & 0.0001583455  & 0.0168973621  & 5.907487e-01  & 0.003683600   & 0.1819912603 \\\\\n",
       "\tMET &  1.9093079    & -0.1386654585 & -0.022648900  &  0.31856151   & 2.435011e-03  & 0.0001980408  & 0.0846217445  & 1.093285e-01  & 0.002916696   & 0.5770102908 \\\\\n",
       "\tSUC &  2.0286396    & -0.5904104265 & -0.271507733  &  0.20621600   & 4.690307e-02  & 0.0302380477  & 0.0376763691  & 6.985011e-01  & 0.147714621   & 0.0852125976 \\\\\n",
       "\tLAG &  1.2032617    & -0.5513158134 & -0.099359988  &  0.11580709   & 2.425769e-02  & 0.0024019702  & 0.0070477392  & 6.769558e-01  & 0.021987835   & 0.0298696213 \\\\\n",
       "\tQUI &  1.2927605    &  0.2472748154 & -0.122212549  &  0.31175138   & 5.242835e-03  & 0.0039042187  & 0.0548724382  & 2.367666e-01  & 0.057835211   & 0.3763374786 \\\\\n",
       "\tCAQ &  0.9347653    & -0.3430617120 &  0.162869248  &  0.20518728   & 7.296851e-03  & 0.0050137793  & 0.0171879019  & 3.738740e-01  & 0.084267277   & 0.1337462591 \\\\\n",
       "\tPUT &  0.5966587    &  0.1179893706 &  0.211034378  & -0.06571965   & 5.509347e-04  & 0.0053730000  & 0.0011254750  & 6.030569e-02  & 0.192920756   & 0.0187095341 \\\\\n",
       "\tCAS &  0.9148767    & -0.0614729278 &  0.297072008  &  0.24336154   & 2.293077e-04  & 0.0163256493  & 0.0236638742  & 2.016753e-02  & 0.470986405   & 0.3160740058 \\\\\n",
       "\tARA &  0.5568815    & -0.0686366421 & -0.115655384  &  0.21087736   & 1.740056e-04  & 0.0015061870  & 0.0108153881  & 2.269413e-02  & 0.064436676   & 0.2142206594 \\\\\n",
       "\tGUV &  0.1491647    & -0.0834902134 &  0.177988072  &  0.38558748   & 6.896449e-05  & 0.0009555034  & 0.0096857052  & 1.400246e-02  & 0.063637795   & 0.2986614496 \\\\\n",
       "\tPO1 &  0.5469372    & -0.2600394248 &  0.741916554  & -0.17650973   & 2.453037e-03  & 0.0608740203  & 0.0074420767  & 8.603119e-02  & 0.700305734   & 0.0396382856 \\\\\n",
       "\\end{tabular}\n"
      ],
      "text/markdown": [
       "\n",
       "| <!--/--> | peso | Axis1 | Axis2 | Axis3 | con.Axis1 | con.Axis2 | con.Axis3 | cos.Axis1 | cos.Axis2 | cos.Axis3 |\n",
       "|---|---|---|---|---|---|---|---|---|---|---|\n",
       "| BOG | 14.2104216    |  0.6329871862 | -0.271210631  | -0.11924363   | 3.776462e-01  | 0.2113512494  | 0.0882463456  | 8.114600e-01  | 0.148967223   | 0.0287970273  |\n",
       "| ANT | 11.8038982    | -0.0348695889 |  0.236707823  | -0.17507127   | 9.519354e-04  | 0.1337319308  | 0.1580063825  | 1.186322e-02  | 0.546681094   | 0.2990464114  |\n",
       "| VAL |  9.6559268    |  0.0191795891 | -0.008443784  |  0.07050209   | 2.355922e-04  | 0.0001392043  | 0.0209612610  | 1.407634e-02  | 0.002728258   | 0.1902020351  |\n",
       "| CUN |  7.0803500    |  0.1993268501 |  0.191352826  |  0.06927289   | 1.865841e-02  | 0.0524214374  | 0.0148388678  | 3.403295e-01  | 0.313644588   | 0.0411050010  |\n",
       "| ATL |  5.7875895    | -0.4196538845 | -0.160483856  | -0.17139820   | 6.760341e-02  | 0.0301401119  | 0.0742556721  | 6.869729e-01  | 0.100466161   | 0.1145960388  |\n",
       "| SAN |  4.7533811    |  0.3202627149 | -0.068984936  |  0.03706156   | 3.233730e-02  | 0.0045739941  | 0.0028514747  | 6.550484e-01  | 0.030392692   | 0.0087721916  |\n",
       "| BOL |  4.6837709    | -0.6647145992 | -0.283419991  | -0.16584813   | 1.372633e-01  | 0.0760748387  | 0.0562647264  | 7.706864e-01  | 0.140109712   | 0.0479764863  |\n",
       "| NAR |  3.4805091    | -0.0001039412 | -0.243119275  |  0.19183821   | 2.494057e-09  | 0.0415973823  | 0.0559412809  | 6.651097e-08  | 0.363878946   | 0.2265626720  |\n",
       "| COR |  2.8639618    | -0.5364500264 |  0.040324561  | -0.02390454   | 5.466560e-02  | 0.0009416531  | 0.0007147387  | 9.281076e-01  | 0.005244198   | 0.0018428943  |\n",
       "| TOL |  3.6793954    | -0.1062003799 | -0.086925259  |  0.26386047   | 2.752434e-03  | 0.0056215087  | 0.1118779604  | 1.044693e-01  | 0.069988821   | 0.6448895779  |\n",
       "| CAU |  3.2716786    | -0.3088280864 |  0.301683296  | -0.04057022   | 2.069629e-02  | 0.0602084710  | 0.0023518239  | 2.847129e-01  | 0.271691478   | 0.0049134693  |\n",
       "| NSA |  2.8341289    | -0.0077675818 |  0.090828086  |  0.05062031   | 1.134174e-05  | 0.0047276396  | 0.0031716746  | 9.124580e-04  | 0.124761767   | 0.0387517039  |\n",
       "| BOY |  3.5998409    |  0.2905640722 |  0.392824675  |  0.01548355   | 2.015837e-02  | 0.1123221123  | 0.0003769152  | 2.698374e-01  | 0.493191847   | 0.0007662304  |\n",
       "| MAG |  2.9832936    | -0.8889208053 | -0.210875944  | -0.12971145   | 1.563545e-01  | 0.0268246773  | 0.0219215876  | 9.018248e-01  | 0.050751643   | 0.0192022725  |\n",
       "| HUI |  2.4761337    |  0.1730824778 |  0.384759143  | -0.14885038   | 4.920040e-03  | 0.0741201719  | 0.0239603642  | 1.158410e-01  | 0.572445371   | 0.0856753862  |\n",
       "| CAL |  2.5755768    |  0.0989898050 |  0.254545890  |  0.18791749   | 1.673955e-03  | 0.0337435767  | 0.0397217436  | 5.249328e-02  | 0.347100299   | 0.1891721514  |\n",
       "| CES |  2.2573588    | -0.2023356387 | -0.099416232  |  0.23295465   | 6.129622e-03  | 0.0045112784  | 0.0535011065  | 1.510225e-01  | 0.036459567   | 0.2001887483  |\n",
       "| RIS |  1.8695306    |  0.2591848285 | -0.020466538  |  0.14385781   | 8.329906e-03  | 0.0001583455  | 0.0168973621  | 5.907487e-01  | 0.003683600   | 0.1819912603  |\n",
       "| MET |  1.9093079    | -0.1386654585 | -0.022648900  |  0.31856151   | 2.435011e-03  | 0.0001980408  | 0.0846217445  | 1.093285e-01  | 0.002916696   | 0.5770102908  |\n",
       "| SUC |  2.0286396    | -0.5904104265 | -0.271507733  |  0.20621600   | 4.690307e-02  | 0.0302380477  | 0.0376763691  | 6.985011e-01  | 0.147714621   | 0.0852125976  |\n",
       "| LAG |  1.2032617    | -0.5513158134 | -0.099359988  |  0.11580709   | 2.425769e-02  | 0.0024019702  | 0.0070477392  | 6.769558e-01  | 0.021987835   | 0.0298696213  |\n",
       "| QUI |  1.2927605    |  0.2472748154 | -0.122212549  |  0.31175138   | 5.242835e-03  | 0.0039042187  | 0.0548724382  | 2.367666e-01  | 0.057835211   | 0.3763374786  |\n",
       "| CAQ |  0.9347653    | -0.3430617120 |  0.162869248  |  0.20518728   | 7.296851e-03  | 0.0050137793  | 0.0171879019  | 3.738740e-01  | 0.084267277   | 0.1337462591  |\n",
       "| PUT |  0.5966587    |  0.1179893706 |  0.211034378  | -0.06571965   | 5.509347e-04  | 0.0053730000  | 0.0011254750  | 6.030569e-02  | 0.192920756   | 0.0187095341  |\n",
       "| CAS |  0.9148767    | -0.0614729278 |  0.297072008  |  0.24336154   | 2.293077e-04  | 0.0163256493  | 0.0236638742  | 2.016753e-02  | 0.470986405   | 0.3160740058  |\n",
       "| ARA |  0.5568815    | -0.0686366421 | -0.115655384  |  0.21087736   | 1.740056e-04  | 0.0015061870  | 0.0108153881  | 2.269413e-02  | 0.064436676   | 0.2142206594  |\n",
       "| GUV |  0.1491647    | -0.0834902134 |  0.177988072  |  0.38558748   | 6.896449e-05  | 0.0009555034  | 0.0096857052  | 1.400246e-02  | 0.063637795   | 0.2986614496  |\n",
       "| PO1 |  0.5469372    | -0.2600394248 |  0.741916554  | -0.17650973   | 2.453037e-03  | 0.0608740203  | 0.0074420767  | 8.603119e-02  | 0.700305734   | 0.0396382856  |\n",
       "\n"
      ],
      "text/plain": [
       "    peso       Axis1         Axis2        Axis3       con.Axis1    con.Axis2   \n",
       "BOG 14.2104216  0.6329871862 -0.271210631 -0.11924363 3.776462e-01 0.2113512494\n",
       "ANT 11.8038982 -0.0348695889  0.236707823 -0.17507127 9.519354e-04 0.1337319308\n",
       "VAL  9.6559268  0.0191795891 -0.008443784  0.07050209 2.355922e-04 0.0001392043\n",
       "CUN  7.0803500  0.1993268501  0.191352826  0.06927289 1.865841e-02 0.0524214374\n",
       "ATL  5.7875895 -0.4196538845 -0.160483856 -0.17139820 6.760341e-02 0.0301401119\n",
       "SAN  4.7533811  0.3202627149 -0.068984936  0.03706156 3.233730e-02 0.0045739941\n",
       "BOL  4.6837709 -0.6647145992 -0.283419991 -0.16584813 1.372633e-01 0.0760748387\n",
       "NAR  3.4805091 -0.0001039412 -0.243119275  0.19183821 2.494057e-09 0.0415973823\n",
       "COR  2.8639618 -0.5364500264  0.040324561 -0.02390454 5.466560e-02 0.0009416531\n",
       "TOL  3.6793954 -0.1062003799 -0.086925259  0.26386047 2.752434e-03 0.0056215087\n",
       "CAU  3.2716786 -0.3088280864  0.301683296 -0.04057022 2.069629e-02 0.0602084710\n",
       "NSA  2.8341289 -0.0077675818  0.090828086  0.05062031 1.134174e-05 0.0047276396\n",
       "BOY  3.5998409  0.2905640722  0.392824675  0.01548355 2.015837e-02 0.1123221123\n",
       "MAG  2.9832936 -0.8889208053 -0.210875944 -0.12971145 1.563545e-01 0.0268246773\n",
       "HUI  2.4761337  0.1730824778  0.384759143 -0.14885038 4.920040e-03 0.0741201719\n",
       "CAL  2.5755768  0.0989898050  0.254545890  0.18791749 1.673955e-03 0.0337435767\n",
       "CES  2.2573588 -0.2023356387 -0.099416232  0.23295465 6.129622e-03 0.0045112784\n",
       "RIS  1.8695306  0.2591848285 -0.020466538  0.14385781 8.329906e-03 0.0001583455\n",
       "MET  1.9093079 -0.1386654585 -0.022648900  0.31856151 2.435011e-03 0.0001980408\n",
       "SUC  2.0286396 -0.5904104265 -0.271507733  0.20621600 4.690307e-02 0.0302380477\n",
       "LAG  1.2032617 -0.5513158134 -0.099359988  0.11580709 2.425769e-02 0.0024019702\n",
       "QUI  1.2927605  0.2472748154 -0.122212549  0.31175138 5.242835e-03 0.0039042187\n",
       "CAQ  0.9347653 -0.3430617120  0.162869248  0.20518728 7.296851e-03 0.0050137793\n",
       "PUT  0.5966587  0.1179893706  0.211034378 -0.06571965 5.509347e-04 0.0053730000\n",
       "CAS  0.9148767 -0.0614729278  0.297072008  0.24336154 2.293077e-04 0.0163256493\n",
       "ARA  0.5568815 -0.0686366421 -0.115655384  0.21087736 1.740056e-04 0.0015061870\n",
       "GUV  0.1491647 -0.0834902134  0.177988072  0.38558748 6.896449e-05 0.0009555034\n",
       "PO1  0.5469372 -0.2600394248  0.741916554 -0.17650973 2.453037e-03 0.0608740203\n",
       "    con.Axis3    cos.Axis1    cos.Axis2   cos.Axis3   \n",
       "BOG 0.0882463456 8.114600e-01 0.148967223 0.0287970273\n",
       "ANT 0.1580063825 1.186322e-02 0.546681094 0.2990464114\n",
       "VAL 0.0209612610 1.407634e-02 0.002728258 0.1902020351\n",
       "CUN 0.0148388678 3.403295e-01 0.313644588 0.0411050010\n",
       "ATL 0.0742556721 6.869729e-01 0.100466161 0.1145960388\n",
       "SAN 0.0028514747 6.550484e-01 0.030392692 0.0087721916\n",
       "BOL 0.0562647264 7.706864e-01 0.140109712 0.0479764863\n",
       "NAR 0.0559412809 6.651097e-08 0.363878946 0.2265626720\n",
       "COR 0.0007147387 9.281076e-01 0.005244198 0.0018428943\n",
       "TOL 0.1118779604 1.044693e-01 0.069988821 0.6448895779\n",
       "CAU 0.0023518239 2.847129e-01 0.271691478 0.0049134693\n",
       "NSA 0.0031716746 9.124580e-04 0.124761767 0.0387517039\n",
       "BOY 0.0003769152 2.698374e-01 0.493191847 0.0007662304\n",
       "MAG 0.0219215876 9.018248e-01 0.050751643 0.0192022725\n",
       "HUI 0.0239603642 1.158410e-01 0.572445371 0.0856753862\n",
       "CAL 0.0397217436 5.249328e-02 0.347100299 0.1891721514\n",
       "CES 0.0535011065 1.510225e-01 0.036459567 0.2001887483\n",
       "RIS 0.0168973621 5.907487e-01 0.003683600 0.1819912603\n",
       "MET 0.0846217445 1.093285e-01 0.002916696 0.5770102908\n",
       "SUC 0.0376763691 6.985011e-01 0.147714621 0.0852125976\n",
       "LAG 0.0070477392 6.769558e-01 0.021987835 0.0298696213\n",
       "QUI 0.0548724382 2.367666e-01 0.057835211 0.3763374786\n",
       "CAQ 0.0171879019 3.738740e-01 0.084267277 0.1337462591\n",
       "PUT 0.0011254750 6.030569e-02 0.192920756 0.0187095341\n",
       "CAS 0.0236638742 2.016753e-02 0.470986405 0.3160740058\n",
       "ARA 0.0108153881 2.269413e-02 0.064436676 0.2142206594\n",
       "GUV 0.0096857052 1.400246e-02 0.063637795 0.2986614496\n",
       "PO1 0.0074420767 8.603119e-02 0.700305734 0.0396382856"
      ]
     },
     "metadata": {},
     "output_type": "display_data"
    }
   ],
   "source": [
    "ayu <- inertia.dudi (acs ,T,T)\n",
    "salayu <-data.frame( peso = acs$lw*100 , acs$li , con=ayu$row.abs/100 , cos=abs( ayu$row.rel )/ 100);salayu"
   ]
  },
  {
   "cell_type": "markdown",
   "metadata": {},
   "source": [
    "\n",
    "### Análisis de perfiles fila\n",
    "\n",
    "El ordenamiento de las categorías se traslada a los departamentos mostrando una parábola invertida. Siguiéndola desde la izquierda hasta la derecha, se observa que los departamentos de la región Atlántico son los de menor rendimiento, siguen departamentos del sur del país,\n",
    "luego los de la región Andina, y sobresalen Risaralda, Quindio y Santander, hasta llegar a Bogotá la de mayor rendimiento."
   ]
  },
  {
   "cell_type": "code",
   "execution_count": 8,
   "metadata": {},
   "outputs": [
    {
     "data": {
      "text/html": [
       "<table>\n",
       "<thead><tr><th></th><th scope=col>peso</th><th scope=col>Comp1</th><th scope=col>Comp2</th><th scope=col>Comp3</th><th scope=col>con.Axis1</th><th scope=col>con.Axis2</th><th scope=col>con.Axis3</th><th scope=col>cos.Axis1</th><th scope=col>cos.Axis2</th><th scope=col>cos.Axis3</th></tr></thead>\n",
       "<tbody>\n",
       "\t<tr><th scope=row>Cinferior</th><td> 3.629674    </td><td>-0.5991632806</td><td> 0.20569035  </td><td>-0.23127714  </td><td>8.642638e-02 </td><td>0.0310513071 </td><td>0.0847915214 </td><td>6.172017e-01 </td><td>0.0727385405 </td><td>0.0919606747 </td></tr>\n",
       "\t<tr><th scope=row>Cbajo</th><td> 9.039379    </td><td>-0.1115340873</td><td> 0.47754979  </td><td>-0.10151106  </td><td>7.458341e-03 </td><td>0.4168313408 </td><td>0.0406803555 </td><td>4.621336e-02 </td><td>0.8472071535 </td><td>0.0382806244 </td></tr>\n",
       "\t<tr><th scope=row>Cmedio</th><td> 8.035004    </td><td> 0.2454811825</td><td> 0.36817031  </td><td> 0.01547954  </td><td>3.211522e-02 </td><td>0.2202257321 </td><td>0.0008408557 </td><td>2.468274e-01 </td><td>0.5552064174 </td><td>0.0009814607 </td></tr>\n",
       "\t<tr><th scope=row>Calto</th><td> 9.815036    </td><td> 0.5289040039</td><td>-0.11636879  </td><td>-0.17394835  </td><td>1.821101e-01 </td><td>0.0268750535 </td><td>0.1297035712 </td><td>7.821012e-01 </td><td>0.0378601453 </td><td>0.0845960136 </td></tr>\n",
       "\t<tr><th scope=row>Minferior</th><td> 5.499204    </td><td>-0.8634468204</td><td>-0.36790688  </td><td>-0.13124376  </td><td>2.719314e-01 </td><td>0.1505081834 </td><td>0.0413691496 </td><td>7.708442e-01 </td><td>0.1399494610 </td><td>0.0178095413 </td></tr>\n",
       "\t<tr><th scope=row>Mbajo</th><td>12.669053    </td><td>-0.2802149867</td><td>-0.01172220  </td><td> 0.27682112  </td><td>6.598045e-02 </td><td>0.0003520035 </td><td>0.4239962434 </td><td>4.597776e-01 </td><td>0.0008046064 </td><td>0.4487076976 </td></tr>\n",
       "\t<tr><th scope=row>Mmedio</th><td>12.291169    </td><td> 0.2535253733</td><td>-0.02119482  </td><td> 0.18940790  </td><td>5.239917e-02 </td><td>0.0011164440 </td><td>0.1925789518 </td><td>5.179477e-01 </td><td>0.0036199483 </td><td>0.2890941165 </td></tr>\n",
       "\t<tr><th scope=row>Malto</th><td>10.013922    </td><td> 0.3187768127</td><td>-0.21632563  </td><td> 0.01736159  </td><td>6.749413e-02 </td><td>0.0947555396 </td><td>0.0013182647 </td><td>5.261191e-01 </td><td>0.2422850504 </td><td>0.0015605930 </td></tr>\n",
       "\t<tr><th scope=row>Tinferior</th><td> 8.661496    </td><td>-0.5522196001</td><td>-0.05208981  </td><td>-0.06911987  </td><td>1.751882e-01 </td><td>0.0047520713 </td><td>0.0180724935 </td><td>7.914940e-01 </td><td>0.0070425444 </td><td>0.0124002303 </td></tr>\n",
       "\t<tr><th scope=row>Tbajo</th><td>11.525457    </td><td> 0.0009483103</td><td>-0.02856594  </td><td>-0.01907580  </td><td>6.874601e-07 </td><td>0.0019016900 </td><td>0.0018316516 </td><td>3.217325e-05 </td><td>0.0291938278 </td><td>0.0130184485 </td></tr>\n",
       "\t<tr><th scope=row>Tmedio</th><td> 6.364360    </td><td> 0.3371611656</td><td>-0.17193525  </td><td>-0.11476288  </td><td>4.798640e-02 </td><td>0.0380424964 </td><td>0.0366080829 </td><td>5.513248e-01 </td><td>0.1433713313 </td><td>0.0638756484 </td></tr>\n",
       "\t<tr><th scope=row>Talto</th><td> 2.456245    </td><td> 0.2587750708</td><td>-0.16540625  </td><td>-0.16216130  </td><td>1.090950e-02 </td><td>0.0135881382 </td><td>0.0282088586 </td><td>2.968901e-01 </td><td>0.1212982754 </td><td>0.1165856799 </td></tr>\n",
       "</tbody>\n",
       "</table>\n"
      ],
      "text/latex": [
       "\\begin{tabular}{r|llllllllll}\n",
       "  & peso & Comp1 & Comp2 & Comp3 & con.Axis1 & con.Axis2 & con.Axis3 & cos.Axis1 & cos.Axis2 & cos.Axis3\\\\\n",
       "\\hline\n",
       "\tCinferior &  3.629674     & -0.5991632806 &  0.20569035   & -0.23127714   & 8.642638e-02  & 0.0310513071  & 0.0847915214  & 6.172017e-01  & 0.0727385405  & 0.0919606747 \\\\\n",
       "\tCbajo &  9.039379     & -0.1115340873 &  0.47754979   & -0.10151106   & 7.458341e-03  & 0.4168313408  & 0.0406803555  & 4.621336e-02  & 0.8472071535  & 0.0382806244 \\\\\n",
       "\tCmedio &  8.035004     &  0.2454811825 &  0.36817031   &  0.01547954   & 3.211522e-02  & 0.2202257321  & 0.0008408557  & 2.468274e-01  & 0.5552064174  & 0.0009814607 \\\\\n",
       "\tCalto &  9.815036     &  0.5289040039 & -0.11636879   & -0.17394835   & 1.821101e-01  & 0.0268750535  & 0.1297035712  & 7.821012e-01  & 0.0378601453  & 0.0845960136 \\\\\n",
       "\tMinferior &  5.499204     & -0.8634468204 & -0.36790688   & -0.13124376   & 2.719314e-01  & 0.1505081834  & 0.0413691496  & 7.708442e-01  & 0.1399494610  & 0.0178095413 \\\\\n",
       "\tMbajo & 12.669053     & -0.2802149867 & -0.01172220   &  0.27682112   & 6.598045e-02  & 0.0003520035  & 0.4239962434  & 4.597776e-01  & 0.0008046064  & 0.4487076976 \\\\\n",
       "\tMmedio & 12.291169     &  0.2535253733 & -0.02119482   &  0.18940790   & 5.239917e-02  & 0.0011164440  & 0.1925789518  & 5.179477e-01  & 0.0036199483  & 0.2890941165 \\\\\n",
       "\tMalto & 10.013922     &  0.3187768127 & -0.21632563   &  0.01736159   & 6.749413e-02  & 0.0947555396  & 0.0013182647  & 5.261191e-01  & 0.2422850504  & 0.0015605930 \\\\\n",
       "\tTinferior &  8.661496     & -0.5522196001 & -0.05208981   & -0.06911987   & 1.751882e-01  & 0.0047520713  & 0.0180724935  & 7.914940e-01  & 0.0070425444  & 0.0124002303 \\\\\n",
       "\tTbajo & 11.525457     &  0.0009483103 & -0.02856594   & -0.01907580   & 6.874601e-07  & 0.0019016900  & 0.0018316516  & 3.217325e-05  & 0.0291938278  & 0.0130184485 \\\\\n",
       "\tTmedio &  6.364360     &  0.3371611656 & -0.17193525   & -0.11476288   & 4.798640e-02  & 0.0380424964  & 0.0366080829  & 5.513248e-01  & 0.1433713313  & 0.0638756484 \\\\\n",
       "\tTalto &  2.456245     &  0.2587750708 & -0.16540625   & -0.16216130   & 1.090950e-02  & 0.0135881382  & 0.0282088586  & 2.968901e-01  & 0.1212982754  & 0.1165856799 \\\\\n",
       "\\end{tabular}\n"
      ],
      "text/markdown": [
       "\n",
       "| <!--/--> | peso | Comp1 | Comp2 | Comp3 | con.Axis1 | con.Axis2 | con.Axis3 | cos.Axis1 | cos.Axis2 | cos.Axis3 |\n",
       "|---|---|---|---|---|---|---|---|---|---|---|\n",
       "| Cinferior |  3.629674     | -0.5991632806 |  0.20569035   | -0.23127714   | 8.642638e-02  | 0.0310513071  | 0.0847915214  | 6.172017e-01  | 0.0727385405  | 0.0919606747  |\n",
       "| Cbajo |  9.039379     | -0.1115340873 |  0.47754979   | -0.10151106   | 7.458341e-03  | 0.4168313408  | 0.0406803555  | 4.621336e-02  | 0.8472071535  | 0.0382806244  |\n",
       "| Cmedio |  8.035004     |  0.2454811825 |  0.36817031   |  0.01547954   | 3.211522e-02  | 0.2202257321  | 0.0008408557  | 2.468274e-01  | 0.5552064174  | 0.0009814607  |\n",
       "| Calto |  9.815036     |  0.5289040039 | -0.11636879   | -0.17394835   | 1.821101e-01  | 0.0268750535  | 0.1297035712  | 7.821012e-01  | 0.0378601453  | 0.0845960136  |\n",
       "| Minferior |  5.499204     | -0.8634468204 | -0.36790688   | -0.13124376   | 2.719314e-01  | 0.1505081834  | 0.0413691496  | 7.708442e-01  | 0.1399494610  | 0.0178095413  |\n",
       "| Mbajo | 12.669053     | -0.2802149867 | -0.01172220   |  0.27682112   | 6.598045e-02  | 0.0003520035  | 0.4239962434  | 4.597776e-01  | 0.0008046064  | 0.4487076976  |\n",
       "| Mmedio | 12.291169     |  0.2535253733 | -0.02119482   |  0.18940790   | 5.239917e-02  | 0.0011164440  | 0.1925789518  | 5.179477e-01  | 0.0036199483  | 0.2890941165  |\n",
       "| Malto | 10.013922     |  0.3187768127 | -0.21632563   |  0.01736159   | 6.749413e-02  | 0.0947555396  | 0.0013182647  | 5.261191e-01  | 0.2422850504  | 0.0015605930  |\n",
       "| Tinferior |  8.661496     | -0.5522196001 | -0.05208981   | -0.06911987   | 1.751882e-01  | 0.0047520713  | 0.0180724935  | 7.914940e-01  | 0.0070425444  | 0.0124002303  |\n",
       "| Tbajo | 11.525457     |  0.0009483103 | -0.02856594   | -0.01907580   | 6.874601e-07  | 0.0019016900  | 0.0018316516  | 3.217325e-05  | 0.0291938278  | 0.0130184485  |\n",
       "| Tmedio |  6.364360     |  0.3371611656 | -0.17193525   | -0.11476288   | 4.798640e-02  | 0.0380424964  | 0.0366080829  | 5.513248e-01  | 0.1433713313  | 0.0638756484  |\n",
       "| Talto |  2.456245     |  0.2587750708 | -0.16540625   | -0.16216130   | 1.090950e-02  | 0.0135881382  | 0.0282088586  | 2.968901e-01  | 0.1212982754  | 0.1165856799  |\n",
       "\n"
      ],
      "text/plain": [
       "          peso      Comp1         Comp2       Comp3       con.Axis1   \n",
       "Cinferior  3.629674 -0.5991632806  0.20569035 -0.23127714 8.642638e-02\n",
       "Cbajo      9.039379 -0.1115340873  0.47754979 -0.10151106 7.458341e-03\n",
       "Cmedio     8.035004  0.2454811825  0.36817031  0.01547954 3.211522e-02\n",
       "Calto      9.815036  0.5289040039 -0.11636879 -0.17394835 1.821101e-01\n",
       "Minferior  5.499204 -0.8634468204 -0.36790688 -0.13124376 2.719314e-01\n",
       "Mbajo     12.669053 -0.2802149867 -0.01172220  0.27682112 6.598045e-02\n",
       "Mmedio    12.291169  0.2535253733 -0.02119482  0.18940790 5.239917e-02\n",
       "Malto     10.013922  0.3187768127 -0.21632563  0.01736159 6.749413e-02\n",
       "Tinferior  8.661496 -0.5522196001 -0.05208981 -0.06911987 1.751882e-01\n",
       "Tbajo     11.525457  0.0009483103 -0.02856594 -0.01907580 6.874601e-07\n",
       "Tmedio     6.364360  0.3371611656 -0.17193525 -0.11476288 4.798640e-02\n",
       "Talto      2.456245  0.2587750708 -0.16540625 -0.16216130 1.090950e-02\n",
       "          con.Axis2    con.Axis3    cos.Axis1    cos.Axis2    cos.Axis3   \n",
       "Cinferior 0.0310513071 0.0847915214 6.172017e-01 0.0727385405 0.0919606747\n",
       "Cbajo     0.4168313408 0.0406803555 4.621336e-02 0.8472071535 0.0382806244\n",
       "Cmedio    0.2202257321 0.0008408557 2.468274e-01 0.5552064174 0.0009814607\n",
       "Calto     0.0268750535 0.1297035712 7.821012e-01 0.0378601453 0.0845960136\n",
       "Minferior 0.1505081834 0.0413691496 7.708442e-01 0.1399494610 0.0178095413\n",
       "Mbajo     0.0003520035 0.4239962434 4.597776e-01 0.0008046064 0.4487076976\n",
       "Mmedio    0.0011164440 0.1925789518 5.179477e-01 0.0036199483 0.2890941165\n",
       "Malto     0.0947555396 0.0013182647 5.261191e-01 0.2422850504 0.0015605930\n",
       "Tinferior 0.0047520713 0.0180724935 7.914940e-01 0.0070425444 0.0124002303\n",
       "Tbajo     0.0019016900 0.0018316516 3.217325e-05 0.0291938278 0.0130184485\n",
       "Tmedio    0.0380424964 0.0366080829 5.513248e-01 0.1433713313 0.0638756484\n",
       "Talto     0.0135881382 0.0282088586 2.968901e-01 0.1212982754 0.1165856799"
      ]
     },
     "metadata": {},
     "output_type": "display_data"
    }
   ],
   "source": [
    "salayu <-data.frame ( peso = acs$cw*100 , acs$co , con= ayu$ col.abs/100 , cos= abs( ayu$\n",
    "col.rel )/ 100);salayu\n",
    "#xtable (salayu , digits = rep (2 ,12))"
   ]
  },
  {
   "cell_type": "markdown",
   "metadata": {},
   "source": [
    "Se utilizan las coordenadas sobre el primer eje para presentar los perfíles ordenando los departamentos, para que los parecidos queden vecinos en la figura siguiente. Los perfiles de la parte inferior son los peores y van mejorando a medida que se sube en la gráfica. El perfil superior es el marginal que se incluye como referencia para la comparación, ya que este perfíl se sitúa en el origen de la representación (coordenadas (0,0) en los planos) y la lejanía del centro de un punto, indica que el perfíl que representa es el más diferente del perfíl promedio (marginal).\n",
    "\n",
    "### Perfiles de los departamentos ordenados por las coordenadas sobre el primer\n",
    "\n",
    "eje del ACS. Los departamentos de la parte superior son los de mayor rendimiento"
   ]
  },
  {
   "cell_type": "code",
   "execution_count": 9,
   "metadata": {},
   "outputs": [
    {
     "data": {
      "image/png": "[encoded data removed]",
      "text/plain": [
       "plot without title"
      ]
     },
     "metadata": {},
     "output_type": "display_data"
    }
   ],
   "source": [
    "ordep <-order (acs$li [ ,1])\n",
    "par (mai =c(0 ,1 ,0 ,0))\n",
    "plotct (tab[ordep ,],\"row\",col= mycolors )"
   ]
  },
  {
   "cell_type": "markdown",
   "metadata": {},
   "source": [
    "### Conclusiones\n",
    "\n",
    "Los departamentos se ordenan en el primer plano factorial según el rendimiento de sus colegios. Bogotá es el de mayor rendimiento, Chocó es de lejos es de menor rendimiento. La figura anterior es un buen resumen del ordenamiento de los departamentos según su rendimiento en los resultados de examen del realizado por el ICFES.\n",
    "\n",
    "Cada jornada ordena los departamentos de manera similar, pero la jornada de la tarde es la de menor dispersión.\n"
   ]
  }
 ],
 "metadata": {
  "kernelspec": {
   "display_name": "R",
   "language": "R",
   "name": "ir"
  },
  "language_info": {
   "codemirror_mode": "r",
   "file_extension": ".r",
   "mimetype": "text/x-r-source",
   "name": "R",
   "pygments_lexer": "r",
   "version": "3.6.1"
  }
 },
 "nbformat": 4,
 "nbformat_minor": 4
}
