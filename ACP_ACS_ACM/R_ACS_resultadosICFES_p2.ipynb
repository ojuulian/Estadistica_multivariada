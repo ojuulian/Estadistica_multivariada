{
 "cells": [
  {
   "cell_type": "markdown",
   "metadata": {},
   "source": [
    "<img src=\"./unal.png\" align=left width=\"150\" height=\"150\"></img>\n",
    "\n",
    "\n",
    "\n",
    "$\\,$\n",
    "---\n",
    "\n",
    "<h2 align=\"center\"> RESULTADOS PRUEBA DE ESTADO ICFES (FactoMineR)</h2>\n",
    "<h3 align=\"center\">Análisis de correspondencias simples (ACS)</h3>\n",
    "\n",
    "\n",
    "$\\;$\n",
    "\n",
    "---"
   ]
  },
  {
   "cell_type": "code",
   "execution_count": 1,
   "metadata": {},
   "outputs": [],
   "source": [
    "knitr::opts_chunk$set(echo = TRUE)"
   ]
  },
  {
   "cell_type": "code",
   "execution_count": 13,
   "metadata": {},
   "outputs": [
    {
     "data": {
      "text/html": [
       "<table>\n",
       "<thead><tr><th></th><th scope=col>Cinferior</th><th scope=col>Cbajo</th><th scope=col>Cmedio</th><th scope=col>Calto</th><th scope=col>Minferior</th><th scope=col>Mbajo</th><th scope=col>Mmedio</th><th scope=col>Malto</th><th scope=col>Tinferior</th><th scope=col>Tbajo</th><th scope=col>Tmedio</th><th scope=col>Talto</th></tr></thead>\n",
       "<tbody>\n",
       "\t<tr><th scope=row>BOG</th><td> 5 </td><td> 40</td><td>101</td><td>309</td><td> 9 </td><td> 79</td><td>219</td><td>241</td><td> 15</td><td>171</td><td>179</td><td>61 </td></tr>\n",
       "\t<tr><th scope=row>ANT</th><td>63 </td><td>180</td><td>116</td><td>105</td><td>38 </td><td>105</td><td> 96</td><td> 90</td><td>125</td><td>156</td><td> 84</td><td>29 </td></tr>\n",
       "\t<tr><th scope=row>VAL</th><td>35 </td><td> 93</td><td> 72</td><td> 81</td><td>51 </td><td>140</td><td>118</td><td>132</td><td> 62</td><td>113</td><td> 55</td><td>19 </td></tr>\n",
       "\t<tr><th scope=row>CUN</th><td>19 </td><td> 80</td><td> 81</td><td>103</td><td>11 </td><td> 90</td><td>114</td><td> 50</td><td> 40</td><td> 84</td><td> 33</td><td> 7 </td></tr>\n",
       "\t<tr><th scope=row>ATL</th><td>31 </td><td> 48</td><td> 22</td><td> 37</td><td>72 </td><td> 62</td><td> 48</td><td> 48</td><td>106</td><td> 61</td><td> 32</td><td>15 </td></tr>\n",
       "\t<tr><th scope=row>SAN</th><td> 7 </td><td> 27</td><td> 51</td><td> 61</td><td>10 </td><td> 40</td><td> 78</td><td> 79</td><td> 30</td><td> 51</td><td> 24</td><td>20 </td></tr>\n",
       "</tbody>\n",
       "</table>\n"
      ],
      "text/latex": [
       "\\begin{tabular}{r|llllllllllll}\n",
       "  & Cinferior & Cbajo & Cmedio & Calto & Minferior & Mbajo & Mmedio & Malto & Tinferior & Tbajo & Tmedio & Talto\\\\\n",
       "\\hline\n",
       "\tBOG &  5  &  40 & 101 & 309 &  9  &  79 & 219 & 241 &  15 & 171 & 179 & 61 \\\\\n",
       "\tANT & 63  & 180 & 116 & 105 & 38  & 105 &  96 &  90 & 125 & 156 &  84 & 29 \\\\\n",
       "\tVAL & 35  &  93 &  72 &  81 & 51  & 140 & 118 & 132 &  62 & 113 &  55 & 19 \\\\\n",
       "\tCUN & 19  &  80 &  81 & 103 & 11  &  90 & 114 &  50 &  40 &  84 &  33 &  7 \\\\\n",
       "\tATL & 31  &  48 &  22 &  37 & 72  &  62 &  48 &  48 & 106 &  61 &  32 & 15 \\\\\n",
       "\tSAN &  7  &  27 &  51 &  61 & 10  &  40 &  78 &  79 &  30 &  51 &  24 & 20 \\\\\n",
       "\\end{tabular}\n"
      ],
      "text/markdown": [
       "\n",
       "| <!--/--> | Cinferior | Cbajo | Cmedio | Calto | Minferior | Mbajo | Mmedio | Malto | Tinferior | Tbajo | Tmedio | Talto |\n",
       "|---|---|---|---|---|---|---|---|---|---|---|---|---|\n",
       "| BOG |  5  |  40 | 101 | 309 |  9  |  79 | 219 | 241 |  15 | 171 | 179 | 61  |\n",
       "| ANT | 63  | 180 | 116 | 105 | 38  | 105 |  96 |  90 | 125 | 156 |  84 | 29  |\n",
       "| VAL | 35  |  93 |  72 |  81 | 51  | 140 | 118 | 132 |  62 | 113 |  55 | 19  |\n",
       "| CUN | 19  |  80 |  81 | 103 | 11  |  90 | 114 |  50 |  40 |  84 |  33 |  7  |\n",
       "| ATL | 31  |  48 |  22 |  37 | 72  |  62 |  48 |  48 | 106 |  61 |  32 | 15  |\n",
       "| SAN |  7  |  27 |  51 |  61 | 10  |  40 |  78 |  79 |  30 |  51 |  24 | 20  |\n",
       "\n"
      ],
      "text/plain": [
       "    Cinferior Cbajo Cmedio Calto Minferior Mbajo Mmedio Malto Tinferior Tbajo\n",
       "BOG  5         40   101    309    9         79   219    241    15       171  \n",
       "ANT 63        180   116    105   38        105    96     90   125       156  \n",
       "VAL 35         93    72     81   51        140   118    132    62       113  \n",
       "CUN 19         80    81    103   11         90   114     50    40        84  \n",
       "ATL 31         48    22     37   72         62    48     48   106        61  \n",
       "SAN  7         27    51     61   10         40    78     79    30        51  \n",
       "    Tmedio Talto\n",
       "BOG 179    61   \n",
       "ANT  84    29   \n",
       "VAL  55    19   \n",
       "CUN  33     7   \n",
       "ATL  32    15   \n",
       "SAN  24    20   "
      ]
     },
     "metadata": {},
     "output_type": "display_data"
    }
   ],
   "source": [
    "library ( FactoClass )\n",
    "data ( icfes08 )\n",
    "head(icfes08)"
   ]
  },
  {
   "cell_type": "markdown",
   "metadata": {},
   "source": [
    "## uso de FactoMineR"
   ]
  },
  {
   "cell_type": "code",
   "execution_count": 5,
   "metadata": {},
   "outputs": [
    {
     "data": {
      "image/png": "[encoded data removed]",
      "text/plain": [
       "Plot with title \"CA factor map\""
      ]
     },
     "metadata": {},
     "output_type": "display_data"
    }
   ],
   "source": [
    "require(FactoMineR)\n",
    "resciu.ne<-CA(icfes08)"
   ]
  },
  {
   "cell_type": "markdown",
   "metadata": {},
   "source": [
    "## Análisis por columnas: Niveles de desempleño por jornada"
   ]
  },
  {
   "cell_type": "code",
   "execution_count": 4,
   "metadata": {},
   "outputs": [
    {
     "data": {
      "text/html": [
       "<table>\n",
       "<thead><tr><th></th><th scope=col>Dim 1</th><th scope=col>Dim 2</th></tr></thead>\n",
       "<tbody>\n",
       "\t<tr><th scope=row>Calto</th><td>-0.53203245</td><td> 0.11426083</td></tr>\n",
       "\t<tr><th scope=row>Tmedio</th><td>-0.35423077</td><td> 0.17177637</td></tr>\n",
       "\t<tr><th scope=row>Malto</th><td>-0.33358565</td><td> 0.21610178</td></tr>\n",
       "\t<tr><th scope=row>Talto</th><td>-0.27774000</td><td> 0.16551474</td></tr>\n",
       "\t<tr><th scope=row>Mmedio</th><td>-0.26729214</td><td> 0.01943124</td></tr>\n",
       "\t<tr><th scope=row>Cmedio</th><td>-0.23991906</td><td>-0.36942723</td></tr>\n",
       "\t<tr><th scope=row>Tbajo</th><td>-0.01971956</td><td> 0.02836539</td></tr>\n",
       "\t<tr><th scope=row>Cbajo</th><td> 0.10783235</td><td>-0.47444283</td></tr>\n",
       "\t<tr><th scope=row>Mbajo</th><td> 0.25504153</td><td> 0.01253627</td></tr>\n",
       "\t<tr><th scope=row>Tinferior</th><td> 0.55256039</td><td> 0.05389693</td></tr>\n",
       "\t<tr><th scope=row>Cinferior</th><td> 0.69418100</td><td>-0.18865221</td></tr>\n",
       "\t<tr><th scope=row>Minferior</th><td> 0.89550528</td><td> 0.35699251</td></tr>\n",
       "</tbody>\n",
       "</table>\n"
      ],
      "text/latex": [
       "\\begin{tabular}{r|ll}\n",
       "  & Dim 1 & Dim 2\\\\\n",
       "\\hline\n",
       "\tCalto & -0.53203245 &  0.11426083\\\\\n",
       "\tTmedio & -0.35423077 &  0.17177637\\\\\n",
       "\tMalto & -0.33358565 &  0.21610178\\\\\n",
       "\tTalto & -0.27774000 &  0.16551474\\\\\n",
       "\tMmedio & -0.26729214 &  0.01943124\\\\\n",
       "\tCmedio & -0.23991906 & -0.36942723\\\\\n",
       "\tTbajo & -0.01971956 &  0.02836539\\\\\n",
       "\tCbajo &  0.10783235 & -0.47444283\\\\\n",
       "\tMbajo &  0.25504153 &  0.01253627\\\\\n",
       "\tTinferior &  0.55256039 &  0.05389693\\\\\n",
       "\tCinferior &  0.69418100 & -0.18865221\\\\\n",
       "\tMinferior &  0.89550528 &  0.35699251\\\\\n",
       "\\end{tabular}\n"
      ],
      "text/markdown": [
       "\n",
       "| <!--/--> | Dim 1 | Dim 2 |\n",
       "|---|---|---|\n",
       "| Calto | -0.53203245 |  0.11426083 |\n",
       "| Tmedio | -0.35423077 |  0.17177637 |\n",
       "| Malto | -0.33358565 |  0.21610178 |\n",
       "| Talto | -0.27774000 |  0.16551474 |\n",
       "| Mmedio | -0.26729214 |  0.01943124 |\n",
       "| Cmedio | -0.23991906 | -0.36942723 |\n",
       "| Tbajo | -0.01971956 |  0.02836539 |\n",
       "| Cbajo |  0.10783235 | -0.47444283 |\n",
       "| Mbajo |  0.25504153 |  0.01253627 |\n",
       "| Tinferior |  0.55256039 |  0.05389693 |\n",
       "| Cinferior |  0.69418100 | -0.18865221 |\n",
       "| Minferior |  0.89550528 |  0.35699251 |\n",
       "\n"
      ],
      "text/plain": [
       "          Dim 1       Dim 2      \n",
       "Calto     -0.53203245  0.11426083\n",
       "Tmedio    -0.35423077  0.17177637\n",
       "Malto     -0.33358565  0.21610178\n",
       "Talto     -0.27774000  0.16551474\n",
       "Mmedio    -0.26729214  0.01943124\n",
       "Cmedio    -0.23991906 -0.36942723\n",
       "Tbajo     -0.01971956  0.02836539\n",
       "Cbajo      0.10783235 -0.47444283\n",
       "Mbajo      0.25504153  0.01253627\n",
       "Tinferior  0.55256039  0.05389693\n",
       "Cinferior  0.69418100 -0.18865221\n",
       "Minferior  0.89550528  0.35699251"
      ]
     },
     "metadata": {},
     "output_type": "display_data"
    },
    {
     "data": {
      "text/html": [
       "<table>\n",
       "<thead><tr><th></th><th scope=col>Dim 1</th><th scope=col>Dim 2</th></tr></thead>\n",
       "<tbody>\n",
       "\t<tr><th scope=row>Calto</th><td>-0.53</td><td> 0.11</td></tr>\n",
       "\t<tr><th scope=row>Tmedio</th><td>-0.35</td><td> 0.17</td></tr>\n",
       "\t<tr><th scope=row>Malto</th><td>-0.33</td><td> 0.22</td></tr>\n",
       "\t<tr><th scope=row>Talto</th><td>-0.28</td><td> 0.17</td></tr>\n",
       "\t<tr><th scope=row>Mmedio</th><td>-0.27</td><td> 0.02</td></tr>\n",
       "\t<tr><th scope=row>Cmedio</th><td>-0.24</td><td>-0.37</td></tr>\n",
       "\t<tr><th scope=row>Tbajo</th><td>-0.02</td><td> 0.03</td></tr>\n",
       "\t<tr><th scope=row>Cbajo</th><td> 0.11</td><td>-0.47</td></tr>\n",
       "\t<tr><th scope=row>Mbajo</th><td> 0.26</td><td> 0.01</td></tr>\n",
       "\t<tr><th scope=row>Tinferior</th><td> 0.55</td><td> 0.05</td></tr>\n",
       "\t<tr><th scope=row>Cinferior</th><td> 0.69</td><td>-0.19</td></tr>\n",
       "\t<tr><th scope=row>Minferior</th><td> 0.90</td><td> 0.36</td></tr>\n",
       "</tbody>\n",
       "</table>\n"
      ],
      "text/latex": [
       "\\begin{tabular}{r|ll}\n",
       "  & Dim 1 & Dim 2\\\\\n",
       "\\hline\n",
       "\tCalto & -0.53 &  0.11\\\\\n",
       "\tTmedio & -0.35 &  0.17\\\\\n",
       "\tMalto & -0.33 &  0.22\\\\\n",
       "\tTalto & -0.28 &  0.17\\\\\n",
       "\tMmedio & -0.27 &  0.02\\\\\n",
       "\tCmedio & -0.24 & -0.37\\\\\n",
       "\tTbajo & -0.02 &  0.03\\\\\n",
       "\tCbajo &  0.11 & -0.47\\\\\n",
       "\tMbajo &  0.26 &  0.01\\\\\n",
       "\tTinferior &  0.55 &  0.05\\\\\n",
       "\tCinferior &  0.69 & -0.19\\\\\n",
       "\tMinferior &  0.90 &  0.36\\\\\n",
       "\\end{tabular}\n"
      ],
      "text/markdown": [
       "\n",
       "| <!--/--> | Dim 1 | Dim 2 |\n",
       "|---|---|---|\n",
       "| Calto | -0.53 |  0.11 |\n",
       "| Tmedio | -0.35 |  0.17 |\n",
       "| Malto | -0.33 |  0.22 |\n",
       "| Talto | -0.28 |  0.17 |\n",
       "| Mmedio | -0.27 |  0.02 |\n",
       "| Cmedio | -0.24 | -0.37 |\n",
       "| Tbajo | -0.02 |  0.03 |\n",
       "| Cbajo |  0.11 | -0.47 |\n",
       "| Mbajo |  0.26 |  0.01 |\n",
       "| Tinferior |  0.55 |  0.05 |\n",
       "| Cinferior |  0.69 | -0.19 |\n",
       "| Minferior |  0.90 |  0.36 |\n",
       "\n"
      ],
      "text/plain": [
       "          Dim 1 Dim 2\n",
       "Calto     -0.53  0.11\n",
       "Tmedio    -0.35  0.17\n",
       "Malto     -0.33  0.22\n",
       "Talto     -0.28  0.17\n",
       "Mmedio    -0.27  0.02\n",
       "Cmedio    -0.24 -0.37\n",
       "Tbajo     -0.02  0.03\n",
       "Cbajo      0.11 -0.47\n",
       "Mbajo      0.26  0.01\n",
       "Tinferior  0.55  0.05\n",
       "Cinferior  0.69 -0.19\n",
       "Minferior  0.90  0.36"
      ]
     },
     "metadata": {},
     "output_type": "display_data"
    }
   ],
   "source": [
    "# Coordenadas factor 1\n",
    "coordenadas<-resciu.ne$col$coord                              # Obteniendo coordenadas\n",
    "ord_coordenadas<-order(coordenadas[,1])  \n",
    "resciu.ne$col$coord[ord_coordenadas,][,1:2]      # Ordenando coordenadas eje1\n",
    "round(resciu.ne$col$coord[ord_coordenadas,][,1:2],2)"
   ]
  },
  {
   "cell_type": "markdown",
   "metadata": {},
   "source": [
    "Puede observarse en el plano factorial que Bogotá poosee los mejores resultados, mientras que choco y magdalena bajos puntajes. Para un análisis  se utilizan las coordenadas, las contribuciones y los cosenos cuadrados:\n",
    "\n",
    "* La anterior tabla muestra que el primer factor está caracterizado principalmente por C_Alto yT_Medio en su parte negativa y por C_Inferior con M_Inferior en la parte positiva. \n",
    "\n",
    "* En la siguiente tabla el segundo factor, en su parte negativa, la que más extrema coordenada tiene es C_Bajo con C_medio, mientras que M_Inferior domina la parte positiva."
   ]
  },
  {
   "cell_type": "code",
   "execution_count": 6,
   "metadata": {},
   "outputs": [
    {
     "data": {
      "text/html": [
       "<table>\n",
       "<thead><tr><th></th><th scope=col>Dim 1</th><th scope=col>Dim 2</th></tr></thead>\n",
       "<tbody>\n",
       "\t<tr><th scope=row>Cbajo</th><td> 0.10783235</td><td>-0.47444283</td></tr>\n",
       "\t<tr><th scope=row>Cmedio</th><td>-0.23991906</td><td>-0.36942723</td></tr>\n",
       "\t<tr><th scope=row>Cinferior</th><td> 0.69418100</td><td>-0.18865221</td></tr>\n",
       "\t<tr><th scope=row>Mbajo</th><td> 0.25504153</td><td> 0.01253627</td></tr>\n",
       "\t<tr><th scope=row>Mmedio</th><td>-0.26729214</td><td> 0.01943124</td></tr>\n",
       "\t<tr><th scope=row>Tbajo</th><td>-0.01971956</td><td> 0.02836539</td></tr>\n",
       "\t<tr><th scope=row>Tinferior</th><td> 0.55256039</td><td> 0.05389693</td></tr>\n",
       "\t<tr><th scope=row>Calto</th><td>-0.53203245</td><td> 0.11426083</td></tr>\n",
       "\t<tr><th scope=row>Talto</th><td>-0.27774000</td><td> 0.16551474</td></tr>\n",
       "\t<tr><th scope=row>Tmedio</th><td>-0.35423077</td><td> 0.17177637</td></tr>\n",
       "\t<tr><th scope=row>Malto</th><td>-0.33358565</td><td> 0.21610178</td></tr>\n",
       "\t<tr><th scope=row>Minferior</th><td> 0.89550528</td><td> 0.35699251</td></tr>\n",
       "</tbody>\n",
       "</table>\n"
      ],
      "text/latex": [
       "\\begin{tabular}{r|ll}\n",
       "  & Dim 1 & Dim 2\\\\\n",
       "\\hline\n",
       "\tCbajo &  0.10783235 & -0.47444283\\\\\n",
       "\tCmedio & -0.23991906 & -0.36942723\\\\\n",
       "\tCinferior &  0.69418100 & -0.18865221\\\\\n",
       "\tMbajo &  0.25504153 &  0.01253627\\\\\n",
       "\tMmedio & -0.26729214 &  0.01943124\\\\\n",
       "\tTbajo & -0.01971956 &  0.02836539\\\\\n",
       "\tTinferior &  0.55256039 &  0.05389693\\\\\n",
       "\tCalto & -0.53203245 &  0.11426083\\\\\n",
       "\tTalto & -0.27774000 &  0.16551474\\\\\n",
       "\tTmedio & -0.35423077 &  0.17177637\\\\\n",
       "\tMalto & -0.33358565 &  0.21610178\\\\\n",
       "\tMinferior &  0.89550528 &  0.35699251\\\\\n",
       "\\end{tabular}\n"
      ],
      "text/markdown": [
       "\n",
       "| <!--/--> | Dim 1 | Dim 2 |\n",
       "|---|---|---|\n",
       "| Cbajo |  0.10783235 | -0.47444283 |\n",
       "| Cmedio | -0.23991906 | -0.36942723 |\n",
       "| Cinferior |  0.69418100 | -0.18865221 |\n",
       "| Mbajo |  0.25504153 |  0.01253627 |\n",
       "| Mmedio | -0.26729214 |  0.01943124 |\n",
       "| Tbajo | -0.01971956 |  0.02836539 |\n",
       "| Tinferior |  0.55256039 |  0.05389693 |\n",
       "| Calto | -0.53203245 |  0.11426083 |\n",
       "| Talto | -0.27774000 |  0.16551474 |\n",
       "| Tmedio | -0.35423077 |  0.17177637 |\n",
       "| Malto | -0.33358565 |  0.21610178 |\n",
       "| Minferior |  0.89550528 |  0.35699251 |\n",
       "\n"
      ],
      "text/plain": [
       "          Dim 1       Dim 2      \n",
       "Cbajo      0.10783235 -0.47444283\n",
       "Cmedio    -0.23991906 -0.36942723\n",
       "Cinferior  0.69418100 -0.18865221\n",
       "Mbajo      0.25504153  0.01253627\n",
       "Mmedio    -0.26729214  0.01943124\n",
       "Tbajo     -0.01971956  0.02836539\n",
       "Tinferior  0.55256039  0.05389693\n",
       "Calto     -0.53203245  0.11426083\n",
       "Talto     -0.27774000  0.16551474\n",
       "Tmedio    -0.35423077  0.17177637\n",
       "Malto     -0.33358565  0.21610178\n",
       "Minferior  0.89550528  0.35699251"
      ]
     },
     "metadata": {},
     "output_type": "display_data"
    },
    {
     "data": {
      "text/html": [
       "<table>\n",
       "<thead><tr><th></th><th scope=col>Dim 1</th><th scope=col>Dim 2</th></tr></thead>\n",
       "<tbody>\n",
       "\t<tr><th scope=row>Cbajo</th><td> 0.11</td><td>-0.47</td></tr>\n",
       "\t<tr><th scope=row>Cmedio</th><td>-0.24</td><td>-0.37</td></tr>\n",
       "\t<tr><th scope=row>Cinferior</th><td> 0.69</td><td>-0.19</td></tr>\n",
       "\t<tr><th scope=row>Mbajo</th><td> 0.26</td><td> 0.01</td></tr>\n",
       "\t<tr><th scope=row>Mmedio</th><td>-0.27</td><td> 0.02</td></tr>\n",
       "\t<tr><th scope=row>Tbajo</th><td>-0.02</td><td> 0.03</td></tr>\n",
       "\t<tr><th scope=row>Tinferior</th><td> 0.55</td><td> 0.05</td></tr>\n",
       "\t<tr><th scope=row>Calto</th><td>-0.53</td><td> 0.11</td></tr>\n",
       "\t<tr><th scope=row>Talto</th><td>-0.28</td><td> 0.17</td></tr>\n",
       "\t<tr><th scope=row>Tmedio</th><td>-0.35</td><td> 0.17</td></tr>\n",
       "\t<tr><th scope=row>Malto</th><td>-0.33</td><td> 0.22</td></tr>\n",
       "\t<tr><th scope=row>Minferior</th><td> 0.90</td><td> 0.36</td></tr>\n",
       "</tbody>\n",
       "</table>\n"
      ],
      "text/latex": [
       "\\begin{tabular}{r|ll}\n",
       "  & Dim 1 & Dim 2\\\\\n",
       "\\hline\n",
       "\tCbajo &  0.11 & -0.47\\\\\n",
       "\tCmedio & -0.24 & -0.37\\\\\n",
       "\tCinferior &  0.69 & -0.19\\\\\n",
       "\tMbajo &  0.26 &  0.01\\\\\n",
       "\tMmedio & -0.27 &  0.02\\\\\n",
       "\tTbajo & -0.02 &  0.03\\\\\n",
       "\tTinferior &  0.55 &  0.05\\\\\n",
       "\tCalto & -0.53 &  0.11\\\\\n",
       "\tTalto & -0.28 &  0.17\\\\\n",
       "\tTmedio & -0.35 &  0.17\\\\\n",
       "\tMalto & -0.33 &  0.22\\\\\n",
       "\tMinferior &  0.90 &  0.36\\\\\n",
       "\\end{tabular}\n"
      ],
      "text/markdown": [
       "\n",
       "| <!--/--> | Dim 1 | Dim 2 |\n",
       "|---|---|---|\n",
       "| Cbajo |  0.11 | -0.47 |\n",
       "| Cmedio | -0.24 | -0.37 |\n",
       "| Cinferior |  0.69 | -0.19 |\n",
       "| Mbajo |  0.26 |  0.01 |\n",
       "| Mmedio | -0.27 |  0.02 |\n",
       "| Tbajo | -0.02 |  0.03 |\n",
       "| Tinferior |  0.55 |  0.05 |\n",
       "| Calto | -0.53 |  0.11 |\n",
       "| Talto | -0.28 |  0.17 |\n",
       "| Tmedio | -0.35 |  0.17 |\n",
       "| Malto | -0.33 |  0.22 |\n",
       "| Minferior |  0.90 |  0.36 |\n",
       "\n"
      ],
      "text/plain": [
       "          Dim 1 Dim 2\n",
       "Cbajo      0.11 -0.47\n",
       "Cmedio    -0.24 -0.37\n",
       "Cinferior  0.69 -0.19\n",
       "Mbajo      0.26  0.01\n",
       "Mmedio    -0.27  0.02\n",
       "Tbajo     -0.02  0.03\n",
       "Tinferior  0.55  0.05\n",
       "Calto     -0.53  0.11\n",
       "Talto     -0.28  0.17\n",
       "Tmedio    -0.35  0.17\n",
       "Malto     -0.33  0.22\n",
       "Minferior  0.90  0.36"
      ]
     },
     "metadata": {},
     "output_type": "display_data"
    }
   ],
   "source": [
    "# Coordenadas factor 2\n",
    "coordenadas<-resciu.ne$col$coord                              # Obteniendo coordenadas\n",
    "ord_coordenadas<-order(coordenadas[,2])  \n",
    "resciu.ne$col$coord[ord_coordenadas,][,1:2]      # Ordenando coordenadas eje1\n",
    "round(resciu.ne$col$coord[ord_coordenadas,][,1:2],2)"
   ]
  },
  {
   "cell_type": "markdown",
   "metadata": {},
   "source": [
    "### Contribuciones"
   ]
  },
  {
   "cell_type": "code",
   "execution_count": 7,
   "metadata": {},
   "outputs": [
    {
     "data": {
      "text/html": [
       "<table>\n",
       "<thead><tr><th></th><th scope=col>Dim 1</th><th scope=col>Dim 2</th></tr></thead>\n",
       "<tbody>\n",
       "\t<tr><th scope=row>Tbajo</th><td> 0.02752336</td><td> 0.18914573</td></tr>\n",
       "\t<tr><th scope=row>Cbajo</th><td> 0.64907498</td><td>41.73271221</td></tr>\n",
       "\t<tr><th scope=row>Talto</th><td> 1.15858499</td><td> 1.36658439</td></tr>\n",
       "\t<tr><th scope=row>Cmedio</th><td> 2.84910193</td><td>22.43615155</td></tr>\n",
       "\t<tr><th scope=row>Tmedio</th><td> 4.88322365</td><td> 3.81393241</td></tr>\n",
       "\t<tr><th scope=row>Mbajo</th><td> 5.07856404</td><td> 0.04075376</td></tr>\n",
       "\t<tr><th scope=row>Mmedio</th><td> 5.38267016</td><td> 0.09447970</td></tr>\n",
       "\t<tr><th scope=row>Malto</th><td> 6.82070592</td><td> 9.50699763</td></tr>\n",
       "\t<tr><th scope=row>Cinferior</th><td>11.36923511</td><td> 2.78882763</td></tr>\n",
       "\t<tr><th scope=row>Tinferior</th><td>16.54212428</td><td> 0.52272343</td></tr>\n",
       "\t<tr><th scope=row>Calto</th><td>17.00541666</td><td> 2.60506090</td></tr>\n",
       "\t<tr><th scope=row>Minferior</th><td>28.23377492</td><td>14.90263065</td></tr>\n",
       "</tbody>\n",
       "</table>\n"
      ],
      "text/latex": [
       "\\begin{tabular}{r|ll}\n",
       "  & Dim 1 & Dim 2\\\\\n",
       "\\hline\n",
       "\tTbajo &  0.02752336 &  0.18914573\\\\\n",
       "\tCbajo &  0.64907498 & 41.73271221\\\\\n",
       "\tTalto &  1.15858499 &  1.36658439\\\\\n",
       "\tCmedio &  2.84910193 & 22.43615155\\\\\n",
       "\tTmedio &  4.88322365 &  3.81393241\\\\\n",
       "\tMbajo &  5.07856404 &  0.04075376\\\\\n",
       "\tMmedio &  5.38267016 &  0.09447970\\\\\n",
       "\tMalto &  6.82070592 &  9.50699763\\\\\n",
       "\tCinferior & 11.36923511 &  2.78882763\\\\\n",
       "\tTinferior & 16.54212428 &  0.52272343\\\\\n",
       "\tCalto & 17.00541666 &  2.60506090\\\\\n",
       "\tMinferior & 28.23377492 & 14.90263065\\\\\n",
       "\\end{tabular}\n"
      ],
      "text/markdown": [
       "\n",
       "| <!--/--> | Dim 1 | Dim 2 |\n",
       "|---|---|---|\n",
       "| Tbajo |  0.02752336 |  0.18914573 |\n",
       "| Cbajo |  0.64907498 | 41.73271221 |\n",
       "| Talto |  1.15858499 |  1.36658439 |\n",
       "| Cmedio |  2.84910193 | 22.43615155 |\n",
       "| Tmedio |  4.88322365 |  3.81393241 |\n",
       "| Mbajo |  5.07856404 |  0.04075376 |\n",
       "| Mmedio |  5.38267016 |  0.09447970 |\n",
       "| Malto |  6.82070592 |  9.50699763 |\n",
       "| Cinferior | 11.36923511 |  2.78882763 |\n",
       "| Tinferior | 16.54212428 |  0.52272343 |\n",
       "| Calto | 17.00541666 |  2.60506090 |\n",
       "| Minferior | 28.23377492 | 14.90263065 |\n",
       "\n"
      ],
      "text/plain": [
       "          Dim 1       Dim 2      \n",
       "Tbajo      0.02752336  0.18914573\n",
       "Cbajo      0.64907498 41.73271221\n",
       "Talto      1.15858499  1.36658439\n",
       "Cmedio     2.84910193 22.43615155\n",
       "Tmedio     4.88322365  3.81393241\n",
       "Mbajo      5.07856404  0.04075376\n",
       "Mmedio     5.38267016  0.09447970\n",
       "Malto      6.82070592  9.50699763\n",
       "Cinferior 11.36923511  2.78882763\n",
       "Tinferior 16.54212428  0.52272343\n",
       "Calto     17.00541666  2.60506090\n",
       "Minferior 28.23377492 14.90263065"
      ]
     },
     "metadata": {},
     "output_type": "display_data"
    },
    {
     "data": {
      "text/html": [
       "<table>\n",
       "<thead><tr><th></th><th scope=col>Dim 1</th><th scope=col>Dim 2</th></tr></thead>\n",
       "<tbody>\n",
       "\t<tr><th scope=row>Tbajo</th><td> 0.03</td><td> 0.19</td></tr>\n",
       "\t<tr><th scope=row>Cbajo</th><td> 0.65</td><td>41.73</td></tr>\n",
       "\t<tr><th scope=row>Talto</th><td> 1.16</td><td> 1.37</td></tr>\n",
       "\t<tr><th scope=row>Cmedio</th><td> 2.85</td><td>22.44</td></tr>\n",
       "\t<tr><th scope=row>Tmedio</th><td> 4.88</td><td> 3.81</td></tr>\n",
       "\t<tr><th scope=row>Mbajo</th><td> 5.08</td><td> 0.04</td></tr>\n",
       "\t<tr><th scope=row>Mmedio</th><td> 5.38</td><td> 0.09</td></tr>\n",
       "\t<tr><th scope=row>Malto</th><td> 6.82</td><td> 9.51</td></tr>\n",
       "\t<tr><th scope=row>Cinferior</th><td>11.37</td><td> 2.79</td></tr>\n",
       "\t<tr><th scope=row>Tinferior</th><td>16.54</td><td> 0.52</td></tr>\n",
       "\t<tr><th scope=row>Calto</th><td>17.01</td><td> 2.61</td></tr>\n",
       "\t<tr><th scope=row>Minferior</th><td>28.23</td><td>14.90</td></tr>\n",
       "</tbody>\n",
       "</table>\n"
      ],
      "text/latex": [
       "\\begin{tabular}{r|ll}\n",
       "  & Dim 1 & Dim 2\\\\\n",
       "\\hline\n",
       "\tTbajo &  0.03 &  0.19\\\\\n",
       "\tCbajo &  0.65 & 41.73\\\\\n",
       "\tTalto &  1.16 &  1.37\\\\\n",
       "\tCmedio &  2.85 & 22.44\\\\\n",
       "\tTmedio &  4.88 &  3.81\\\\\n",
       "\tMbajo &  5.08 &  0.04\\\\\n",
       "\tMmedio &  5.38 &  0.09\\\\\n",
       "\tMalto &  6.82 &  9.51\\\\\n",
       "\tCinferior & 11.37 &  2.79\\\\\n",
       "\tTinferior & 16.54 &  0.52\\\\\n",
       "\tCalto & 17.01 &  2.61\\\\\n",
       "\tMinferior & 28.23 & 14.90\\\\\n",
       "\\end{tabular}\n"
      ],
      "text/markdown": [
       "\n",
       "| <!--/--> | Dim 1 | Dim 2 |\n",
       "|---|---|---|\n",
       "| Tbajo |  0.03 |  0.19 |\n",
       "| Cbajo |  0.65 | 41.73 |\n",
       "| Talto |  1.16 |  1.37 |\n",
       "| Cmedio |  2.85 | 22.44 |\n",
       "| Tmedio |  4.88 |  3.81 |\n",
       "| Mbajo |  5.08 |  0.04 |\n",
       "| Mmedio |  5.38 |  0.09 |\n",
       "| Malto |  6.82 |  9.51 |\n",
       "| Cinferior | 11.37 |  2.79 |\n",
       "| Tinferior | 16.54 |  0.52 |\n",
       "| Calto | 17.01 |  2.61 |\n",
       "| Minferior | 28.23 | 14.90 |\n",
       "\n"
      ],
      "text/plain": [
       "          Dim 1 Dim 2\n",
       "Tbajo      0.03  0.19\n",
       "Cbajo      0.65 41.73\n",
       "Talto      1.16  1.37\n",
       "Cmedio     2.85 22.44\n",
       "Tmedio     4.88  3.81\n",
       "Mbajo      5.08  0.04\n",
       "Mmedio     5.38  0.09\n",
       "Malto      6.82  9.51\n",
       "Cinferior 11.37  2.79\n",
       "Tinferior 16.54  0.52\n",
       "Calto     17.01  2.61\n",
       "Minferior 28.23 14.90"
      ]
     },
     "metadata": {},
     "output_type": "display_data"
    }
   ],
   "source": [
    "# Contribuciones factor 1\n",
    "contribuciones<-resciu.ne$col$contrib            # Obteniendo contribuciones\n",
    "ord_contribuciones<-order(contribuciones[,1])  \n",
    "contribuciones[ord_contribuciones,][,1:2]      # Ordenando contribuciones eje1\n",
    "round(contribuciones[ord_contribuciones,][,1:2],2)"
   ]
  },
  {
   "cell_type": "markdown",
   "metadata": {},
   "source": [
    "En cuanto a las contribuciones, como se ve en la anterior y siguiente tabla, los resultados muestran que efectivamente los niveles M_Inferior, T_Inferior  los cuales son los que más contribuyen al primer factor.\n",
    "\n",
    "mientras que al segundo factor contribuyen más , C_bajo, C_Medio, Minferior"
   ]
  },
  {
   "cell_type": "code",
   "execution_count": 8,
   "metadata": {},
   "outputs": [
    {
     "data": {
      "text/html": [
       "<table>\n",
       "<thead><tr><th></th><th scope=col>Dim 1</th><th scope=col>Dim 2</th></tr></thead>\n",
       "<tbody>\n",
       "\t<tr><th scope=row>Mbajo</th><td> 5.07856404</td><td> 0.04075376</td></tr>\n",
       "\t<tr><th scope=row>Mmedio</th><td> 5.38267016</td><td> 0.09447970</td></tr>\n",
       "\t<tr><th scope=row>Tbajo</th><td> 0.02752336</td><td> 0.18914573</td></tr>\n",
       "\t<tr><th scope=row>Tinferior</th><td>16.54212428</td><td> 0.52272343</td></tr>\n",
       "\t<tr><th scope=row>Talto</th><td> 1.15858499</td><td> 1.36658439</td></tr>\n",
       "\t<tr><th scope=row>Calto</th><td>17.00541666</td><td> 2.60506090</td></tr>\n",
       "\t<tr><th scope=row>Cinferior</th><td>11.36923511</td><td> 2.78882763</td></tr>\n",
       "\t<tr><th scope=row>Tmedio</th><td> 4.88322365</td><td> 3.81393241</td></tr>\n",
       "\t<tr><th scope=row>Malto</th><td> 6.82070592</td><td> 9.50699763</td></tr>\n",
       "\t<tr><th scope=row>Minferior</th><td>28.23377492</td><td>14.90263065</td></tr>\n",
       "\t<tr><th scope=row>Cmedio</th><td> 2.84910193</td><td>22.43615155</td></tr>\n",
       "\t<tr><th scope=row>Cbajo</th><td> 0.64907498</td><td>41.73271221</td></tr>\n",
       "</tbody>\n",
       "</table>\n"
      ],
      "text/latex": [
       "\\begin{tabular}{r|ll}\n",
       "  & Dim 1 & Dim 2\\\\\n",
       "\\hline\n",
       "\tMbajo &  5.07856404 &  0.04075376\\\\\n",
       "\tMmedio &  5.38267016 &  0.09447970\\\\\n",
       "\tTbajo &  0.02752336 &  0.18914573\\\\\n",
       "\tTinferior & 16.54212428 &  0.52272343\\\\\n",
       "\tTalto &  1.15858499 &  1.36658439\\\\\n",
       "\tCalto & 17.00541666 &  2.60506090\\\\\n",
       "\tCinferior & 11.36923511 &  2.78882763\\\\\n",
       "\tTmedio &  4.88322365 &  3.81393241\\\\\n",
       "\tMalto &  6.82070592 &  9.50699763\\\\\n",
       "\tMinferior & 28.23377492 & 14.90263065\\\\\n",
       "\tCmedio &  2.84910193 & 22.43615155\\\\\n",
       "\tCbajo &  0.64907498 & 41.73271221\\\\\n",
       "\\end{tabular}\n"
      ],
      "text/markdown": [
       "\n",
       "| <!--/--> | Dim 1 | Dim 2 |\n",
       "|---|---|---|\n",
       "| Mbajo |  5.07856404 |  0.04075376 |\n",
       "| Mmedio |  5.38267016 |  0.09447970 |\n",
       "| Tbajo |  0.02752336 |  0.18914573 |\n",
       "| Tinferior | 16.54212428 |  0.52272343 |\n",
       "| Talto |  1.15858499 |  1.36658439 |\n",
       "| Calto | 17.00541666 |  2.60506090 |\n",
       "| Cinferior | 11.36923511 |  2.78882763 |\n",
       "| Tmedio |  4.88322365 |  3.81393241 |\n",
       "| Malto |  6.82070592 |  9.50699763 |\n",
       "| Minferior | 28.23377492 | 14.90263065 |\n",
       "| Cmedio |  2.84910193 | 22.43615155 |\n",
       "| Cbajo |  0.64907498 | 41.73271221 |\n",
       "\n"
      ],
      "text/plain": [
       "          Dim 1       Dim 2      \n",
       "Mbajo      5.07856404  0.04075376\n",
       "Mmedio     5.38267016  0.09447970\n",
       "Tbajo      0.02752336  0.18914573\n",
       "Tinferior 16.54212428  0.52272343\n",
       "Talto      1.15858499  1.36658439\n",
       "Calto     17.00541666  2.60506090\n",
       "Cinferior 11.36923511  2.78882763\n",
       "Tmedio     4.88322365  3.81393241\n",
       "Malto      6.82070592  9.50699763\n",
       "Minferior 28.23377492 14.90263065\n",
       "Cmedio     2.84910193 22.43615155\n",
       "Cbajo      0.64907498 41.73271221"
      ]
     },
     "metadata": {},
     "output_type": "display_data"
    },
    {
     "data": {
      "text/html": [
       "<table>\n",
       "<thead><tr><th></th><th scope=col>Dim 1</th><th scope=col>Dim 2</th></tr></thead>\n",
       "<tbody>\n",
       "\t<tr><th scope=row>Mbajo</th><td> 5.08</td><td> 0.04</td></tr>\n",
       "\t<tr><th scope=row>Mmedio</th><td> 5.38</td><td> 0.09</td></tr>\n",
       "\t<tr><th scope=row>Tbajo</th><td> 0.03</td><td> 0.19</td></tr>\n",
       "\t<tr><th scope=row>Tinferior</th><td>16.54</td><td> 0.52</td></tr>\n",
       "\t<tr><th scope=row>Talto</th><td> 1.16</td><td> 1.37</td></tr>\n",
       "\t<tr><th scope=row>Calto</th><td>17.01</td><td> 2.61</td></tr>\n",
       "\t<tr><th scope=row>Cinferior</th><td>11.37</td><td> 2.79</td></tr>\n",
       "\t<tr><th scope=row>Tmedio</th><td> 4.88</td><td> 3.81</td></tr>\n",
       "\t<tr><th scope=row>Malto</th><td> 6.82</td><td> 9.51</td></tr>\n",
       "\t<tr><th scope=row>Minferior</th><td>28.23</td><td>14.90</td></tr>\n",
       "\t<tr><th scope=row>Cmedio</th><td> 2.85</td><td>22.44</td></tr>\n",
       "\t<tr><th scope=row>Cbajo</th><td> 0.65</td><td>41.73</td></tr>\n",
       "</tbody>\n",
       "</table>\n"
      ],
      "text/latex": [
       "\\begin{tabular}{r|ll}\n",
       "  & Dim 1 & Dim 2\\\\\n",
       "\\hline\n",
       "\tMbajo &  5.08 &  0.04\\\\\n",
       "\tMmedio &  5.38 &  0.09\\\\\n",
       "\tTbajo &  0.03 &  0.19\\\\\n",
       "\tTinferior & 16.54 &  0.52\\\\\n",
       "\tTalto &  1.16 &  1.37\\\\\n",
       "\tCalto & 17.01 &  2.61\\\\\n",
       "\tCinferior & 11.37 &  2.79\\\\\n",
       "\tTmedio &  4.88 &  3.81\\\\\n",
       "\tMalto &  6.82 &  9.51\\\\\n",
       "\tMinferior & 28.23 & 14.90\\\\\n",
       "\tCmedio &  2.85 & 22.44\\\\\n",
       "\tCbajo &  0.65 & 41.73\\\\\n",
       "\\end{tabular}\n"
      ],
      "text/markdown": [
       "\n",
       "| <!--/--> | Dim 1 | Dim 2 |\n",
       "|---|---|---|\n",
       "| Mbajo |  5.08 |  0.04 |\n",
       "| Mmedio |  5.38 |  0.09 |\n",
       "| Tbajo |  0.03 |  0.19 |\n",
       "| Tinferior | 16.54 |  0.52 |\n",
       "| Talto |  1.16 |  1.37 |\n",
       "| Calto | 17.01 |  2.61 |\n",
       "| Cinferior | 11.37 |  2.79 |\n",
       "| Tmedio |  4.88 |  3.81 |\n",
       "| Malto |  6.82 |  9.51 |\n",
       "| Minferior | 28.23 | 14.90 |\n",
       "| Cmedio |  2.85 | 22.44 |\n",
       "| Cbajo |  0.65 | 41.73 |\n",
       "\n"
      ],
      "text/plain": [
       "          Dim 1 Dim 2\n",
       "Mbajo      5.08  0.04\n",
       "Mmedio     5.38  0.09\n",
       "Tbajo      0.03  0.19\n",
       "Tinferior 16.54  0.52\n",
       "Talto      1.16  1.37\n",
       "Calto     17.01  2.61\n",
       "Cinferior 11.37  2.79\n",
       "Tmedio     4.88  3.81\n",
       "Malto      6.82  9.51\n",
       "Minferior 28.23 14.90\n",
       "Cmedio     2.85 22.44\n",
       "Cbajo      0.65 41.73"
      ]
     },
     "metadata": {},
     "output_type": "display_data"
    }
   ],
   "source": [
    "# Contribuciones factor 2\n",
    "contribuciones<-resciu.ne$col$contrib            # Obteniendo contribuciones\n",
    "ord_contribuciones<-order(contribuciones[,2])  \n",
    "contribuciones[ord_contribuciones,][,1:2]      # Ordenando contribuciones eje1\n",
    "round(contribuciones[ord_contribuciones,][,1:2],2)"
   ]
  },
  {
   "cell_type": "code",
   "execution_count": 9,
   "metadata": {},
   "outputs": [
    {
     "data": {
      "image/png": "[encoded data removed]",
      "text/plain": [
       "Plot with title \"CA factor map\""
      ]
     },
     "metadata": {},
     "output_type": "display_data"
    }
   ],
   "source": [
    "require(FactoMineR)\n",
    "resciu.ne<-CA(icfes08)"
   ]
  },
  {
   "cell_type": "markdown",
   "metadata": {},
   "source": [
    "### Cosenos cuadrados"
   ]
  },
  {
   "cell_type": "code",
   "execution_count": 10,
   "metadata": {},
   "outputs": [
    {
     "data": {
      "text/html": [
       "<table>\n",
       "<thead><tr><th></th><th scope=col>Dim 1</th><th scope=col>Dim 2</th></tr></thead>\n",
       "<tbody>\n",
       "\t<tr><th scope=row>Minferior</th><td>0.79397417  </td><td>0.1261793526</td></tr>\n",
       "\t<tr><th scope=row>Tinferior</th><td>0.78955813  </td><td>0.0075119507</td></tr>\n",
       "\t<tr><th scope=row>Calto</th><td>0.76700752  </td><td>0.0353767682</td></tr>\n",
       "\t<tr><th scope=row>Cinferior</th><td>0.63619393  </td><td>0.0469859352</td></tr>\n",
       "\t<tr><th scope=row>Tmedio</th><td>0.57384459  </td><td>0.1349424524</td></tr>\n",
       "\t<tr><th scope=row>Malto</th><td>0.54765432  </td><td>0.2298309481</td></tr>\n",
       "\t<tr><th scope=row>Mmedio</th><td>0.54621295  </td><td>0.0028866270</td></tr>\n",
       "\t<tr><th scope=row>Mbajo</th><td>0.38159262  </td><td>0.0009219655</td></tr>\n",
       "\t<tr><th scope=row>Talto</th><td>0.32380526  </td><td>0.1149953791</td></tr>\n",
       "\t<tr><th scope=row>Cmedio</th><td>0.23604706  </td><td>0.5596633882</td></tr>\n",
       "\t<tr><th scope=row>Cbajo</th><td>0.04360231  </td><td>0.8440714130</td></tr>\n",
       "\t<tr><th scope=row>Tbajo</th><td>0.01235188  </td><td>0.0255573614</td></tr>\n",
       "</tbody>\n",
       "</table>\n"
      ],
      "text/latex": [
       "\\begin{tabular}{r|ll}\n",
       "  & Dim 1 & Dim 2\\\\\n",
       "\\hline\n",
       "\tMinferior & 0.79397417   & 0.1261793526\\\\\n",
       "\tTinferior & 0.78955813   & 0.0075119507\\\\\n",
       "\tCalto & 0.76700752   & 0.0353767682\\\\\n",
       "\tCinferior & 0.63619393   & 0.0469859352\\\\\n",
       "\tTmedio & 0.57384459   & 0.1349424524\\\\\n",
       "\tMalto & 0.54765432   & 0.2298309481\\\\\n",
       "\tMmedio & 0.54621295   & 0.0028866270\\\\\n",
       "\tMbajo & 0.38159262   & 0.0009219655\\\\\n",
       "\tTalto & 0.32380526   & 0.1149953791\\\\\n",
       "\tCmedio & 0.23604706   & 0.5596633882\\\\\n",
       "\tCbajo & 0.04360231   & 0.8440714130\\\\\n",
       "\tTbajo & 0.01235188   & 0.0255573614\\\\\n",
       "\\end{tabular}\n"
      ],
      "text/markdown": [
       "\n",
       "| <!--/--> | Dim 1 | Dim 2 |\n",
       "|---|---|---|\n",
       "| Minferior | 0.79397417   | 0.1261793526 |\n",
       "| Tinferior | 0.78955813   | 0.0075119507 |\n",
       "| Calto | 0.76700752   | 0.0353767682 |\n",
       "| Cinferior | 0.63619393   | 0.0469859352 |\n",
       "| Tmedio | 0.57384459   | 0.1349424524 |\n",
       "| Malto | 0.54765432   | 0.2298309481 |\n",
       "| Mmedio | 0.54621295   | 0.0028866270 |\n",
       "| Mbajo | 0.38159262   | 0.0009219655 |\n",
       "| Talto | 0.32380526   | 0.1149953791 |\n",
       "| Cmedio | 0.23604706   | 0.5596633882 |\n",
       "| Cbajo | 0.04360231   | 0.8440714130 |\n",
       "| Tbajo | 0.01235188   | 0.0255573614 |\n",
       "\n"
      ],
      "text/plain": [
       "          Dim 1      Dim 2       \n",
       "Minferior 0.79397417 0.1261793526\n",
       "Tinferior 0.78955813 0.0075119507\n",
       "Calto     0.76700752 0.0353767682\n",
       "Cinferior 0.63619393 0.0469859352\n",
       "Tmedio    0.57384459 0.1349424524\n",
       "Malto     0.54765432 0.2298309481\n",
       "Mmedio    0.54621295 0.0028866270\n",
       "Mbajo     0.38159262 0.0009219655\n",
       "Talto     0.32380526 0.1149953791\n",
       "Cmedio    0.23604706 0.5596633882\n",
       "Cbajo     0.04360231 0.8440714130\n",
       "Tbajo     0.01235188 0.0255573614"
      ]
     },
     "metadata": {},
     "output_type": "display_data"
    },
    {
     "data": {
      "text/html": [
       "<table>\n",
       "<thead><tr><th></th><th scope=col>Dim 1</th><th scope=col>Dim 2</th></tr></thead>\n",
       "<tbody>\n",
       "\t<tr><th scope=row>Minferior</th><td>0.79</td><td>0.13</td></tr>\n",
       "\t<tr><th scope=row>Tinferior</th><td>0.79</td><td>0.01</td></tr>\n",
       "\t<tr><th scope=row>Calto</th><td>0.77</td><td>0.04</td></tr>\n",
       "\t<tr><th scope=row>Cinferior</th><td>0.64</td><td>0.05</td></tr>\n",
       "\t<tr><th scope=row>Tmedio</th><td>0.57</td><td>0.13</td></tr>\n",
       "\t<tr><th scope=row>Malto</th><td>0.55</td><td>0.23</td></tr>\n",
       "\t<tr><th scope=row>Mmedio</th><td>0.55</td><td>0.00</td></tr>\n",
       "\t<tr><th scope=row>Mbajo</th><td>0.38</td><td>0.00</td></tr>\n",
       "\t<tr><th scope=row>Talto</th><td>0.32</td><td>0.11</td></tr>\n",
       "\t<tr><th scope=row>Cmedio</th><td>0.24</td><td>0.56</td></tr>\n",
       "\t<tr><th scope=row>Cbajo</th><td>0.04</td><td>0.84</td></tr>\n",
       "\t<tr><th scope=row>Tbajo</th><td>0.01</td><td>0.03</td></tr>\n",
       "</tbody>\n",
       "</table>\n"
      ],
      "text/latex": [
       "\\begin{tabular}{r|ll}\n",
       "  & Dim 1 & Dim 2\\\\\n",
       "\\hline\n",
       "\tMinferior & 0.79 & 0.13\\\\\n",
       "\tTinferior & 0.79 & 0.01\\\\\n",
       "\tCalto & 0.77 & 0.04\\\\\n",
       "\tCinferior & 0.64 & 0.05\\\\\n",
       "\tTmedio & 0.57 & 0.13\\\\\n",
       "\tMalto & 0.55 & 0.23\\\\\n",
       "\tMmedio & 0.55 & 0.00\\\\\n",
       "\tMbajo & 0.38 & 0.00\\\\\n",
       "\tTalto & 0.32 & 0.11\\\\\n",
       "\tCmedio & 0.24 & 0.56\\\\\n",
       "\tCbajo & 0.04 & 0.84\\\\\n",
       "\tTbajo & 0.01 & 0.03\\\\\n",
       "\\end{tabular}\n"
      ],
      "text/markdown": [
       "\n",
       "| <!--/--> | Dim 1 | Dim 2 |\n",
       "|---|---|---|\n",
       "| Minferior | 0.79 | 0.13 |\n",
       "| Tinferior | 0.79 | 0.01 |\n",
       "| Calto | 0.77 | 0.04 |\n",
       "| Cinferior | 0.64 | 0.05 |\n",
       "| Tmedio | 0.57 | 0.13 |\n",
       "| Malto | 0.55 | 0.23 |\n",
       "| Mmedio | 0.55 | 0.00 |\n",
       "| Mbajo | 0.38 | 0.00 |\n",
       "| Talto | 0.32 | 0.11 |\n",
       "| Cmedio | 0.24 | 0.56 |\n",
       "| Cbajo | 0.04 | 0.84 |\n",
       "| Tbajo | 0.01 | 0.03 |\n",
       "\n"
      ],
      "text/plain": [
       "          Dim 1 Dim 2\n",
       "Minferior 0.79  0.13 \n",
       "Tinferior 0.79  0.01 \n",
       "Calto     0.77  0.04 \n",
       "Cinferior 0.64  0.05 \n",
       "Tmedio    0.57  0.13 \n",
       "Malto     0.55  0.23 \n",
       "Mmedio    0.55  0.00 \n",
       "Mbajo     0.38  0.00 \n",
       "Talto     0.32  0.11 \n",
       "Cmedio    0.24  0.56 \n",
       "Cbajo     0.04  0.84 \n",
       "Tbajo     0.01  0.03 "
      ]
     },
     "metadata": {},
     "output_type": "display_data"
    }
   ],
   "source": [
    "# Cosenoscuadrados factor 1\n",
    "cosenos<-resciu.ne$col$cos                 # Obteniendo Cosenos^2\n",
    "ord_cosenos<-order(-cosenos[,1])  \n",
    "resciu.ne$col$cos[ord_cosenos,][,1:2]      # Ordenando Cosenos^2 eje1\n",
    "round(resciu.ne$col$cos[ord_cosenos,][,1:2],2)"
   ]
  },
  {
   "cell_type": "code",
   "execution_count": 11,
   "metadata": {},
   "outputs": [
    {
     "data": {
      "text/html": [
       "<table>\n",
       "<thead><tr><th></th><th scope=col>Dim 1</th><th scope=col>Dim 2</th></tr></thead>\n",
       "<tbody>\n",
       "\t<tr><th scope=row>Cbajo</th><td>0.04360231  </td><td>0.8440714130</td></tr>\n",
       "\t<tr><th scope=row>Cmedio</th><td>0.23604706  </td><td>0.5596633882</td></tr>\n",
       "\t<tr><th scope=row>Malto</th><td>0.54765432  </td><td>0.2298309481</td></tr>\n",
       "\t<tr><th scope=row>Tmedio</th><td>0.57384459  </td><td>0.1349424524</td></tr>\n",
       "\t<tr><th scope=row>Minferior</th><td>0.79397417  </td><td>0.1261793526</td></tr>\n",
       "\t<tr><th scope=row>Talto</th><td>0.32380526  </td><td>0.1149953791</td></tr>\n",
       "\t<tr><th scope=row>Cinferior</th><td>0.63619393  </td><td>0.0469859352</td></tr>\n",
       "\t<tr><th scope=row>Calto</th><td>0.76700752  </td><td>0.0353767682</td></tr>\n",
       "\t<tr><th scope=row>Tbajo</th><td>0.01235188  </td><td>0.0255573614</td></tr>\n",
       "\t<tr><th scope=row>Tinferior</th><td>0.78955813  </td><td>0.0075119507</td></tr>\n",
       "\t<tr><th scope=row>Mmedio</th><td>0.54621295  </td><td>0.0028866270</td></tr>\n",
       "\t<tr><th scope=row>Mbajo</th><td>0.38159262  </td><td>0.0009219655</td></tr>\n",
       "</tbody>\n",
       "</table>\n"
      ],
      "text/latex": [
       "\\begin{tabular}{r|ll}\n",
       "  & Dim 1 & Dim 2\\\\\n",
       "\\hline\n",
       "\tCbajo & 0.04360231   & 0.8440714130\\\\\n",
       "\tCmedio & 0.23604706   & 0.5596633882\\\\\n",
       "\tMalto & 0.54765432   & 0.2298309481\\\\\n",
       "\tTmedio & 0.57384459   & 0.1349424524\\\\\n",
       "\tMinferior & 0.79397417   & 0.1261793526\\\\\n",
       "\tTalto & 0.32380526   & 0.1149953791\\\\\n",
       "\tCinferior & 0.63619393   & 0.0469859352\\\\\n",
       "\tCalto & 0.76700752   & 0.0353767682\\\\\n",
       "\tTbajo & 0.01235188   & 0.0255573614\\\\\n",
       "\tTinferior & 0.78955813   & 0.0075119507\\\\\n",
       "\tMmedio & 0.54621295   & 0.0028866270\\\\\n",
       "\tMbajo & 0.38159262   & 0.0009219655\\\\\n",
       "\\end{tabular}\n"
      ],
      "text/markdown": [
       "\n",
       "| <!--/--> | Dim 1 | Dim 2 |\n",
       "|---|---|---|\n",
       "| Cbajo | 0.04360231   | 0.8440714130 |\n",
       "| Cmedio | 0.23604706   | 0.5596633882 |\n",
       "| Malto | 0.54765432   | 0.2298309481 |\n",
       "| Tmedio | 0.57384459   | 0.1349424524 |\n",
       "| Minferior | 0.79397417   | 0.1261793526 |\n",
       "| Talto | 0.32380526   | 0.1149953791 |\n",
       "| Cinferior | 0.63619393   | 0.0469859352 |\n",
       "| Calto | 0.76700752   | 0.0353767682 |\n",
       "| Tbajo | 0.01235188   | 0.0255573614 |\n",
       "| Tinferior | 0.78955813   | 0.0075119507 |\n",
       "| Mmedio | 0.54621295   | 0.0028866270 |\n",
       "| Mbajo | 0.38159262   | 0.0009219655 |\n",
       "\n"
      ],
      "text/plain": [
       "          Dim 1      Dim 2       \n",
       "Cbajo     0.04360231 0.8440714130\n",
       "Cmedio    0.23604706 0.5596633882\n",
       "Malto     0.54765432 0.2298309481\n",
       "Tmedio    0.57384459 0.1349424524\n",
       "Minferior 0.79397417 0.1261793526\n",
       "Talto     0.32380526 0.1149953791\n",
       "Cinferior 0.63619393 0.0469859352\n",
       "Calto     0.76700752 0.0353767682\n",
       "Tbajo     0.01235188 0.0255573614\n",
       "Tinferior 0.78955813 0.0075119507\n",
       "Mmedio    0.54621295 0.0028866270\n",
       "Mbajo     0.38159262 0.0009219655"
      ]
     },
     "metadata": {},
     "output_type": "display_data"
    },
    {
     "data": {
      "text/html": [
       "<table>\n",
       "<thead><tr><th></th><th scope=col>Dim 1</th><th scope=col>Dim 2</th></tr></thead>\n",
       "<tbody>\n",
       "\t<tr><th scope=row>Cbajo</th><td>0.04</td><td>0.84</td></tr>\n",
       "\t<tr><th scope=row>Cmedio</th><td>0.24</td><td>0.56</td></tr>\n",
       "\t<tr><th scope=row>Malto</th><td>0.55</td><td>0.23</td></tr>\n",
       "\t<tr><th scope=row>Tmedio</th><td>0.57</td><td>0.13</td></tr>\n",
       "\t<tr><th scope=row>Minferior</th><td>0.79</td><td>0.13</td></tr>\n",
       "\t<tr><th scope=row>Talto</th><td>0.32</td><td>0.11</td></tr>\n",
       "\t<tr><th scope=row>Cinferior</th><td>0.64</td><td>0.05</td></tr>\n",
       "\t<tr><th scope=row>Calto</th><td>0.77</td><td>0.04</td></tr>\n",
       "\t<tr><th scope=row>Tbajo</th><td>0.01</td><td>0.03</td></tr>\n",
       "\t<tr><th scope=row>Tinferior</th><td>0.79</td><td>0.01</td></tr>\n",
       "\t<tr><th scope=row>Mmedio</th><td>0.55</td><td>0.00</td></tr>\n",
       "\t<tr><th scope=row>Mbajo</th><td>0.38</td><td>0.00</td></tr>\n",
       "</tbody>\n",
       "</table>\n"
      ],
      "text/latex": [
       "\\begin{tabular}{r|ll}\n",
       "  & Dim 1 & Dim 2\\\\\n",
       "\\hline\n",
       "\tCbajo & 0.04 & 0.84\\\\\n",
       "\tCmedio & 0.24 & 0.56\\\\\n",
       "\tMalto & 0.55 & 0.23\\\\\n",
       "\tTmedio & 0.57 & 0.13\\\\\n",
       "\tMinferior & 0.79 & 0.13\\\\\n",
       "\tTalto & 0.32 & 0.11\\\\\n",
       "\tCinferior & 0.64 & 0.05\\\\\n",
       "\tCalto & 0.77 & 0.04\\\\\n",
       "\tTbajo & 0.01 & 0.03\\\\\n",
       "\tTinferior & 0.79 & 0.01\\\\\n",
       "\tMmedio & 0.55 & 0.00\\\\\n",
       "\tMbajo & 0.38 & 0.00\\\\\n",
       "\\end{tabular}\n"
      ],
      "text/markdown": [
       "\n",
       "| <!--/--> | Dim 1 | Dim 2 |\n",
       "|---|---|---|\n",
       "| Cbajo | 0.04 | 0.84 |\n",
       "| Cmedio | 0.24 | 0.56 |\n",
       "| Malto | 0.55 | 0.23 |\n",
       "| Tmedio | 0.57 | 0.13 |\n",
       "| Minferior | 0.79 | 0.13 |\n",
       "| Talto | 0.32 | 0.11 |\n",
       "| Cinferior | 0.64 | 0.05 |\n",
       "| Calto | 0.77 | 0.04 |\n",
       "| Tbajo | 0.01 | 0.03 |\n",
       "| Tinferior | 0.79 | 0.01 |\n",
       "| Mmedio | 0.55 | 0.00 |\n",
       "| Mbajo | 0.38 | 0.00 |\n",
       "\n"
      ],
      "text/plain": [
       "          Dim 1 Dim 2\n",
       "Cbajo     0.04  0.84 \n",
       "Cmedio    0.24  0.56 \n",
       "Malto     0.55  0.23 \n",
       "Tmedio    0.57  0.13 \n",
       "Minferior 0.79  0.13 \n",
       "Talto     0.32  0.11 \n",
       "Cinferior 0.64  0.05 \n",
       "Calto     0.77  0.04 \n",
       "Tbajo     0.01  0.03 \n",
       "Tinferior 0.79  0.01 \n",
       "Mmedio    0.55  0.00 \n",
       "Mbajo     0.38  0.00 "
      ]
     },
     "metadata": {},
     "output_type": "display_data"
    }
   ],
   "source": [
    "# Cosenoscuadrados factor 2\n",
    "cosenos<-resciu.ne$col$cos                 # Obteniendo Cosenos^2\n",
    "ord_cosenos<-order(-cosenos[,2])  \n",
    "resciu.ne$col$cos[ord_cosenos,][,1:2]      # Ordenando Cosenos^2 eje2\n",
    "round(resciu.ne$col$cos[ord_cosenos,][,1:2],2)"
   ]
  },
  {
   "cell_type": "markdown",
   "metadata": {},
   "source": [
    "En resumen y conjugando los resultados por coordenadas, contribuciones y cosenos cuadrados, los valores negativos del primer factor están indicando en su parte negativa C_Alto, mientras que sus valores positivos indican la presencia de M_Inferiorcon T_Inferior, estando las tres bien representadas.\n",
    "\n",
    "Los valores negativos del segundo factor indican niveles C_Bajo C_Medio, mientras que los positivos indican claramente la presencia M_Inferior. "
   ]
  },
  {
   "cell_type": "code",
   "execution_count": 12,
   "metadata": {},
   "outputs": [
    {
     "data": {
      "image/png": "[encoded data removed]",
      "text/plain": [
       "Plot with title \"CA factor map\""
      ]
     },
     "metadata": {},
     "output_type": "display_data"
    },
    {
     "data": {
      "image/png": "[encoded data removed]",
      "text/plain": [
       "Plot with title \"CA factor map\""
      ]
     },
     "metadata": {},
     "output_type": "display_data"
    }
   ],
   "source": [
    "ellipseCA(resciu.ne, ellipse = c(\"row\"))\n",
    "ellipseCA(resciu.ne, ellipse = c(\"col\"))"
   ]
  },
  {
   "cell_type": "markdown",
   "metadata": {},
   "source": [
    "\n",
    "Se realizan elipses en la categoria por fila y poder identificar cuales son menos dispersas como en el caso del perfil fila cundinamarca-magdalena y mas dispersa como lo es Boyaca.\n",
    "\n",
    "En lo que concierne al perfil columna M_Bajo es la mas homogenea, sin embargo Malto es la de más alta mdispersion, "
   ]
  }
 ],
 "metadata": {
  "kernelspec": {
   "display_name": "R",
   "language": "R",
   "name": "ir"
  },
  "language_info": {
   "codemirror_mode": "r",
   "file_extension": ".r",
   "mimetype": "text/x-r-source",
   "name": "R",
   "pygments_lexer": "r",
   "version": "3.6.1"
  }
 },
 "nbformat": 4,
 "nbformat_minor": 4
}
