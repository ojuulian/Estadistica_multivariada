{
 "cells": [
  {
   "cell_type": "markdown",
   "metadata": {},
   "source": [
    "<img src=\"./unal.png\" align=left width=\"150\" height=\"150\"></img>\n",
    "\n",
    "\n",
    "\n",
    "$\\,$\n",
    "---\n",
    "\n",
    "<h2 align=\"center\">LIBRERIAS ACP </h2>\n",
    "\n",
    "\n",
    "\n",
    "$\\;$\n",
    "\n",
    "---"
   ]
  },
  {
   "cell_type": "markdown",
   "metadata": {},
   "source": [
    "### Las observaciones son:"
   ]
  },
  {
   "cell_type": "code",
   "execution_count": 1,
   "metadata": {},
   "outputs": [
    {
     "data": {
      "text/html": [
       "<table>\n",
       "<thead><tr><th scope=col>años</th><th scope=col>cant_nidos</th><th scope=col>tasa_nacidos</th><th scope=col>consumo_electr</th></tr></thead>\n",
       "<tbody>\n",
       "\t<tr><td>53  </td><td>177 </td><td>17.9</td><td> 701</td></tr>\n",
       "\t<tr><td>54  </td><td>210 </td><td>17.3</td><td> 779</td></tr>\n",
       "\t<tr><td>55  </td><td>217 </td><td>17.3</td><td> 849</td></tr>\n",
       "\t<tr><td>56  </td><td>214 </td><td>17.2</td><td> 867</td></tr>\n",
       "\t<tr><td>57  </td><td>199 </td><td>16.8</td><td> 909</td></tr>\n",
       "\t<tr><td>58  </td><td>186 </td><td>16.5</td><td> 962</td></tr>\n",
       "\t<tr><td>59  </td><td>165 </td><td>16.3</td><td>1042</td></tr>\n",
       "\t<tr><td>60  </td><td>145 </td><td>16.6</td><td>1153</td></tr>\n",
       "\t<tr><td>61  </td><td>135 </td><td>16.6</td><td>1270</td></tr>\n",
       "\t<tr><td>62  </td><td>154 </td><td>16.7</td><td>1435</td></tr>\n",
       "\t<tr><td>63  </td><td>121 </td><td>17.6</td><td>1584</td></tr>\n",
       "\t<tr><td>64  </td><td>111 </td><td>17.7</td><td>1725</td></tr>\n",
       "\t<tr><td>65  </td><td>106 </td><td>18.0</td><td>1916</td></tr>\n",
       "\t<tr><td>66  </td><td>101 </td><td>18.4</td><td>2069</td></tr>\n",
       "\t<tr><td>67  </td><td> 87 </td><td>16.8</td><td>2227</td></tr>\n",
       "\t<tr><td>68  </td><td> 73 </td><td>15.3</td><td>2438</td></tr>\n",
       "\t<tr><td>69  </td><td> 65 </td><td>14.6</td><td>2709</td></tr>\n",
       "\t<tr><td>70  </td><td> 60 </td><td>14.4</td><td>3197</td></tr>\n",
       "\t<tr><td>71  </td><td> 54 </td><td>15.2</td><td>3358</td></tr>\n",
       "\t<tr><td>72  </td><td> 51 </td><td>15.2</td><td>3667</td></tr>\n",
       "\t<tr><td>73  </td><td> 45 </td><td>14.3</td><td>3763</td></tr>\n",
       "\t<tr><td>74  </td><td> 40 </td><td>14.1</td><td>3701</td></tr>\n",
       "\t<tr><td>75  </td><td> 39 </td><td>14.2</td><td>3871</td></tr>\n",
       "\t<tr><td>76  </td><td> 37 </td><td>12.9</td><td>4289</td></tr>\n",
       "\t<tr><td>77  </td><td> 35 </td><td>12.2</td><td>4533</td></tr>\n",
       "</tbody>\n",
       "</table>\n"
      ],
      "text/latex": [
       "\\begin{tabular}{r|llll}\n",
       " años & cant\\_nidos & tasa\\_nacidos & consumo\\_electr\\\\\n",
       "\\hline\n",
       "\t 53   & 177  & 17.9 &  701\\\\\n",
       "\t 54   & 210  & 17.3 &  779\\\\\n",
       "\t 55   & 217  & 17.3 &  849\\\\\n",
       "\t 56   & 214  & 17.2 &  867\\\\\n",
       "\t 57   & 199  & 16.8 &  909\\\\\n",
       "\t 58   & 186  & 16.5 &  962\\\\\n",
       "\t 59   & 165  & 16.3 & 1042\\\\\n",
       "\t 60   & 145  & 16.6 & 1153\\\\\n",
       "\t 61   & 135  & 16.6 & 1270\\\\\n",
       "\t 62   & 154  & 16.7 & 1435\\\\\n",
       "\t 63   & 121  & 17.6 & 1584\\\\\n",
       "\t 64   & 111  & 17.7 & 1725\\\\\n",
       "\t 65   & 106  & 18.0 & 1916\\\\\n",
       "\t 66   & 101  & 18.4 & 2069\\\\\n",
       "\t 67   &  87  & 16.8 & 2227\\\\\n",
       "\t 68   &  73  & 15.3 & 2438\\\\\n",
       "\t 69   &  65  & 14.6 & 2709\\\\\n",
       "\t 70   &  60  & 14.4 & 3197\\\\\n",
       "\t 71   &  54  & 15.2 & 3358\\\\\n",
       "\t 72   &  51  & 15.2 & 3667\\\\\n",
       "\t 73   &  45  & 14.3 & 3763\\\\\n",
       "\t 74   &  40  & 14.1 & 3701\\\\\n",
       "\t 75   &  39  & 14.2 & 3871\\\\\n",
       "\t 76   &  37  & 12.9 & 4289\\\\\n",
       "\t 77   &  35  & 12.2 & 4533\\\\\n",
       "\\end{tabular}\n"
      ],
      "text/markdown": [
       "\n",
       "| años | cant_nidos | tasa_nacidos | consumo_electr |\n",
       "|---|---|---|---|\n",
       "| 53   | 177  | 17.9 |  701 |\n",
       "| 54   | 210  | 17.3 |  779 |\n",
       "| 55   | 217  | 17.3 |  849 |\n",
       "| 56   | 214  | 17.2 |  867 |\n",
       "| 57   | 199  | 16.8 |  909 |\n",
       "| 58   | 186  | 16.5 |  962 |\n",
       "| 59   | 165  | 16.3 | 1042 |\n",
       "| 60   | 145  | 16.6 | 1153 |\n",
       "| 61   | 135  | 16.6 | 1270 |\n",
       "| 62   | 154  | 16.7 | 1435 |\n",
       "| 63   | 121  | 17.6 | 1584 |\n",
       "| 64   | 111  | 17.7 | 1725 |\n",
       "| 65   | 106  | 18.0 | 1916 |\n",
       "| 66   | 101  | 18.4 | 2069 |\n",
       "| 67   |  87  | 16.8 | 2227 |\n",
       "| 68   |  73  | 15.3 | 2438 |\n",
       "| 69   |  65  | 14.6 | 2709 |\n",
       "| 70   |  60  | 14.4 | 3197 |\n",
       "| 71   |  54  | 15.2 | 3358 |\n",
       "| 72   |  51  | 15.2 | 3667 |\n",
       "| 73   |  45  | 14.3 | 3763 |\n",
       "| 74   |  40  | 14.1 | 3701 |\n",
       "| 75   |  39  | 14.2 | 3871 |\n",
       "| 76   |  37  | 12.9 | 4289 |\n",
       "| 77   |  35  | 12.2 | 4533 |\n",
       "\n"
      ],
      "text/plain": [
       "   años cant_nidos tasa_nacidos consumo_electr\n",
       "1  53   177        17.9          701          \n",
       "2  54   210        17.3          779          \n",
       "3  55   217        17.3          849          \n",
       "4  56   214        17.2          867          \n",
       "5  57   199        16.8          909          \n",
       "6  58   186        16.5          962          \n",
       "7  59   165        16.3         1042          \n",
       "8  60   145        16.6         1153          \n",
       "9  61   135        16.6         1270          \n",
       "10 62   154        16.7         1435          \n",
       "11 63   121        17.6         1584          \n",
       "12 64   111        17.7         1725          \n",
       "13 65   106        18.0         1916          \n",
       "14 66   101        18.4         2069          \n",
       "15 67    87        16.8         2227          \n",
       "16 68    73        15.3         2438          \n",
       "17 69    65        14.6         2709          \n",
       "18 70    60        14.4         3197          \n",
       "19 71    54        15.2         3358          \n",
       "20 72    51        15.2         3667          \n",
       "21 73    45        14.3         3763          \n",
       "22 74    40        14.1         3701          \n",
       "23 75    39        14.2         3871          \n",
       "24 76    37        12.9         4289          \n",
       "25 77    35        12.2         4533          "
      ]
     },
     "metadata": {},
     "output_type": "display_data"
    }
   ],
   "source": [
    "años = seq(53,77,1)\n",
    "cant_nidos = c(177,210,217,214,199,186,165,145,135,154,121,111,106,101,87,73,65,60,54,51,45,40,39,37,35)\n",
    "tasa_nacidos=c(17.9, 17.3, 17.3, 17.2, 16.8, 16.5, 16.3, 16.6, 16.6, 16.7, 17.6, 17.7, 18, 18.4, 16.8, 15.3, 14.6, 14.4, 15.2, 15.2, 14.3, 14.1, 14.2, 12.9, 12.2)\n",
    "consumo_electr=c(701,779,849,867,909,962,1042, 1153, 1270, 1435,1584, 1725, 1916, 2069, 2227, 2438, 2709, 3197, 3358, 3667, 3763, 3701, 3871, 4289, 4533)\n",
    "datos <- data.frame(años,cant_nidos,tasa_nacidos,consumo_electr)\n",
    "datos"
   ]
  },
  {
   "cell_type": "markdown",
   "metadata": {},
   "source": [
    "\n",
    "# library(FactoMineR)\n",
    "\n",
    "### PCA()\n",
    "\n",
    "PCA con resultados más detallados. Los valores ausentes se reemplazan por la media de cada columna. Pueden incluirse variables categóricas suplementarias. Estandariza automáticamente los datos."
   ]
  },
  {
   "cell_type": "code",
   "execution_count": 2,
   "metadata": {},
   "outputs": [
    {
     "name": "stdout",
     "output_type": "stream",
     "text": [
      "**Results for the Principal Component Analysis (PCA)**\n",
      "The analysis was performed on 25 individuals, described by 4 variables\n",
      "*The results are available in the following objects:\n",
      "\n",
      "   name               description                          \n",
      "1  \"$eig\"             \"eigenvalues\"                        \n",
      "2  \"$var\"             \"results for the variables\"          \n",
      "3  \"$var$coord\"       \"coord. for the variables\"           \n",
      "4  \"$var$cor\"         \"correlations variables - dimensions\"\n",
      "5  \"$var$cos2\"        \"cos2 for the variables\"             \n",
      "6  \"$var$contrib\"     \"contributions of the variables\"     \n",
      "7  \"$ind\"             \"results for the individuals\"        \n",
      "8  \"$ind$coord\"       \"coord. for the individuals\"         \n",
      "9  \"$ind$cos2\"        \"cos2 for the individuals\"           \n",
      "10 \"$ind$contrib\"     \"contributions of the individuals\"   \n",
      "11 \"$call\"            \"summary statistics\"                 \n",
      "12 \"$call$centre\"     \"mean of the variables\"              \n",
      "13 \"$call$ecart.type\" \"standard error of the variables\"    \n",
      "14 \"$call$row.w\"      \"weights for the individuals\"        \n",
      "15 \"$call$col.w\"      \"weights for the variables\"          \n",
      "\n",
      "Call:\n",
      "PCA(X = datos, scale.unit = TRUE, ncp = 64, graph = FALSE) \n",
      "\n",
      "\n",
      "Eigenvalues\n",
      "                       Dim.1   Dim.2   Dim.3   Dim.4\n",
      "Variance               3.642   0.310   0.035   0.013\n",
      "% of var.             91.054   7.753   0.867   0.326\n",
      "Cumulative % of var.  91.054  98.807  99.674 100.000\n",
      "\n",
      "Individuals (the 10 first)\n",
      "                   Dist    Dim.1    ctr   cos2    Dim.2    ctr   cos2    Dim.3\n",
      "1              |  2.584 | -2.547  7.126  0.971 |  0.018  0.004  0.000 | -0.159\n",
      "2              |  2.600 | -2.541  7.089  0.955 | -0.507  3.315  0.038 |  0.158\n",
      "3              |  2.568 | -2.496  6.843  0.945 | -0.523  3.527  0.041 |  0.297\n",
      "4              |  2.438 | -2.364  6.140  0.941 | -0.516  3.433  0.045 |  0.285\n",
      "5              |  2.123 | -2.040  4.571  0.923 | -0.571  4.208  0.072 |  0.110\n",
      "6              |  1.856 | -1.756  3.386  0.895 | -0.590  4.486  0.101 | -0.022\n",
      "7              |  1.523 | -1.423  2.225  0.873 | -0.495  3.155  0.105 | -0.206\n",
      "8              |  1.268 | -1.228  1.655  0.938 | -0.148  0.281  0.014 | -0.278\n",
      "9              |  1.068 | -1.026  1.155  0.922 | -0.032  0.013  0.001 | -0.292\n",
      "10             |  1.087 | -1.067  1.250  0.963 | -0.085  0.093  0.006 |  0.043\n",
      "                  ctr   cos2  \n",
      "1               2.927  0.004 |\n",
      "2               2.864  0.004 |\n",
      "3              10.157  0.013 |\n",
      "4               9.362  0.014 |\n",
      "5               1.386  0.003 |\n",
      "6               0.054  0.000 |\n",
      "7               4.875  0.018 |\n",
      "8               8.904  0.048 |\n",
      "9               9.816  0.075 |\n",
      "10              0.217  0.002 |\n",
      "\n",
      "Variables\n",
      "                  Dim.1    ctr   cos2    Dim.2    ctr   cos2    Dim.3    ctr\n",
      "años           |  0.985 26.647  0.971 |  0.141  6.432  0.020 |  0.036  3.663\n",
      "cant_nidos     | -0.956 25.115  0.915 | -0.263 22.337  0.069 |  0.121 42.349\n",
      "tasa_nacidos   | -0.881 21.334  0.777 |  0.469 71.057  0.220 |  0.051  7.487\n",
      "consumo_electr |  0.990 26.904  0.980 |  0.023  0.173  0.001 |  0.127 46.501\n",
      "                 cos2  \n",
      "años            0.001 |\n",
      "cant_nidos      0.015 |\n",
      "tasa_nacidos    0.003 |\n",
      "consumo_electr  0.016 |\n"
     ]
    },
    {
     "data": {
      "text/html": [
       "<dl>\n",
       "\t<dt>$coord</dt>\n",
       "\t\t<dd><table>\n",
       "<thead><tr><th></th><th scope=col>Dim.1</th><th scope=col>Dim.2</th><th scope=col>Dim.3</th><th scope=col>Dim.4</th></tr></thead>\n",
       "<tbody>\n",
       "\t<tr><th scope=row>años</th><td> 0.9851529 </td><td> 0.14123056</td><td>0.03563616 </td><td> 0.09087170</td></tr>\n",
       "\t<tr><th scope=row>cant_nidos</th><td>-0.9564088 </td><td>-0.26319323</td><td>0.12116186 </td><td> 0.03648814</td></tr>\n",
       "\t<tr><th scope=row>tasa_nacidos</th><td>-0.8814947 </td><td> 0.46942087</td><td>0.05094377 </td><td>-0.00398268</td></tr>\n",
       "\t<tr><th scope=row>consumo_electr</th><td> 0.9898962 </td><td> 0.02317213</td><td>0.12696267 </td><td>-0.05872904</td></tr>\n",
       "</tbody>\n",
       "</table>\n",
       "</dd>\n",
       "\t<dt>$cor</dt>\n",
       "\t\t<dd><table>\n",
       "<thead><tr><th></th><th scope=col>Dim.1</th><th scope=col>Dim.2</th><th scope=col>Dim.3</th><th scope=col>Dim.4</th></tr></thead>\n",
       "<tbody>\n",
       "\t<tr><th scope=row>años</th><td> 0.9851529 </td><td> 0.14123056</td><td>0.03563616 </td><td> 0.09087170</td></tr>\n",
       "\t<tr><th scope=row>cant_nidos</th><td>-0.9564088 </td><td>-0.26319323</td><td>0.12116186 </td><td> 0.03648814</td></tr>\n",
       "\t<tr><th scope=row>tasa_nacidos</th><td>-0.8814947 </td><td> 0.46942087</td><td>0.05094377 </td><td>-0.00398268</td></tr>\n",
       "\t<tr><th scope=row>consumo_electr</th><td> 0.9898962 </td><td> 0.02317213</td><td>0.12696267 </td><td>-0.05872904</td></tr>\n",
       "</tbody>\n",
       "</table>\n",
       "</dd>\n",
       "\t<dt>$cos2</dt>\n",
       "\t\t<dd><table>\n",
       "<thead><tr><th></th><th scope=col>Dim.1</th><th scope=col>Dim.2</th><th scope=col>Dim.3</th><th scope=col>Dim.4</th></tr></thead>\n",
       "<tbody>\n",
       "\t<tr><th scope=row>años</th><td>0.9705263   </td><td>0.0199460706</td><td>0.001269936 </td><td>8.257665e-03</td></tr>\n",
       "\t<tr><th scope=row>cant_nidos</th><td>0.9147177   </td><td>0.0692706740</td><td>0.014680196 </td><td>1.331384e-03</td></tr>\n",
       "\t<tr><th scope=row>tasa_nacidos</th><td>0.7770329   </td><td>0.2203559499</td><td>0.002595268 </td><td>1.586174e-05</td></tr>\n",
       "\t<tr><th scope=row>consumo_electr</th><td>0.9798944   </td><td>0.0005369474</td><td>0.016119519 </td><td>3.449101e-03</td></tr>\n",
       "</tbody>\n",
       "</table>\n",
       "</dd>\n",
       "\t<dt>$contrib</dt>\n",
       "\t\t<dd><table>\n",
       "<thead><tr><th></th><th scope=col>Dim.1</th><th scope=col>Dim.2</th><th scope=col>Dim.3</th><th scope=col>Dim.4</th></tr></thead>\n",
       "<tbody>\n",
       "\t<tr><th scope=row>años</th><td>26.64692  </td><td> 6.4319415</td><td> 3.663462 </td><td>63.2576817</td></tr>\n",
       "\t<tr><th scope=row>cant_nidos</th><td>25.11463  </td><td>22.3374783</td><td>42.348853 </td><td>10.1990421</td></tr>\n",
       "\t<tr><th scope=row>tasa_nacidos</th><td>21.33433  </td><td>71.0574326</td><td> 7.486727 </td><td> 0.1215086</td></tr>\n",
       "\t<tr><th scope=row>consumo_electr</th><td>26.90413  </td><td> 0.1731476</td><td>46.500958 </td><td>26.4217677</td></tr>\n",
       "</tbody>\n",
       "</table>\n",
       "</dd>\n",
       "</dl>\n"
      ],
      "text/latex": [
       "\\begin{description}\n",
       "\\item[\\$coord] \\begin{tabular}{r|llll}\n",
       "  & Dim.1 & Dim.2 & Dim.3 & Dim.4\\\\\n",
       "\\hline\n",
       "\taños &  0.9851529  &  0.14123056 & 0.03563616  &  0.09087170\\\\\n",
       "\tcant\\_nidos & -0.9564088  & -0.26319323 & 0.12116186  &  0.03648814\\\\\n",
       "\ttasa\\_nacidos & -0.8814947  &  0.46942087 & 0.05094377  & -0.00398268\\\\\n",
       "\tconsumo\\_electr &  0.9898962  &  0.02317213 & 0.12696267  & -0.05872904\\\\\n",
       "\\end{tabular}\n",
       "\n",
       "\\item[\\$cor] \\begin{tabular}{r|llll}\n",
       "  & Dim.1 & Dim.2 & Dim.3 & Dim.4\\\\\n",
       "\\hline\n",
       "\taños &  0.9851529  &  0.14123056 & 0.03563616  &  0.09087170\\\\\n",
       "\tcant\\_nidos & -0.9564088  & -0.26319323 & 0.12116186  &  0.03648814\\\\\n",
       "\ttasa\\_nacidos & -0.8814947  &  0.46942087 & 0.05094377  & -0.00398268\\\\\n",
       "\tconsumo\\_electr &  0.9898962  &  0.02317213 & 0.12696267  & -0.05872904\\\\\n",
       "\\end{tabular}\n",
       "\n",
       "\\item[\\$cos2] \\begin{tabular}{r|llll}\n",
       "  & Dim.1 & Dim.2 & Dim.3 & Dim.4\\\\\n",
       "\\hline\n",
       "\taños & 0.9705263    & 0.0199460706 & 0.001269936  & 8.257665e-03\\\\\n",
       "\tcant\\_nidos & 0.9147177    & 0.0692706740 & 0.014680196  & 1.331384e-03\\\\\n",
       "\ttasa\\_nacidos & 0.7770329    & 0.2203559499 & 0.002595268  & 1.586174e-05\\\\\n",
       "\tconsumo\\_electr & 0.9798944    & 0.0005369474 & 0.016119519  & 3.449101e-03\\\\\n",
       "\\end{tabular}\n",
       "\n",
       "\\item[\\$contrib] \\begin{tabular}{r|llll}\n",
       "  & Dim.1 & Dim.2 & Dim.3 & Dim.4\\\\\n",
       "\\hline\n",
       "\taños & 26.64692   &  6.4319415 &  3.663462  & 63.2576817\\\\\n",
       "\tcant\\_nidos & 25.11463   & 22.3374783 & 42.348853  & 10.1990421\\\\\n",
       "\ttasa\\_nacidos & 21.33433   & 71.0574326 &  7.486727  &  0.1215086\\\\\n",
       "\tconsumo\\_electr & 26.90413   &  0.1731476 & 46.500958  & 26.4217677\\\\\n",
       "\\end{tabular}\n",
       "\n",
       "\\end{description}\n"
      ],
      "text/markdown": [
       "$coord\n",
       ":   \n",
       "| <!--/--> | Dim.1 | Dim.2 | Dim.3 | Dim.4 |\n",
       "|---|---|---|---|---|\n",
       "| años |  0.9851529  |  0.14123056 | 0.03563616  |  0.09087170 |\n",
       "| cant_nidos | -0.9564088  | -0.26319323 | 0.12116186  |  0.03648814 |\n",
       "| tasa_nacidos | -0.8814947  |  0.46942087 | 0.05094377  | -0.00398268 |\n",
       "| consumo_electr |  0.9898962  |  0.02317213 | 0.12696267  | -0.05872904 |\n",
       "\n",
       "\n",
       "$cor\n",
       ":   \n",
       "| <!--/--> | Dim.1 | Dim.2 | Dim.3 | Dim.4 |\n",
       "|---|---|---|---|---|\n",
       "| años |  0.9851529  |  0.14123056 | 0.03563616  |  0.09087170 |\n",
       "| cant_nidos | -0.9564088  | -0.26319323 | 0.12116186  |  0.03648814 |\n",
       "| tasa_nacidos | -0.8814947  |  0.46942087 | 0.05094377  | -0.00398268 |\n",
       "| consumo_electr |  0.9898962  |  0.02317213 | 0.12696267  | -0.05872904 |\n",
       "\n",
       "\n",
       "$cos2\n",
       ":   \n",
       "| <!--/--> | Dim.1 | Dim.2 | Dim.3 | Dim.4 |\n",
       "|---|---|---|---|---|\n",
       "| años | 0.9705263    | 0.0199460706 | 0.001269936  | 8.257665e-03 |\n",
       "| cant_nidos | 0.9147177    | 0.0692706740 | 0.014680196  | 1.331384e-03 |\n",
       "| tasa_nacidos | 0.7770329    | 0.2203559499 | 0.002595268  | 1.586174e-05 |\n",
       "| consumo_electr | 0.9798944    | 0.0005369474 | 0.016119519  | 3.449101e-03 |\n",
       "\n",
       "\n",
       "$contrib\n",
       ":   \n",
       "| <!--/--> | Dim.1 | Dim.2 | Dim.3 | Dim.4 |\n",
       "|---|---|---|---|---|\n",
       "| años | 26.64692   |  6.4319415 |  3.663462  | 63.2576817 |\n",
       "| cant_nidos | 25.11463   | 22.3374783 | 42.348853  | 10.1990421 |\n",
       "| tasa_nacidos | 21.33433   | 71.0574326 |  7.486727  |  0.1215086 |\n",
       "| consumo_electr | 26.90413   |  0.1731476 | 46.500958  | 26.4217677 |\n",
       "\n",
       "\n",
       "\n",
       "\n"
      ],
      "text/plain": [
       "$coord\n",
       "                    Dim.1       Dim.2      Dim.3       Dim.4\n",
       "años            0.9851529  0.14123056 0.03563616  0.09087170\n",
       "cant_nidos     -0.9564088 -0.26319323 0.12116186  0.03648814\n",
       "tasa_nacidos   -0.8814947  0.46942087 0.05094377 -0.00398268\n",
       "consumo_electr  0.9898962  0.02317213 0.12696267 -0.05872904\n",
       "\n",
       "$cor\n",
       "                    Dim.1       Dim.2      Dim.3       Dim.4\n",
       "años            0.9851529  0.14123056 0.03563616  0.09087170\n",
       "cant_nidos     -0.9564088 -0.26319323 0.12116186  0.03648814\n",
       "tasa_nacidos   -0.8814947  0.46942087 0.05094377 -0.00398268\n",
       "consumo_electr  0.9898962  0.02317213 0.12696267 -0.05872904\n",
       "\n",
       "$cos2\n",
       "                   Dim.1        Dim.2       Dim.3        Dim.4\n",
       "años           0.9705263 0.0199460706 0.001269936 8.257665e-03\n",
       "cant_nidos     0.9147177 0.0692706740 0.014680196 1.331384e-03\n",
       "tasa_nacidos   0.7770329 0.2203559499 0.002595268 1.586174e-05\n",
       "consumo_electr 0.9798944 0.0005369474 0.016119519 3.449101e-03\n",
       "\n",
       "$contrib\n",
       "                  Dim.1      Dim.2     Dim.3      Dim.4\n",
       "años           26.64692  6.4319415  3.663462 63.2576817\n",
       "cant_nidos     25.11463 22.3374783 42.348853 10.1990421\n",
       "tasa_nacidos   21.33433 71.0574326  7.486727  0.1215086\n",
       "consumo_electr 26.90413  0.1731476 46.500958 26.4217677\n"
      ]
     },
     "metadata": {},
     "output_type": "display_data"
    }
   ],
   "source": [
    "library(FactoMineR)\n",
    "pca2 <- PCA(X = datos, scale.unit = TRUE, ncp = 64, graph = FALSE)\n",
    "print(pca2)\n",
    "summary(pca2)                  # Ayudas a la interpretación\n",
    "pca2$var                       # Ayudas a la interpretación"
   ]
  },
  {
   "cell_type": "markdown",
   "metadata": {},
   "source": [
    "### Plano factorial"
   ]
  },
  {
   "cell_type": "code",
   "execution_count": 5,
   "metadata": {},
   "outputs": [
    {
     "data": {
      "image/png": "[encoded data removed]",
      "text/plain": [
       "plot without title"
      ]
     },
     "metadata": {},
     "output_type": "display_data"
    }
   ],
   "source": [
    "library(factoextra)           #Necesita de apc realizado por factomineR u otros\n",
    "fviz_pca_ind(pca2, geom.ind = \"point\", \n",
    "             col.ind = \"#FC4E07\", \n",
    "             axes = c(1, 2), \n",
    "             pointsize = 1.5)  # Plano factorial"
   ]
  },
  {
   "cell_type": "markdown",
   "metadata": {},
   "source": [
    "### Gráfica de cosenos cuadrados"
   ]
  },
  {
   "cell_type": "code",
   "execution_count": 6,
   "metadata": {},
   "outputs": [
    {
     "data": {
      "text/html": [
       "<table>\n",
       "<thead><tr><th></th><th scope=col>Dim.1</th><th scope=col>Dim.2</th><th scope=col>Dim.3</th><th scope=col>Dim.4</th></tr></thead>\n",
       "<tbody>\n",
       "\t<tr><th scope=row>años</th><td> 0.9851529 </td><td> 0.14123056</td><td>0.03563616 </td><td> 0.09087170</td></tr>\n",
       "\t<tr><th scope=row>cant_nidos</th><td>-0.9564088 </td><td>-0.26319323</td><td>0.12116186 </td><td> 0.03648814</td></tr>\n",
       "\t<tr><th scope=row>tasa_nacidos</th><td>-0.8814947 </td><td> 0.46942087</td><td>0.05094377 </td><td>-0.00398268</td></tr>\n",
       "\t<tr><th scope=row>consumo_electr</th><td> 0.9898962 </td><td> 0.02317213</td><td>0.12696267 </td><td>-0.05872904</td></tr>\n",
       "</tbody>\n",
       "</table>\n"
      ],
      "text/latex": [
       "\\begin{tabular}{r|llll}\n",
       "  & Dim.1 & Dim.2 & Dim.3 & Dim.4\\\\\n",
       "\\hline\n",
       "\taños &  0.9851529  &  0.14123056 & 0.03563616  &  0.09087170\\\\\n",
       "\tcant\\_nidos & -0.9564088  & -0.26319323 & 0.12116186  &  0.03648814\\\\\n",
       "\ttasa\\_nacidos & -0.8814947  &  0.46942087 & 0.05094377  & -0.00398268\\\\\n",
       "\tconsumo\\_electr &  0.9898962  &  0.02317213 & 0.12696267  & -0.05872904\\\\\n",
       "\\end{tabular}\n"
      ],
      "text/markdown": [
       "\n",
       "| <!--/--> | Dim.1 | Dim.2 | Dim.3 | Dim.4 |\n",
       "|---|---|---|---|---|\n",
       "| años |  0.9851529  |  0.14123056 | 0.03563616  |  0.09087170 |\n",
       "| cant_nidos | -0.9564088  | -0.26319323 | 0.12116186  |  0.03648814 |\n",
       "| tasa_nacidos | -0.8814947  |  0.46942087 | 0.05094377  | -0.00398268 |\n",
       "| consumo_electr |  0.9898962  |  0.02317213 | 0.12696267  | -0.05872904 |\n",
       "\n"
      ],
      "text/plain": [
       "               Dim.1      Dim.2       Dim.3      Dim.4      \n",
       "años            0.9851529  0.14123056 0.03563616  0.09087170\n",
       "cant_nidos     -0.9564088 -0.26319323 0.12116186  0.03648814\n",
       "tasa_nacidos   -0.8814947  0.46942087 0.05094377 -0.00398268\n",
       "consumo_electr  0.9898962  0.02317213 0.12696267 -0.05872904"
      ]
     },
     "metadata": {},
     "output_type": "display_data"
    },
    {
     "data": {
      "image/png": "[encoded data removed]",
      "text/plain": [
       "plot without title"
      ]
     },
     "metadata": {},
     "output_type": "display_data"
    }
   ],
   "source": [
    "fviz_pca_var(pca2, col.var = \"cos2\", \n",
    "             geom.var = \"arrow\", \n",
    "             labelsize = 2, \n",
    "             repel = FALSE)\n",
    "\n",
    "var <- get_pca_var(pca2)\n",
    "var$coord"
   ]
  },
  {
   "cell_type": "markdown",
   "metadata": {},
   "source": [
    "### biplot con FACTOEXTRA"
   ]
  },
  {
   "cell_type": "code",
   "execution_count": 7,
   "metadata": {},
   "outputs": [
    {
     "data": {
      "image/png": "[encoded data removed]",
      "text/plain": [
       "plot without title"
      ]
     },
     "metadata": {},
     "output_type": "display_data"
    }
   ],
   "source": [
    "fviz_pca_biplot(pca2)"
   ]
  },
  {
   "cell_type": "markdown",
   "metadata": {},
   "source": [
    "\n",
    "### Varaianza explicada por cada componente principal\n"
   ]
  },
  {
   "cell_type": "code",
   "execution_count": 8,
   "metadata": {},
   "outputs": [
    {
     "data": {
      "image/png": "[encoded data removed]",
      "text/plain": [
       "plot without title"
      ]
     },
     "metadata": {},
     "output_type": "display_data"
    }
   ],
   "source": [
    "fviz_screeplot(pca2, addlabels = TRUE, ylim = c(0, 100))"
   ]
  },
  {
   "cell_type": "markdown",
   "metadata": {},
   "source": [
    "### Top 10 variables que más contribuyen a PC1"
   ]
  },
  {
   "cell_type": "code",
   "execution_count": 9,
   "metadata": {},
   "outputs": [
    {
     "data": {
      "image/png": "[encoded data removed]",
      "text/plain": [
       "plot without title"
      ]
     },
     "metadata": {},
     "output_type": "display_data"
    }
   ],
   "source": [
    "fviz_contrib(pca2, choice = \"var\", axes = 1, top = 10)"
   ]
  },
  {
   "cell_type": "markdown",
   "metadata": {},
   "source": [
    "### Proporcion de varianza acumulada"
   ]
  },
  {
   "cell_type": "code",
   "execution_count": 10,
   "metadata": {},
   "outputs": [
    {
     "data": {
      "text/html": [
       "<table>\n",
       "<thead><tr><th></th><th scope=col>eigenvalue</th><th scope=col>percentage of variance</th><th scope=col>cumulative percentage of variance</th></tr></thead>\n",
       "<tbody>\n",
       "\t<tr><th scope=row>comp 1</th><td>2.861777e-02</td><td>1.788611e+01</td><td>17.88611    </td></tr>\n",
       "\t<tr><th scope=row>comp 2</th><td>2.074654e-04</td><td>1.296659e-01</td><td>21.06157    </td></tr>\n",
       "\t<tr><th scope=row>comp 3</th><td>2.592361e-06</td><td>1.620225e-03</td><td>21.43265    </td></tr>\n",
       "\t<tr><th scope=row>comp 4</th><td>3.676233e-07</td><td>2.297646e-04</td><td>21.57322    </td></tr>\n",
       "</tbody>\n",
       "</table>\n"
      ],
      "text/latex": [
       "\\begin{tabular}{r|lll}\n",
       "  & eigenvalue & percentage of variance & cumulative percentage of variance\\\\\n",
       "\\hline\n",
       "\tcomp 1 & 2.861777e-02 & 1.788611e+01 & 17.88611    \\\\\n",
       "\tcomp 2 & 2.074654e-04 & 1.296659e-01 & 21.06157    \\\\\n",
       "\tcomp 3 & 2.592361e-06 & 1.620225e-03 & 21.43265    \\\\\n",
       "\tcomp 4 & 3.676233e-07 & 2.297646e-04 & 21.57322    \\\\\n",
       "\\end{tabular}\n"
      ],
      "text/markdown": [
       "\n",
       "| <!--/--> | eigenvalue | percentage of variance | cumulative percentage of variance |\n",
       "|---|---|---|---|\n",
       "| comp 1 | 2.861777e-02 | 1.788611e+01 | 17.88611     |\n",
       "| comp 2 | 2.074654e-04 | 1.296659e-01 | 21.06157     |\n",
       "| comp 3 | 2.592361e-06 | 1.620225e-03 | 21.43265     |\n",
       "| comp 4 | 3.676233e-07 | 2.297646e-04 | 21.57322     |\n",
       "\n"
      ],
      "text/plain": [
       "       eigenvalue   percentage of variance cumulative percentage of variance\n",
       "comp 1 2.861777e-02 1.788611e+01           17.88611                         \n",
       "comp 2 2.074654e-04 1.296659e-01           21.06157                         \n",
       "comp 3 2.592361e-06 1.620225e-03           21.43265                         \n",
       "comp 4 3.676233e-07 2.297646e-04           21.57322                         "
      ]
     },
     "metadata": {},
     "output_type": "display_data"
    }
   ],
   "source": [
    "PVE <- 100*pca2$eig^2/sum(pca2$eig^2);PVE"
   ]
  }
 ],
 "metadata": {
  "kernelspec": {
   "display_name": "R",
   "language": "R",
   "name": "ir"
  },
  "language_info": {
   "codemirror_mode": "r",
   "file_extension": ".r",
   "mimetype": "text/x-r-source",
   "name": "R",
   "pygments_lexer": "r",
   "version": "3.6.1"
  }
 },
 "nbformat": 4,
 "nbformat_minor": 4
}
