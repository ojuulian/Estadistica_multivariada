{
 "cells": [
  {
   "cell_type": "markdown",
   "metadata": {},
   "source": [
    "<img src=\"./unal.png\" align=left width=\"150\" height=\"150\"></img>\n",
    "\n",
    "\n",
    "\n",
    "$\\,$\n",
    "---\n",
    "\n",
    "<h2 align=\"center\">TABLAS DE CONTINGENCIA</h2>\n",
    "\n",
    "\n",
    "\n",
    "$\\;$\n",
    "\n",
    "---"
   ]
  },
  {
   "cell_type": "code",
   "execution_count": 50,
   "metadata": {},
   "outputs": [
    {
     "data": {
      "text/plain": [
       "      \n",
       "       bajo medio alto\n",
       "  a16m   44    47   27\n",
       "  a17    58    74   39\n",
       "  a18    22    26    8\n",
       "  a19M   55    38    7"
      ]
     },
     "metadata": {},
     "output_type": "display_data"
    },
    {
     "data": {
      "text/html": [
       "<table>\n",
       "<thead><tr><th></th><th scope=col>bajo</th><th scope=col>medio</th><th scope=col>alto</th><th scope=col>totF</th></tr></thead>\n",
       "<tbody>\n",
       "\t<tr><th scope=row>a16m</th><td>44 </td><td>47 </td><td>27 </td><td>118</td></tr>\n",
       "\t<tr><th scope=row>a17</th><td>58 </td><td>74 </td><td>39 </td><td>171</td></tr>\n",
       "\t<tr><th scope=row>a18</th><td>22 </td><td>26 </td><td> 8 </td><td> 56</td></tr>\n",
       "\t<tr><th scope=row>a19M</th><td>55 </td><td>38 </td><td> 7 </td><td>100</td></tr>\n",
       "</tbody>\n",
       "</table>\n"
      ],
      "text/latex": [
       "\\begin{tabular}{r|llll}\n",
       "  & bajo & medio & alto & totF\\\\\n",
       "\\hline\n",
       "\ta16m & 44  & 47  & 27  & 118\\\\\n",
       "\ta17 & 58  & 74  & 39  & 171\\\\\n",
       "\ta18 & 22  & 26  &  8  &  56\\\\\n",
       "\ta19M & 55  & 38  &  7  & 100\\\\\n",
       "\\end{tabular}\n"
      ],
      "text/markdown": [
       "\n",
       "| <!--/--> | bajo | medio | alto | totF |\n",
       "|---|---|---|---|---|\n",
       "| a16m | 44  | 47  | 27  | 118 |\n",
       "| a17 | 58  | 74  | 39  | 171 |\n",
       "| a18 | 22  | 26  |  8  |  56 |\n",
       "| a19M | 55  | 38  |  7  | 100 |\n",
       "\n"
      ],
      "text/plain": [
       "     bajo medio alto totF\n",
       "a16m 44   47    27   118 \n",
       "a17  58   74    39   171 \n",
       "a18  22   26     8    56 \n",
       "a19M 55   38     7   100 "
      ]
     },
     "metadata": {},
     "output_type": "display_data"
    },
    {
     "data": {
      "text/html": [
       "<table>\n",
       "<thead><tr><th></th><th scope=col>bajo</th><th scope=col>medio</th><th scope=col>alto</th><th scope=col>totF</th></tr></thead>\n",
       "<tbody>\n",
       "\t<tr><th scope=row>a16m</th><td> 44</td><td> 47</td><td>27 </td><td>118</td></tr>\n",
       "\t<tr><th scope=row>a17</th><td> 58</td><td> 74</td><td>39 </td><td>171</td></tr>\n",
       "\t<tr><th scope=row>a18</th><td> 22</td><td> 26</td><td> 8 </td><td> 56</td></tr>\n",
       "\t<tr><th scope=row>a19M</th><td> 55</td><td> 38</td><td> 7 </td><td>100</td></tr>\n",
       "\t<tr><th scope=row>totC</th><td>179</td><td>185</td><td>81 </td><td>445</td></tr>\n",
       "</tbody>\n",
       "</table>\n"
      ],
      "text/latex": [
       "\\begin{tabular}{r|llll}\n",
       "  & bajo & medio & alto & totF\\\\\n",
       "\\hline\n",
       "\ta16m &  44 &  47 & 27  & 118\\\\\n",
       "\ta17 &  58 &  74 & 39  & 171\\\\\n",
       "\ta18 &  22 &  26 &  8  &  56\\\\\n",
       "\ta19M &  55 &  38 &  7  & 100\\\\\n",
       "\ttotC & 179 & 185 & 81  & 445\\\\\n",
       "\\end{tabular}\n"
      ],
      "text/markdown": [
       "\n",
       "| <!--/--> | bajo | medio | alto | totF |\n",
       "|---|---|---|---|---|\n",
       "| a16m |  44 |  47 | 27  | 118 |\n",
       "| a17 |  58 |  74 | 39  | 171 |\n",
       "| a18 |  22 |  26 |  8  |  56 |\n",
       "| a19M |  55 |  38 |  7  | 100 |\n",
       "| totC | 179 | 185 | 81  | 445 |\n",
       "\n"
      ],
      "text/plain": [
       "     bajo medio alto totF\n",
       "a16m  44   47   27   118 \n",
       "a17   58   74   39   171 \n",
       "a18   22   26    8    56 \n",
       "a19M  55   38    7   100 \n",
       "totC 179  185   81   445 "
      ]
     },
     "metadata": {},
     "output_type": "display_data"
    },
    {
     "data": {
      "text/html": [
       "<table>\n",
       "<thead><tr><th></th><th scope=col>bajo</th><th scope=col>medio</th><th scope=col>alto</th><th scope=col>totF</th></tr></thead>\n",
       "<tbody>\n",
       "\t<tr><th scope=row>a16m</th><td> 9.9 </td><td>10.6 </td><td> 6.1 </td><td> 26.5</td></tr>\n",
       "\t<tr><th scope=row>a17</th><td>13.0 </td><td>16.6 </td><td> 8.8 </td><td> 38.4</td></tr>\n",
       "\t<tr><th scope=row>a18</th><td> 4.9 </td><td> 5.8 </td><td> 1.8 </td><td> 12.6</td></tr>\n",
       "\t<tr><th scope=row>a19M</th><td>12.4 </td><td> 8.5 </td><td> 1.6 </td><td> 22.5</td></tr>\n",
       "\t<tr><th scope=row>totC</th><td>40.2 </td><td>41.6 </td><td>18.2 </td><td>100.0</td></tr>\n",
       "</tbody>\n",
       "</table>\n"
      ],
      "text/latex": [
       "\\begin{tabular}{r|llll}\n",
       "  & bajo & medio & alto & totF\\\\\n",
       "\\hline\n",
       "\ta16m &  9.9  & 10.6  &  6.1  &  26.5\\\\\n",
       "\ta17 & 13.0  & 16.6  &  8.8  &  38.4\\\\\n",
       "\ta18 &  4.9  &  5.8  &  1.8  &  12.6\\\\\n",
       "\ta19M & 12.4  &  8.5  &  1.6  &  22.5\\\\\n",
       "\ttotC & 40.2  & 41.6  & 18.2  & 100.0\\\\\n",
       "\\end{tabular}\n"
      ],
      "text/markdown": [
       "\n",
       "| <!--/--> | bajo | medio | alto | totF |\n",
       "|---|---|---|---|---|\n",
       "| a16m |  9.9  | 10.6  |  6.1  |  26.5 |\n",
       "| a17 | 13.0  | 16.6  |  8.8  |  38.4 |\n",
       "| a18 |  4.9  |  5.8  |  1.8  |  12.6 |\n",
       "| a19M | 12.4  |  8.5  |  1.6  |  22.5 |\n",
       "| totC | 40.2  | 41.6  | 18.2  | 100.0 |\n",
       "\n"
      ],
      "text/plain": [
       "     bajo medio alto totF \n",
       "a16m  9.9 10.6   6.1  26.5\n",
       "a17  13.0 16.6   8.8  38.4\n",
       "a18   4.9  5.8   1.8  12.6\n",
       "a19M 12.4  8.5   1.6  22.5\n",
       "totC 40.2 41.6  18.2 100.0"
      ]
     },
     "metadata": {},
     "output_type": "display_data"
    }
   ],
   "source": [
    "require(FactoClass)\n",
    "data(admi)\n",
    "\n",
    "tc<-table( admi$edad , admi$estr );tc               \n",
    "tabtc <-cbind (tc , totF = rowSums (tc)) ;tabtc       #Tabla de perfiles\n",
    "tabtc <-rbind (tabtc , totC = colSums ( tabtc )) ;tabtc \n",
    "round( tabtc / 445* 100 ,1)                           #Tabla frecuencias relativas\n",
    "#xtable ( cbind(tabtc , round ( tabtc / 445* 100 ,1)),digits =c( rep (0 ,5) ,rep (1 ,4)))\n",
    "\n"
   ]
  },
  {
   "cell_type": "code",
   "execution_count": 51,
   "metadata": {},
   "outputs": [
    {
     "data": {
      "text/plain": [
       "      \n",
       "            bajo     medio      alto\n",
       "  a16m 0.3728814 0.3983051 0.2288136\n",
       "  a17  0.3391813 0.4327485 0.2280702\n",
       "  a18  0.3928571 0.4642857 0.1428571\n",
       "  a19M 0.5500000 0.3800000 0.0700000"
      ]
     },
     "metadata": {},
     "output_type": "display_data"
    },
    {
     "data": {
      "text/plain": [
       "      \n",
       "             bajo      medio       alto\n",
       "  a16m 0.24581006 0.25405405 0.33333333\n",
       "  a17  0.32402235 0.40000000 0.48148148\n",
       "  a18  0.12290503 0.14054054 0.09876543\n",
       "  a19M 0.30726257 0.20540541 0.08641975"
      ]
     },
     "metadata": {},
     "output_type": "display_data"
    }
   ],
   "source": [
    "\n",
    "#----------------------------------\n",
    "# Perfil fila y columna\n",
    "#----------------------------------\n",
    "prop.table(tc ,1) ->pf;pf         # perfiles fila\n",
    "prop.table (tc ,2) ->pc;pc       # perfiles columna\n",
    "#xtable(addmargins (pf , margin =2)*100 , digits = rep (1 ,5))\n",
    "#xtable( addmargins (pc , margin =1)*100 , digits = rep (1 ,4))\n",
    "\n"
   ]
  },
  {
   "cell_type": "code",
   "execution_count": 56,
   "metadata": {},
   "outputs": [
    {
     "data": {
      "text/html": [
       "<table>\n",
       "<thead><tr><th scope=col>Var1</th><th scope=col>Var2</th><th scope=col>Freq</th></tr></thead>\n",
       "<tbody>\n",
       "\t<tr><td>a16m </td><td>bajo </td><td>44   </td></tr>\n",
       "\t<tr><td>a17  </td><td>bajo </td><td>58   </td></tr>\n",
       "\t<tr><td>a18  </td><td>bajo </td><td>22   </td></tr>\n",
       "\t<tr><td>a19M </td><td>bajo </td><td>55   </td></tr>\n",
       "\t<tr><td>a16m </td><td>medio</td><td>47   </td></tr>\n",
       "\t<tr><td>a17  </td><td>medio</td><td>74   </td></tr>\n",
       "\t<tr><td>a18  </td><td>medio</td><td>26   </td></tr>\n",
       "\t<tr><td>a19M </td><td>medio</td><td>38   </td></tr>\n",
       "\t<tr><td>a16m </td><td>alto </td><td>27   </td></tr>\n",
       "\t<tr><td>a17  </td><td>alto </td><td>39   </td></tr>\n",
       "\t<tr><td>a18  </td><td>alto </td><td> 8   </td></tr>\n",
       "\t<tr><td>a19M </td><td>alto </td><td> 7   </td></tr>\n",
       "</tbody>\n",
       "</table>\n"
      ],
      "text/latex": [
       "\\begin{tabular}{r|lll}\n",
       " Var1 & Var2 & Freq\\\\\n",
       "\\hline\n",
       "\t a16m  & bajo  & 44   \\\\\n",
       "\t a17   & bajo  & 58   \\\\\n",
       "\t a18   & bajo  & 22   \\\\\n",
       "\t a19M  & bajo  & 55   \\\\\n",
       "\t a16m  & medio & 47   \\\\\n",
       "\t a17   & medio & 74   \\\\\n",
       "\t a18   & medio & 26   \\\\\n",
       "\t a19M  & medio & 38   \\\\\n",
       "\t a16m  & alto  & 27   \\\\\n",
       "\t a17   & alto  & 39   \\\\\n",
       "\t a18   & alto  &  8   \\\\\n",
       "\t a19M  & alto  &  7   \\\\\n",
       "\\end{tabular}\n"
      ],
      "text/markdown": [
       "\n",
       "| Var1 | Var2 | Freq |\n",
       "|---|---|---|\n",
       "| a16m  | bajo  | 44    |\n",
       "| a17   | bajo  | 58    |\n",
       "| a18   | bajo  | 22    |\n",
       "| a19M  | bajo  | 55    |\n",
       "| a16m  | medio | 47    |\n",
       "| a17   | medio | 74    |\n",
       "| a18   | medio | 26    |\n",
       "| a19M  | medio | 38    |\n",
       "| a16m  | alto  | 27    |\n",
       "| a17   | alto  | 39    |\n",
       "| a18   | alto  |  8    |\n",
       "| a19M  | alto  |  7    |\n",
       "\n"
      ],
      "text/plain": [
       "   Var1 Var2  Freq\n",
       "1  a16m bajo  44  \n",
       "2  a17  bajo  58  \n",
       "3  a18  bajo  22  \n",
       "4  a19M bajo  55  \n",
       "5  a16m medio 47  \n",
       "6  a17  medio 74  \n",
       "7  a18  medio 26  \n",
       "8  a19M medio 38  \n",
       "9  a16m alto  27  \n",
       "10 a17  alto  39  \n",
       "11 a18  alto   8  \n",
       "12 a19M alto   7  "
      ]
     },
     "metadata": {},
     "output_type": "display_data"
    },
    {
     "name": "stdout",
     "output_type": "stream",
     "text": [
      " 'table' int [1:4, 1:3] 44 58 22 55 47 74 26 38 27 39 ...\n",
      " - attr(*, \"dimnames\")=List of 2\n",
      "  ..$ : chr [1:4] \"a16m\" \"a17\" \"a18\" \"a19M\"\n",
      "  ..$ : chr [1:3] \"bajo\" \"medio\" \"alto\"\n"
     ]
    },
    {
     "ename": "ERROR",
     "evalue": "Error in ok_device(filename, ...): demasiados dispositivos abiertos\n",
     "output_type": "error",
     "traceback": [
      "Error in ok_device(filename, ...): demasiados dispositivos abiertos\nTraceback:\n",
      "1. plotct(t(tc), col = c(\"#3B0B39\", \"#8A0829\", \"#F1090C\", \"#FA4002\", \n .     \"#F4A405\", \"#FFFF00\"))",
      "2. dev.new()   # at line 25 of file <text>",
      "3. do.call(dev, a)",
      "4. (function (filename = null_filename, ...) \n . ok_device(filename, ...))()",
      "5. ok_device(filename, ...)"
     ]
    },
    {
     "data": {
      "image/png": "[encoded data removed]",
      "text/plain": [
       "plot without title"
      ]
     },
     "metadata": {},
     "output_type": "display_data"
    }
   ],
   "source": [
    "\n",
    "#----------------------------------\n",
    "# GrÃ¡fica\n",
    "#----------------------------------\n",
    "data.frame(tc[,1:3])\n",
    "str(tc)\n",
    "\n",
    "par(mfrow=c(2 ,1) , mai =c (0.4 ,1 ,0.3 ,0.1) )\n",
    "plotct(t(tc),col=c(\"#3B0B39\",  \"#8A0829\", \"#F1090C\", \"#FA4002\", \"#F4A405\",\"#FFFF00\"))\n"
   ]
  },
  {
   "cell_type": "code",
   "execution_count": 57,
   "metadata": {},
   "outputs": [
    {
     "ename": "ERROR",
     "evalue": "Error in ok_device(filename, ...): demasiados dispositivos abiertos\n",
     "output_type": "error",
     "traceback": [
      "Error in ok_device(filename, ...): demasiados dispositivos abiertos\nTraceback:\n",
      "1. plotct(tc, profiles = \"both\", col = c(\"#3B0B39\", \"#610B38\", \"#8A0829\", \n .     \"#F1090C\", \"#FA4002\", \"#F4A405\", \"#FFFF00\"))",
      "2. dev.new()   # at line 25 of file <text>",
      "3. do.call(dev, a)",
      "4. (function (filename = null_filename, ...) \n . ok_device(filename, ...))()",
      "5. ok_device(filename, ...)"
     ]
    },
    {
     "data": {
      "image/png": "[encoded data removed]",
      "text/plain": [
       "plot without title"
      ]
     },
     "metadata": {},
     "output_type": "display_data"
    }
   ],
   "source": [
    "plotct(tc ,profiles=\"both\",col=c(\"#3B0B39\", \"#610B38\", \"#8A0829\", \"#F1090C\", \"#FA4002\", \"#F4A405\",\"#FFFF00\"))\n"
   ]
  },
  {
   "cell_type": "code",
   "execution_count": 54,
   "metadata": {},
   "outputs": [
    {
     "ename": "ERROR",
     "evalue": "Error in ok_device(filename, ...): demasiados dispositivos abiertos\n",
     "output_type": "error",
     "traceback": [
      "Error in ok_device(filename, ...): demasiados dispositivos abiertos\nTraceback:\n",
      "1. plotct(Bogota[, 2:7], col = mycolors)",
      "2. dev.new()   # at line 25 of file <text>",
      "3. do.call(dev, a)",
      "4. (function (filename = null_filename, ...) \n . ok_device(filename, ...))()",
      "5. ok_device(filename, ...)"
     ]
    },
    {
     "data": {
      "image/png": "[encoded data removed]",
      "text/plain": [
       "plot without title"
      ]
     },
     "metadata": {},
     "output_type": "display_data"
    }
   ],
   "source": [
    "mycolors<-colors()[c(1,26,32,37,52,57,68,73,74,81,82,84,88,100)]\n",
    "data(Bogota)\n",
    "plotct(Bogota[,2:7],col=mycolors)\n",
    "# return tables with marginals\n",
    "tabs <- plotct(Bogota[,2:7],col=mycolors,tables=TRUE,nd=0)"
   ]
  },
  {
   "cell_type": "code",
   "execution_count": 47,
   "metadata": {},
   "outputs": [
    {
     "ename": "ERROR",
     "evalue": "Error in ok_device(filename, ...): demasiados dispositivos abiertos\n",
     "output_type": "error",
     "traceback": [
      "Error in ok_device(filename, ...): demasiados dispositivos abiertos\nTraceback:\n",
      "1. plotct(tc, col = mycolors, legend.text = TRUE)",
      "2. dev.new()   # at line 25 of file <text>",
      "3. do.call(dev, a)",
      "4. (function (filename = null_filename, ...) \n . ok_device(filename, ...))()",
      "5. ok_device(filename, ...)"
     ]
    },
    {
     "data": {
      "image/png": "[encoded data removed]",
      "text/plain": [
       "plot without title"
      ]
     },
     "metadata": {},
     "output_type": "display_data"
    }
   ],
   "source": [
    "#x11()\n",
    "par( mfrow =c(3 ,2),mai =c(0.3 ,1 ,0.2 ,0.1) ,las =1, cex =0.7)\n",
    "mycolors <-c(\"#3B0B39\",  \"#8A0829\", \"#F1090C\", \"#FA4002\", \"#F4A405\",\"#FFFF00\")\n",
    "for (i in 8:13) {\n",
    "  tc <- unclass( table (admi$carr , admi[,i]))\n",
    "  plotct(tc,col= mycolors , legend.text = TRUE )\n",
    "  title ( main = names(admi)[i], cex.main =0.7)\n",
    "}"
   ]
  },
  {
   "cell_type": "markdown",
   "metadata": {},
   "source": [
    "#### Prueba Chi-cuadrado"
   ]
  },
  {
   "cell_type": "code",
   "execution_count": 6,
   "metadata": {},
   "outputs": [
    {
     "data": {
      "text/html": [
       "<table>\n",
       "<thead><tr><th></th><th scope=col>chi2</th><th scope=col>dfr</th><th scope=col>pval</th><th scope=col>tval</th><th scope=col>phi2</th></tr></thead>\n",
       "<tbody>\n",
       "\t<tr><th scope=row>gene</th><td>44.108034   </td><td> 6          </td><td>7.036257e-08</td><td> 5.2642992  </td><td>0.09911918  </td></tr>\n",
       "\t<tr><th scope=row>estr</th><td>29.190003   </td><td>12          </td><td>3.691872e-03</td><td> 2.6790224  </td><td>0.06559551  </td></tr>\n",
       "\t<tr><th scope=row>orig</th><td> 9.676163   </td><td>12          </td><td>6.443468e-01</td><td>-0.3701022  </td><td>0.02174419  </td></tr>\n",
       "\t<tr><th scope=row>edad</th><td>33.553436   </td><td>18          </td><td>1.429273e-02</td><td> 2.1891565  </td><td>0.07540098  </td></tr>\n",
       "</tbody>\n",
       "</table>\n"
      ],
      "text/latex": [
       "\\begin{tabular}{r|lllll}\n",
       "  & chi2 & dfr & pval & tval & phi2\\\\\n",
       "\\hline\n",
       "\tgene & 44.108034    &  6           & 7.036257e-08 &  5.2642992   & 0.09911918  \\\\\n",
       "\testr & 29.190003    & 12           & 3.691872e-03 &  2.6790224   & 0.06559551  \\\\\n",
       "\torig &  9.676163    & 12           & 6.443468e-01 & -0.3701022   & 0.02174419  \\\\\n",
       "\tedad & 33.553436    & 18           & 1.429273e-02 &  2.1891565   & 0.07540098  \\\\\n",
       "\\end{tabular}\n"
      ],
      "text/markdown": [
       "\n",
       "| <!--/--> | chi2 | dfr | pval | tval | phi2 |\n",
       "|---|---|---|---|---|---|\n",
       "| gene | 44.108034    |  6           | 7.036257e-08 |  5.2642992   | 0.09911918   |\n",
       "| estr | 29.190003    | 12           | 3.691872e-03 |  2.6790224   | 0.06559551   |\n",
       "| orig |  9.676163    | 12           | 6.443468e-01 | -0.3701022   | 0.02174419   |\n",
       "| edad | 33.553436    | 18           | 1.429273e-02 |  2.1891565   | 0.07540098   |\n",
       "\n"
      ],
      "text/plain": [
       "     chi2      dfr pval         tval       phi2      \n",
       "gene 44.108034  6  7.036257e-08  5.2642992 0.09911918\n",
       "estr 29.190003 12  3.691872e-03  2.6790224 0.06559551\n",
       "orig  9.676163 12  6.443468e-01 -0.3701022 0.02174419\n",
       "edad 33.553436 18  1.429273e-02  2.1891565 0.07540098"
      ]
     },
     "metadata": {},
     "output_type": "display_data"
    },
    {
     "data": {
      "text/html": [
       "<table>\n",
       "<thead><tr><th></th><th scope=col>chi2</th><th scope=col>dfr</th><th scope=col>pval</th><th scope=col>tval</th><th scope=col>phi2</th></tr></thead>\n",
       "<tbody>\n",
       "\t<tr><th scope=row>gene</th><td>44.108034   </td><td> 6          </td><td>7.036257e-08</td><td> 5.2642992  </td><td>0.09911918  </td></tr>\n",
       "\t<tr><th scope=row>estr</th><td>29.190003   </td><td>12          </td><td>3.691872e-03</td><td> 2.6790224  </td><td>0.06559551  </td></tr>\n",
       "\t<tr><th scope=row>orig</th><td> 9.676163   </td><td>12          </td><td>6.443468e-01</td><td>-0.3701022  </td><td>0.02174419  </td></tr>\n",
       "\t<tr><th scope=row>edad</th><td>33.553436   </td><td>18          </td><td>1.429273e-02</td><td> 2.1891565  </td><td>0.07540098  </td></tr>\n",
       "</tbody>\n",
       "</table>\n"
      ],
      "text/latex": [
       "\\begin{tabular}{r|lllll}\n",
       "  & chi2 & dfr & pval & tval & phi2\\\\\n",
       "\\hline\n",
       "\tgene & 44.108034    &  6           & 7.036257e-08 &  5.2642992   & 0.09911918  \\\\\n",
       "\testr & 29.190003    & 12           & 3.691872e-03 &  2.6790224   & 0.06559551  \\\\\n",
       "\torig &  9.676163    & 12           & 6.443468e-01 & -0.3701022   & 0.02174419  \\\\\n",
       "\tedad & 33.553436    & 18           & 1.429273e-02 &  2.1891565   & 0.07540098  \\\\\n",
       "\\end{tabular}\n"
      ],
      "text/markdown": [
       "\n",
       "| <!--/--> | chi2 | dfr | pval | tval | phi2 |\n",
       "|---|---|---|---|---|---|\n",
       "| gene | 44.108034    |  6           | 7.036257e-08 |  5.2642992   | 0.09911918   |\n",
       "| estr | 29.190003    | 12           | 3.691872e-03 |  2.6790224   | 0.06559551   |\n",
       "| orig |  9.676163    | 12           | 6.443468e-01 | -0.3701022   | 0.02174419   |\n",
       "| edad | 33.553436    | 18           | 1.429273e-02 |  2.1891565   | 0.07540098   |\n",
       "\n"
      ],
      "text/plain": [
       "     chi2      dfr pval         tval       phi2      \n",
       "gene 44.108034  6  7.036257e-08  5.2642992 0.09911918\n",
       "estr 29.190003 12  3.691872e-03  2.6790224 0.06559551\n",
       "orig  9.676163 12  6.443468e-01 -0.3701022 0.02174419\n",
       "edad 33.553436 18  1.429273e-02  2.1891565 0.07540098"
      ]
     },
     "metadata": {},
     "output_type": "display_data"
    }
   ],
   "source": [
    "#----------------------------------\n",
    "# Prueba Chi-cuadrado\n",
    "# Medida de asociacion entre variables cuantitativas\n",
    "#----------------------------------\n",
    "chisq.carac(admi[,8:11],admi$carr,decr = FALSE)\n",
    "xtable(chisq.carac(admi[,8:11],admi$carr,decr = FALSE),digits=c(0,1,0,3,3,3))\n"
   ]
  },
  {
   "cell_type": "code",
   "execution_count": 16,
   "metadata": {},
   "outputs": [
    {
     "data": {
      "text/plain": [
       "class: Biol\n",
       "          Test.Value p.Value Class.Cat Cat.Class Global Weight\n",
       "niMa.siMa      3.332   0.001      17.5      87.3   70.8    315\n",
       "niMa.noMa     -3.332   0.001       6.2      12.7   29.2    130\n",
       "------------------------------------------------------------ \n",
       "class: Esta\n",
       "          Test.Value p.Value Class.Cat Cat.Class Global Weight\n",
       "niLE.siLE      2.235   0.025      26.1      18.2   10.3     46\n",
       "niMa.siMa      2.034   0.042      16.8      80.3   70.8    315\n",
       "niMa.noMa     -2.034   0.042      10.0      19.7   29.2    130\n",
       "niLE.noLE     -2.235   0.025      13.5      81.8   89.7    399\n",
       "------------------------------------------------------------ \n",
       "class: Farm\n",
       "          Test.Value p.Value Class.Cat Cat.Class Global Weight\n",
       "gene.F         5.152   0.000      31.2      54.8   28.8    128\n",
       "niMa.siMa      4.355   0.000      21.0      90.4   70.8    315\n",
       "edad.a18       2.252   0.024      26.8      20.5   12.6     56\n",
       "estr.alto     -2.281   0.023       8.6       9.6   18.2     81\n",
       "niMa.noMa     -4.355   0.000       5.4       9.6   29.2    130\n",
       "gene.M        -5.152   0.000      10.4      45.2   71.2    317\n",
       "------------------------------------------------------------ \n",
       "class: Fisi\n",
       "          Test.Value p.Value Class.Cat Cat.Class Global Weight\n",
       "niMa.noMa      3.475   0.001      28.5      45.1   29.2    130\n",
       "gene.M         3.045   0.002      21.8      84.1   71.2    317\n",
       "gene.F        -3.045   0.002      10.2      15.9   28.8    128\n",
       "niMa.siMa     -3.475   0.001      14.3      54.9   70.8    315\n",
       "------------------------------------------------------------ \n",
       "class: Geol\n",
       "           Test.Value p.Value Class.Cat Cat.Class Global Weight\n",
       "estr.alto       3.677   0.000      22.2      40.0   18.2     81\n",
       "niMa.noMa       2.706   0.007      16.2      46.7   29.2    130\n",
       "edad.a17        2.554   0.011      14.6      55.6   38.4    171\n",
       "niMa.siMa      -2.706   0.007       7.6      53.3   70.8    315\n",
       "estr.medio     -3.242   0.001       4.9      20.0   41.6    185\n",
       "------------------------------------------------------------ \n",
       "class: Mate\n",
       "          Test.Value p.Value Class.Cat Cat.Class Global Weight\n",
       "niMa.noMa      4.467   0.000      23.1      56.6   29.2    130\n",
       "edad.a19M      3.683   0.000      23.0      43.4   22.5    100\n",
       "gene.M         3.218   0.001      14.8      88.7   71.2    317\n",
       "edad.a17      -2.089   0.037       8.2      26.4   38.4    171\n",
       "gene.F        -3.218   0.001       4.7      11.3   28.8    128\n",
       "niMa.siMa     -4.467   0.000       7.3      43.4   70.8    315\n",
       "------------------------------------------------------------ \n",
       "class: Quim\n",
       "          Test.Value p.Value Class.Cat Cat.Class Global Weight\n",
       "edad.a16m      2.320   0.020      20.3      38.1   26.5    118\n",
       "edad.a17      -2.189   0.029       9.9      27.0   38.4    171"
      ]
     },
     "metadata": {},
     "output_type": "display_data"
    },
    {
     "data": {
      "text/html": [
       "<table>\n",
       "<thead><tr><th></th><th scope=col>clasif</th><th scope=col>Test.Value</th><th scope=col>p.Value</th><th scope=col>Class.Cat</th><th scope=col>Cat.Class</th><th scope=col>Global</th><th scope=col>Weight</th></tr></thead>\n",
       "<tbody>\n",
       "\t<tr><th scope=row>niMa.siMa</th><td>Biol  </td><td> 3.332</td><td>0.001 </td><td>17.5  </td><td>87.3  </td><td>70.8  </td><td>315   </td></tr>\n",
       "\t<tr><th scope=row>niMa.noMa</th><td>Biol  </td><td>-3.332</td><td>0.001 </td><td> 6.2  </td><td>12.7  </td><td>29.2  </td><td>130   </td></tr>\n",
       "\t<tr><th scope=row>niLE.siLE</th><td>Esta  </td><td> 2.235</td><td>0.025 </td><td>26.1  </td><td>18.2  </td><td>10.3  </td><td> 46   </td></tr>\n",
       "\t<tr><th scope=row>niMa.siMa1</th><td>Esta  </td><td> 2.034</td><td>0.042 </td><td>16.8  </td><td>80.3  </td><td>70.8  </td><td>315   </td></tr>\n",
       "\t<tr><th scope=row>niMa.noMa1</th><td>Esta  </td><td>-2.034</td><td>0.042 </td><td>10.0  </td><td>19.7  </td><td>29.2  </td><td>130   </td></tr>\n",
       "\t<tr><th scope=row>niLE.noLE</th><td>Esta  </td><td>-2.235</td><td>0.025 </td><td>13.5  </td><td>81.8  </td><td>89.7  </td><td>399   </td></tr>\n",
       "\t<tr><th scope=row>gene.F</th><td>Farm  </td><td> 5.152</td><td>0.000 </td><td>31.2  </td><td>54.8  </td><td>28.8  </td><td>128   </td></tr>\n",
       "\t<tr><th scope=row>niMa.siMa2</th><td>Farm  </td><td> 4.355</td><td>0.000 </td><td>21.0  </td><td>90.4  </td><td>70.8  </td><td>315   </td></tr>\n",
       "\t<tr><th scope=row>edad.a18</th><td>Farm  </td><td> 2.252</td><td>0.024 </td><td>26.8  </td><td>20.5  </td><td>12.6  </td><td> 56   </td></tr>\n",
       "\t<tr><th scope=row>estr.alto</th><td>Farm  </td><td>-2.281</td><td>0.023 </td><td> 8.6  </td><td> 9.6  </td><td>18.2  </td><td> 81   </td></tr>\n",
       "\t<tr><th scope=row>niMa.noMa2</th><td>Farm  </td><td>-4.355</td><td>0.000 </td><td> 5.4  </td><td> 9.6  </td><td>29.2  </td><td>130   </td></tr>\n",
       "\t<tr><th scope=row>gene.M</th><td>Farm  </td><td>-5.152</td><td>0.000 </td><td>10.4  </td><td>45.2  </td><td>71.2  </td><td>317   </td></tr>\n",
       "\t<tr><th scope=row>niMa.noMa3</th><td>Fisi  </td><td> 3.475</td><td>0.001 </td><td>28.5  </td><td>45.1  </td><td>29.2  </td><td>130   </td></tr>\n",
       "\t<tr><th scope=row>gene.M1</th><td>Fisi  </td><td> 3.045</td><td>0.002 </td><td>21.8  </td><td>84.1  </td><td>71.2  </td><td>317   </td></tr>\n",
       "\t<tr><th scope=row>gene.F1</th><td>Fisi  </td><td>-3.045</td><td>0.002 </td><td>10.2  </td><td>15.9  </td><td>28.8  </td><td>128   </td></tr>\n",
       "\t<tr><th scope=row>niMa.siMa3</th><td>Fisi  </td><td>-3.475</td><td>0.001 </td><td>14.3  </td><td>54.9  </td><td>70.8  </td><td>315   </td></tr>\n",
       "\t<tr><th scope=row>estr.alto1</th><td>Geol  </td><td> 3.677</td><td>0.000 </td><td>22.2  </td><td>40.0  </td><td>18.2  </td><td> 81   </td></tr>\n",
       "\t<tr><th scope=row>niMa.noMa4</th><td>Geol  </td><td> 2.706</td><td>0.007 </td><td>16.2  </td><td>46.7  </td><td>29.2  </td><td>130   </td></tr>\n",
       "\t<tr><th scope=row>edad.a17</th><td>Geol  </td><td> 2.554</td><td>0.011 </td><td>14.6  </td><td>55.6  </td><td>38.4  </td><td>171   </td></tr>\n",
       "\t<tr><th scope=row>niMa.siMa4</th><td>Geol  </td><td>-2.706</td><td>0.007 </td><td> 7.6  </td><td>53.3  </td><td>70.8  </td><td>315   </td></tr>\n",
       "\t<tr><th scope=row>estr.medio</th><td>Geol  </td><td>-3.242</td><td>0.001 </td><td> 4.9  </td><td>20.0  </td><td>41.6  </td><td>185   </td></tr>\n",
       "\t<tr><th scope=row>niMa.noMa5</th><td>Mate  </td><td> 4.467</td><td>0.000 </td><td>23.1  </td><td>56.6  </td><td>29.2  </td><td>130   </td></tr>\n",
       "\t<tr><th scope=row>edad.a19M</th><td>Mate  </td><td> 3.683</td><td>0.000 </td><td>23.0  </td><td>43.4  </td><td>22.5  </td><td>100   </td></tr>\n",
       "\t<tr><th scope=row>gene.M2</th><td>Mate  </td><td> 3.218</td><td>0.001 </td><td>14.8  </td><td>88.7  </td><td>71.2  </td><td>317   </td></tr>\n",
       "\t<tr><th scope=row>edad.a171</th><td>Mate  </td><td>-2.089</td><td>0.037 </td><td> 8.2  </td><td>26.4  </td><td>38.4  </td><td>171   </td></tr>\n",
       "\t<tr><th scope=row>gene.F2</th><td>Mate  </td><td>-3.218</td><td>0.001 </td><td> 4.7  </td><td>11.3  </td><td>28.8  </td><td>128   </td></tr>\n",
       "\t<tr><th scope=row>niMa.siMa5</th><td>Mate  </td><td>-4.467</td><td>0.000 </td><td> 7.3  </td><td>43.4  </td><td>70.8  </td><td>315   </td></tr>\n",
       "\t<tr><th scope=row>edad.a16m</th><td>Quim  </td><td> 2.320</td><td>0.020 </td><td>20.3  </td><td>38.1  </td><td>26.5  </td><td>118   </td></tr>\n",
       "\t<tr><th scope=row>edad.a172</th><td>Quim  </td><td>-2.189</td><td>0.029 </td><td> 9.9  </td><td>27.0  </td><td>38.4  </td><td>171   </td></tr>\n",
       "</tbody>\n",
       "</table>\n"
      ],
      "text/latex": [
       "\\begin{tabular}{r|lllllll}\n",
       "  & clasif & Test.Value & p.Value & Class.Cat & Cat.Class & Global & Weight\\\\\n",
       "\\hline\n",
       "\tniMa.siMa & Biol   &  3.332 & 0.001  & 17.5   & 87.3   & 70.8   & 315   \\\\\n",
       "\tniMa.noMa & Biol   & -3.332 & 0.001  &  6.2   & 12.7   & 29.2   & 130   \\\\\n",
       "\tniLE.siLE & Esta   &  2.235 & 0.025  & 26.1   & 18.2   & 10.3   &  46   \\\\\n",
       "\tniMa.siMa1 & Esta   &  2.034 & 0.042  & 16.8   & 80.3   & 70.8   & 315   \\\\\n",
       "\tniMa.noMa1 & Esta   & -2.034 & 0.042  & 10.0   & 19.7   & 29.2   & 130   \\\\\n",
       "\tniLE.noLE & Esta   & -2.235 & 0.025  & 13.5   & 81.8   & 89.7   & 399   \\\\\n",
       "\tgene.F & Farm   &  5.152 & 0.000  & 31.2   & 54.8   & 28.8   & 128   \\\\\n",
       "\tniMa.siMa2 & Farm   &  4.355 & 0.000  & 21.0   & 90.4   & 70.8   & 315   \\\\\n",
       "\tedad.a18 & Farm   &  2.252 & 0.024  & 26.8   & 20.5   & 12.6   &  56   \\\\\n",
       "\testr.alto & Farm   & -2.281 & 0.023  &  8.6   &  9.6   & 18.2   &  81   \\\\\n",
       "\tniMa.noMa2 & Farm   & -4.355 & 0.000  &  5.4   &  9.6   & 29.2   & 130   \\\\\n",
       "\tgene.M & Farm   & -5.152 & 0.000  & 10.4   & 45.2   & 71.2   & 317   \\\\\n",
       "\tniMa.noMa3 & Fisi   &  3.475 & 0.001  & 28.5   & 45.1   & 29.2   & 130   \\\\\n",
       "\tgene.M1 & Fisi   &  3.045 & 0.002  & 21.8   & 84.1   & 71.2   & 317   \\\\\n",
       "\tgene.F1 & Fisi   & -3.045 & 0.002  & 10.2   & 15.9   & 28.8   & 128   \\\\\n",
       "\tniMa.siMa3 & Fisi   & -3.475 & 0.001  & 14.3   & 54.9   & 70.8   & 315   \\\\\n",
       "\testr.alto1 & Geol   &  3.677 & 0.000  & 22.2   & 40.0   & 18.2   &  81   \\\\\n",
       "\tniMa.noMa4 & Geol   &  2.706 & 0.007  & 16.2   & 46.7   & 29.2   & 130   \\\\\n",
       "\tedad.a17 & Geol   &  2.554 & 0.011  & 14.6   & 55.6   & 38.4   & 171   \\\\\n",
       "\tniMa.siMa4 & Geol   & -2.706 & 0.007  &  7.6   & 53.3   & 70.8   & 315   \\\\\n",
       "\testr.medio & Geol   & -3.242 & 0.001  &  4.9   & 20.0   & 41.6   & 185   \\\\\n",
       "\tniMa.noMa5 & Mate   &  4.467 & 0.000  & 23.1   & 56.6   & 29.2   & 130   \\\\\n",
       "\tedad.a19M & Mate   &  3.683 & 0.000  & 23.0   & 43.4   & 22.5   & 100   \\\\\n",
       "\tgene.M2 & Mate   &  3.218 & 0.001  & 14.8   & 88.7   & 71.2   & 317   \\\\\n",
       "\tedad.a171 & Mate   & -2.089 & 0.037  &  8.2   & 26.4   & 38.4   & 171   \\\\\n",
       "\tgene.F2 & Mate   & -3.218 & 0.001  &  4.7   & 11.3   & 28.8   & 128   \\\\\n",
       "\tniMa.siMa5 & Mate   & -4.467 & 0.000  &  7.3   & 43.4   & 70.8   & 315   \\\\\n",
       "\tedad.a16m & Quim   &  2.320 & 0.020  & 20.3   & 38.1   & 26.5   & 118   \\\\\n",
       "\tedad.a172 & Quim   & -2.189 & 0.029  &  9.9   & 27.0   & 38.4   & 171   \\\\\n",
       "\\end{tabular}\n"
      ],
      "text/markdown": [
       "\n",
       "| <!--/--> | clasif | Test.Value | p.Value | Class.Cat | Cat.Class | Global | Weight |\n",
       "|---|---|---|---|---|---|---|---|\n",
       "| niMa.siMa | Biol   |  3.332 | 0.001  | 17.5   | 87.3   | 70.8   | 315    |\n",
       "| niMa.noMa | Biol   | -3.332 | 0.001  |  6.2   | 12.7   | 29.2   | 130    |\n",
       "| niLE.siLE | Esta   |  2.235 | 0.025  | 26.1   | 18.2   | 10.3   |  46    |\n",
       "| niMa.siMa1 | Esta   |  2.034 | 0.042  | 16.8   | 80.3   | 70.8   | 315    |\n",
       "| niMa.noMa1 | Esta   | -2.034 | 0.042  | 10.0   | 19.7   | 29.2   | 130    |\n",
       "| niLE.noLE | Esta   | -2.235 | 0.025  | 13.5   | 81.8   | 89.7   | 399    |\n",
       "| gene.F | Farm   |  5.152 | 0.000  | 31.2   | 54.8   | 28.8   | 128    |\n",
       "| niMa.siMa2 | Farm   |  4.355 | 0.000  | 21.0   | 90.4   | 70.8   | 315    |\n",
       "| edad.a18 | Farm   |  2.252 | 0.024  | 26.8   | 20.5   | 12.6   |  56    |\n",
       "| estr.alto | Farm   | -2.281 | 0.023  |  8.6   |  9.6   | 18.2   |  81    |\n",
       "| niMa.noMa2 | Farm   | -4.355 | 0.000  |  5.4   |  9.6   | 29.2   | 130    |\n",
       "| gene.M | Farm   | -5.152 | 0.000  | 10.4   | 45.2   | 71.2   | 317    |\n",
       "| niMa.noMa3 | Fisi   |  3.475 | 0.001  | 28.5   | 45.1   | 29.2   | 130    |\n",
       "| gene.M1 | Fisi   |  3.045 | 0.002  | 21.8   | 84.1   | 71.2   | 317    |\n",
       "| gene.F1 | Fisi   | -3.045 | 0.002  | 10.2   | 15.9   | 28.8   | 128    |\n",
       "| niMa.siMa3 | Fisi   | -3.475 | 0.001  | 14.3   | 54.9   | 70.8   | 315    |\n",
       "| estr.alto1 | Geol   |  3.677 | 0.000  | 22.2   | 40.0   | 18.2   |  81    |\n",
       "| niMa.noMa4 | Geol   |  2.706 | 0.007  | 16.2   | 46.7   | 29.2   | 130    |\n",
       "| edad.a17 | Geol   |  2.554 | 0.011  | 14.6   | 55.6   | 38.4   | 171    |\n",
       "| niMa.siMa4 | Geol   | -2.706 | 0.007  |  7.6   | 53.3   | 70.8   | 315    |\n",
       "| estr.medio | Geol   | -3.242 | 0.001  |  4.9   | 20.0   | 41.6   | 185    |\n",
       "| niMa.noMa5 | Mate   |  4.467 | 0.000  | 23.1   | 56.6   | 29.2   | 130    |\n",
       "| edad.a19M | Mate   |  3.683 | 0.000  | 23.0   | 43.4   | 22.5   | 100    |\n",
       "| gene.M2 | Mate   |  3.218 | 0.001  | 14.8   | 88.7   | 71.2   | 317    |\n",
       "| edad.a171 | Mate   | -2.089 | 0.037  |  8.2   | 26.4   | 38.4   | 171    |\n",
       "| gene.F2 | Mate   | -3.218 | 0.001  |  4.7   | 11.3   | 28.8   | 128    |\n",
       "| niMa.siMa5 | Mate   | -4.467 | 0.000  |  7.3   | 43.4   | 70.8   | 315    |\n",
       "| edad.a16m | Quim   |  2.320 | 0.020  | 20.3   | 38.1   | 26.5   | 118    |\n",
       "| edad.a172 | Quim   | -2.189 | 0.029  |  9.9   | 27.0   | 38.4   | 171    |\n",
       "\n"
      ],
      "text/plain": [
       "           clasif Test.Value p.Value Class.Cat Cat.Class Global Weight\n",
       "niMa.siMa  Biol    3.332     0.001   17.5      87.3      70.8   315   \n",
       "niMa.noMa  Biol   -3.332     0.001    6.2      12.7      29.2   130   \n",
       "niLE.siLE  Esta    2.235     0.025   26.1      18.2      10.3    46   \n",
       "niMa.siMa1 Esta    2.034     0.042   16.8      80.3      70.8   315   \n",
       "niMa.noMa1 Esta   -2.034     0.042   10.0      19.7      29.2   130   \n",
       "niLE.noLE  Esta   -2.235     0.025   13.5      81.8      89.7   399   \n",
       "gene.F     Farm    5.152     0.000   31.2      54.8      28.8   128   \n",
       "niMa.siMa2 Farm    4.355     0.000   21.0      90.4      70.8   315   \n",
       "edad.a18   Farm    2.252     0.024   26.8      20.5      12.6    56   \n",
       "estr.alto  Farm   -2.281     0.023    8.6       9.6      18.2    81   \n",
       "niMa.noMa2 Farm   -4.355     0.000    5.4       9.6      29.2   130   \n",
       "gene.M     Farm   -5.152     0.000   10.4      45.2      71.2   317   \n",
       "niMa.noMa3 Fisi    3.475     0.001   28.5      45.1      29.2   130   \n",
       "gene.M1    Fisi    3.045     0.002   21.8      84.1      71.2   317   \n",
       "gene.F1    Fisi   -3.045     0.002   10.2      15.9      28.8   128   \n",
       "niMa.siMa3 Fisi   -3.475     0.001   14.3      54.9      70.8   315   \n",
       "estr.alto1 Geol    3.677     0.000   22.2      40.0      18.2    81   \n",
       "niMa.noMa4 Geol    2.706     0.007   16.2      46.7      29.2   130   \n",
       "edad.a17   Geol    2.554     0.011   14.6      55.6      38.4   171   \n",
       "niMa.siMa4 Geol   -2.706     0.007    7.6      53.3      70.8   315   \n",
       "estr.medio Geol   -3.242     0.001    4.9      20.0      41.6   185   \n",
       "niMa.noMa5 Mate    4.467     0.000   23.1      56.6      29.2   130   \n",
       "edad.a19M  Mate    3.683     0.000   23.0      43.4      22.5   100   \n",
       "gene.M2    Mate    3.218     0.001   14.8      88.7      71.2   317   \n",
       "edad.a171  Mate   -2.089     0.037    8.2      26.4      38.4   171   \n",
       "gene.F2    Mate   -3.218     0.001    4.7      11.3      28.8   128   \n",
       "niMa.siMa5 Mate   -4.467     0.000    7.3      43.4      70.8   315   \n",
       "edad.a16m  Quim    2.320     0.020   20.3      38.1      26.5   118   \n",
       "edad.a172  Quim   -2.189     0.029    9.9      27.0      38.4   171   "
      ]
     },
     "metadata": {},
     "output_type": "display_data"
    }
   ],
   "source": [
    "\n",
    "#Ordenamiento por valores test para describir una variable cualitativa\n",
    "#segÃºn las categorÃ­as de varias variables cualitativas\n",
    "desCarrSocio<-cluster.carac(admi[,8:13],admi[,1]); desCarrSocio\n",
    "xtable(list.to.data(desCarrSocio),digits=c(0,0,3,3,1,1,1,0))\n",
    "\n"
   ]
  },
  {
   "cell_type": "code",
   "execution_count": 17,
   "metadata": {},
   "outputs": [
    {
     "data": {
      "text/html": [
       "<table>\n",
       "<thead><tr><th></th><th scope=col>Biol</th><th scope=col>Esta</th><th scope=col>Farm</th><th scope=col>Fisi</th><th scope=col>Geol</th><th scope=col>Mate</th><th scope=col>Quim</th><th scope=col>marR</th></tr></thead>\n",
       "<tbody>\n",
       "\t<tr><th scope=row>siMa</th><td>55 </td><td>53 </td><td>66 </td><td>45 </td><td>24 </td><td>23 </td><td>49 </td><td>315</td></tr>\n",
       "\t<tr><th scope=row>noMa</th><td> 8 </td><td>13 </td><td> 7 </td><td>37 </td><td>21 </td><td>30 </td><td>14 </td><td>130</td></tr>\n",
       "\t<tr><th scope=row>marC</th><td>63 </td><td>66 </td><td>73 </td><td>82 </td><td>45 </td><td>53 </td><td>63 </td><td>445</td></tr>\n",
       "</tbody>\n",
       "</table>\n"
      ],
      "text/latex": [
       "\\begin{tabular}{r|llllllll}\n",
       "  & Biol & Esta & Farm & Fisi & Geol & Mate & Quim & marR\\\\\n",
       "\\hline\n",
       "\tsiMa & 55  & 53  & 66  & 45  & 24  & 23  & 49  & 315\\\\\n",
       "\tnoMa &  8  & 13  &  7  & 37  & 21  & 30  & 14  & 130\\\\\n",
       "\tmarC & 63  & 66  & 73  & 82  & 45  & 53  & 63  & 445\\\\\n",
       "\\end{tabular}\n"
      ],
      "text/markdown": [
       "\n",
       "| <!--/--> | Biol | Esta | Farm | Fisi | Geol | Mate | Quim | marR |\n",
       "|---|---|---|---|---|---|---|---|---|\n",
       "| siMa | 55  | 53  | 66  | 45  | 24  | 23  | 49  | 315 |\n",
       "| noMa |  8  | 13  |  7  | 37  | 21  | 30  | 14  | 130 |\n",
       "| marC | 63  | 66  | 73  | 82  | 45  | 53  | 63  | 445 |\n",
       "\n"
      ],
      "text/plain": [
       "     Biol Esta Farm Fisi Geol Mate Quim marR\n",
       "siMa 55   53   66   45   24   23   49   315 \n",
       "noMa  8   13    7   37   21   30   14   130 \n",
       "marC 63   66   73   82   45   53   63   445 "
      ]
     },
     "metadata": {},
     "output_type": "display_data"
    },
    {
     "data": {
      "text/html": [
       "<table>\n",
       "<thead><tr><th></th><th scope=col>Biol</th><th scope=col>Esta</th><th scope=col>Farm</th><th scope=col>Fisi</th><th scope=col>Geol</th><th scope=col>Mate</th><th scope=col>Quim</th><th scope=col>marR</th></tr></thead>\n",
       "<tbody>\n",
       "\t<tr><th scope=row>siMa</th><td>12.359551</td><td>11.910112</td><td>14.831461</td><td>10.112360</td><td> 5.393258</td><td> 5.168539</td><td>11.011236</td><td> 70.78652</td></tr>\n",
       "\t<tr><th scope=row>noMa</th><td> 1.797753</td><td> 2.921348</td><td> 1.573034</td><td> 8.314607</td><td> 4.719101</td><td> 6.741573</td><td> 3.146067</td><td> 29.21348</td></tr>\n",
       "\t<tr><th scope=row>marC</th><td>14.157303</td><td>14.831461</td><td>16.404494</td><td>18.426966</td><td>10.112360</td><td>11.910112</td><td>14.157303</td><td>100.00000</td></tr>\n",
       "</tbody>\n",
       "</table>\n"
      ],
      "text/latex": [
       "\\begin{tabular}{r|llllllll}\n",
       "  & Biol & Esta & Farm & Fisi & Geol & Mate & Quim & marR\\\\\n",
       "\\hline\n",
       "\tsiMa & 12.359551 & 11.910112 & 14.831461 & 10.112360 &  5.393258 &  5.168539 & 11.011236 &  70.78652\\\\\n",
       "\tnoMa &  1.797753 &  2.921348 &  1.573034 &  8.314607 &  4.719101 &  6.741573 &  3.146067 &  29.21348\\\\\n",
       "\tmarC & 14.157303 & 14.831461 & 16.404494 & 18.426966 & 10.112360 & 11.910112 & 14.157303 & 100.00000\\\\\n",
       "\\end{tabular}\n"
      ],
      "text/markdown": [
       "\n",
       "| <!--/--> | Biol | Esta | Farm | Fisi | Geol | Mate | Quim | marR |\n",
       "|---|---|---|---|---|---|---|---|---|\n",
       "| siMa | 12.359551 | 11.910112 | 14.831461 | 10.112360 |  5.393258 |  5.168539 | 11.011236 |  70.78652 |\n",
       "| noMa |  1.797753 |  2.921348 |  1.573034 |  8.314607 |  4.719101 |  6.741573 |  3.146067 |  29.21348 |\n",
       "| marC | 14.157303 | 14.831461 | 16.404494 | 18.426966 | 10.112360 | 11.910112 | 14.157303 | 100.00000 |\n",
       "\n"
      ],
      "text/plain": [
       "     Biol      Esta      Farm      Fisi      Geol      Mate      Quim     \n",
       "siMa 12.359551 11.910112 14.831461 10.112360  5.393258  5.168539 11.011236\n",
       "noMa  1.797753  2.921348  1.573034  8.314607  4.719101  6.741573  3.146067\n",
       "marC 14.157303 14.831461 16.404494 18.426966 10.112360 11.910112 14.157303\n",
       "     marR     \n",
       "siMa  70.78652\n",
       "noMa  29.21348\n",
       "marC 100.00000"
      ]
     },
     "metadata": {},
     "output_type": "display_data"
    },
    {
     "data": {
      "text/html": [
       "<table>\n",
       "<thead><tr><th></th><th scope=col>Biol</th><th scope=col>Esta</th><th scope=col>Farm</th><th scope=col>Fisi</th><th scope=col>Geol</th><th scope=col>Mate</th><th scope=col>Quim</th></tr></thead>\n",
       "<tbody>\n",
       "\t<tr><th scope=row>siMa</th><td>17.5</td><td>16.8</td><td>21.0</td><td>14.3</td><td> 7.6</td><td> 7.3</td><td>15.6</td></tr>\n",
       "\t<tr><th scope=row>noMa</th><td> 6.2</td><td>10.0</td><td> 5.4</td><td>28.5</td><td>16.2</td><td>23.1</td><td>10.8</td></tr>\n",
       "\t<tr><th scope=row>marg</th><td>14.2</td><td>14.8</td><td>16.4</td><td>18.4</td><td>10.1</td><td>11.9</td><td>14.2</td></tr>\n",
       "</tbody>\n",
       "</table>\n"
      ],
      "text/latex": [
       "\\begin{tabular}{r|lllllll}\n",
       "  & Biol & Esta & Farm & Fisi & Geol & Mate & Quim\\\\\n",
       "\\hline\n",
       "\tsiMa & 17.5 & 16.8 & 21.0 & 14.3 &  7.6 &  7.3 & 15.6\\\\\n",
       "\tnoMa &  6.2 & 10.0 &  5.4 & 28.5 & 16.2 & 23.1 & 10.8\\\\\n",
       "\tmarg & 14.2 & 14.8 & 16.4 & 18.4 & 10.1 & 11.9 & 14.2\\\\\n",
       "\\end{tabular}\n"
      ],
      "text/markdown": [
       "\n",
       "| <!--/--> | Biol | Esta | Farm | Fisi | Geol | Mate | Quim |\n",
       "|---|---|---|---|---|---|---|---|\n",
       "| siMa | 17.5 | 16.8 | 21.0 | 14.3 |  7.6 |  7.3 | 15.6 |\n",
       "| noMa |  6.2 | 10.0 |  5.4 | 28.5 | 16.2 | 23.1 | 10.8 |\n",
       "| marg | 14.2 | 14.8 | 16.4 | 18.4 | 10.1 | 11.9 | 14.2 |\n",
       "\n"
      ],
      "text/plain": [
       "     Biol Esta Farm Fisi Geol Mate Quim\n",
       "siMa 17.5 16.8 21.0 14.3  7.6  7.3 15.6\n",
       "noMa  6.2 10.0  5.4 28.5 16.2 23.1 10.8\n",
       "marg 14.2 14.8 16.4 18.4 10.1 11.9 14.2"
      ]
     },
     "metadata": {},
     "output_type": "display_data"
    },
    {
     "data": {
      "text/html": [
       "<table>\n",
       "<thead><tr><th></th><th scope=col>Biol</th><th scope=col>Esta</th><th scope=col>Farm</th><th scope=col>Fisi</th><th scope=col>Geol</th><th scope=col>Mate</th><th scope=col>Quim</th><th scope=col>marg</th></tr></thead>\n",
       "<tbody>\n",
       "\t<tr><th scope=row>siMa</th><td>87.3</td><td>80.3</td><td>90.4</td><td>54.9</td><td>53.3</td><td>43.4</td><td>77.8</td><td>70.8</td></tr>\n",
       "\t<tr><th scope=row>noMa</th><td>12.7</td><td>19.7</td><td> 9.6</td><td>45.1</td><td>46.7</td><td>56.6</td><td>22.2</td><td>29.2</td></tr>\n",
       "</tbody>\n",
       "</table>\n"
      ],
      "text/latex": [
       "\\begin{tabular}{r|llllllll}\n",
       "  & Biol & Esta & Farm & Fisi & Geol & Mate & Quim & marg\\\\\n",
       "\\hline\n",
       "\tsiMa & 87.3 & 80.3 & 90.4 & 54.9 & 53.3 & 43.4 & 77.8 & 70.8\\\\\n",
       "\tnoMa & 12.7 & 19.7 &  9.6 & 45.1 & 46.7 & 56.6 & 22.2 & 29.2\\\\\n",
       "\\end{tabular}\n"
      ],
      "text/markdown": [
       "\n",
       "| <!--/--> | Biol | Esta | Farm | Fisi | Geol | Mate | Quim | marg |\n",
       "|---|---|---|---|---|---|---|---|---|\n",
       "| siMa | 87.3 | 80.3 | 90.4 | 54.9 | 53.3 | 43.4 | 77.8 | 70.8 |\n",
       "| noMa | 12.7 | 19.7 |  9.6 | 45.1 | 46.7 | 56.6 | 22.2 | 29.2 |\n",
       "\n"
      ],
      "text/plain": [
       "     Biol Esta Farm Fisi Geol Mate Quim marg\n",
       "siMa 87.3 80.3 90.4 54.9 53.3 43.4 77.8 70.8\n",
       "noMa 12.7 19.7  9.6 45.1 46.7 56.6 22.2 29.2"
      ]
     },
     "metadata": {},
     "output_type": "display_data"
    }
   ],
   "source": [
    "\n",
    "#TC de nivela-MatemÃ¡ticas vs carreras y tablas de perfiles fila y columna,\n",
    "#incluyendo marginales\n",
    "tcCarrNiMa <- unclass( table( admi$niMa , admi$ carr ))\n",
    "tabs <- plotct( tcCarrNiMa , tables = TRUE )\n",
    "xtable( tabs $ctm , digits = rep (0 ,9))\n",
    "xtable( tabs $ctm *100/445 , digits = rep (1 ,9))\n",
    "xtable( tabs $perR , digits = rep (1 ,8))\n",
    "xtable( tabs $perC , digits = rep (1 ,9))\n"
   ]
  },
  {
   "cell_type": "code",
   "execution_count": 18,
   "metadata": {},
   "outputs": [
    {
     "data": {
      "text/html": [
       "0.000862393967262266"
      ],
      "text/latex": [
       "0.000862393967262266"
      ],
      "text/markdown": [
       "0.000862393967262266"
      ],
      "text/plain": [
       "[1] 0.000862394"
      ]
     },
     "metadata": {},
     "output_type": "display_data"
    },
    {
     "data": {
      "text/html": [
       "3.33195113673963"
      ],
      "text/latex": [
       "3.33195113673963"
      ],
      "text/markdown": [
       "3.33195113673963"
      ],
      "text/plain": [
       "[1] 3.331951"
      ]
     },
     "metadata": {},
     "output_type": "display_data"
    }
   ],
   "source": [
    "#calcular el valor p y el valor test\n",
    "vp <- phyper(54 , 315 , 130 ,63 , lower.tail = FALSE );vp\n",
    "qnorm(vp/2, lower.tail = FALSE )\n",
    "\n"
   ]
  }
 ],
 "metadata": {
  "kernelspec": {
   "display_name": "R",
   "language": "R",
   "name": "ir"
  },
  "language_info": {
   "codemirror_mode": "r",
   "file_extension": ".r",
   "mimetype": "text/x-r-source",
   "name": "R",
   "pygments_lexer": "r",
   "version": "3.6.1"
  }
 },
 "nbformat": 4,
 "nbformat_minor": 4
}
