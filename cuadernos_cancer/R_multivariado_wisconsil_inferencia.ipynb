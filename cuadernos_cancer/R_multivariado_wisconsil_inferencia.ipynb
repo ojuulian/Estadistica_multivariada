{
 "cells": [
  {
   "cell_type": "markdown",
   "metadata": {},
   "source": [
    "<img src=\"./unal.png\" align=left width=\"150\" height=\"150\"></img>\n",
    "\n",
    "\n",
    "\n",
    "$\\,$\n",
    "---\n",
    "\n",
    "<h2 align=\"center\">DIAGNÓSTICO DEL CÁNCER DE MAMA EN EL ESTADO DE WISCONSIN</h2>\n",
    "<h3 align=\"center\">ANÁLISIS MULTIVARIADO (Inferencia en el vector de medias y matriz de varianzas) </h3>\n",
    "\n",
    "$\\;$"
   ]
  },
  {
   "cell_type": "markdown",
   "metadata": {},
   "source": [
    "### Inferencias sobre el vector de medias\n",
    "\n",
    "Según las gráficas de las distribuciones marginales de las variables (Compacticidad, simetría y Suavidad) se reflejaba la no normalidad junto con los qqplot y verificando este supuesto bajo las pruebas de Shapiro-Wilk se afirmaba la no normalidad, este es un supuesto indispensable en la teoría clásica puesto que su uso sin este supuesto conllevaría inferencias no válidas, una forma de solucionar este problema es considerando transformaciones de los datos para de esta manera realizar análisis de la teoría normal. Según Johnson y Wichern (2002) las transformaciones no son más que una reexpresión de los datos en diferentes unidades.\n",
    "\n",
    "\n",
    "En muchos casos, la elección de una transformación para mejorar la aproximación a  la normalidad no es obvio, no existe una única transformación a los datos algunas son mejores que otras, uno de las transformaciones es comunmente usadas es la de Box-Cox la cual tiene como objetivo homogeneizar la varianza, sin embargo en la mayoría de casos al usarse se logra corregir conjuntamente el problema de la no normalidad. (Melo et al., 2018. p256).\n",
    "\n",
    "Una de las transformaciones usadas es la de la familia Johnson la cual transforma en normalidad usando la familia Z de distribuciones. la transformación de Johnson es basada en el método de los percentiles devolviendo la variable transformada, para tal fin se usa la función **RE.Johnson** de la libreria Johnson. "
   ]
  },
  {
   "cell_type": "code",
   "execution_count": 1,
   "metadata": {},
   "outputs": [
    {
     "data": {
      "text/html": [
       "<table>\n",
       "<thead><tr><th scope=col>diagnosis</th><th scope=col>compactness</th><th scope=col>smoothness</th><th scope=col>symmetry</th><th scope=col>area</th></tr></thead>\n",
       "<tbody>\n",
       "\t<tr><td>M      </td><td>0.27760</td><td>0.11840</td><td>0.2419 </td><td>1001.0 </td></tr>\n",
       "\t<tr><td>M      </td><td>0.07864</td><td>0.08474</td><td>0.1812 </td><td>1326.0 </td></tr>\n",
       "\t<tr><td>M      </td><td>0.15990</td><td>0.10960</td><td>0.2069 </td><td>1203.0 </td></tr>\n",
       "\t<tr><td>M      </td><td>0.28390</td><td>0.14250</td><td>0.2597 </td><td> 386.1 </td></tr>\n",
       "\t<tr><td>M      </td><td>0.13280</td><td>0.10030</td><td>0.1809 </td><td>1297.0 </td></tr>\n",
       "\t<tr><td>M      </td><td>0.17000</td><td>0.12780</td><td>0.2087 </td><td> 477.1 </td></tr>\n",
       "\t<tr><td>M      </td><td>0.10900</td><td>0.09463</td><td>0.1794 </td><td>1040.0 </td></tr>\n",
       "\t<tr><td>M      </td><td>0.16450</td><td>0.11890</td><td>0.2196 </td><td> 577.9 </td></tr>\n",
       "\t<tr><td>M      </td><td>0.19320</td><td>0.12730</td><td>0.2350 </td><td> 519.8 </td></tr>\n",
       "\t<tr><td>M      </td><td>0.23960</td><td>0.11860</td><td>0.2030 </td><td> 475.9 </td></tr>\n",
       "</tbody>\n",
       "</table>\n"
      ],
      "text/latex": [
       "\\begin{tabular}{r|lllll}\n",
       " diagnosis & compactness & smoothness & symmetry & area\\\\\n",
       "\\hline\n",
       "\t M       & 0.27760 & 0.11840 & 0.2419  & 1001.0 \\\\\n",
       "\t M       & 0.07864 & 0.08474 & 0.1812  & 1326.0 \\\\\n",
       "\t M       & 0.15990 & 0.10960 & 0.2069  & 1203.0 \\\\\n",
       "\t M       & 0.28390 & 0.14250 & 0.2597  &  386.1 \\\\\n",
       "\t M       & 0.13280 & 0.10030 & 0.1809  & 1297.0 \\\\\n",
       "\t M       & 0.17000 & 0.12780 & 0.2087  &  477.1 \\\\\n",
       "\t M       & 0.10900 & 0.09463 & 0.1794  & 1040.0 \\\\\n",
       "\t M       & 0.16450 & 0.11890 & 0.2196  &  577.9 \\\\\n",
       "\t M       & 0.19320 & 0.12730 & 0.2350  &  519.8 \\\\\n",
       "\t M       & 0.23960 & 0.11860 & 0.2030  &  475.9 \\\\\n",
       "\\end{tabular}\n"
      ],
      "text/markdown": [
       "\n",
       "| diagnosis | compactness | smoothness | symmetry | area |\n",
       "|---|---|---|---|---|\n",
       "| M       | 0.27760 | 0.11840 | 0.2419  | 1001.0  |\n",
       "| M       | 0.07864 | 0.08474 | 0.1812  | 1326.0  |\n",
       "| M       | 0.15990 | 0.10960 | 0.2069  | 1203.0  |\n",
       "| M       | 0.28390 | 0.14250 | 0.2597  |  386.1  |\n",
       "| M       | 0.13280 | 0.10030 | 0.1809  | 1297.0  |\n",
       "| M       | 0.17000 | 0.12780 | 0.2087  |  477.1  |\n",
       "| M       | 0.10900 | 0.09463 | 0.1794  | 1040.0  |\n",
       "| M       | 0.16450 | 0.11890 | 0.2196  |  577.9  |\n",
       "| M       | 0.19320 | 0.12730 | 0.2350  |  519.8  |\n",
       "| M       | 0.23960 | 0.11860 | 0.2030  |  475.9  |\n",
       "\n"
      ],
      "text/plain": [
       "   diagnosis compactness smoothness symmetry area  \n",
       "1  M         0.27760     0.11840    0.2419   1001.0\n",
       "2  M         0.07864     0.08474    0.1812   1326.0\n",
       "3  M         0.15990     0.10960    0.2069   1203.0\n",
       "4  M         0.28390     0.14250    0.2597    386.1\n",
       "5  M         0.13280     0.10030    0.1809   1297.0\n",
       "6  M         0.17000     0.12780    0.2087    477.1\n",
       "7  M         0.10900     0.09463    0.1794   1040.0\n",
       "8  M         0.16450     0.11890    0.2196    577.9\n",
       "9  M         0.19320     0.12730    0.2350    519.8\n",
       "10 M         0.23960     0.11860    0.2030    475.9"
      ]
     },
     "metadata": {},
     "output_type": "display_data"
    }
   ],
   "source": [
    "setwd(\"C:\\\\Users\\\\YULY\\\\Desktop\\\\Desktop\\\\UNAL 2018\\\\analisis multivariado\\\\TALLER1FINAL\")\n",
    "databiopsia<-read.csv(\"data.csv\",sep = \",\")\n",
    "\n",
    "#organizando los datos \n",
    "A<-databiopsia[,c(\"diagnosis\",\"compactness_mean\",\"smoothness_mean\",\"symmetry_mean\",\"area_mean\")]\n",
    "databiopsia <- data.frame(A)\n",
    "colnames(databiopsia)<-c(\"diagnosis\", \"compactness\", \"smoothness\",\"symmetry\", \"area\")\n",
    "head(databiopsia, n=10)"
   ]
  },
  {
   "cell_type": "markdown",
   "metadata": {},
   "source": [
    "### Transformando los datos"
   ]
  },
  {
   "cell_type": "code",
   "execution_count": 6,
   "metadata": {},
   "outputs": [
    {
     "name": "stdout",
     "output_type": "stream",
     "text": [
      "'data.frame':\t569 obs. of  5 variables:\n",
      " $ diagnosis  : Factor w/ 2 levels \"B\",\"M\": 2 2 2 2 2 2 2 2 2 2 ...\n",
      " $ compactness: num  0.2776 0.0786 0.1599 0.2839 0.1328 ...\n",
      " $ smoothness : num  0.1184 0.0847 0.1096 0.1425 0.1003 ...\n",
      " $ symmetry   : num  0.242 0.181 0.207 0.26 0.181 ...\n",
      " $ area       : num  1001 1326 1203 386 1297 ...\n"
     ]
    }
   ],
   "source": [
    "library(\"Johnson\")\n",
    "\n",
    "str(databiopsia)\n",
    "x2<-RE.Johnson(databiopsia[,2])\n",
    "x3<-RE.Johnson(databiopsia[,3])\n",
    "x4<-RE.Johnson(databiopsia[,4])\n",
    "x5<-RE.Johnson(databiopsia[,5])\n",
    "databiopsianormada<-data.frame(databiopsia$diagnosis,x2$transformed,x3$transformed,x4$transformed,x5$transformed)\n",
    "colnames(databiopsianormada)<-c(\"diagnosis\", \"compactness\", \"smoothness\",\"symmetry\", \"area\")\n",
    "#xtable(head(databiopsianormada))"
   ]
  },
  {
   "cell_type": "code",
   "execution_count": 19,
   "metadata": {},
   "outputs": [
    {
     "data": {
      "image/png": "[encoded data removed]",
      "text/plain": [
       "Plot with title \"\""
      ]
     },
     "metadata": {},
     "output_type": "display_data"
    },
    {
     "data": {
      "image/png": "[encoded data removed]",
      "text/plain": [
       "Plot with title \"\""
      ]
     },
     "metadata": {},
     "output_type": "display_data"
    }
   ],
   "source": [
    "par(mfrow=c(2,2))\n",
    "\n",
    "hist(x2$transformed,main=\"\",xlab=\"compactness\",border=\"black\",col=\"gray\",las=1,prob = TRUE)\n",
    "#lines(density(x2$transformed),pch = 20)\n",
    "\n",
    "\n",
    "hist(x3$transformed,main=\"\",xlab=\"smoothness\",border=\"black\",col=\"gray\",las=1,prob = TRUE)\n",
    "#lines(density(x3$transformed))\n",
    "\n",
    "\n",
    "hist(x4$transformed,main=\"\",xlab=\"symmetry\",border=\"black\",col=\"gray\",las=1,prob = TRUE)\n",
    "#lines(density(x4$transformed))\n",
    "\n",
    "\n",
    "#hist(x4$transformed,main=\"\",xlab=\"area\",border=\"black\",col=\"gray\",las=1,prob = TRUE)\n",
    "#lines(density(x4$transformed))\n",
    "\n",
    "Result<- mvn(data=databiopsia[,2:4], mvnTest=\"royston\", univariatePlot=\"histogram\")"
   ]
  },
  {
   "cell_type": "markdown",
   "metadata": {},
   "source": [
    "Para determinar si en realidad no son normales se procede a realizar los respectivos QQplot lo cuales se presentan en las siguientes figuras, donde se puede identificar que para todas las variables los datos se encuentran alrededor de la línea recta, lo cual da indicios del cumplimiento del supuesto de normalidad."
   ]
  },
  {
   "cell_type": "code",
   "execution_count": 15,
   "metadata": {},
   "outputs": [
    {
     "data": {
      "text/html": [
       "<ol class=list-inline>\n",
       "\t<li>179</li>\n",
       "\t<li>193</li>\n",
       "</ol>\n"
      ],
      "text/latex": [
       "\\begin{enumerate*}\n",
       "\\item 179\n",
       "\\item 193\n",
       "\\end{enumerate*}\n"
      ],
      "text/markdown": [
       "1. 179\n",
       "2. 193\n",
       "\n",
       "\n"
      ],
      "text/plain": [
       "[1] 179 193"
      ]
     },
     "metadata": {},
     "output_type": "display_data"
    },
    {
     "data": {
      "text/html": [
       "<ol class=list-inline>\n",
       "\t<li>505</li>\n",
       "\t<li>569</li>\n",
       "</ol>\n"
      ],
      "text/latex": [
       "\\begin{enumerate*}\n",
       "\\item 505\n",
       "\\item 569\n",
       "\\end{enumerate*}\n"
      ],
      "text/markdown": [
       "1. 505\n",
       "2. 569\n",
       "\n",
       "\n"
      ],
      "text/plain": [
       "[1] 505 569"
      ]
     },
     "metadata": {},
     "output_type": "display_data"
    },
    {
     "data": {
      "text/html": [
       "<ol class=list-inline>\n",
       "\t<li>562</li>\n",
       "\t<li>26</li>\n",
       "</ol>\n"
      ],
      "text/latex": [
       "\\begin{enumerate*}\n",
       "\\item 562\n",
       "\\item 26\n",
       "\\end{enumerate*}\n"
      ],
      "text/markdown": [
       "1. 562\n",
       "2. 26\n",
       "\n",
       "\n"
      ],
      "text/plain": [
       "[1] 562  26"
      ]
     },
     "metadata": {},
     "output_type": "display_data"
    },
    {
     "data": {
      "image/png": "[encoded data removed]",
      "text/plain": [
       "plot without title"
      ]
     },
     "metadata": {},
     "output_type": "display_data"
    }
   ],
   "source": [
    "library(\"car\")\n",
    "par(mfrow=c(2,2))\n",
    "qqPlot(databiopsianormada$compactness)\n",
    "qqPlot(databiopsianormada$smoothness)\n",
    "qqPlot(databiopsianormada$symmetry)\n",
    "#qqPlot(databiopsianormada$symmetry)"
   ]
  },
  {
   "cell_type": "markdown",
   "metadata": {},
   "source": [
    "Para confirmar este hecho se realizan las pruebas de Shapiro-Wilk (Ver Tabla \\ref{Shapiro2}) para contrastar la hipótesis:\n",
    "\n",
    "$$H_{0}: F_n(w)= N(\\mu_0, \\sigma_0^2) \\hspace{0.9cm} vs \\hspace{0.9cm} H_{1}: F_n(w) \\neq N(\\mu_0, \\sigma_0^2) $$\n",
    "\n",
    "No hay evidencia estadistica para rechazar $H_0$ por lo cual se afirma el hecho de que las distribuciones son normales. "
   ]
  },
  {
   "cell_type": "code",
   "execution_count": 16,
   "metadata": {},
   "outputs": [
    {
     "data": {
      "text/plain": [
       "\n",
       "\tShapiro-Wilk normality test\n",
       "\n",
       "data:  x2$transformed\n",
       "W = 0.99604, p-value = 0.164\n"
      ]
     },
     "metadata": {},
     "output_type": "display_data"
    },
    {
     "data": {
      "text/plain": [
       "\n",
       "\tShapiro-Wilk normality test\n",
       "\n",
       "data:  x3$transformed\n",
       "W = 0.99742, p-value = 0.5249\n"
      ]
     },
     "metadata": {},
     "output_type": "display_data"
    },
    {
     "data": {
      "text/plain": [
       "\n",
       "\tShapiro-Wilk normality test\n",
       "\n",
       "data:  x4$transformed\n",
       "W = 0.99877, p-value = 0.9675\n"
      ]
     },
     "metadata": {},
     "output_type": "display_data"
    }
   ],
   "source": [
    "shapiro.test(x2$transformed)\n",
    "shapiro.test(x3$transformed)\n",
    "shapiro.test(x4$transformed)"
   ]
  },
  {
   "cell_type": "markdown",
   "metadata": {},
   "source": [
    "Conociendo que la normalidad marginal no implica la normalidad multivariada, se genera una prueba ara identificar si las observaciones provienen de una distribucion multivarida. Para probar este hecho tomamos el test de Doornik -\n",
    "Hansen, Royston para probar la hipotesis:"
   ]
  },
  {
   "cell_type": "markdown",
   "metadata": {},
   "source": [
    "* $H_{0}:$ Las observaciones provienen de una distribución normal multivariada\n",
    "\n",
    "vs\n",
    "\n",
    "* $H_{1}:$  Las observaciones NO provienen de una distribución normal multivariada\n"
   ]
  },
  {
   "cell_type": "code",
   "execution_count": 35,
   "metadata": {},
   "outputs": [],
   "source": [
    "# test de normalidad\n",
    "# test de Mardia en MVN\n",
    "library(\"MVN\")\n",
    "#result <- mvn(data = databiopsianormada[,2:4], mvnTest = \"mardia\")\n",
    "#result$multivariateNormality"
   ]
  },
  {
   "cell_type": "code",
   "execution_count": 38,
   "metadata": {},
   "outputs": [
    {
     "data": {
      "text/html": [
       "<dl>\n",
       "\t<dt>$multivariateNormality</dt>\n",
       "\t\t<dd><table>\n",
       "<thead><tr><th scope=col>Test</th><th scope=col>H</th><th scope=col>p value</th><th scope=col>MVN</th></tr></thead>\n",
       "<tbody>\n",
       "\t<tr><td>Royston  </td><td>4.825176 </td><td>0.1826013</td><td>YES      </td></tr>\n",
       "</tbody>\n",
       "</table>\n",
       "</dd>\n",
       "\t<dt>$univariateNormality</dt>\n",
       "\t\t<dd><table>\n",
       "<thead><tr><th scope=col>Test</th><th scope=col>Variable</th><th scope=col>Statistic</th><th scope=col>p value</th><th scope=col>Normality</th></tr></thead>\n",
       "<tbody>\n",
       "\t<tr><td>Cramer-von Mises</td><td>compactness     </td><td>   0.0443       </td><td>   0.6025       </td><td>   YES          </td></tr>\n",
       "\t<tr><td>Cramer-von Mises</td><td>smoothness      </td><td>   0.0367       </td><td>   0.7422       </td><td>   YES          </td></tr>\n",
       "\t<tr><td>Cramer-von Mises</td><td> symmetry       </td><td>   0.0331       </td><td>   0.8014       </td><td>   YES          </td></tr>\n",
       "</tbody>\n",
       "</table>\n",
       "</dd>\n",
       "\t<dt>$Descriptives</dt>\n",
       "\t\t<dd><table>\n",
       "<thead><tr><th></th><th scope=col>n</th><th scope=col>Mean</th><th scope=col>Std.Dev</th><th scope=col>Median</th><th scope=col>Min</th><th scope=col>Max</th><th scope=col>25th</th><th scope=col>75th</th><th scope=col>Skew</th><th scope=col>Kurtosis</th></tr></thead>\n",
       "<tbody>\n",
       "\t<tr><th scope=row>compactness</th><td>569          </td><td>-0.003673381 </td><td>1.0031071    </td><td>-0.0004093934</td><td>-4.390455    </td><td>3.106183     </td><td>-0.6767993   </td><td>0.6510609    </td><td>-0.11297377  </td><td> 0.41421406  </td></tr>\n",
       "\t<tr><th scope=row>smoothness</th><td>569          </td><td> 0.015940710 </td><td>0.9817068    </td><td> 0.0391801831</td><td>-3.759306    </td><td>3.808463     </td><td>-0.6596490   </td><td>0.6793851    </td><td> 0.03091836  </td><td> 0.32663065  </td></tr>\n",
       "\t<tr><th scope=row>symmetry</th><td>569          </td><td>-0.004102453 </td><td>0.9866352    </td><td> 0.0231579142</td><td>-3.107005    </td><td>3.039816     </td><td>-0.7030849   </td><td>0.6284246    </td><td> 0.03755777  </td><td>-0.04953545  </td></tr>\n",
       "</tbody>\n",
       "</table>\n",
       "</dd>\n",
       "</dl>\n"
      ],
      "text/latex": [
       "\\begin{description}\n",
       "\\item[\\$multivariateNormality] \\begin{tabular}{r|llll}\n",
       " Test & H & p value & MVN\\\\\n",
       "\\hline\n",
       "\t Royston   & 4.825176  & 0.1826013 & YES      \\\\\n",
       "\\end{tabular}\n",
       "\n",
       "\\item[\\$univariateNormality] \\begin{tabular}{r|lllll}\n",
       " Test & Variable & Statistic & p value & Normality\\\\\n",
       "\\hline\n",
       "\t Cramer-von Mises & compactness      &    0.0443        &    0.6025        &    YES          \\\\\n",
       "\t Cramer-von Mises & smoothness       &    0.0367        &    0.7422        &    YES          \\\\\n",
       "\t Cramer-von Mises &  symmetry        &    0.0331        &    0.8014        &    YES          \\\\\n",
       "\\end{tabular}\n",
       "\n",
       "\\item[\\$Descriptives] \\begin{tabular}{r|llllllllll}\n",
       "  & n & Mean & Std.Dev & Median & Min & Max & 25th & 75th & Skew & Kurtosis\\\\\n",
       "\\hline\n",
       "\tcompactness & 569           & -0.003673381  & 1.0031071     & -0.0004093934 & -4.390455     & 3.106183      & -0.6767993    & 0.6510609     & -0.11297377   &  0.41421406  \\\\\n",
       "\tsmoothness & 569           &  0.015940710  & 0.9817068     &  0.0391801831 & -3.759306     & 3.808463      & -0.6596490    & 0.6793851     &  0.03091836   &  0.32663065  \\\\\n",
       "\tsymmetry & 569           & -0.004102453  & 0.9866352     &  0.0231579142 & -3.107005     & 3.039816      & -0.7030849    & 0.6284246     &  0.03755777   & -0.04953545  \\\\\n",
       "\\end{tabular}\n",
       "\n",
       "\\end{description}\n"
      ],
      "text/markdown": [
       "$multivariateNormality\n",
       ":   \n",
       "| Test | H | p value | MVN |\n",
       "|---|---|---|---|\n",
       "| Royston   | 4.825176  | 0.1826013 | YES       |\n",
       "\n",
       "\n",
       "$univariateNormality\n",
       ":   \n",
       "| Test | Variable | Statistic | p value | Normality |\n",
       "|---|---|---|---|---|\n",
       "| Cramer-von Mises | compactness      |    0.0443        |    0.6025        |    YES           |\n",
       "| Cramer-von Mises | smoothness       |    0.0367        |    0.7422        |    YES           |\n",
       "| Cramer-von Mises |  symmetry        |    0.0331        |    0.8014        |    YES           |\n",
       "\n",
       "\n",
       "$Descriptives\n",
       ":   \n",
       "| <!--/--> | n | Mean | Std.Dev | Median | Min | Max | 25th | 75th | Skew | Kurtosis |\n",
       "|---|---|---|---|---|---|---|---|---|---|---|\n",
       "| compactness | 569           | -0.003673381  | 1.0031071     | -0.0004093934 | -4.390455     | 3.106183      | -0.6767993    | 0.6510609     | -0.11297377   |  0.41421406   |\n",
       "| smoothness | 569           |  0.015940710  | 0.9817068     |  0.0391801831 | -3.759306     | 3.808463      | -0.6596490    | 0.6793851     |  0.03091836   |  0.32663065   |\n",
       "| symmetry | 569           | -0.004102453  | 0.9866352     |  0.0231579142 | -3.107005     | 3.039816      | -0.7030849    | 0.6284246     |  0.03755777   | -0.04953545   |\n",
       "\n",
       "\n",
       "\n",
       "\n"
      ],
      "text/plain": [
       "$multivariateNormality\n",
       "     Test        H   p value MVN\n",
       "1 Royston 4.825176 0.1826013 YES\n",
       "\n",
       "$univariateNormality\n",
       "              Test    Variable Statistic   p value Normality\n",
       "1 Cramer-von Mises compactness    0.0443    0.6025    YES   \n",
       "2 Cramer-von Mises smoothness     0.0367    0.7422    YES   \n",
       "3 Cramer-von Mises  symmetry      0.0331    0.8014    YES   \n",
       "\n",
       "$Descriptives\n",
       "              n         Mean   Std.Dev        Median       Min      Max\n",
       "compactness 569 -0.003673381 1.0031071 -0.0004093934 -4.390455 3.106183\n",
       "smoothness  569  0.015940710 0.9817068  0.0391801831 -3.759306 3.808463\n",
       "symmetry    569 -0.004102453 0.9866352  0.0231579142 -3.107005 3.039816\n",
       "                  25th      75th        Skew    Kurtosis\n",
       "compactness -0.6767993 0.6510609 -0.11297377  0.41421406\n",
       "smoothness  -0.6596490 0.6793851  0.03091836  0.32663065\n",
       "symmetry    -0.7030849 0.6284246  0.03755777 -0.04953545\n"
      ]
     },
     "metadata": {},
     "output_type": "display_data"
    }
   ],
   "source": [
    "result <- mvn(data = databiopsianormada[,2:4], mvnTest = \"royston\", univariateTest = \"CVM\", desc = TRUE)\n",
    "result"
   ]
  },
  {
   "cell_type": "markdown",
   "metadata": {},
   "source": [
    "luego obserevando la tabla anterior para un nivel de significancia de $\\alpha$ = 5\\% se rechaza $H_0$ para la prueba Royston, y no se rechaza $H_0$ para la prueba Royston, esto no certifica que se rechace $H_0$, sin embargo se considerará que provienen de una distribución 3-variada para hacer inferencias considerando que el número de observaciones es grande. "
   ]
  },
  {
   "cell_type": "markdown",
   "metadata": {},
   "source": [
    "No obstante, al considerar la normalidad de las observaciones, se tiene que: \n",
    "dados ${\\bf x_1,x_2,x_3, ... x_n }$ cada una con ${\\bf c/X_i \\sim N_p(\\pmb{\\mu}, \\Sigma )}$, considerando la siguiente hipótesis entre el vector de medias:\n",
    "\n",
    "\n",
    "$$H_{0}:\\pmb{\\mu}= \\pmb{\\mu_0} \\hspace{0.9cm} vs \\hspace{0.9cm} H_{1}: \\pmb{\\mu} \\neq \\pmb{\\mu_0}$$"
   ]
  },
  {
   "cell_type": "markdown",
   "metadata": {},
   "source": [
    "Se tiene la siguiente estadística de prueba:\n",
    "\n",
    "$$     T^2 = {(\\pmb{\\overline{x}-\\mu_0})}' \\Sigma ^{-1} \n",
    "(\\pmb{\\overline{x}-\\mu_0})     $$\n",
    "\n",
    "Sin embargo, considerando que disponemos de la matriz de varianzas y covarianzas muestral, se tiene:\n",
    "\n",
    "$$     T^2 = {(\\pmb{\\overline{x}-\\mu_0})}' \\left ( \\frac{\\pmb{S}}{n} \\right )^{-1} (\\pmb{\\overline{x}-\\mu_0})  $$\n",
    "\n",
    "$$     T^2 = {\\sqrt{n}(\\pmb{\\overline{x}-\\mu_0})}' \\pmb{S}^{-1} (\\pmb{\\overline{x}-\\mu_0} )\\sqrt{n}  \\hspace{0.5cm}  \\sim  \\hspace{0.5cm} T^2_{p,n-1}   $$\n",
    "\n",
    "Donde \n",
    "$$T^2_{p,n-1} = \\frac{(n-1)p}{n-p}F_{p,n-p}$$\n",
    "\n",
    "Considerando lo anterior y conociendo que el conjunto de observaciones es grande puesto que n=569, se establece inferencias con respecto al vector de medias considerando el teorema del límite central (TCL):\\\\\n",
    "\n",
    "Sean ${\\bf x_1,x_2,x_3, ... x_n }$ vectores aleatorios (una m.a) independiente igualmente distribuida:  $\\pmb{\\overline{X}}\\sim N_p(\\pmb{\\mu}, \\pmb{\\Sigma}/n )$ considerando la siguiente hipótesis entre el vector de medias:\n",
    "\n",
    " $$H_{0}:\\pmb{\\mu}= \\pmb{\\mu_0} \\hspace{0.9cm} vs \\hspace{0.9cm} H_{1}: \\pmb{\\mu} \\neq \\pmb{\\mu_0}$$\n",
    " \n",
    " $$     T^2 = {n(\\pmb{\\overline{x}-\\mu_0})}' \\pmb{S}^{-1} (\\pmb{\\overline{x}-\\mu_0} )\\leqslant c^2  \\hspace{0.9cm};\\hspace{0.9cm}     c^2|_{H_0} \\hspace{0.2cm}   \\sim  \\hspace{0.2cm} \\chi^2_{p}   $$"
   ]
  },
  {
   "cell_type": "markdown",
   "metadata": {},
   "source": [
    "### Intervalos de confianza"
   ]
  },
  {
   "cell_type": "markdown",
   "metadata": {},
   "source": [
    "Considerando que ${\\bf x_1,x_2,x_3, ... x_n }$  son observaciones de una distribución 3-variada con vector de medias $\\pmb{ \\overline{x}}$ y matriz de covarianza definida positiva $\\Sigma$, se tiene:\n",
    "\n",
    "$$\\pmb{a}'\\pmb{\\overline{x}} \\pm \\sqrt{\\chi^2_{p}}\\sqrt{\\frac{\\pmb{a}'S \\pmb{a}}{n}} $$\n",
    "\n",
    "Por consiguiente intervalos de confianza simultaneos están determinados por:"
   ]
  },
  {
   "cell_type": "markdown",
   "metadata": {},
   "source": [
    "\n",
    "$$\\pmb{ \\overline{x}}'=\\begin{bmatrix}\n",
    "\\overline{x}_1\\;\\;,& \\overline{x}_2 \\;\\;,& \\overline{x}_3\n",
    "\\end{bmatrix}\\;\\;\\;=\\begin{bmatrix}\n",
    "0.10434 \\;\\;,& 0.09636 \\;\\;,& 0.18116\n",
    "\\end{bmatrix}\n",
    "$$\n",
    "\n",
    "$$\n",
    "\\pmb{S}=\\begin{bmatrix}\n",
    "0.002784 & 0.000488 & 0.000870\\\\ \n",
    "0.000488 & 0.000197 & 0.000214 \\\\ \n",
    "0.000870 & 0.000214 & 0.000750\n",
    "\\end{bmatrix} \\;\\;\\;\\;\\; {\\bf R}=\\begin{bmatrix}\n",
    "1 & 0.659 & 0.602 \\\\ \n",
    "0.659 & 1 & 0.577 \\\\ \n",
    "0.602 & 0.577 & 1\n",
    "\\end{bmatrix}\n",
    "$$\n"
   ]
  },
  {
   "cell_type": "markdown",
   "metadata": {},
   "source": [
    "Intervalos de confianza del 95\\% de confianza están determinados por: ${\\overline{x}_i} \\pm \\sqrt{\\chi^2_{3}(0.05)}\\sqrt{\\frac{s_{ii}}{n}}$ donde $\\chi^2_{3}(0.05)=7.81$, por lo tanto intervalos de confianza aproximados están dados por:\n",
    "\n",
    "\n",
    "\n",
    "* $0.104 \\pm \\sqrt{7.81}\\sqrt{\\frac{0.002}{569}} \\hspace{0.9cm}$ contiene $\\mu_1 \\hspace{0.3cm}$ o  $\\hspace{0.9cm}  0.08705418  \\leqslant \\mu_1 \\leqslant 0.1216278 $\n",
    "* $0.096 \\pm \\sqrt{7.81}\\sqrt{\\frac{0.0001}{569}} \\hspace{0.9cm}$ contiene $\\mu_2 \\hspace{0.3cm}$ o  $\\hspace{0.9cm}  0.09175678  \\leqslant \\mu_2 \\leqslant 0.1009638 $\n",
    "* $0.181 \\pm \\sqrt{7.81}\\sqrt{\\frac{0.000750}{569}} \\hspace{0.9cm}$ contiene $\\mu_3 \\hspace{0.3cm}$ o  $\\hspace{0.9cm}  0.1721886  \\leqslant \\mu_3 \\leqslant 0.1901352 $"
   ]
  },
  {
   "cell_type": "markdown",
   "metadata": {},
   "source": [
    "Con respecto a lo anterior se puede afirmar que con un nivel de confianza del 95\\% la media de la variable compacidad está entre  0.08705418 y   0.1216278, para la variable suavidad su media poblacional está entre 0.09175678 y  0.1009638, finalmente para la variable simetría se tiene que un intervalo de confianza del 95\\% para $\\mu_3$ está entre 0.1721886 y  0.1901352."
   ]
  },
  {
   "cell_type": "code",
   "execution_count": 41,
   "metadata": {},
   "outputs": [],
   "source": [
    "a<-as.matrix(databiopsianormada[,2:4])\n",
    "n<-dim(a)[1]\n",
    "p<-dim(a)[2]\n",
    "aa<-colMeans(a)\n",
    "d<-diag(1,n,n) \n",
    "u<-matrix(rep(1,n*n),ncol = n)\n",
    "c<-1/n\n",
    "mono<-a-c*(u%*%a)\n",
    "s<-c*(t(mono)%*%mono)     #matriz var y cov\n",
    "\n",
    "di<-diag(1/sqrt(diag(s)),dim(s)[1],dim(s)[1])    #s_j es la raiz cuadrada de la varianza \n",
    "r<-di%*%(s%*%di)      #matriz correlacion"
   ]
  },
  {
   "cell_type": "code",
   "execution_count": null,
   "metadata": {},
   "outputs": [],
   "source": []
  },
  {
   "cell_type": "markdown",
   "metadata": {},
   "source": [
    "# Referencias\n",
    "\n",
    "* Chebana, F., y Ouarda, T. B. (2011). Depth‐based multivariate descriptive statistics with hydrological applications. Journal of Geophysical Research: Atmospheres, 116(D10).\n",
    "    \n",
    "* Cruz, N. y Martinez de Larios, N. (2002). La biopsia por aspiración con aguja fina en glándula mamaria: diagnostico citológico y concordancia histológica y clínica. Rev Hospital General M Gea Gonzáles, 5, 79-84.\n",
    "    \n",
    "* Dua, D. y Graff, C. (2019). Repositorio de aprendizaje automático de la UCI. Irvine, CA: Escuela de Información y Ciencias de la Computación. Universidad de California. disponible en: https://archive.ics.uci.edu/ml/datasets/Breast+Cancer+Wisconsin+%28Diagnostic%29\n",
    "    \n",
    "* Hubert, M., y Debruyne, M. (2010). Minimum covariance determinant. Wiley interdisciplinary reviews: Computational statistics, 2(1), 36-43.\n",
    "    \n",
    "* Johnson, R, y  Wichern, D. (2002).  \\textit{\".Applied multivariate statistical analysis\"} (Vol. 5, No. 8). Upper Saddle River, NJ: Prentice hall.\n",
    "    \n",
    "* Korkmaz, S. Goksuluk, D. y Zararsiz, G. (2014). MVN: An R package for assessing multivariate normality. The R Journal, 6(2), 151-162. https://journal.r-project.org/archive/2014/RJ-2014-031/RJ-2014-031.pdf\n",
    "    \n",
    "* Liu, R., Parelius, J y  Singh, K. (1999). Multivariate analysis by data depth: descriptive statistics, graphics and inference,(with discussion and a rejoinder by Liu and Singh). The annals of statistics, 27(3), 783-858.\n",
    "\n",
    "* López, A. (2010). Similaridad y contraste mediante profundidad estadística (Doctoral dissertation, Tesis doctoral).https://core.ac.uk/download/pdf/29401738.pdf\n",
    "\n",
    "* Mathematical Programming in Machine (2001). Grupo de optimización del Departamento de Ciencias informáticas de la Universidad de Wisconsin-Madison. datos Wisconsin Breast Cancer DatabaseDisponible en: \n",
    "http://pages.cs.wisc.edu/~olvi/uwmp/mpml.html\n",
    "\n",
    "* Melo, O., López, L y Melo, S (2018). \"Diseño de Experimentos-Métodos y Aplicaciones\". Universidad Nacional de Colombia.\n",
    "\n",
    "* Pokotylo, O., Mozharovskyi, P., Dyckerhoff, R. (2016). Depth and depth-based classification with R-package ddalpha.       \n",
    "\n",
    "* Rousseeuw, P. J., Ruts, I., y Tukey, J. W. (1999). The bagplot: a bivariate boxplot. The American Statistician, 53(4), 382-387.\n",
    "\n",
    "* Serfling, R. (2004). Nonparametric multivariate descriptive measures based on spatial quantiles. Journal of statistical Planning and Inference, 123(2), 259-278.\n",
    "\n",
    "* Zuo, Y., y  Serfling, R. (2000). General notions of statistical depth function. Annals of statistics, 461-482."
   ]
  },
  {
   "cell_type": "markdown",
   "metadata": {},
   "source": [
    "# NOTA\n",
    "\n",
    "* Para conocer más de las pruebas Estadísticas multivariadas, observar: https://rpubs.com/edgarcarpio/562854"
   ]
  }
 ],
 "metadata": {
  "kernelspec": {
   "display_name": "R",
   "language": "R",
   "name": "ir"
  },
  "language_info": {
   "codemirror_mode": "r",
   "file_extension": ".r",
   "mimetype": "text/x-r-source",
   "name": "R",
   "pygments_lexer": "r",
   "version": "3.6.1"
  }
 },
 "nbformat": 4,
 "nbformat_minor": 4
}
