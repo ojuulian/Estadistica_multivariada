{
 "cells": [
  {
   "cell_type": "markdown",
   "metadata": {},
   "source": [
    "<img src=\"./unal.png\" align=left width=\"150\" height=\"150\"></img>\n",
    "\n",
    "\n",
    "\n",
    "$\\,$\n",
    "---\n",
    "\n",
    "<h2 align=\"center\">DIAGNÓSTICO DEL CÁNCER DE MAMA EN EL ESTADO DE WISCONSIN</h2>\n",
    "<h3 align=\"center\">ANÁLISIS MULTIVARIADO (Método no paramétrico basado en profundidad) </h3>\n",
    "\n",
    "\n",
    "### \n",
    "\n",
    "---"
   ]
  },
  {
   "cell_type": "markdown",
   "metadata": {},
   "source": [
    "Teniendo en cuenta que el análisis multivariado clásico se basa en gran medida en diversos supuestos como el de la normalidad, existen muchas situaciones en la que su cumplimiento es de poca frecuencia y más si se tratase en su forma multivariada, actualmente existe otro tipo enfoque para abordar este tipo de problemas como lo es el enfoque no paramétrico basado en profundidad,  el cual será abordado en su parte fundamental en el análisis de los diagnósticos de cáncer de Wisconsin. Además se de ser parte articulador permitirá como lo señala Liu, R., Parelius, J. y  Singh, K. (1999) en determinar características cuantitativas, gráficas multivariadas de distribución junto con métodos de inferencia.\n",
    "\n",
    "Para realizar una descripción de la distribución multivariante,  surge principalmente el problema de poder determinar una forma de ordenación entre objetos de $R^p$, esta necesidad conlleva el gran aporte del concepto de profundidad el cual según Zuo y Serfling. (2000) es una función D (x; P) que proporciona una ordenación hacia el centro.  Tukey (1975) uno de los pioneros en este campo propone una profundidad de **medio espacio** y sugiere su papel en la definición de estadísticas multivariadas de orden y rango univariable a través de **contornos**  inducidos por la profundidad.(p.1). Por consiguiente se presenta la siguiente definición la cual sera artifice de los procedimientos subsecuentes:\n",
    "\n",
    "**Función de profundidad**: Dada una distribución de probabilidad P en $R^d$, una función de profundidad es una función acotada  que asigna a cada punto de $R^d$ su grado de centralidad respecto de P.\n",
    "$$D\\left ( \\;. \\; ; P \\right ) : \\;R^d \\; \\mapsto \\;[0,1]$$ \n",
    "La función suele llamarse de profundidad se satisface las siguientes propiedades: "
   ]
  },
  {
   "cell_type": "markdown",
   "metadata": {},
   "source": [
    "* $D(Ax+b ; P_{AX+b})=D(x;P_x)$ para cualquier x en $R^{d}$, cualquier matriz de dimensión $d\\times d$ no singular y cualquier vector b de dimensión d, donde donde $F_x$ es la función de distribución del vector aleatorio X.\n",
    "* $Lim_{\\left \\| x \\right \\| \\rightarrow \\infty } = D(x;P)=0$. \n",
    "* $D(\\theta ; P) Sup_{x \\in R^d}D(x ; P)$ Para todo P con $\\theta$ el centro.\n",
    "* Si $\\theta$ es el punto con mayor profundidad entonces: $D(x;P) \\leqslant D(\\theta + \\lambda(x-\\theta);P)$ para cualquier $0 \\leq  \\lambda \\leq  1$.\n",
    "*  El conjunto de puntos cuya profundidad es al menos $\\alpha$ es cerrado. $D_{\\alpha}=D_{\\alpha}(P)= \\left \\{ x\\in R^d : D(x;P) \\geq  \\alpha \\right \\}$, $D_{\\alpha}$ constituye una región central y aveces se le considera $\\alpha- trimmed$."
   ]
  },
  {
   "cell_type": "markdown",
   "metadata": {},
   "source": [
    "La Profundidad de datos y ordenación de observaciones multivariadas puede realizarse por medio de cualquier función de profundidad, de las cuales se destacan:"
   ]
  },
  {
   "cell_type": "markdown",
   "metadata": {},
   "source": [
    "**Función profundidad Mahalanobis $M_{MAH}$** está definida como:\n",
    " \n",
    "\\begin{equation*}\n",
    " M_{MAH}(x;P) = \\left [1+ (x- \\mu) \\sum\\nolimits_{F}^{-1} (x- \\mu)\\right ]^{-1} \n",
    "\\end{equation*}\n",
    "\n",
    "Donde $\\mu$ y $\\sum\\nolimits_{F} $ son el vector de medias y la matriz de dispersión de F respectivamente. La versión muestral de $M_{H} D $ es obtenida remplazando $\\mu_F$ y $\\sum\\nolimits_{F} $ por sus estimaciones muestrales."
   ]
  },
  {
   "cell_type": "markdown",
   "metadata": {},
   "source": [
    "**Función profundidad Euclidiana $D_{EUK}$** está definida como:\n",
    "\n",
    "\\begin{equation*}\n",
    "  D_{EUK}(x;P) = \\left [1+ \\left \\| x -\\overline{x} \\right \\|\\right ]^{-1} \n",
    "\\end{equation*}"
   ]
  },
  {
   "cell_type": "markdown",
   "metadata": {},
   "source": [
    "**Projection depth** $ D(x,P)_{PRO}$ Para todo $x \\in R^d$ con $d>1$\n",
    "\n",
    "\\begin{equation*}\n",
    "  PD_{F}(x)= \\left [ 1+ sup_{||u||=1}\n",
    "\\frac{|u^{'}x-Med(u^{'} X)|}{MAD(u^{'}X)}\\right ]^{-1}\n",
    "\\end{equation*}"
   ]
  },
  {
   "cell_type": "markdown",
   "metadata": {},
   "source": [
    "A continuación se presentan las distancias por medio de las funciones Mhalanobis, Euclidea, Profundidad y de Tuckey:\n"
   ]
  },
  {
   "cell_type": "code",
   "execution_count": 2,
   "metadata": {},
   "outputs": [
    {
     "data": {
      "text/html": [
       "<table>\n",
       "<thead><tr><th scope=col>diagnosis</th><th scope=col>compactness</th><th scope=col>smoothness</th><th scope=col>symmetry</th><th scope=col>area</th></tr></thead>\n",
       "<tbody>\n",
       "\t<tr><td>M      </td><td>0.27760</td><td>0.11840</td><td>0.2419 </td><td>1001.0 </td></tr>\n",
       "\t<tr><td>M      </td><td>0.07864</td><td>0.08474</td><td>0.1812 </td><td>1326.0 </td></tr>\n",
       "\t<tr><td>M      </td><td>0.15990</td><td>0.10960</td><td>0.2069 </td><td>1203.0 </td></tr>\n",
       "\t<tr><td>M      </td><td>0.28390</td><td>0.14250</td><td>0.2597 </td><td> 386.1 </td></tr>\n",
       "\t<tr><td>M      </td><td>0.13280</td><td>0.10030</td><td>0.1809 </td><td>1297.0 </td></tr>\n",
       "\t<tr><td>M      </td><td>0.17000</td><td>0.12780</td><td>0.2087 </td><td> 477.1 </td></tr>\n",
       "\t<tr><td>M      </td><td>0.10900</td><td>0.09463</td><td>0.1794 </td><td>1040.0 </td></tr>\n",
       "\t<tr><td>M      </td><td>0.16450</td><td>0.11890</td><td>0.2196 </td><td> 577.9 </td></tr>\n",
       "\t<tr><td>M      </td><td>0.19320</td><td>0.12730</td><td>0.2350 </td><td> 519.8 </td></tr>\n",
       "\t<tr><td>M      </td><td>0.23960</td><td>0.11860</td><td>0.2030 </td><td> 475.9 </td></tr>\n",
       "</tbody>\n",
       "</table>\n"
      ],
      "text/latex": [
       "\\begin{tabular}{r|lllll}\n",
       " diagnosis & compactness & smoothness & symmetry & area\\\\\n",
       "\\hline\n",
       "\t M       & 0.27760 & 0.11840 & 0.2419  & 1001.0 \\\\\n",
       "\t M       & 0.07864 & 0.08474 & 0.1812  & 1326.0 \\\\\n",
       "\t M       & 0.15990 & 0.10960 & 0.2069  & 1203.0 \\\\\n",
       "\t M       & 0.28390 & 0.14250 & 0.2597  &  386.1 \\\\\n",
       "\t M       & 0.13280 & 0.10030 & 0.1809  & 1297.0 \\\\\n",
       "\t M       & 0.17000 & 0.12780 & 0.2087  &  477.1 \\\\\n",
       "\t M       & 0.10900 & 0.09463 & 0.1794  & 1040.0 \\\\\n",
       "\t M       & 0.16450 & 0.11890 & 0.2196  &  577.9 \\\\\n",
       "\t M       & 0.19320 & 0.12730 & 0.2350  &  519.8 \\\\\n",
       "\t M       & 0.23960 & 0.11860 & 0.2030  &  475.9 \\\\\n",
       "\\end{tabular}\n"
      ],
      "text/markdown": [
       "\n",
       "| diagnosis | compactness | smoothness | symmetry | area |\n",
       "|---|---|---|---|---|\n",
       "| M       | 0.27760 | 0.11840 | 0.2419  | 1001.0  |\n",
       "| M       | 0.07864 | 0.08474 | 0.1812  | 1326.0  |\n",
       "| M       | 0.15990 | 0.10960 | 0.2069  | 1203.0  |\n",
       "| M       | 0.28390 | 0.14250 | 0.2597  |  386.1  |\n",
       "| M       | 0.13280 | 0.10030 | 0.1809  | 1297.0  |\n",
       "| M       | 0.17000 | 0.12780 | 0.2087  |  477.1  |\n",
       "| M       | 0.10900 | 0.09463 | 0.1794  | 1040.0  |\n",
       "| M       | 0.16450 | 0.11890 | 0.2196  |  577.9  |\n",
       "| M       | 0.19320 | 0.12730 | 0.2350  |  519.8  |\n",
       "| M       | 0.23960 | 0.11860 | 0.2030  |  475.9  |\n",
       "\n"
      ],
      "text/plain": [
       "   diagnosis compactness smoothness symmetry area  \n",
       "1  M         0.27760     0.11840    0.2419   1001.0\n",
       "2  M         0.07864     0.08474    0.1812   1326.0\n",
       "3  M         0.15990     0.10960    0.2069   1203.0\n",
       "4  M         0.28390     0.14250    0.2597    386.1\n",
       "5  M         0.13280     0.10030    0.1809   1297.0\n",
       "6  M         0.17000     0.12780    0.2087    477.1\n",
       "7  M         0.10900     0.09463    0.1794   1040.0\n",
       "8  M         0.16450     0.11890    0.2196    577.9\n",
       "9  M         0.19320     0.12730    0.2350    519.8\n",
       "10 M         0.23960     0.11860    0.2030    475.9"
      ]
     },
     "metadata": {},
     "output_type": "display_data"
    }
   ],
   "source": [
    "setwd(\"C:\\\\Users\\\\analisis multivariado\\\\TALLER1FINAL\")\n",
    "databiopsia<-read.csv(\"data.csv\",sep = \",\")\n",
    "\n",
    "#organizando los datos \n",
    "A<-databiopsia[,c(\"diagnosis\",\"compactness_mean\",\"smoothness_mean\",\"symmetry_mean\",\"area_mean\")]\n",
    "databiopsia <- data.frame(A)\n",
    "colnames(databiopsia)<-c(\"diagnosis\", \"compactness\", \"smoothness\",\"symmetry\", \"area\")\n",
    "head(databiopsia, n=10)"
   ]
  },
  {
   "cell_type": "code",
   "execution_count": 11,
   "metadata": {},
   "outputs": [
    {
     "data": {
      "text/html": [
       "<dl class=dl-horizontal>\n",
       "\t<dt>compactness</dt>\n",
       "\t\t<dd>0.1022</dd>\n",
       "\t<dt>smoothness</dt>\n",
       "\t\t<dd>0.09428</dd>\n",
       "\t<dt>symmetry</dt>\n",
       "\t\t<dd>0.1769</dd>\n",
       "</dl>\n"
      ],
      "text/latex": [
       "\\begin{description*}\n",
       "\\item[compactness] 0.1022\n",
       "\\item[smoothness] 0.09428\n",
       "\\item[symmetry] 0.1769\n",
       "\\end{description*}\n"
      ],
      "text/markdown": [
       "compactness\n",
       ":   0.1022smoothness\n",
       ":   0.09428symmetry\n",
       ":   0.1769\n",
       "\n"
      ],
      "text/plain": [
       "compactness  smoothness    symmetry \n",
       "    0.10220     0.09428     0.17690 "
      ]
     },
     "metadata": {},
     "output_type": "display_data"
    }
   ],
   "source": [
    "                            #-------------------------------------\n",
    "                            #     Funciones de  Profundidad\n",
    "                            #------------------------------------\n",
    "\n",
    "require(DepthProc)\n",
    "\n",
    "x<-as.matrix(databiopsia[,2:4])\n",
    "#----------Euclidean Depth \n",
    "Euc<-depthEuclid(x, x);  D.Euclid<-Euc[1:20]\n",
    "Mah<-depthMah(x, x);   D.Mah<-Mah[1:20]\n",
    "\n",
    "#------------Depth median\n",
    "a<-depthMedian(x, depth_params = list(method = \"Euclidean\")) # mediana de la medida depth\n",
    "b<-depthMedian(x, depth_params = list(method = \"Mahalanobis\"))\n",
    "depthMedian(x, depth_params = list(method = \"Tukey\"))\n",
    "d<-depthMedian(x, depth_params = list(method = \"Projection\"))\n"
   ]
  },
  {
   "cell_type": "code",
   "execution_count": 4,
   "metadata": {},
   "outputs": [
    {
     "data": {
      "text/html": [
       "<dl class=dl-horizontal>\n",
       "\t<dt>compactness</dt>\n",
       "\t\t<dd>0.1034</dd>\n",
       "\t<dt>smoothness</dt>\n",
       "\t\t<dd>0.0978</dd>\n",
       "\t<dt>symmetry</dt>\n",
       "\t\t<dd>0.1752</dd>\n",
       "</dl>\n"
      ],
      "text/latex": [
       "\\begin{description*}\n",
       "\\item[compactness] 0.1034\n",
       "\\item[smoothness] 0.0978\n",
       "\\item[symmetry] 0.1752\n",
       "\\end{description*}\n"
      ],
      "text/markdown": [
       "compactness\n",
       ":   0.1034smoothness\n",
       ":   0.0978symmetry\n",
       ":   0.1752\n",
       "\n"
      ],
      "text/plain": [
       "compactness  smoothness    symmetry \n",
       "     0.1034      0.0978      0.1752 "
      ]
     },
     "metadata": {},
     "output_type": "display_data"
    },
    {
     "name": "stderr",
     "output_type": "stream",
     "text": [
      "Loading required package: xtable\n"
     ]
    },
    {
     "data": {
      "text/html": [
       "<table>\n",
       "<thead><tr><th scope=col>D.Euclid</th><th scope=col>D.Mah</th><th scope=col>D.Poyeccion</th><th scope=col>D.Tuckey</th></tr></thead>\n",
       "<tbody>\n",
       "\t<tr><td>0.9669370  </td><td>0.07892719 </td><td>0.1301524  </td><td>0.005272408</td></tr>\n",
       "\t<tr><td>0.9992051  </td><td>0.49669069 </td><td>0.3741843  </td><td>0.154657293</td></tr>\n",
       "\t<tr><td>0.9960908  </td><td>0.43319474 </td><td>0.2959186  </td><td>0.117750439</td></tr>\n",
       "\t<tr><td>0.9610408  </td><td>0.06698156 </td><td>0.1316273  </td><td>0.003514938</td></tr>\n",
       "\t<tr><td>0.9991752  </td><td>0.68211689 </td><td>0.4149668  </td><td>0.205623902</td></tr>\n",
       "\t<tr><td>0.9939786  </td><td>0.16320244 </td><td>0.2219262  </td><td>0.014059754</td></tr>\n",
       "\t<tr><td>0.9999722  </td><td>0.93180339 </td><td>0.5561388  </td><td>0.332161687</td></tr>\n",
       "\t<tr><td>0.9944266  </td><td>0.25250732 </td><td>0.2646482  </td><td>0.047451670</td></tr>\n",
       "\t<tr><td>0.9883848  </td><td>0.15086609 </td><td>0.2074934  </td><td>0.015817223</td></tr>\n",
       "\t<tr><td>0.9810977  </td><td>0.11837467 </td><td>0.1694970  </td><td>0.005272408</td></tr>\n",
       "\t<tr><td>0.9975794  </td><td>0.42032828 </td><td>0.3598718  </td><td>0.087873462</td></tr>\n",
       "\t<tr><td>0.9993726  </td><td>0.73759902 </td><td>0.4008646  </td><td>0.217926186</td></tr>\n",
       "\t<tr><td>0.9770983  </td><td>0.06698109 </td><td>0.1223476  </td><td>0.003514938</td></tr>\n",
       "\t<tr><td>0.9998178  </td><td>0.40008033 </td><td>0.3321321  </td><td>0.094903339</td></tr>\n",
       "\t<tr><td>0.9837123  </td><td>0.14111304 </td><td>0.1745395  </td><td>0.021089631</td></tr>\n",
       "\t<tr><td>0.9942683  </td><td>0.22993535 </td><td>0.2446318  </td><td>0.036906854</td></tr>\n",
       "\t<tr><td>0.9984421  </td><td>0.38681308 </td><td>0.3410456  </td><td>0.065026362</td></tr>\n",
       "\t<tr><td>0.9888809  </td><td>0.21943701 </td><td>0.2107890  </td><td>0.042179262</td></tr>\n",
       "\t<tr><td>0.9994665  </td><td>0.43319700 </td><td>0.3543255  </td><td>0.098418278</td></tr>\n",
       "\t<tr><td>0.9994131  </td><td>0.56910701 </td><td>0.3825287  </td><td>0.152899824</td></tr>\n",
       "</tbody>\n",
       "</table>\n"
      ],
      "text/latex": [
       "\\begin{tabular}{r|llll}\n",
       " D.Euclid & D.Mah & D.Poyeccion & D.Tuckey\\\\\n",
       "\\hline\n",
       "\t 0.9669370   & 0.07892719  & 0.1301524   & 0.005272408\\\\\n",
       "\t 0.9992051   & 0.49669069  & 0.3741843   & 0.154657293\\\\\n",
       "\t 0.9960908   & 0.43319474  & 0.2959186   & 0.117750439\\\\\n",
       "\t 0.9610408   & 0.06698156  & 0.1316273   & 0.003514938\\\\\n",
       "\t 0.9991752   & 0.68211689  & 0.4149668   & 0.205623902\\\\\n",
       "\t 0.9939786   & 0.16320244  & 0.2219262   & 0.014059754\\\\\n",
       "\t 0.9999722   & 0.93180339  & 0.5561388   & 0.332161687\\\\\n",
       "\t 0.9944266   & 0.25250732  & 0.2646482   & 0.047451670\\\\\n",
       "\t 0.9883848   & 0.15086609  & 0.2074934   & 0.015817223\\\\\n",
       "\t 0.9810977   & 0.11837467  & 0.1694970   & 0.005272408\\\\\n",
       "\t 0.9975794   & 0.42032828  & 0.3598718   & 0.087873462\\\\\n",
       "\t 0.9993726   & 0.73759902  & 0.4008646   & 0.217926186\\\\\n",
       "\t 0.9770983   & 0.06698109  & 0.1223476   & 0.003514938\\\\\n",
       "\t 0.9998178   & 0.40008033  & 0.3321321   & 0.094903339\\\\\n",
       "\t 0.9837123   & 0.14111304  & 0.1745395   & 0.021089631\\\\\n",
       "\t 0.9942683   & 0.22993535  & 0.2446318   & 0.036906854\\\\\n",
       "\t 0.9984421   & 0.38681308  & 0.3410456   & 0.065026362\\\\\n",
       "\t 0.9888809   & 0.21943701  & 0.2107890   & 0.042179262\\\\\n",
       "\t 0.9994665   & 0.43319700  & 0.3543255   & 0.098418278\\\\\n",
       "\t 0.9994131   & 0.56910701  & 0.3825287   & 0.152899824\\\\\n",
       "\\end{tabular}\n"
      ],
      "text/markdown": [
       "\n",
       "| D.Euclid | D.Mah | D.Poyeccion | D.Tuckey |\n",
       "|---|---|---|---|\n",
       "| 0.9669370   | 0.07892719  | 0.1301524   | 0.005272408 |\n",
       "| 0.9992051   | 0.49669069  | 0.3741843   | 0.154657293 |\n",
       "| 0.9960908   | 0.43319474  | 0.2959186   | 0.117750439 |\n",
       "| 0.9610408   | 0.06698156  | 0.1316273   | 0.003514938 |\n",
       "| 0.9991752   | 0.68211689  | 0.4149668   | 0.205623902 |\n",
       "| 0.9939786   | 0.16320244  | 0.2219262   | 0.014059754 |\n",
       "| 0.9999722   | 0.93180339  | 0.5561388   | 0.332161687 |\n",
       "| 0.9944266   | 0.25250732  | 0.2646482   | 0.047451670 |\n",
       "| 0.9883848   | 0.15086609  | 0.2074934   | 0.015817223 |\n",
       "| 0.9810977   | 0.11837467  | 0.1694970   | 0.005272408 |\n",
       "| 0.9975794   | 0.42032828  | 0.3598718   | 0.087873462 |\n",
       "| 0.9993726   | 0.73759902  | 0.4008646   | 0.217926186 |\n",
       "| 0.9770983   | 0.06698109  | 0.1223476   | 0.003514938 |\n",
       "| 0.9998178   | 0.40008033  | 0.3321321   | 0.094903339 |\n",
       "| 0.9837123   | 0.14111304  | 0.1745395   | 0.021089631 |\n",
       "| 0.9942683   | 0.22993535  | 0.2446318   | 0.036906854 |\n",
       "| 0.9984421   | 0.38681308  | 0.3410456   | 0.065026362 |\n",
       "| 0.9888809   | 0.21943701  | 0.2107890   | 0.042179262 |\n",
       "| 0.9994665   | 0.43319700  | 0.3543255   | 0.098418278 |\n",
       "| 0.9994131   | 0.56910701  | 0.3825287   | 0.152899824 |\n",
       "\n"
      ],
      "text/plain": [
       "   D.Euclid  D.Mah      D.Poyeccion D.Tuckey   \n",
       "1  0.9669370 0.07892719 0.1301524   0.005272408\n",
       "2  0.9992051 0.49669069 0.3741843   0.154657293\n",
       "3  0.9960908 0.43319474 0.2959186   0.117750439\n",
       "4  0.9610408 0.06698156 0.1316273   0.003514938\n",
       "5  0.9991752 0.68211689 0.4149668   0.205623902\n",
       "6  0.9939786 0.16320244 0.2219262   0.014059754\n",
       "7  0.9999722 0.93180339 0.5561388   0.332161687\n",
       "8  0.9944266 0.25250732 0.2646482   0.047451670\n",
       "9  0.9883848 0.15086609 0.2074934   0.015817223\n",
       "10 0.9810977 0.11837467 0.1694970   0.005272408\n",
       "11 0.9975794 0.42032828 0.3598718   0.087873462\n",
       "12 0.9993726 0.73759902 0.4008646   0.217926186\n",
       "13 0.9770983 0.06698109 0.1223476   0.003514938\n",
       "14 0.9998178 0.40008033 0.3321321   0.094903339\n",
       "15 0.9837123 0.14111304 0.1745395   0.021089631\n",
       "16 0.9942683 0.22993535 0.2446318   0.036906854\n",
       "17 0.9984421 0.38681308 0.3410456   0.065026362\n",
       "18 0.9888809 0.21943701 0.2107890   0.042179262\n",
       "19 0.9994665 0.43319700 0.3543255   0.098418278\n",
       "20 0.9994131 0.56910701 0.3825287   0.152899824"
      ]
     },
     "metadata": {},
     "output_type": "display_data"
    }
   ],
   "source": [
    "\n",
    "# depthMedian works with object of class Depth\n",
    "dp <- depth(x)\n",
    "depthMedian(dp)\n",
    "\n",
    "#---------------proyeccion depth\n",
    "Proyeccion<-depthProjection(x, x, ndir = 2000)   ;D.Poyeccion<-Proyeccion[1:20]\n",
    "\n",
    "#---------------profundidad de tuckey\n",
    "Tukey<-depthTukey(x, ndir = 2000)  ; D.Tuckey<-Tukey[1:20]\n",
    "\n",
    "Distances<-cbind(D.Euclid,D.Mah,D.Poyeccion,D.Tuckey)\n",
    "require(xtable)\n",
    "xtable(Distances)\n"
   ]
  },
  {
   "cell_type": "markdown",
   "metadata": {},
   "source": [
    "Para hacer una distinción de adentro hacia afuera, se calculan las profundidades de toda la muestra $\\{x_1,...,x_n\\}$, por consiguiente se procede a ordenar de menor a mayor, sea el punto $X_{[i]}$ el punto de la muestra asociado con la mayor profundidad (mediana). A continuación se presenta la tabla anterior que presenta las medianas dependiendo del tipo de función usada."
   ]
  },
  {
   "cell_type": "code",
   "execution_count": 5,
   "metadata": {},
   "outputs": [
    {
     "data": {
      "text/html": [
       "<table>\n",
       "<thead><tr><th></th><th scope=col>compactness</th><th scope=col>smoothness</th><th scope=col>symmetry</th></tr></thead>\n",
       "<tbody>\n",
       "\t<tr><th scope=row>a</th><td>0.1041 </td><td>0.10080</td><td>0.1813 </td></tr>\n",
       "\t<tr><th scope=row>b</th><td>0.1117 </td><td>0.09746</td><td>0.1807 </td></tr>\n",
       "\t<tr><th scope=row>d</th><td>0.1034 </td><td>0.09780</td><td>0.1752 </td></tr>\n",
       "</tbody>\n",
       "</table>\n"
      ],
      "text/latex": [
       "\\begin{tabular}{r|lll}\n",
       "  & compactness & smoothness & symmetry\\\\\n",
       "\\hline\n",
       "\ta & 0.1041  & 0.10080 & 0.1813 \\\\\n",
       "\tb & 0.1117  & 0.09746 & 0.1807 \\\\\n",
       "\td & 0.1034  & 0.09780 & 0.1752 \\\\\n",
       "\\end{tabular}\n"
      ],
      "text/markdown": [
       "\n",
       "| <!--/--> | compactness | smoothness | symmetry |\n",
       "|---|---|---|---|\n",
       "| a | 0.1041  | 0.10080 | 0.1813  |\n",
       "| b | 0.1117  | 0.09746 | 0.1807  |\n",
       "| d | 0.1034  | 0.09780 | 0.1752  |\n",
       "\n"
      ],
      "text/plain": [
       "  compactness smoothness symmetry\n",
       "a 0.1041      0.10080    0.1813  \n",
       "b 0.1117      0.09746    0.1807  \n",
       "d 0.1034      0.09780    0.1752  "
      ]
     },
     "metadata": {},
     "output_type": "display_data"
    }
   ],
   "source": [
    "rbind(a,b,d)"
   ]
  },
  {
   "cell_type": "markdown",
   "metadata": {},
   "source": [
    "Se puede observar que las medianas dependiendo de la función de profundidad son diferentes, sin embargo no varían mucho una de las otras."
   ]
  },
  {
   "cell_type": "markdown",
   "metadata": {},
   "source": [
    "### Contornos de profundidad y bagplot\n",
    "\n",
    "En lo que se refiere a la ordenación de observaciones por medio de la profundidad, López, A. (2010) establece que existen métodos gráficos que proporcionan la posibilidad de llevar a cabo análisis estadísticos exploratorios, dando lugar a diagramas de puntos y a curvas. No obstante el uso de representaciones gráficas sera el objetivo para caracterizar la distribución de los datos del diagnostico de cáncer; luego se da lugar al Bagplot el cual según Rousseeuw, Ruts, y Tukey (1999) es una generalización del boxplot para el caso bivariado y lleva consigo la ubicación de las observaciones a un punto central llevando al concepto de profundidad.\n",
    "\n",
    "Para lograr un análisis de las observaciones se usará el uso de representaciones gráficas entre ellas el Bagplot (ver las siguientes figuras) el cual es desarrollado por la librería **DepthProc** el bagplot permite visualizar medidas estadísticas bivariadas diagnostico de cáncer de mama en Wisconsin permitiendo, como lo destaca Rousseeuw et al., (1999) visualizar la ubicación, propagación, correlación, asimetría y colas de los datos (P.1). En este orden de ideas, se representa un bagplot por cada par de variables.\n",
    "\n",
    "* El la siguiente figura se evidencia el bagplot para las variables Compacticidad y Suavidad, la región central (verde fluorescente) contiene el {50\\%} de los datos, que es el equivalente al boxplot en el caso univariado. Dentro de la región verde clara  están los datos considerados intrínsecos a la nube de puntos."
   ]
  },
  {
   "cell_type": "code",
   "execution_count": 10,
   "metadata": {},
   "outputs": [
    {
     "data": {
      "image/png": "[encoded data removed]",
      "text/plain": [
       "Plot with title \"Bagplot\""
      ]
     },
     "metadata": {},
     "output_type": "display_data"
    }
   ],
   "source": [
    "\n",
    "#Carga el paquete aplpack\n",
    "#install.packages(\"aplpack\")\n",
    "library(aplpack) #Libreria para realizar el bagplot\n",
    "\n",
    "#Bagplot\n",
    "#par(mfrow=c(1,2))\n",
    "bagplot(databiopsia$compactness, databiopsia$smoothness,col.baghull=\"green\", col.loophull=\"lightgreen\", main = \"Bagplot\", xlab=\"Compacticidad\", ylab=\"Suavidad\")"
   ]
  },
  {
   "cell_type": "markdown",
   "metadata": {},
   "source": [
    "* Para las variables Suavidad y asimetría se presenta el siguiente bagplot, el cual genera una forma asimétrica especificándose por la mediana de las observaciones "
   ]
  },
  {
   "cell_type": "code",
   "execution_count": 7,
   "metadata": {},
   "outputs": [
    {
     "data": {
      "image/png": "[encoded data removed]",
      "text/plain": [
       "Plot with title \"Bagplot\""
      ]
     },
     "metadata": {},
     "output_type": "display_data"
    }
   ],
   "source": [
    "#Bagplot\n",
    "bagplot(databiopsia$compactness, databiopsia$symmetry,col.baghull=\"green\", col.loophull=\"lightgreen\", main = \"Bagplot\", xlab=\"Compacticidad\", ylab=\"Simetría\")"
   ]
  },
  {
   "cell_type": "markdown",
   "metadata": {},
   "source": [
    "* En referencia a los bagplot presentado en la figura siguiente el cual hace alusión a las variables Suavidad y simetría, se logra observar que es el que  presenta mayor simetría con respecto al punto mas profundo, mostrándose la menor cantidad de valores atípicos."
   ]
  },
  {
   "cell_type": "code",
   "execution_count": 8,
   "metadata": {},
   "outputs": [
    {
     "data": {
      "image/png": "[encoded data removed]",
      "text/plain": [
       "Plot with title \"Bagplot\""
      ]
     },
     "metadata": {},
     "output_type": "display_data"
    },
    {
     "data": {
      "text/html": [
       "<table>\n",
       "<thead><tr><th scope=col>compactness</th><th scope=col>smoothness</th><th scope=col>symmetry</th></tr></thead>\n",
       "<tbody>\n",
       "\t<tr><td>0.27760</td><td>0.11840</td><td>0.2419 </td></tr>\n",
       "\t<tr><td>0.07864</td><td>0.08474</td><td>0.1812 </td></tr>\n",
       "\t<tr><td>0.15990</td><td>0.10960</td><td>0.2069 </td></tr>\n",
       "\t<tr><td>0.28390</td><td>0.14250</td><td>0.2597 </td></tr>\n",
       "\t<tr><td>0.13280</td><td>0.10030</td><td>0.1809 </td></tr>\n",
       "\t<tr><td>0.17000</td><td>0.12780</td><td>0.2087 </td></tr>\n",
       "\t<tr><td>0.10900</td><td>0.09463</td><td>0.1794 </td></tr>\n",
       "\t<tr><td>0.16450</td><td>0.11890</td><td>0.2196 </td></tr>\n",
       "\t<tr><td>0.19320</td><td>0.12730</td><td>0.2350 </td></tr>\n",
       "\t<tr><td>0.23960</td><td>0.11860</td><td>0.2030 </td></tr>\n",
       "\t<tr><td>0.06669</td><td>0.08206</td><td>0.1528 </td></tr>\n",
       "\t<tr><td>0.12920</td><td>0.09710</td><td>0.1842 </td></tr>\n",
       "\t<tr><td>0.24580</td><td>0.09740</td><td>0.2397 </td></tr>\n",
       "\t<tr><td>0.10020</td><td>0.08401</td><td>0.1847 </td></tr>\n",
       "\t<tr><td>0.22930</td><td>0.11310</td><td>0.2069 </td></tr>\n",
       "\t<tr><td>0.15950</td><td>0.11390</td><td>0.2303 </td></tr>\n",
       "\t<tr><td>0.07200</td><td>0.09867</td><td>0.1586 </td></tr>\n",
       "\t<tr><td>0.20220</td><td>0.11700</td><td>0.2164 </td></tr>\n",
       "\t<tr><td>0.10270</td><td>0.09831</td><td>0.1582 </td></tr>\n",
       "\t<tr><td>0.08129</td><td>0.09779</td><td>0.1885 </td></tr>\n",
       "\t<tr><td>0.12700</td><td>0.10750</td><td>0.1967 </td></tr>\n",
       "\t<tr><td>0.06492</td><td>0.10240</td><td>0.1815 </td></tr>\n",
       "\t<tr><td>0.21350</td><td>0.10730</td><td>0.2521 </td></tr>\n",
       "\t<tr><td>0.10220</td><td>0.09428</td><td>0.1769 </td></tr>\n",
       "\t<tr><td>0.14570</td><td>0.11210</td><td>0.1995 </td></tr>\n",
       "\t<tr><td>0.22760</td><td>0.11860</td><td>0.3040 </td></tr>\n",
       "\t<tr><td>0.18680</td><td>0.10540</td><td>0.2252 </td></tr>\n",
       "\t<tr><td>0.10660</td><td>0.09440</td><td>0.1697 </td></tr>\n",
       "\t<tr><td>0.16970</td><td>0.10820</td><td>0.1926 </td></tr>\n",
       "\t<tr><td>0.11570</td><td>0.09847</td><td>0.1739 </td></tr>\n",
       "\t<tr><td>...</td><td>...</td><td>...</td></tr>\n",
       "\t<tr><td>0.11990</td><td>0.08668</td><td>0.2037 </td></tr>\n",
       "\t<tr><td>0.11200</td><td>0.09984</td><td>0.1818 </td></tr>\n",
       "\t<tr><td>0.12300</td><td>0.08837</td><td>0.1872 </td></tr>\n",
       "\t<tr><td>0.07214</td><td>0.08275</td><td>0.1840 </td></tr>\n",
       "\t<tr><td>0.06877</td><td>0.08671</td><td>0.1628 </td></tr>\n",
       "\t<tr><td>0.10180</td><td>0.09578</td><td>0.1620 </td></tr>\n",
       "\t<tr><td>0.06747</td><td>0.09246</td><td>0.1664 </td></tr>\n",
       "\t<tr><td>0.04994</td><td>0.09434</td><td>0.1885 </td></tr>\n",
       "\t<tr><td>0.08066</td><td>0.08877</td><td>0.1669 </td></tr>\n",
       "\t<tr><td>0.05030</td><td>0.08491</td><td>0.1580 </td></tr>\n",
       "\t<tr><td>0.06602</td><td>0.08192</td><td>0.1976 </td></tr>\n",
       "\t<tr><td>0.04227</td><td>0.07431</td><td>0.1661 </td></tr>\n",
       "\t<tr><td>0.08194</td><td>0.09566</td><td>0.2030 </td></tr>\n",
       "\t<tr><td>0.04234</td><td>0.08276</td><td>0.1539 </td></tr>\n",
       "\t<tr><td>0.05605</td><td>0.09240</td><td>0.1692 </td></tr>\n",
       "\t<tr><td>0.05824</td><td>0.08123</td><td>0.1566 </td></tr>\n",
       "\t<tr><td>0.07658</td><td>0.09030</td><td>0.1593 </td></tr>\n",
       "\t<tr><td>0.07504</td><td>0.10030</td><td>0.1791 </td></tr>\n",
       "\t<tr><td>0.04971</td><td>0.08123</td><td>0.1742 </td></tr>\n",
       "\t<tr><td>0.13300</td><td>0.08473</td><td>0.1454 </td></tr>\n",
       "\t<tr><td>0.10210</td><td>0.09261</td><td>0.1388 </td></tr>\n",
       "\t<tr><td>0.11260</td><td>0.09929</td><td>0.1537 </td></tr>\n",
       "\t<tr><td>0.03558</td><td>0.07449</td><td>0.1060 </td></tr>\n",
       "\t<tr><td>0.20870</td><td>0.10480</td><td>0.2128 </td></tr>\n",
       "\t<tr><td>0.22360</td><td>0.10990</td><td>0.2149 </td></tr>\n",
       "\t<tr><td>0.11590</td><td>0.11100</td><td>0.1726 </td></tr>\n",
       "\t<tr><td>0.10340</td><td>0.09780</td><td>0.1752 </td></tr>\n",
       "\t<tr><td>0.10230</td><td>0.08455</td><td>0.1590 </td></tr>\n",
       "\t<tr><td>0.27700</td><td>0.11780</td><td>0.2397 </td></tr>\n",
       "\t<tr><td>0.04362</td><td>0.05263</td><td>0.1587 </td></tr>\n",
       "</tbody>\n",
       "</table>\n"
      ],
      "text/latex": [
       "\\begin{tabular}{r|lll}\n",
       " compactness & smoothness & symmetry\\\\\n",
       "\\hline\n",
       "\t 0.27760 & 0.11840 & 0.2419 \\\\\n",
       "\t 0.07864 & 0.08474 & 0.1812 \\\\\n",
       "\t 0.15990 & 0.10960 & 0.2069 \\\\\n",
       "\t 0.28390 & 0.14250 & 0.2597 \\\\\n",
       "\t 0.13280 & 0.10030 & 0.1809 \\\\\n",
       "\t 0.17000 & 0.12780 & 0.2087 \\\\\n",
       "\t 0.10900 & 0.09463 & 0.1794 \\\\\n",
       "\t 0.16450 & 0.11890 & 0.2196 \\\\\n",
       "\t 0.19320 & 0.12730 & 0.2350 \\\\\n",
       "\t 0.23960 & 0.11860 & 0.2030 \\\\\n",
       "\t 0.06669 & 0.08206 & 0.1528 \\\\\n",
       "\t 0.12920 & 0.09710 & 0.1842 \\\\\n",
       "\t 0.24580 & 0.09740 & 0.2397 \\\\\n",
       "\t 0.10020 & 0.08401 & 0.1847 \\\\\n",
       "\t 0.22930 & 0.11310 & 0.2069 \\\\\n",
       "\t 0.15950 & 0.11390 & 0.2303 \\\\\n",
       "\t 0.07200 & 0.09867 & 0.1586 \\\\\n",
       "\t 0.20220 & 0.11700 & 0.2164 \\\\\n",
       "\t 0.10270 & 0.09831 & 0.1582 \\\\\n",
       "\t 0.08129 & 0.09779 & 0.1885 \\\\\n",
       "\t 0.12700 & 0.10750 & 0.1967 \\\\\n",
       "\t 0.06492 & 0.10240 & 0.1815 \\\\\n",
       "\t 0.21350 & 0.10730 & 0.2521 \\\\\n",
       "\t 0.10220 & 0.09428 & 0.1769 \\\\\n",
       "\t 0.14570 & 0.11210 & 0.1995 \\\\\n",
       "\t 0.22760 & 0.11860 & 0.3040 \\\\\n",
       "\t 0.18680 & 0.10540 & 0.2252 \\\\\n",
       "\t 0.10660 & 0.09440 & 0.1697 \\\\\n",
       "\t 0.16970 & 0.10820 & 0.1926 \\\\\n",
       "\t 0.11570 & 0.09847 & 0.1739 \\\\\n",
       "\t ... & ... & ...\\\\\n",
       "\t 0.11990 & 0.08668 & 0.2037 \\\\\n",
       "\t 0.11200 & 0.09984 & 0.1818 \\\\\n",
       "\t 0.12300 & 0.08837 & 0.1872 \\\\\n",
       "\t 0.07214 & 0.08275 & 0.1840 \\\\\n",
       "\t 0.06877 & 0.08671 & 0.1628 \\\\\n",
       "\t 0.10180 & 0.09578 & 0.1620 \\\\\n",
       "\t 0.06747 & 0.09246 & 0.1664 \\\\\n",
       "\t 0.04994 & 0.09434 & 0.1885 \\\\\n",
       "\t 0.08066 & 0.08877 & 0.1669 \\\\\n",
       "\t 0.05030 & 0.08491 & 0.1580 \\\\\n",
       "\t 0.06602 & 0.08192 & 0.1976 \\\\\n",
       "\t 0.04227 & 0.07431 & 0.1661 \\\\\n",
       "\t 0.08194 & 0.09566 & 0.2030 \\\\\n",
       "\t 0.04234 & 0.08276 & 0.1539 \\\\\n",
       "\t 0.05605 & 0.09240 & 0.1692 \\\\\n",
       "\t 0.05824 & 0.08123 & 0.1566 \\\\\n",
       "\t 0.07658 & 0.09030 & 0.1593 \\\\\n",
       "\t 0.07504 & 0.10030 & 0.1791 \\\\\n",
       "\t 0.04971 & 0.08123 & 0.1742 \\\\\n",
       "\t 0.13300 & 0.08473 & 0.1454 \\\\\n",
       "\t 0.10210 & 0.09261 & 0.1388 \\\\\n",
       "\t 0.11260 & 0.09929 & 0.1537 \\\\\n",
       "\t 0.03558 & 0.07449 & 0.1060 \\\\\n",
       "\t 0.20870 & 0.10480 & 0.2128 \\\\\n",
       "\t 0.22360 & 0.10990 & 0.2149 \\\\\n",
       "\t 0.11590 & 0.11100 & 0.1726 \\\\\n",
       "\t 0.10340 & 0.09780 & 0.1752 \\\\\n",
       "\t 0.10230 & 0.08455 & 0.1590 \\\\\n",
       "\t 0.27700 & 0.11780 & 0.2397 \\\\\n",
       "\t 0.04362 & 0.05263 & 0.1587 \\\\\n",
       "\\end{tabular}\n"
      ],
      "text/markdown": [
       "\n",
       "| compactness | smoothness | symmetry |\n",
       "|---|---|---|\n",
       "| 0.27760 | 0.11840 | 0.2419  |\n",
       "| 0.07864 | 0.08474 | 0.1812  |\n",
       "| 0.15990 | 0.10960 | 0.2069  |\n",
       "| 0.28390 | 0.14250 | 0.2597  |\n",
       "| 0.13280 | 0.10030 | 0.1809  |\n",
       "| 0.17000 | 0.12780 | 0.2087  |\n",
       "| 0.10900 | 0.09463 | 0.1794  |\n",
       "| 0.16450 | 0.11890 | 0.2196  |\n",
       "| 0.19320 | 0.12730 | 0.2350  |\n",
       "| 0.23960 | 0.11860 | 0.2030  |\n",
       "| 0.06669 | 0.08206 | 0.1528  |\n",
       "| 0.12920 | 0.09710 | 0.1842  |\n",
       "| 0.24580 | 0.09740 | 0.2397  |\n",
       "| 0.10020 | 0.08401 | 0.1847  |\n",
       "| 0.22930 | 0.11310 | 0.2069  |\n",
       "| 0.15950 | 0.11390 | 0.2303  |\n",
       "| 0.07200 | 0.09867 | 0.1586  |\n",
       "| 0.20220 | 0.11700 | 0.2164  |\n",
       "| 0.10270 | 0.09831 | 0.1582  |\n",
       "| 0.08129 | 0.09779 | 0.1885  |\n",
       "| 0.12700 | 0.10750 | 0.1967  |\n",
       "| 0.06492 | 0.10240 | 0.1815  |\n",
       "| 0.21350 | 0.10730 | 0.2521  |\n",
       "| 0.10220 | 0.09428 | 0.1769  |\n",
       "| 0.14570 | 0.11210 | 0.1995  |\n",
       "| 0.22760 | 0.11860 | 0.3040  |\n",
       "| 0.18680 | 0.10540 | 0.2252  |\n",
       "| 0.10660 | 0.09440 | 0.1697  |\n",
       "| 0.16970 | 0.10820 | 0.1926  |\n",
       "| 0.11570 | 0.09847 | 0.1739  |\n",
       "| ... | ... | ... |\n",
       "| 0.11990 | 0.08668 | 0.2037  |\n",
       "| 0.11200 | 0.09984 | 0.1818  |\n",
       "| 0.12300 | 0.08837 | 0.1872  |\n",
       "| 0.07214 | 0.08275 | 0.1840  |\n",
       "| 0.06877 | 0.08671 | 0.1628  |\n",
       "| 0.10180 | 0.09578 | 0.1620  |\n",
       "| 0.06747 | 0.09246 | 0.1664  |\n",
       "| 0.04994 | 0.09434 | 0.1885  |\n",
       "| 0.08066 | 0.08877 | 0.1669  |\n",
       "| 0.05030 | 0.08491 | 0.1580  |\n",
       "| 0.06602 | 0.08192 | 0.1976  |\n",
       "| 0.04227 | 0.07431 | 0.1661  |\n",
       "| 0.08194 | 0.09566 | 0.2030  |\n",
       "| 0.04234 | 0.08276 | 0.1539  |\n",
       "| 0.05605 | 0.09240 | 0.1692  |\n",
       "| 0.05824 | 0.08123 | 0.1566  |\n",
       "| 0.07658 | 0.09030 | 0.1593  |\n",
       "| 0.07504 | 0.10030 | 0.1791  |\n",
       "| 0.04971 | 0.08123 | 0.1742  |\n",
       "| 0.13300 | 0.08473 | 0.1454  |\n",
       "| 0.10210 | 0.09261 | 0.1388  |\n",
       "| 0.11260 | 0.09929 | 0.1537  |\n",
       "| 0.03558 | 0.07449 | 0.1060  |\n",
       "| 0.20870 | 0.10480 | 0.2128  |\n",
       "| 0.22360 | 0.10990 | 0.2149  |\n",
       "| 0.11590 | 0.11100 | 0.1726  |\n",
       "| 0.10340 | 0.09780 | 0.1752  |\n",
       "| 0.10230 | 0.08455 | 0.1590  |\n",
       "| 0.27700 | 0.11780 | 0.2397  |\n",
       "| 0.04362 | 0.05263 | 0.1587  |\n",
       "\n"
      ],
      "text/plain": [
       "    compactness smoothness symmetry\n",
       "1   0.27760     0.11840    0.2419  \n",
       "2   0.07864     0.08474    0.1812  \n",
       "3   0.15990     0.10960    0.2069  \n",
       "4   0.28390     0.14250    0.2597  \n",
       "5   0.13280     0.10030    0.1809  \n",
       "6   0.17000     0.12780    0.2087  \n",
       "7   0.10900     0.09463    0.1794  \n",
       "8   0.16450     0.11890    0.2196  \n",
       "9   0.19320     0.12730    0.2350  \n",
       "10  0.23960     0.11860    0.2030  \n",
       "11  0.06669     0.08206    0.1528  \n",
       "12  0.12920     0.09710    0.1842  \n",
       "13  0.24580     0.09740    0.2397  \n",
       "14  0.10020     0.08401    0.1847  \n",
       "15  0.22930     0.11310    0.2069  \n",
       "16  0.15950     0.11390    0.2303  \n",
       "17  0.07200     0.09867    0.1586  \n",
       "18  0.20220     0.11700    0.2164  \n",
       "19  0.10270     0.09831    0.1582  \n",
       "20  0.08129     0.09779    0.1885  \n",
       "21  0.12700     0.10750    0.1967  \n",
       "22  0.06492     0.10240    0.1815  \n",
       "23  0.21350     0.10730    0.2521  \n",
       "24  0.10220     0.09428    0.1769  \n",
       "25  0.14570     0.11210    0.1995  \n",
       "26  0.22760     0.11860    0.3040  \n",
       "27  0.18680     0.10540    0.2252  \n",
       "28  0.10660     0.09440    0.1697  \n",
       "29  0.16970     0.10820    0.1926  \n",
       "30  0.11570     0.09847    0.1739  \n",
       "... ...         ...        ...     \n",
       "540 0.11990     0.08668    0.2037  \n",
       "541 0.11200     0.09984    0.1818  \n",
       "542 0.12300     0.08837    0.1872  \n",
       "543 0.07214     0.08275    0.1840  \n",
       "544 0.06877     0.08671    0.1628  \n",
       "545 0.10180     0.09578    0.1620  \n",
       "546 0.06747     0.09246    0.1664  \n",
       "547 0.04994     0.09434    0.1885  \n",
       "548 0.08066     0.08877    0.1669  \n",
       "549 0.05030     0.08491    0.1580  \n",
       "550 0.06602     0.08192    0.1976  \n",
       "551 0.04227     0.07431    0.1661  \n",
       "552 0.08194     0.09566    0.2030  \n",
       "553 0.04234     0.08276    0.1539  \n",
       "554 0.05605     0.09240    0.1692  \n",
       "555 0.05824     0.08123    0.1566  \n",
       "556 0.07658     0.09030    0.1593  \n",
       "557 0.07504     0.10030    0.1791  \n",
       "558 0.04971     0.08123    0.1742  \n",
       "559 0.13300     0.08473    0.1454  \n",
       "560 0.10210     0.09261    0.1388  \n",
       "561 0.11260     0.09929    0.1537  \n",
       "562 0.03558     0.07449    0.1060  \n",
       "563 0.20870     0.10480    0.2128  \n",
       "564 0.22360     0.10990    0.2149  \n",
       "565 0.11590     0.11100    0.1726  \n",
       "566 0.10340     0.09780    0.1752  \n",
       "567 0.10230     0.08455    0.1590  \n",
       "568 0.27700     0.11780    0.2397  \n",
       "569 0.04362     0.05263    0.1587  "
      ]
     },
     "metadata": {},
     "output_type": "display_data"
    },
    {
     "data": {
      "image/png": "[encoded data removed]",
      "text/plain": [
       "plot without title"
      ]
     },
     "metadata": {},
     "output_type": "display_data"
    }
   ],
   "source": [
    "#Bagplot\n",
    "bagplot(databiopsia$smoothness, databiopsia$symmetry,col.baghull=\"green\", col.loophull=\"lightgreen\", main = \"Bagplot\", xlab=\"Suavidad\", ylab=\"Simetría\")\n",
    "\n",
    "bagplot.pairs(databiopsia[,2:4],col.baghull=\"green\", col.loophull=\"lightgreen\",main = \"Bagplot matriz\")\n"
   ]
  },
  {
   "cell_type": "markdown",
   "metadata": {},
   "source": [
    "No obstante, cabe aclarar que fuera de la región del bagplot se ubican los datos outlier de la distribución bivariada conjunta (pares de variables), sin embargo, para determinar los outliers (en general) de la distribución multivariada conjunta ha de establecerse una comparación más general. Adicionalmente, cabe resaltar que el punto más profundo es un estimador de la mediana poblacional como se mencionó anteriormente este punto se resalta en el gráfico como punto rojo más central de la representación.\n",
    "\n",
    "Para caracterizar la distribución multivariada se realizan la prueba de Mardia Skewness para identificar si la distribución multivariada es normal, usando la librería **MVN** se obtienen los resultados los cuales conducen a que las observaciones no proviene de una normal multivariada. Lo cual se esperaba puesto que las distribuciones univariadas no eran normales."
   ]
  },
  {
   "cell_type": "code",
   "execution_count": 27,
   "metadata": {},
   "outputs": [
    {
     "data": {
      "text/html": [
       "<table>\n",
       "<thead><tr><th scope=col>Test</th><th scope=col>Statistic</th><th scope=col>p value</th><th scope=col>Result</th></tr></thead>\n",
       "<tbody>\n",
       "\t<tr><td>Mardia Skewness     </td><td>235.568241179259    </td><td>5.83465806202843e-45</td><td>NO                  </td></tr>\n",
       "\t<tr><td>Mardia Kurtosis     </td><td>12.9061675554888    </td><td>0                   </td><td>NO                  </td></tr>\n",
       "\t<tr><td>MVN                 </td><td>NA                  </td><td>NA                  </td><td>NO                  </td></tr>\n",
       "</tbody>\n",
       "</table>\n"
      ],
      "text/latex": [
       "\\begin{tabular}{r|llll}\n",
       " Test & Statistic & p value & Result\\\\\n",
       "\\hline\n",
       "\t Mardia Skewness      & 235.568241179259     & 5.83465806202843e-45 & NO                  \\\\\n",
       "\t Mardia Kurtosis      & 12.9061675554888     & 0                    & NO                  \\\\\n",
       "\t MVN                  & NA                   & NA                   & NO                  \\\\\n",
       "\\end{tabular}\n"
      ],
      "text/markdown": [
       "\n",
       "| Test | Statistic | p value | Result |\n",
       "|---|---|---|---|\n",
       "| Mardia Skewness      | 235.568241179259     | 5.83465806202843e-45 | NO                   |\n",
       "| Mardia Kurtosis      | 12.9061675554888     | 0                    | NO                   |\n",
       "| MVN                  | NA                   | NA                   | NO                   |\n",
       "\n"
      ],
      "text/plain": [
       "  Test            Statistic        p value              Result\n",
       "1 Mardia Skewness 235.568241179259 5.83465806202843e-45 NO    \n",
       "2 Mardia Kurtosis 12.9061675554888 0                    NO    \n",
       "3 MVN             NA               NA                   NO    "
      ]
     },
     "metadata": {},
     "output_type": "display_data"
    }
   ],
   "source": [
    "# test de normalidad\n",
    "# test de Mardia en MVN\n",
    "library(\"MVN\")\n",
    "result <- mvn(data = databiopsia[,2:4], mvnTest = \"mardia\")\n",
    "result$multivariateNormality"
   ]
  },
  {
   "cell_type": "code",
   "execution_count": 32,
   "metadata": {},
   "outputs": [
    {
     "data": {
      "text/html": [
       "<table>\n",
       "<thead><tr><th scope=col>Prueba</th><th scope=col>Medida</th><th scope=col>Estadístico</th><th scope=col>valor_p</th><th scope=col>Conclusión</th></tr></thead>\n",
       "<tbody>\n",
       "\t<tr><td>Prueba de Asimetría</td><td> 2.484024          </td><td>237.4351           </td><td>2.367177e-45       </td><td>No Normalidad      </td></tr>\n",
       "\t<tr><td>Prueba de Curtosis </td><td>20.926957          </td><td>166.5692           </td><td>4.154701e-38       </td><td>No Normalidad      </td></tr>\n",
       "</tbody>\n",
       "</table>\n"
      ],
      "text/latex": [
       "\\begin{tabular}{r|lllll}\n",
       " Prueba & Medida & Estadístico & valor\\_p & Conclusión\\\\\n",
       "\\hline\n",
       "\t Prueba de Asimetría &  2.484024           & 237.4351            & 2.367177e-45        & No Normalidad      \\\\\n",
       "\t Prueba de Curtosis  & 20.926957           & 166.5692            & 4.154701e-38        & No Normalidad      \\\\\n",
       "\\end{tabular}\n"
      ],
      "text/markdown": [
       "\n",
       "| Prueba | Medida | Estadístico | valor_p | Conclusión |\n",
       "|---|---|---|---|---|\n",
       "| Prueba de Asimetría |  2.484024           | 237.4351            | 2.367177e-45        | No Normalidad       |\n",
       "| Prueba de Curtosis  | 20.926957           | 166.5692            | 4.154701e-38        | No Normalidad       |\n",
       "\n"
      ],
      "text/plain": [
       "  Prueba              Medida    Estadístico valor_p      Conclusión   \n",
       "1 Prueba de Asimetría  2.484024 237.4351    2.367177e-45 No Normalidad\n",
       "2 Prueba de Curtosis  20.926957 166.5692    4.154701e-38 No Normalidad"
      ]
     },
     "metadata": {},
     "output_type": "display_data"
    }
   ],
   "source": [
    "## Test de Normalidad Multivariada \n",
    "##  Ho: Los datos siguen una Distribución Normal Multivariada \n",
    "## ---------------------------------------------------------------- \n",
    "## Prueba de Mardia - Asimetría \n",
    "##  Asimetría Multivariada = 2.484024\n",
    "##  Valor de TAM = 237.4351\n",
    "##  Valor p= 2.367177e-45\n",
    "## ---------------------------------------------------------------- \n",
    "## Prueba de Mardia - Curtosis \n",
    "##  Curtosis Multivariado = 20.926957\n",
    "##  Valor de TKM = 166.5692\n",
    "##  Valor p= 4.154701e-38\n",
    "mardia.df<-function(datos){\n",
    "  n<-nrow(datos)\n",
    "  k<-ncol(datos)\n",
    "  \n",
    "  x<-as.matrix(datos)\n",
    "  media<-colMeans(datos)\n",
    "  matriz.media<-matrix(media,nrow=n,ncol=k,byrow=TRUE)\n",
    "\n",
    "  S<-cov(datos)*(n-1)/n\n",
    "  SI<-solve(S)   #Inversa de la matriz de covarianzas\n",
    "\n",
    "  distm<-((x-matriz.media)%*%SI)%*%t((x-matriz.media))\n",
    "      \n",
    "  gl<-k*(k+1)*(k+2)/6\n",
    "  c<-(n+1)*(n+3)*(k+1)/(n*((n+1)*(k+1)-6))\n",
    "  \n",
    "  AM<-sum(distm^3)/n^2\n",
    "  \n",
    "  #Muestras Pequeñas\n",
    "  TAM<-n*c/6*AM           \n",
    "  valor_p1<-pchisq(TAM,gl,lower.tail = FALSE)\n",
    "    if (valor_p1<0.05){\n",
    "      test1 <- \"No Normalidad\"\n",
    "     } else {\n",
    "        test1 <- \"Normalidad\"\n",
    "    }\n",
    "  KM<-sum((diag(distm))^2)/n\n",
    "  TKM<-(KM-k*(k+2))*sqrt(n/(8*k*(k+2)))\n",
    "  TKM2<-TKM^2\n",
    "  valor_p2<-pchisq(TKM2,1,lower.tail = FALSE)\n",
    "     if (valor_p2<0.05){\n",
    "      test2 <- \"No Normalidad\"\n",
    "     } else {\n",
    "        test2 <- \"Normalidad\"\n",
    "    } \n",
    "  df<-data.frame(Prueba=c(\"Prueba de Asimetría\",\"Prueba de Curtosis\"),Medida=c(AM,KM),Estadístico=c(TAM,TKM2),valor_p=c(valor_p1,valor_p2),Conclusión=c(test1,test2))\n",
    "  df\n",
    "  }\n",
    "\n",
    "mardia.df(databiopsia[,2:4])"
   ]
  },
  {
   "cell_type": "markdown",
   "metadata": {},
   "source": [
    "Dado lo anterior se concluye que la distribucion multivariada no es normal trivariada."
   ]
  },
  {
   "cell_type": "code",
   "execution_count": 44,
   "metadata": {},
   "outputs": [],
   "source": [
    "#result <- mvn(databiopsia[,2:3], mvnTest = \"hz\", multivariatePlot = \"persp\")\n",
    "# contour plot\n",
    "\n",
    "#result <- mvn(databiopsia[,2:3], mvnTest = \"hz\", multivariatePlot = \"contour\")\n",
    "#result <- mvn(databiopsia[,3:4], mvnTest = \"hz\", multivariatePlot = \"contour\")\n",
    "\n",
    "#para encontrar outliers\n",
    "#result <- mvn(data = databiopsia[,2:4], mvnTest = \"hz\", multivariateOutlierMethod = \"quan\")\n",
    "#result <- mvn(data=databiopsia[,2:4],mvnTest=\"hz\",multivariateOutlierMethod=\"adj\")"
   ]
  },
  {
   "cell_type": "code",
   "execution_count": 30,
   "metadata": {},
   "outputs": [
    {
     "name": "stdout",
     "output_type": "stream",
     "text": [
      "Projection to the first and second robust principal components.\n",
      "Proportion of total variation (explained variance): 0.8773025\n"
     ]
    },
    {
     "data": {
      "text/plain": [
       "index\n",
       "FALSE  TRUE \n",
       "  538    31 "
      ]
     },
     "metadata": {},
     "output_type": "display_data"
    },
    {
     "data": {
      "image/png": "[encoded data removed]",
      "text/plain": [
       "Plot with title \"Outliers based on adjusted quantile\""
      ]
     },
     "metadata": {},
     "output_type": "display_data"
    }
   ],
   "source": [
    "                  #*--------------------------------\n",
    "#                  DETECCIÓN DE OUTLIERS MULTIVARIADOS\n",
    "                  #-----------------------------------\n",
    "library(mvoutlier)\n",
    "#outliers <- aq.plot(databiopsia[, 2:4])\n",
    "\n",
    "index<-data.frame(aq.plot(databiopsia[, 2:4],quan=0.9,alpha=0.1)$outliers)\n",
    "table(index)\n",
    "\n"
   ]
  },
  {
   "cell_type": "markdown",
   "metadata": {},
   "source": [
    "En consecuencia los outliers multivariados detectados por medio del enfoque no parametrico basado en profundidad son:  "
   ]
  },
  {
   "cell_type": "code",
   "execution_count": 18,
   "metadata": {},
   "outputs": [
    {
     "data": {
      "text/html": [
       "<ol class=list-inline>\n",
       "\t<li>1</li>\n",
       "\t<li>4</li>\n",
       "\t<li>10</li>\n",
       "\t<li>13</li>\n",
       "\t<li>23</li>\n",
       "\t<li>26</li>\n",
       "\t<li>43</li>\n",
       "\t<li>61</li>\n",
       "\t<li>64</li>\n",
       "\t<li>77</li>\n",
       "\t<li>79</li>\n",
       "\t<li>83</li>\n",
       "\t<li>106</li>\n",
       "\t<li>109</li>\n",
       "\t<li>113</li>\n",
       "\t<li>123</li>\n",
       "\t<li>147</li>\n",
       "\t<li>151</li>\n",
       "\t<li>182</li>\n",
       "\t<li>191</li>\n",
       "\t<li>257</li>\n",
       "\t<li>259</li>\n",
       "\t<li>273</li>\n",
       "\t<li>289</li>\n",
       "\t<li>353</li>\n",
       "\t<li>383</li>\n",
       "\t<li>401</li>\n",
       "\t<li>425</li>\n",
       "\t<li>431</li>\n",
       "\t<li>444</li>\n",
       "\t<li>451</li>\n",
       "\t<li>469</li>\n",
       "\t<li>505</li>\n",
       "\t<li>521</li>\n",
       "\t<li>568</li>\n",
       "</ol>\n"
      ],
      "text/latex": [
       "\\begin{enumerate*}\n",
       "\\item 1\n",
       "\\item 4\n",
       "\\item 10\n",
       "\\item 13\n",
       "\\item 23\n",
       "\\item 26\n",
       "\\item 43\n",
       "\\item 61\n",
       "\\item 64\n",
       "\\item 77\n",
       "\\item 79\n",
       "\\item 83\n",
       "\\item 106\n",
       "\\item 109\n",
       "\\item 113\n",
       "\\item 123\n",
       "\\item 147\n",
       "\\item 151\n",
       "\\item 182\n",
       "\\item 191\n",
       "\\item 257\n",
       "\\item 259\n",
       "\\item 273\n",
       "\\item 289\n",
       "\\item 353\n",
       "\\item 383\n",
       "\\item 401\n",
       "\\item 425\n",
       "\\item 431\n",
       "\\item 444\n",
       "\\item 451\n",
       "\\item 469\n",
       "\\item 505\n",
       "\\item 521\n",
       "\\item 568\n",
       "\\end{enumerate*}\n"
      ],
      "text/markdown": [
       "1. 1\n",
       "2. 4\n",
       "3. 10\n",
       "4. 13\n",
       "5. 23\n",
       "6. 26\n",
       "7. 43\n",
       "8. 61\n",
       "9. 64\n",
       "10. 77\n",
       "11. 79\n",
       "12. 83\n",
       "13. 106\n",
       "14. 109\n",
       "15. 113\n",
       "16. 123\n",
       "17. 147\n",
       "18. 151\n",
       "19. 182\n",
       "20. 191\n",
       "21. 257\n",
       "22. 259\n",
       "23. 273\n",
       "24. 289\n",
       "25. 353\n",
       "26. 383\n",
       "27. 401\n",
       "28. 425\n",
       "29. 431\n",
       "30. 444\n",
       "31. 451\n",
       "32. 469\n",
       "33. 505\n",
       "34. 521\n",
       "35. 568\n",
       "\n",
       "\n"
      ],
      "text/plain": [
       " [1]   1   4  10  13  23  26  43  61  64  77  79  83 106 109 113 123 147 151 182\n",
       "[20] 191 257 259 273 289 353 383 401 425 431 444 451 469 505 521 568"
      ]
     },
     "metadata": {},
     "output_type": "display_data"
    },
    {
     "data": {
      "text/html": [
       "<table>\n",
       "<thead><tr><th></th><th scope=col>compactness</th><th scope=col>smoothness</th><th scope=col>symmetry</th></tr></thead>\n",
       "<tbody>\n",
       "\t<tr><th scope=row>1</th><td>0.27760</td><td>0.11840</td><td>0.2419 </td></tr>\n",
       "\t<tr><th scope=row>4</th><td>0.28390</td><td>0.14250</td><td>0.2597 </td></tr>\n",
       "\t<tr><th scope=row>10</th><td>0.23960</td><td>0.11860</td><td>0.2030 </td></tr>\n",
       "\t<tr><th scope=row>13</th><td>0.24580</td><td>0.09740</td><td>0.2397 </td></tr>\n",
       "\t<tr><th scope=row>23</th><td>0.21350</td><td>0.10730</td><td>0.2521 </td></tr>\n",
       "\t<tr><th scope=row>26</th><td>0.22760</td><td>0.11860</td><td>0.3040 </td></tr>\n",
       "\t<tr><th scope=row>43</th><td>0.21900</td><td>0.09081</td><td>0.2310 </td></tr>\n",
       "\t<tr><th scope=row>61</th><td>0.08061</td><td>0.11340</td><td>0.2743 </td></tr>\n",
       "\t<tr><th scope=row>64</th><td>0.08751</td><td>0.07721</td><td>0.2341 </td></tr>\n",
       "\t<tr><th scope=row>77</th><td>0.10470</td><td>0.12910</td><td>0.2403 </td></tr>\n",
       "\t<tr><th scope=row>79</th><td>0.34540</td><td>0.12860</td><td>0.2906 </td></tr>\n",
       "\t<tr><th scope=row>83</th><td>0.26650</td><td>0.10630</td><td>0.1829 </td></tr>\n",
       "\t<tr><th scope=row>106</th><td>0.17650</td><td>0.13980</td><td>0.1925 </td></tr>\n",
       "\t<tr><th scope=row>109</th><td>0.27680</td><td>0.13260</td><td>0.2556 </td></tr>\n",
       "\t<tr><th scope=row>113</th><td>0.22330</td><td>0.07837</td><td>0.1704 </td></tr>\n",
       "\t<tr><th scope=row>123</th><td>0.28670</td><td>0.14470</td><td>0.2655 </td></tr>\n",
       "\t<tr><th scope=row>147</th><td>0.17000</td><td>0.10910</td><td>0.2678 </td></tr>\n",
       "\t<tr><th scope=row>151</th><td>0.07589</td><td>0.11350</td><td>0.2540 </td></tr>\n",
       "\t<tr><th scope=row>182</th><td>0.28320</td><td>0.11410</td><td>0.2395 </td></tr>\n",
       "\t<tr><th scope=row>191</th><td>0.24130</td><td>0.10750</td><td>0.2384 </td></tr>\n",
       "\t<tr><th scope=row>257</th><td>0.20630</td><td>0.09260</td><td>0.1893 </td></tr>\n",
       "\t<tr><th scope=row>259</th><td>0.31140</td><td>0.11090</td><td>0.2495 </td></tr>\n",
       "\t<tr><th scope=row>273</th><td>0.19610</td><td>0.09401</td><td>0.1721 </td></tr>\n",
       "\t<tr><th scope=row>289</th><td>0.11810</td><td>0.08020</td><td>0.2595 </td></tr>\n",
       "\t<tr><th scope=row>353</th><td>0.23630</td><td>0.11490</td><td>0.1956 </td></tr>\n",
       "\t<tr><th scope=row>383</th><td>0.10730</td><td>0.06935</td><td>0.1203 </td></tr>\n",
       "\t<tr><th scope=row>401</th><td>0.25760</td><td>0.12300</td><td>0.2113 </td></tr>\n",
       "\t<tr><th scope=row>425</th><td>0.08333</td><td>0.10750</td><td>0.2538 </td></tr>\n",
       "\t<tr><th scope=row>431</th><td>0.22250</td><td>0.09947</td><td>0.2041 </td></tr>\n",
       "\t<tr><th scope=row>444</th><td>0.04462</td><td>0.08142</td><td>0.2372 </td></tr>\n",
       "\t<tr><th scope=row>451</th><td>0.10640</td><td>0.06613</td><td>0.1349 </td></tr>\n",
       "\t<tr><th scope=row>469</th><td>0.20040</td><td>0.09289</td><td>0.1696 </td></tr>\n",
       "\t<tr><th scope=row>505</th><td>0.22390</td><td>0.16340</td><td>0.2378 </td></tr>\n",
       "\t<tr><th scope=row>521</th><td>0.12250</td><td>0.13710</td><td>0.2197 </td></tr>\n",
       "\t<tr><th scope=row>568</th><td>0.27700</td><td>0.11780</td><td>0.2397 </td></tr>\n",
       "</tbody>\n",
       "</table>\n"
      ],
      "text/latex": [
       "\\begin{tabular}{r|lll}\n",
       "  & compactness & smoothness & symmetry\\\\\n",
       "\\hline\n",
       "\t1 & 0.27760 & 0.11840 & 0.2419 \\\\\n",
       "\t4 & 0.28390 & 0.14250 & 0.2597 \\\\\n",
       "\t10 & 0.23960 & 0.11860 & 0.2030 \\\\\n",
       "\t13 & 0.24580 & 0.09740 & 0.2397 \\\\\n",
       "\t23 & 0.21350 & 0.10730 & 0.2521 \\\\\n",
       "\t26 & 0.22760 & 0.11860 & 0.3040 \\\\\n",
       "\t43 & 0.21900 & 0.09081 & 0.2310 \\\\\n",
       "\t61 & 0.08061 & 0.11340 & 0.2743 \\\\\n",
       "\t64 & 0.08751 & 0.07721 & 0.2341 \\\\\n",
       "\t77 & 0.10470 & 0.12910 & 0.2403 \\\\\n",
       "\t79 & 0.34540 & 0.12860 & 0.2906 \\\\\n",
       "\t83 & 0.26650 & 0.10630 & 0.1829 \\\\\n",
       "\t106 & 0.17650 & 0.13980 & 0.1925 \\\\\n",
       "\t109 & 0.27680 & 0.13260 & 0.2556 \\\\\n",
       "\t113 & 0.22330 & 0.07837 & 0.1704 \\\\\n",
       "\t123 & 0.28670 & 0.14470 & 0.2655 \\\\\n",
       "\t147 & 0.17000 & 0.10910 & 0.2678 \\\\\n",
       "\t151 & 0.07589 & 0.11350 & 0.2540 \\\\\n",
       "\t182 & 0.28320 & 0.11410 & 0.2395 \\\\\n",
       "\t191 & 0.24130 & 0.10750 & 0.2384 \\\\\n",
       "\t257 & 0.20630 & 0.09260 & 0.1893 \\\\\n",
       "\t259 & 0.31140 & 0.11090 & 0.2495 \\\\\n",
       "\t273 & 0.19610 & 0.09401 & 0.1721 \\\\\n",
       "\t289 & 0.11810 & 0.08020 & 0.2595 \\\\\n",
       "\t353 & 0.23630 & 0.11490 & 0.1956 \\\\\n",
       "\t383 & 0.10730 & 0.06935 & 0.1203 \\\\\n",
       "\t401 & 0.25760 & 0.12300 & 0.2113 \\\\\n",
       "\t425 & 0.08333 & 0.10750 & 0.2538 \\\\\n",
       "\t431 & 0.22250 & 0.09947 & 0.2041 \\\\\n",
       "\t444 & 0.04462 & 0.08142 & 0.2372 \\\\\n",
       "\t451 & 0.10640 & 0.06613 & 0.1349 \\\\\n",
       "\t469 & 0.20040 & 0.09289 & 0.1696 \\\\\n",
       "\t505 & 0.22390 & 0.16340 & 0.2378 \\\\\n",
       "\t521 & 0.12250 & 0.13710 & 0.2197 \\\\\n",
       "\t568 & 0.27700 & 0.11780 & 0.2397 \\\\\n",
       "\\end{tabular}\n"
      ],
      "text/markdown": [
       "\n",
       "| <!--/--> | compactness | smoothness | symmetry |\n",
       "|---|---|---|---|\n",
       "| 1 | 0.27760 | 0.11840 | 0.2419  |\n",
       "| 4 | 0.28390 | 0.14250 | 0.2597  |\n",
       "| 10 | 0.23960 | 0.11860 | 0.2030  |\n",
       "| 13 | 0.24580 | 0.09740 | 0.2397  |\n",
       "| 23 | 0.21350 | 0.10730 | 0.2521  |\n",
       "| 26 | 0.22760 | 0.11860 | 0.3040  |\n",
       "| 43 | 0.21900 | 0.09081 | 0.2310  |\n",
       "| 61 | 0.08061 | 0.11340 | 0.2743  |\n",
       "| 64 | 0.08751 | 0.07721 | 0.2341  |\n",
       "| 77 | 0.10470 | 0.12910 | 0.2403  |\n",
       "| 79 | 0.34540 | 0.12860 | 0.2906  |\n",
       "| 83 | 0.26650 | 0.10630 | 0.1829  |\n",
       "| 106 | 0.17650 | 0.13980 | 0.1925  |\n",
       "| 109 | 0.27680 | 0.13260 | 0.2556  |\n",
       "| 113 | 0.22330 | 0.07837 | 0.1704  |\n",
       "| 123 | 0.28670 | 0.14470 | 0.2655  |\n",
       "| 147 | 0.17000 | 0.10910 | 0.2678  |\n",
       "| 151 | 0.07589 | 0.11350 | 0.2540  |\n",
       "| 182 | 0.28320 | 0.11410 | 0.2395  |\n",
       "| 191 | 0.24130 | 0.10750 | 0.2384  |\n",
       "| 257 | 0.20630 | 0.09260 | 0.1893  |\n",
       "| 259 | 0.31140 | 0.11090 | 0.2495  |\n",
       "| 273 | 0.19610 | 0.09401 | 0.1721  |\n",
       "| 289 | 0.11810 | 0.08020 | 0.2595  |\n",
       "| 353 | 0.23630 | 0.11490 | 0.1956  |\n",
       "| 383 | 0.10730 | 0.06935 | 0.1203  |\n",
       "| 401 | 0.25760 | 0.12300 | 0.2113  |\n",
       "| 425 | 0.08333 | 0.10750 | 0.2538  |\n",
       "| 431 | 0.22250 | 0.09947 | 0.2041  |\n",
       "| 444 | 0.04462 | 0.08142 | 0.2372  |\n",
       "| 451 | 0.10640 | 0.06613 | 0.1349  |\n",
       "| 469 | 0.20040 | 0.09289 | 0.1696  |\n",
       "| 505 | 0.22390 | 0.16340 | 0.2378  |\n",
       "| 521 | 0.12250 | 0.13710 | 0.2197  |\n",
       "| 568 | 0.27700 | 0.11780 | 0.2397  |\n",
       "\n"
      ],
      "text/plain": [
       "    compactness smoothness symmetry\n",
       "1   0.27760     0.11840    0.2419  \n",
       "4   0.28390     0.14250    0.2597  \n",
       "10  0.23960     0.11860    0.2030  \n",
       "13  0.24580     0.09740    0.2397  \n",
       "23  0.21350     0.10730    0.2521  \n",
       "26  0.22760     0.11860    0.3040  \n",
       "43  0.21900     0.09081    0.2310  \n",
       "61  0.08061     0.11340    0.2743  \n",
       "64  0.08751     0.07721    0.2341  \n",
       "77  0.10470     0.12910    0.2403  \n",
       "79  0.34540     0.12860    0.2906  \n",
       "83  0.26650     0.10630    0.1829  \n",
       "106 0.17650     0.13980    0.1925  \n",
       "109 0.27680     0.13260    0.2556  \n",
       "113 0.22330     0.07837    0.1704  \n",
       "123 0.28670     0.14470    0.2655  \n",
       "147 0.17000     0.10910    0.2678  \n",
       "151 0.07589     0.11350    0.2540  \n",
       "182 0.28320     0.11410    0.2395  \n",
       "191 0.24130     0.10750    0.2384  \n",
       "257 0.20630     0.09260    0.1893  \n",
       "259 0.31140     0.11090    0.2495  \n",
       "273 0.19610     0.09401    0.1721  \n",
       "289 0.11810     0.08020    0.2595  \n",
       "353 0.23630     0.11490    0.1956  \n",
       "383 0.10730     0.06935    0.1203  \n",
       "401 0.25760     0.12300    0.2113  \n",
       "425 0.08333     0.10750    0.2538  \n",
       "431 0.22250     0.09947    0.2041  \n",
       "444 0.04462     0.08142    0.2372  \n",
       "451 0.10640     0.06613    0.1349  \n",
       "469 0.20040     0.09289    0.1696  \n",
       "505 0.22390     0.16340    0.2378  \n",
       "521 0.12250     0.13710    0.2197  \n",
       "568 0.27700     0.11780    0.2397  "
      ]
     },
     "metadata": {},
     "output_type": "display_data"
    }
   ],
   "source": [
    "EE<-data.frame(outliers,seq(1,569))\n",
    "EE<-subset(data.frame(outliers,seq(1,569)),outliers==\"TRUE\")\n",
    "atipicos<-EE[,2]\n",
    "as.vector(atipicos)\n",
    "databiopsia[c(atipicos),2:4]"
   ]
  },
  {
   "cell_type": "code",
   "execution_count": null,
   "metadata": {},
   "outputs": [],
   "source": []
  }
 ],
 "metadata": {
  "kernelspec": {
   "display_name": "R",
   "language": "R",
   "name": "ir"
  },
  "language_info": {
   "codemirror_mode": "r",
   "file_extension": ".r",
   "mimetype": "text/x-r-source",
   "name": "R",
   "pygments_lexer": "r",
   "version": "3.6.1"
  }
 },
 "nbformat": 4,
 "nbformat_minor": 4
}
