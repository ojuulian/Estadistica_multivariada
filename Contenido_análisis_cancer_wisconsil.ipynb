{
 "cells": [
  {
   "cell_type": "markdown",
   "metadata": {},
   "source": [
    "<h2 align=\"center\">Estadística multivariada (cáncer de mama en el estado de Wisconsil)</h2>\n",
    "<h2 align=\"center\"></h2>\n",
    "\n",
    "Para dar un abordaje al modelamiento de series de tiempo, se propone el siguiente contenido el cual contrasta la teoría y la práctica por medio de scrips en *jupyter notebook* \n",
    "\n",
    "\n",
    "\n",
    "<h3>Autor</h3>\n",
    "\n",
    "1. Oscar Julian Layton Galindo, ojlaytong@unal.edu.co\n",
    "\n",
    "\n",
    "\n",
    "<h3>Lenguaje de Programación </h3>\n",
    "\n",
    "R y Python 3.7"
   ]
  },
  {
   "cell_type": "markdown",
   "metadata": {},
   "source": [
    "<h2 align='center'> Contenido</h2>\n",
    "\n",
    "<h3>  Estadística multivariada </h3>\n",
    "\n",
    "1. [R Estadística multivariada.](./cuadernos_cancer/R_multivariado_wisconsil.ipynb)\n",
    "\n",
    "<h3>  Análisis basado en profundidad </h3>\n",
    "\n",
    "2. [R Métodos no paramétricos basados en profundidad.](./cuadernos_cancer/R_multivariado_wisconsil_profundidad.ipynb)\n",
    "\n",
    "<h3>  Inferencias del vector de medias </h3>\n",
    "\n",
    "3. [R Inferencia con el vector de medias.](./cuadernos_cancer/R_multivariado_wisconsil_inferencia.ipynb)\n",
    "\n",
    "<h3>  Documento PDF Latex </h3>\n",
    "\n",
    "3. [PDF documento compilación análisis cancer de mama en el estado de Wisconsil.](./cuadernos_cancer/Análisis_PDF_cancer_de_mama.pdf)"
   ]
  },
  {
   "cell_type": "markdown",
   "metadata": {},
   "source": [
    "---\n",
    "\n",
    "<h3>Referencias</h3>\n",
    "\n",
    "1.  Brockwell, P. J., Davis, R. A., & Fienberg, S. E. (1991). Time series: theory and methods: theory and methods. Springer Science & Business Media.\n",
    "\n",
    "\n",
    "1. Chebana, F., \\& Ouarda, T. B. (2011). Depth‐based multivariate descriptive statistics with hydrological applications. Journal of Geophysical Research: Atmospheres, 116(D10).\n",
    "    \n",
    "2. Cruz, N. y Martinez de Larios, N. (2002). La biopsia por aspiración con aguja fina en glándula mamaria: diagnostico citológico y concordancia histológica y clínica. Rev Hospital General M Gea Gonzáles, 5, 79-84.\n",
    "    \n",
    "3. Dua, D. y Graff, C. (2019). Repositorio de aprendizaje automático de la UCI. Irvine, CA: Escuela de Información y Ciencias de la Computación. Universidad de California. disponible en: \\url{https://archive.ics.uci.edu/ml/datasets/Breast+Cancer+Wisconsin+%28Diagnostic%29}\n",
    "    \n",
    "4. Hubert, M., y Debruyne, M. (2010). Minimum covariance determinant. Wiley interdisciplinary reviews: Computational statistics, 2(1), 36-43.\n",
    "    \n",
    "5. Johnson, R, y  Wichern, D. (2002).  \\textit{\".Applied multivariate statistical analysis\"} (Vol. 5, No. 8). Upper Saddle River, NJ: Prentice hall.\n",
    "    \n",
    "6. Korkmaz, S. Goksuluk, D. y Zararsiz, G. (2014). MVN: An R package for assessing multivariate normality. The R Journal, 6(2), 151-162. \\url{https://journal.r-project.org/archive/2014/RJ-2014-031/RJ-2014-031.pdf}\n",
    "    \n",
    "7. Liu, R., Parelius, J y  Singh, K. (1999). Multivariate analysis by data depth: descriptive statistics, graphics and inference,(with discussion and a rejoinder by Liu and Singh). The annals of statistics, 27(3), 783-858.\n",
    "\n",
    "8. López, A. (2010). Similaridad y contraste mediante profundidad estadística (Doctoral dissertation, Tesis doctoral).\\url{https://core.ac.uk/download/pdf/29401738.pdf}\n",
    "\n",
    "9. Mathematical Programming in Machine (2001). Grupo de optimización del Departamento de Ciencias informáticas de la Universidad de Wisconsin-Madison. datos Wisconsin Breast Cancer DatabaseDisponible en: \n",
    "\\url{http://pages.cs.wisc.edu/~olvi/uwmp/mpml.html}\n",
    "\n",
    "10. Melo, O., López, L y Melo, S (2018). \"Diseño de Experimentos-Métodos y Aplicaciones\". Universidad Nacional de Colombia.\n",
    "\n",
    "11. Pokotylo, O., Mozharovskyi, P., Dyckerhoff, R. (2016). Depth and depth-based classification with R-package ddalpha.        \\url{arXiv:1608.04109}\n",
    "\n",
    "12. Rousseeuw, P. J., Ruts, I., y Tukey, J. W. (1999). The bagplot: a bivariate boxplot. The American Statistician, 53(4), 382-387.\n",
    "\n",
    "13. Serfling, R. (2004). Nonparametric multivariate descriptive measures based on spatial quantiles. Journal of statistical Planning and Inference, 123(2), 259-278.\n",
    "\n",
    "14. Zuo, Y., y  Serfling, R. (2000). General notions of statistical depth function. Annals of statistics, 461-482."
   ]
  },
  {
   "cell_type": "code",
   "execution_count": null,
   "metadata": {},
   "outputs": [],
   "source": []
  }
 ],
 "metadata": {
  "kernelspec": {
   "display_name": "Python 3",
   "language": "python",
   "name": "python3"
  },
  "language_info": {
   "codemirror_mode": {
    "name": "ipython",
    "version": 3
   },
   "file_extension": ".py",
   "mimetype": "text/x-python",
   "name": "python",
   "nbconvert_exporter": "python",
   "pygments_lexer": "ipython3",
   "version": "3.7.4"
  }
 },
 "nbformat": 4,
 "nbformat_minor": 4
}
